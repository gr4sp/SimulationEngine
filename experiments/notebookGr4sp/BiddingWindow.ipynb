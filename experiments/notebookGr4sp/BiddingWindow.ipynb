{
 "cells": [
  {
   "cell_type": "markdown",
   "metadata": {},
   "source": [
    "## Initial setup\n",
    "This notebook has the analysis validation of the third regime using changes on base prices from different technologies.\n"
   ]
  },
  {
   "cell_type": "code",
   "execution_count": 56,
   "metadata": {
    "ExecuteTime": {
     "end_time": "2021-03-24T04:24:53.144642Z",
     "start_time": "2021-03-24T04:24:53.133655Z"
    },
    "pycharm": {
     "name": "#%%\n"
    },
    "scrolled": true
   },
   "outputs": [],
   "source": [
    "\n",
    "'''\n",
    "By Angela M. Rojas A. <angelara@student.unimelb.edu.au>\n",
    "\n",
    "Created on 2 March 2021\n",
    "\n",
    "'''\n",
    "import sys\n",
    "import os\n",
    "\n",
    "sys.path.append(r'C:\\Users\\angel\\Documents\\GitHub\\gr4sp\\experiments\\EMAworkbench')\n",
    "\n",
    "sys.path.append(r'../')\n",
    "\n",
    "#from ema_workbench.analysis.plotting_util import BOXPLOT, KDE, VIOLIN\n",
    "# from ema_workbench.analysis.plotting import envelopes\n",
    "import matplotlib.pyplot as plt\n",
    "import numpy as np\n",
    "import pandas as pd\n",
    "import matplotlib.cm as cm\n",
    "import seaborn as sns\n",
    "\n",
    "# from ema_workbench.analysis import prim\n",
    "#import pareto\n",
    "import os\n",
    "import glob\n",
    "import numpy as np\n",
    "import pandas as pd\n",
    "import os\n",
    "import glob\n",
    "# from matplotlib.pyplot import figure\n",
    "# from matplotlib.legend_handler import HandlerLine2D\n",
    "import statistics\n",
    "import matplotlib.patches as mpatches\n",
    "from graphformat import *\n",
    "\n",
    "includePlots = True"
   ]
  },
  {
   "cell_type": "code",
   "execution_count": 1,
   "metadata": {},
   "outputs": [],
   "source": [
    "import sys\n",
    "import os\n",
    "\n",
    "sys.path.append(r'C:\\Users\\angel\\Documents\\GitHub\\gr4sp\\experiments\\EMAworkbench')\n",
    "\n",
    "sys.path.append(r'C:\\Users\\angel\\Documents\\GitHub\\gr4sp\\experiments')\n",
    "\n",
    "import statistics\n",
    "import datetime as DT\n",
    "import matplotlib.pyplot as plt\n",
    "import numpy as np\n",
    "import pandas as pd\n",
    "import matplotlib.cm as cm\n",
    "import matplotlib.dates as mdates\n",
    "import seaborn as sns\n",
    "# sns.set_style(\"whitegrid\") \n",
    "\n",
    "import os\n",
    "import glob\n",
    "import numpy as np\n",
    "import pandas as pd\n",
    "import os\n",
    "import glob\n",
    "# plt.rcParams['text.usetex'] = True\n",
    "# import matplotlib\n",
    "# matplotlib.rcParams['mathtext.fontset'] = 'stix'\n",
    "# matplotlib.rcParams['font.family'] = 'STIXGeneral'\n",
    "\n",
    "plt.rcParams.update({'text.usetex': True, 'font.family': 'serif', 'axes.labelsize': 10, 'font.size': 10, 'legend.fontsize': 8, 'xtick.labelsize': 8, 'ytick.labelsize': 8})\n",
    "\n",
    "includePlots = True"
   ]
  },
  {
   "cell_type": "markdown",
   "metadata": {},
   "source": [
    "## Load Historical data for vaildation \n",
    "The following files include historic data on GHGE, tariffs and wholesale prices for validation.\n",
    "\n"
   ]
  },
  {
   "cell_type": "markdown",
   "metadata": {},
   "source": [
    "### GHGE Historic\n",
    "\n",
    "The key role of decarbonising the electricity sector in Victoria: The electricity sector in Victoria accounted for more than half of emissions in 2016. After the retirement of Hazelwood, this contribution still sited at 42% of the state's emissions. At the validation date (2020), historic emissions data for the electricity sector in Victoria is only available until 2017. 2018 number has been assumed to be 2017 (56.1) value minus a net reduction of 11.8 MtCO2-e given the retirement of Hazelwood in 2017.\n",
    "Sources of data:\n",
    "- https://engage.vic.gov.au/climate-change-reducing-victorias-greenhouse-gas-emissions\n",
    "- https://www.climatechange.vic.gov.au/information-and-resources/greenhouse-gas-emissions-in-victoria\n",
    "- https://www.climatechange.vic.gov.au/__data/assets/pdf_file/0033/395079/Victorian-Greenhouse-Gas-Emissions-Report-2018.pdf\n",
    "- https://www.climatechange.vic.gov.au/__data/assets/pdf_file/0016/443014/Victorian-Greenhouse-Gas-Emissions-Report-2019.pdf"
   ]
  },
  {
   "cell_type": "code",
   "execution_count": 2,
   "metadata": {
    "ExecuteTime": {
     "end_time": "2021-03-24T04:24:53.159603Z",
     "start_time": "2021-03-24T04:24:53.146637Z"
    }
   },
   "outputs": [
    {
     "data": {
      "text/html": [
       "<div>\n",
       "<style scoped>\n",
       "    .dataframe tbody tr th:only-of-type {\n",
       "        vertical-align: middle;\n",
       "    }\n",
       "\n",
       "    .dataframe tbody tr th {\n",
       "        vertical-align: top;\n",
       "    }\n",
       "\n",
       "    .dataframe thead th {\n",
       "        text-align: right;\n",
       "    }\n",
       "</style>\n",
       "<table border=\"1\" class=\"dataframe\">\n",
       "  <thead>\n",
       "    <tr style=\"text-align: right;\">\n",
       "      <th></th>\n",
       "      <th>Hist_GHGE_MtCO2e</th>\n",
       "    </tr>\n",
       "    <tr>\n",
       "      <th>Time (Year)</th>\n",
       "      <th></th>\n",
       "    </tr>\n",
       "  </thead>\n",
       "  <tbody>\n",
       "    <tr>\n",
       "      <th>1990</th>\n",
       "      <td>44.2</td>\n",
       "    </tr>\n",
       "    <tr>\n",
       "      <th>1991</th>\n",
       "      <td>46.3</td>\n",
       "    </tr>\n",
       "    <tr>\n",
       "      <th>1992</th>\n",
       "      <td>47.5</td>\n",
       "    </tr>\n",
       "    <tr>\n",
       "      <th>1993</th>\n",
       "      <td>45.3</td>\n",
       "    </tr>\n",
       "    <tr>\n",
       "      <th>1994</th>\n",
       "      <td>45.5</td>\n",
       "    </tr>\n",
       "    <tr>\n",
       "      <th>1995</th>\n",
       "      <td>47.8</td>\n",
       "    </tr>\n",
       "    <tr>\n",
       "      <th>1996</th>\n",
       "      <td>49.9</td>\n",
       "    </tr>\n",
       "    <tr>\n",
       "      <th>1997</th>\n",
       "      <td>52.6</td>\n",
       "    </tr>\n",
       "    <tr>\n",
       "      <th>1998</th>\n",
       "      <td>59.2</td>\n",
       "    </tr>\n",
       "    <tr>\n",
       "      <th>1999</th>\n",
       "      <td>61.8</td>\n",
       "    </tr>\n",
       "  </tbody>\n",
       "</table>\n",
       "</div>"
      ],
      "text/plain": [
       "             Hist_GHGE_MtCO2e\n",
       "Time (Year)                  \n",
       "1990                     44.2\n",
       "1991                     46.3\n",
       "1992                     47.5\n",
       "1993                     45.3\n",
       "1994                     45.5\n",
       "1995                     47.8\n",
       "1996                     49.9\n",
       "1997                     52.6\n",
       "1998                     59.2\n",
       "1999                     61.8"
      ]
     },
     "execution_count": 2,
     "metadata": {},
     "output_type": "execute_result"
    }
   ],
   "source": [
    "# CSV is built based on the information available in the previous sources \n",
    "historic_emissions_df = pd.read_csv(r'/home/XXX/Repositories/gr4sp/experiments/simulationData/19902018_historic_emissions_Vic.csv', index_col='Time (Year)')\n",
    "historic_emissions_df.head(10)"
   ]
  },
  {
   "cell_type": "markdown",
   "metadata": {},
   "source": [
    "### Wholesale historic\n",
    "Wholesale data can be found since 2005 in a monthly basis. Therefore, the monthly summary report is used for this validation. \n",
    "Sources of data:\n",
    "- https://opennem.org.au/energy/vic1/"
   ]
  },
  {
   "cell_type": "code",
   "execution_count": 3,
   "metadata": {
    "ExecuteTime": {
     "end_time": "2021-03-24T04:24:53.205364Z",
     "start_time": "2021-03-24T04:24:53.160600Z"
    }
   },
   "outputs": [
    {
     "data": {
      "text/html": [
       "<div>\n",
       "<style scoped>\n",
       "    .dataframe tbody tr th:only-of-type {\n",
       "        vertical-align: middle;\n",
       "    }\n",
       "\n",
       "    .dataframe tbody tr th {\n",
       "        vertical-align: top;\n",
       "    }\n",
       "\n",
       "    .dataframe thead th {\n",
       "        text-align: right;\n",
       "    }\n",
       "</style>\n",
       "<table border=\"1\" class=\"dataframe\">\n",
       "  <thead>\n",
       "    <tr style=\"text-align: right;\">\n",
       "      <th></th>\n",
       "      <th>Temperature - C</th>\n",
       "      <th>Solar (Rooftop) Market Value - $</th>\n",
       "      <th>Solar (Rooftop) - GWh</th>\n",
       "      <th>Solar (Utility) Market Value - $</th>\n",
       "      <th>Solar (Utility) - GWh</th>\n",
       "      <th>Wind Market Value - $</th>\n",
       "      <th>Wind - GWh</th>\n",
       "      <th>Hydro Market Value - $</th>\n",
       "      <th>Hydro - GWh</th>\n",
       "      <th>Battery (Discharging) Market Value - $</th>\n",
       "      <th>...</th>\n",
       "      <th>Wind Market Value - $/MWh</th>\n",
       "      <th>Hydro Market Value - $/MWh</th>\n",
       "      <th>Battery (Discharging) Market Value - $/MWh</th>\n",
       "      <th>Gas (OCGT) Market Value - $/MWh</th>\n",
       "      <th>Gas (Steam) Market Value - $/MWh</th>\n",
       "      <th>Brown Coal Market Value - $/MWh</th>\n",
       "      <th>Imports Market Value - $/MWh</th>\n",
       "      <th>Exports Market Value - $/MWh</th>\n",
       "      <th>Volume Weighted Price (Historic) - $/MWh</th>\n",
       "      <th>Imports % from wholesale price</th>\n",
       "    </tr>\n",
       "    <tr>\n",
       "      <th>Time (Month)</th>\n",
       "      <th></th>\n",
       "      <th></th>\n",
       "      <th></th>\n",
       "      <th></th>\n",
       "      <th></th>\n",
       "      <th></th>\n",
       "      <th></th>\n",
       "      <th></th>\n",
       "      <th></th>\n",
       "      <th></th>\n",
       "      <th></th>\n",
       "      <th></th>\n",
       "      <th></th>\n",
       "      <th></th>\n",
       "      <th></th>\n",
       "      <th></th>\n",
       "      <th></th>\n",
       "      <th></th>\n",
       "      <th></th>\n",
       "      <th></th>\n",
       "      <th></th>\n",
       "    </tr>\n",
       "  </thead>\n",
       "  <tbody>\n",
       "    <tr>\n",
       "      <th>2005-04-01</th>\n",
       "      <td>NaN</td>\n",
       "      <td>0.0</td>\n",
       "      <td>0.0</td>\n",
       "      <td>0.0</td>\n",
       "      <td>0.0</td>\n",
       "      <td>0.0</td>\n",
       "      <td>0.0</td>\n",
       "      <td>11848263.30</td>\n",
       "      <td>304.50</td>\n",
       "      <td>0.0</td>\n",
       "      <td>...</td>\n",
       "      <td>0.0</td>\n",
       "      <td>38.910553</td>\n",
       "      <td>0.0</td>\n",
       "      <td>44.023585</td>\n",
       "      <td>39.220646</td>\n",
       "      <td>30.605720</td>\n",
       "      <td>38.289921</td>\n",
       "      <td>-19.009200</td>\n",
       "      <td>31.809904</td>\n",
       "      <td>20%</td>\n",
       "    </tr>\n",
       "    <tr>\n",
       "      <th>2005-05-01</th>\n",
       "      <td>NaN</td>\n",
       "      <td>0.0</td>\n",
       "      <td>0.0</td>\n",
       "      <td>0.0</td>\n",
       "      <td>0.0</td>\n",
       "      <td>0.0</td>\n",
       "      <td>0.0</td>\n",
       "      <td>8161908.91</td>\n",
       "      <td>260.01</td>\n",
       "      <td>0.0</td>\n",
       "      <td>...</td>\n",
       "      <td>0.0</td>\n",
       "      <td>31.390750</td>\n",
       "      <td>0.0</td>\n",
       "      <td>35.260919</td>\n",
       "      <td>35.709309</td>\n",
       "      <td>24.667570</td>\n",
       "      <td>31.791585</td>\n",
       "      <td>-18.044240</td>\n",
       "      <td>25.330109</td>\n",
       "      <td>26%</td>\n",
       "    </tr>\n",
       "    <tr>\n",
       "      <th>2005-06-01</th>\n",
       "      <td>NaN</td>\n",
       "      <td>0.0</td>\n",
       "      <td>0.0</td>\n",
       "      <td>0.0</td>\n",
       "      <td>0.0</td>\n",
       "      <td>0.0</td>\n",
       "      <td>0.0</td>\n",
       "      <td>6597447.23</td>\n",
       "      <td>200.71</td>\n",
       "      <td>0.0</td>\n",
       "      <td>...</td>\n",
       "      <td>0.0</td>\n",
       "      <td>32.870546</td>\n",
       "      <td>0.0</td>\n",
       "      <td>50.142422</td>\n",
       "      <td>37.533559</td>\n",
       "      <td>23.616642</td>\n",
       "      <td>30.781600</td>\n",
       "      <td>-17.572286</td>\n",
       "      <td>24.249596</td>\n",
       "      <td>27%</td>\n",
       "    </tr>\n",
       "    <tr>\n",
       "      <th>2005-07-01</th>\n",
       "      <td>NaN</td>\n",
       "      <td>0.0</td>\n",
       "      <td>0.0</td>\n",
       "      <td>0.0</td>\n",
       "      <td>0.0</td>\n",
       "      <td>0.0</td>\n",
       "      <td>0.0</td>\n",
       "      <td>7421383.61</td>\n",
       "      <td>182.63</td>\n",
       "      <td>0.0</td>\n",
       "      <td>...</td>\n",
       "      <td>0.0</td>\n",
       "      <td>40.636169</td>\n",
       "      <td>0.0</td>\n",
       "      <td>56.781103</td>\n",
       "      <td>39.030981</td>\n",
       "      <td>26.668752</td>\n",
       "      <td>32.787615</td>\n",
       "      <td>-17.823924</td>\n",
       "      <td>27.651352</td>\n",
       "      <td>19%</td>\n",
       "    </tr>\n",
       "    <tr>\n",
       "      <th>2005-08-01</th>\n",
       "      <td>NaN</td>\n",
       "      <td>0.0</td>\n",
       "      <td>0.0</td>\n",
       "      <td>0.0</td>\n",
       "      <td>0.0</td>\n",
       "      <td>0.0</td>\n",
       "      <td>0.0</td>\n",
       "      <td>10855283.83</td>\n",
       "      <td>207.39</td>\n",
       "      <td>0.0</td>\n",
       "      <td>...</td>\n",
       "      <td>0.0</td>\n",
       "      <td>52.342369</td>\n",
       "      <td>0.0</td>\n",
       "      <td>98.739498</td>\n",
       "      <td>60.657385</td>\n",
       "      <td>30.161182</td>\n",
       "      <td>39.640099</td>\n",
       "      <td>-16.523324</td>\n",
       "      <td>32.022126</td>\n",
       "      <td>24%</td>\n",
       "    </tr>\n",
       "  </tbody>\n",
       "</table>\n",
       "<p>5 rows × 34 columns</p>\n",
       "</div>"
      ],
      "text/plain": [
       "              Temperature - C  Solar (Rooftop) Market Value - $  \\\n",
       "Time (Month)                                                      \n",
       "2005-04-01                NaN                               0.0   \n",
       "2005-05-01                NaN                               0.0   \n",
       "2005-06-01                NaN                               0.0   \n",
       "2005-07-01                NaN                               0.0   \n",
       "2005-08-01                NaN                               0.0   \n",
       "\n",
       "              Solar (Rooftop) - GWh  Solar (Utility) Market Value - $  \\\n",
       "Time (Month)                                                            \n",
       "2005-04-01                      0.0                               0.0   \n",
       "2005-05-01                      0.0                               0.0   \n",
       "2005-06-01                      0.0                               0.0   \n",
       "2005-07-01                      0.0                               0.0   \n",
       "2005-08-01                      0.0                               0.0   \n",
       "\n",
       "              Solar (Utility) - GWh  Wind Market Value - $  Wind - GWh  \\\n",
       "Time (Month)                                                             \n",
       "2005-04-01                      0.0                    0.0         0.0   \n",
       "2005-05-01                      0.0                    0.0         0.0   \n",
       "2005-06-01                      0.0                    0.0         0.0   \n",
       "2005-07-01                      0.0                    0.0         0.0   \n",
       "2005-08-01                      0.0                    0.0         0.0   \n",
       "\n",
       "              Hydro Market Value - $  Hydro - GWh  \\\n",
       "Time (Month)                                        \n",
       "2005-04-01               11848263.30       304.50   \n",
       "2005-05-01                8161908.91       260.01   \n",
       "2005-06-01                6597447.23       200.71   \n",
       "2005-07-01                7421383.61       182.63   \n",
       "2005-08-01               10855283.83       207.39   \n",
       "\n",
       "              Battery (Discharging) Market Value - $  ...  \\\n",
       "Time (Month)                                          ...   \n",
       "2005-04-01                                       0.0  ...   \n",
       "2005-05-01                                       0.0  ...   \n",
       "2005-06-01                                       0.0  ...   \n",
       "2005-07-01                                       0.0  ...   \n",
       "2005-08-01                                       0.0  ...   \n",
       "\n",
       "              Wind Market Value - $/MWh  Hydro Market Value - $/MWh  \\\n",
       "Time (Month)                                                          \n",
       "2005-04-01                          0.0                   38.910553   \n",
       "2005-05-01                          0.0                   31.390750   \n",
       "2005-06-01                          0.0                   32.870546   \n",
       "2005-07-01                          0.0                   40.636169   \n",
       "2005-08-01                          0.0                   52.342369   \n",
       "\n",
       "              Battery (Discharging) Market Value - $/MWh  \\\n",
       "Time (Month)                                               \n",
       "2005-04-01                                           0.0   \n",
       "2005-05-01                                           0.0   \n",
       "2005-06-01                                           0.0   \n",
       "2005-07-01                                           0.0   \n",
       "2005-08-01                                           0.0   \n",
       "\n",
       "              Gas (OCGT) Market Value - $/MWh  \\\n",
       "Time (Month)                                    \n",
       "2005-04-01                          44.023585   \n",
       "2005-05-01                          35.260919   \n",
       "2005-06-01                          50.142422   \n",
       "2005-07-01                          56.781103   \n",
       "2005-08-01                          98.739498   \n",
       "\n",
       "              Gas (Steam) Market Value - $/MWh  \\\n",
       "Time (Month)                                     \n",
       "2005-04-01                           39.220646   \n",
       "2005-05-01                           35.709309   \n",
       "2005-06-01                           37.533559   \n",
       "2005-07-01                           39.030981   \n",
       "2005-08-01                           60.657385   \n",
       "\n",
       "              Brown Coal Market Value - $/MWh  Imports Market Value - $/MWh  \\\n",
       "Time (Month)                                                                  \n",
       "2005-04-01                          30.605720                     38.289921   \n",
       "2005-05-01                          24.667570                     31.791585   \n",
       "2005-06-01                          23.616642                     30.781600   \n",
       "2005-07-01                          26.668752                     32.787615   \n",
       "2005-08-01                          30.161182                     39.640099   \n",
       "\n",
       "              Exports Market Value - $/MWh  \\\n",
       "Time (Month)                                 \n",
       "2005-04-01                      -19.009200   \n",
       "2005-05-01                      -18.044240   \n",
       "2005-06-01                      -17.572286   \n",
       "2005-07-01                      -17.823924   \n",
       "2005-08-01                      -16.523324   \n",
       "\n",
       "              Volume Weighted Price (Historic) - $/MWh  \\\n",
       "Time (Month)                                             \n",
       "2005-04-01                                   31.809904   \n",
       "2005-05-01                                   25.330109   \n",
       "2005-06-01                                   24.249596   \n",
       "2005-07-01                                   27.651352   \n",
       "2005-08-01                                   32.022126   \n",
       "\n",
       "              Imports % from wholesale price  \n",
       "Time (Month)                                  \n",
       "2005-04-01                               20%  \n",
       "2005-05-01                               26%  \n",
       "2005-06-01                               27%  \n",
       "2005-07-01                               19%  \n",
       "2005-08-01                               24%  \n",
       "\n",
       "[5 rows x 34 columns]"
      ]
     },
     "execution_count": 3,
     "metadata": {},
     "output_type": "execute_result"
    }
   ],
   "source": [
    "historic_wholesale_df = pd.read_csv(r'/home/XXX/Repositories/gr4sp/experiments/simulationData/2005_2020_OpenNemDataV1.csv', index_col='Time (Month)')\n",
    "historic_wholesale_df.index = pd.to_datetime(historic_wholesale_df.index)\n",
    "\n",
    "historic_wholesale_df.head(5)"
   ]
  },
  {
   "cell_type": "markdown",
   "metadata": {},
   "source": [
    "### Tariffs historic\n",
    "\n",
    "Different sources where used to construct a historic dataset of average electricity tariffs.\n",
    "- Historic data found in the [ACCC report](https://www.accc.gov.au/system/files/Victorian%20Electricity%20Distribution%20Networks.pdf) from 2017. This data is from a household in VIC that use 4000 KWh/year, has gas water heating. The report has data for the years 1995, 2001, 2002, and from 2007 to 2017. But data is used from 2001. Since the data is given as total bill per year in /$, the price per KWh is computed as (AnnualBill/4000KWh)*100, to get the value in c/kWh.\n",
    "- [St. Vinnies historic data](https://www.vinnies.org.au/page/Our_Impact/Incomes_Support_Cost_of_Living/Energy/VIC/) on tariffs per retailer and distribution area. This data has been collected since 2010, every quarter of the year. I used the ‘first block’ charges to calculate the average charge of usage in c/KWh. \n",
    "\n",
    "Prices from the reports and data sources are adjusted to 2019 values as simulatied tariffs are presented in real terms for the base year of 2019.\n"
   ]
  },
  {
   "cell_type": "code",
   "execution_count": 4,
   "metadata": {
    "ExecuteTime": {
     "end_time": "2021-03-24T04:24:53.235721Z",
     "start_time": "2021-03-24T04:24:53.207359Z"
    }
   },
   "outputs": [
    {
     "data": {
      "text/html": [
       "<div>\n",
       "<style scoped>\n",
       "    .dataframe tbody tr th:only-of-type {\n",
       "        vertical-align: middle;\n",
       "    }\n",
       "\n",
       "    .dataframe tbody tr th {\n",
       "        vertical-align: top;\n",
       "    }\n",
       "\n",
       "    .dataframe thead th {\n",
       "        text-align: right;\n",
       "    }\n",
       "</style>\n",
       "<table border=\"1\" class=\"dataframe\">\n",
       "  <thead>\n",
       "    <tr style=\"text-align: right;\">\n",
       "      <th></th>\n",
       "      <th>St Vinnies Historic c/kWh (2019)</th>\n",
       "      <th>Historic price from review c/KWh (2019)</th>\n",
       "    </tr>\n",
       "    <tr>\n",
       "      <th>Time (Year)</th>\n",
       "      <th></th>\n",
       "      <th></th>\n",
       "    </tr>\n",
       "  </thead>\n",
       "  <tbody>\n",
       "    <tr>\n",
       "      <th>2001</th>\n",
       "      <td>NaN</td>\n",
       "      <td>27.32</td>\n",
       "    </tr>\n",
       "    <tr>\n",
       "      <th>2002</th>\n",
       "      <td>NaN</td>\n",
       "      <td>27.03</td>\n",
       "    </tr>\n",
       "    <tr>\n",
       "      <th>2003</th>\n",
       "      <td>NaN</td>\n",
       "      <td>NaN</td>\n",
       "    </tr>\n",
       "    <tr>\n",
       "      <th>2004</th>\n",
       "      <td>NaN</td>\n",
       "      <td>NaN</td>\n",
       "    </tr>\n",
       "    <tr>\n",
       "      <th>2005</th>\n",
       "      <td>NaN</td>\n",
       "      <td>NaN</td>\n",
       "    </tr>\n",
       "    <tr>\n",
       "      <th>2006</th>\n",
       "      <td>NaN</td>\n",
       "      <td>NaN</td>\n",
       "    </tr>\n",
       "    <tr>\n",
       "      <th>2007</th>\n",
       "      <td>NaN</td>\n",
       "      <td>23.38</td>\n",
       "    </tr>\n",
       "    <tr>\n",
       "      <th>2008</th>\n",
       "      <td>NaN</td>\n",
       "      <td>25.55</td>\n",
       "    </tr>\n",
       "    <tr>\n",
       "      <th>2009</th>\n",
       "      <td>NaN</td>\n",
       "      <td>27.74</td>\n",
       "    </tr>\n",
       "    <tr>\n",
       "      <th>2010</th>\n",
       "      <td>19.15</td>\n",
       "      <td>30.77</td>\n",
       "    </tr>\n",
       "  </tbody>\n",
       "</table>\n",
       "</div>"
      ],
      "text/plain": [
       "             St Vinnies Historic c/kWh (2019)   \\\n",
       "Time (Year)                                      \n",
       "2001                                       NaN   \n",
       "2002                                       NaN   \n",
       "2003                                       NaN   \n",
       "2004                                       NaN   \n",
       "2005                                       NaN   \n",
       "2006                                       NaN   \n",
       "2007                                       NaN   \n",
       "2008                                       NaN   \n",
       "2009                                       NaN   \n",
       "2010                                     19.15   \n",
       "\n",
       "             Historic price from review c/KWh (2019)  \n",
       "Time (Year)                                           \n",
       "2001                                           27.32  \n",
       "2002                                           27.03  \n",
       "2003                                             NaN  \n",
       "2004                                             NaN  \n",
       "2005                                             NaN  \n",
       "2006                                             NaN  \n",
       "2007                                           23.38  \n",
       "2008                                           25.55  \n",
       "2009                                           27.74  \n",
       "2010                                           30.77  "
      ]
     },
     "execution_count": 4,
     "metadata": {},
     "output_type": "execute_result"
    }
   ],
   "source": [
    "# historic average tariffs in c/kWh (real 2019) filtered from reports\n",
    "yearly_historic_tariffs = pd.read_csv(r'/home/XXX/Repositories/gr4sp/experiments/simulationData/2001to2019_historicTariffs.csv', index_col='Time (Year)')\n",
    "yearly_historic_tariffs.head(10)"
   ]
  },
  {
   "cell_type": "markdown",
   "metadata": {},
   "source": [
    "## Load the results\n",
    "These results are a tuple of one data frame with the changes on each input variable, and a dictionary with the outputs. "
   ]
  },
  {
   "cell_type": "code",
   "execution_count": 5,
   "metadata": {},
   "outputs": [],
   "source": [
    "freqs = [0.5,1,2,3,4,6,8,12,24]\n",
    "# freqs = [ 0.5,6,8,12,24]\n",
    "\n",
    "freq_dict = {}\n",
    "for i in freqs:\n",
    "    if i != 0.5:\n",
    "        with open(f\"../../{i}hourKey.txt\",'r') as file:\n",
    "            freq_dict[i] = file.read()\n",
    "        \n",
    "freq_month = {}\n",
    "freq_year = {}\n",
    "\n",
    "\n",
    "a_month_file = \"/home/XXX/Documents/NominalSimDataMonthlySummary_30min.csv\"\n",
    "\n",
    "a_year_file = \"/home/XXX/Documents/NominalSimDataYearSummary_30min.csv\"\n",
    "\n",
    "freq_month[0.5] = pd.read_csv(a_month_file, index_col = 0)\n",
    "freq_year[0.5] = pd.read_csv(a_year_file, index_col = 0)\n",
    "\n",
    "\n",
    "for i,j in freq_dict.items():\n",
    "    freq_month[i] = pd.read_csv(f\"../../csv/Nominal/NominalSimDataMonthlySummary_seed_{j}.csv\", index_col = 0)\n",
    "    freq_year[i] = pd.read_csv(f\"../../csv/Nominal/NominalSimDataYearSummary_seed_{j}.csv\", index_col = 0)\n",
    "    \n",
    "\n",
    "\n"
   ]
  },
  {
   "cell_type": "code",
   "execution_count": 6,
   "metadata": {
    "ExecuteTime": {
     "end_time": "2021-03-24T04:26:29.382730Z",
     "start_time": "2021-03-24T04:24:53.236718Z"
    },
    "pycharm": {
     "name": "#%%\n"
    }
   },
   "outputs": [],
   "source": [
    "# from ema_workbench import load_results\n",
    "\n",
    "# #results = load_results(r'C:/Users/angel/Documents/GitHub/gr4sp/experiments/simulationData/gr4sp_EET3Regime2021-Mar-01.tar.gz')\n",
    "# #results = load_results(r'C:/Users/angel/Documents/GitHub/gr4sp/experiments/simulationData/gr4sp_SOBOL-HypoPast-2021-Jan-20.tar.gz')\n",
    "# results = load_results(r'C:/Users/angel/Documents/GitHub/gr4sp/experiments/simulationData/gr4sp_SOBOLhypopast2021-Mar-03_includ_wholesale_month.tar.gz')\n"
   ]
  },
  {
   "cell_type": "code",
   "execution_count": 7,
   "metadata": {
    "ExecuteTime": {
     "end_time": "2021-03-24T04:26:29.398015Z",
     "start_time": "2021-03-24T04:26:29.383725Z"
    }
   },
   "outputs": [],
   "source": [
    "# experiments, outcomes = results\n",
    "\n",
    "# # Create a temporary copy of dictionary, with Outcomes Year\n",
    "# outcomesYear = dict(outcomes)\n",
    "\n",
    "# keysToRemove = [] \n",
    "# # Iterate over the temporary dictionary and delete corresponding key from original dictionary\n",
    "# for (key, value) in outcomesYear.items() :\n",
    "#     if 'Month' in key:\n",
    "#         keysToRemove.append(key)\n",
    "        \n",
    "# for k in keysToRemove:        \n",
    "#     del outcomesYear[k]   \n",
    "    \n",
    "        "
   ]
  },
  {
   "cell_type": "markdown",
   "metadata": {},
   "source": [
    "Code to remove a Nan experiment if existent\n",
    "\n",
    "Run this code to find the experiment that needs to be removed:\n",
    "\n",
    "```python\n",
    "\toutcome_df = dict()\n",
    "\tfor k in outcomes.keys():\n",
    "\t     outcome_df[k] = pd.DataFrame.from_dict(outcomes[k])\n",
    "\t    \n",
    "\t\n",
    "\tfor k in outcomes.keys():\n",
    "\t    print(outcome_df[k][outcome_df[k].isna().any(axis=1)])\n",
    "\n",
    "```\n",
    "\n",
    "and then use the ``id`` of the experiment and remove it with the code below"
   ]
  },
  {
   "cell_type": "code",
   "execution_count": 8,
   "metadata": {
    "ExecuteTime": {
     "end_time": "2021-03-24T04:26:30.261667Z",
     "start_time": "2021-03-24T04:26:29.400009Z"
    }
   },
   "outputs": [],
   "source": [
    "# outcomes_wo_nan = {}\n",
    "# for k in outcomes.keys():\n",
    "#     l1 = outcomes[k][0:41357]\n",
    "#     l2 = outcomes[k][41357+1:41379]\n",
    "#     l3 = outcomes[k][41379+1:]\n",
    "#     outcomes_wo_nan[k] = np.concatenate((l1,l2,l3))\n",
    "# outcomes = outcomes_wo_nan\n"
   ]
  },
  {
   "cell_type": "code",
   "execution_count": 9,
   "metadata": {
    "ExecuteTime": {
     "end_time": "2021-03-24T04:26:30.433807Z",
     "start_time": "2021-03-24T04:26:30.264532Z"
    }
   },
   "outputs": [],
   "source": [
    "# experiments.describe()"
   ]
  },
  {
   "cell_type": "code",
   "execution_count": 10,
   "metadata": {
    "ExecuteTime": {
     "end_time": "2021-03-24T04:26:30.590294Z",
     "start_time": "2021-03-24T04:26:30.435762Z"
    }
   },
   "outputs": [],
   "source": [
    "# bau_scenario_id = max(experiments['scenario']) + 1\n",
    "\n",
    "# new_row = pd.DataFrame({'annualCpi': 0.0233, 'annualInflation': 0.033, 'nameplateCapacityChangeBrownCoal': 0,\n",
    "#        'nameplateCapacityChangeWater': 0,'nameplateCapacityChangeOcgt': 0, 'consumption': 0, 'energyEfficiency': 0,\n",
    "#        'generationRolloutPeriod':1, 'generatorRetirement':0,\n",
    "#        'includePublicallyAnnouncedGen':0, 'learningCurve':0.05,\n",
    "#        'nonScheduleGenSpotMarket': 10, 'nonScheduleMinCapMarketGen':0.1,\n",
    "#        'priceChangePercentageBrownCoal':0, 'priceChangePercentageOcgt':0,\n",
    "#        'priceChangePercentageWater':0, 'priceChangePercentageWind':0, 'rooftopPV':7,\n",
    "#        'domesticConsumptionPercentage':0,\n",
    "#        'scheduleMinCapMarketGen':30, 'semiScheduleGenSpotMarket':8,\n",
    "#        'semiScheduleMinCapMarketGen':30, 'solarUptake':0,\n",
    "#        'technologicalImprovement':0.01, 'wholesaleTariffContribution':28.37, 'scenario': bau_scenario_id,\n",
    "#        'policy': \"None\", 'model': 'Gr4sp'}, index =[0]) \n",
    "# # simply concatenate both dataframes \n",
    "# experiments = pd.concat([experiments,new_row],sort=True).reset_index(drop = True) \n",
    "\n",
    "# # rename none in policy column into constant value 0. PRIM fails otherwise.\n",
    "# if \"None\" in experiments[\"policy\"].unique():\n",
    "#     experiments[\"policy\"] = experiments[\"policy\"].replace(\"None\",int(0))"
   ]
  },
  {
   "cell_type": "code",
   "execution_count": 11,
   "metadata": {
    "ExecuteTime": {
     "end_time": "2021-03-24T04:26:30.733946Z",
     "start_time": "2021-03-24T04:26:30.592290Z"
    }
   },
   "outputs": [],
   "source": [
    "#Results for BAU were generated with the 'light' setting in the model.\n",
    "bau_results_df = pd.read_csv('/home/XXX/Documents/NominalSimDataYearSummary_30min.csv', index_col='Time (Year)')\n",
    "bau_results_df.head()\n",
    "\n",
    "monthly_bau_results_df = pd.read_csv(r'/home/XXX/Documents/NominalSimDataMonthlySummary_30min.csv', index_col='Time (Month)')"
   ]
  },
  {
   "cell_type": "code",
   "execution_count": 12,
   "metadata": {
    "ExecuteTime": {
     "end_time": "2021-03-24T04:26:31.928228Z",
     "start_time": "2021-03-24T04:26:30.735941Z"
    }
   },
   "outputs": [],
   "source": [
    "# seed_bau = bau_scenario_id + 1\n",
    "# #outcomes['primaryWholesalePriceYear'] = outcomes['wholesalePriceYear']\n",
    "# #outcomes['primaryWholesalePriceMonth'] = outcomes['wholesalePriceMonth']\n",
    "\n",
    "\n",
    "# outcomes['TIMEMonth'] = np.append(outcomes['TIMEMonth'],\n",
    "#                                           [monthly_bau_results_df.index], axis=0)\n",
    "# outcomes['primaryWholesalePriceMonth'] = np.append(outcomes['primaryWholesalePriceMonth'],\n",
    "#                                                    [monthly_bau_results_df['Primary Wholesale ($/MWh)'].values], axis=0)\n",
    "\n",
    "# outcomes['TIMEYear'] = np.append(outcomes['TIMEYear'],\n",
    "#                                           [bau_results_df.index], axis=0)\n",
    "# outcomes['consumptionYear'] = np.append(outcomes['consumptionYear'],\n",
    "#                                                  [bau_results_df['Consumption (KWh) per household'].values], axis=0)\n",
    "# outcomes['tariffsYear'] = np.append(outcomes['tariffsYear'],\n",
    "#                                                  [bau_results_df['Avg Tariff (c/KWh) per household'].values], axis=0)\n",
    "# outcomes['primaryWholesalePriceYear'] = np.append(outcomes['primaryWholesalePriceYear'],\n",
    "#                                                  [bau_results_df['Primary Wholesale ($/MWh)'].values], axis=0)\n",
    "# outcomes['GHGYear'] = np.append(outcomes['GHGYear'],\n",
    "#                                                  [bau_results_df['GHG Emissions (tCO2-e) per household'].values], axis=0)\n",
    "# outcomes['numConsumersYear'] = np.append(outcomes['numConsumersYear'],\n",
    "#                                                  [bau_results_df['Number of Domestic Consumers (households)'].values], axis=0)\n",
    "# outcomes['primarySpotProductionYear'] = np.append(outcomes['primarySpotProductionYear'],\n",
    "#                                                  [bau_results_df['System Production Primary Spot'].values], axis=0)\n",
    "# outcomes['secondarySpotProductionYear'] = np.append(outcomes['secondarySpotProductionYear'],\n",
    "#                                                  [bau_results_df['System Production Secondary Spot'].values], axis=0)\n",
    "# outcomes['offSpotProductionYear'] = np.append(outcomes['offSpotProductionYear'],\n",
    "#                                                  [bau_results_df['System Production Off Spot'].values], axis=0)\n",
    "# outcomes['renewableContributionYear'] = np.append(outcomes['renewableContributionYear'],\n",
    "#                                                  [bau_results_df['Percentage Renewable Production'].values], axis=0)\n",
    "# outcomes['rooftopPVProductionYear'] = np.append(outcomes['rooftopPVProductionYear'],\n",
    "#                                                  [bau_results_df['System Production Rooftop PV'].values], axis=0)\n",
    "# outcomes['coalProductionYear'] = np.append(outcomes['coalProductionYear'],\n",
    "#                                                  [bau_results_df['System Production Coal'].values], axis=0)\n",
    "# outcomes['windProductionYear'] = np.append(outcomes['windProductionYear'],\n",
    "#                                                  [bau_results_df['System Production Wind'].values], axis=0)\n",
    "# outcomes['gasProductionYear'] = np.append(outcomes['gasProductionYear'],\n",
    "#                                                  [bau_results_df['System Production Gas'].values], axis=0)\n",
    "# outcomes['solarProductionYear'] = np.append(outcomes['solarProductionYear'],\n",
    "#                                                  [bau_results_df['System Production Solar'].values], axis=0)   \n",
    "# outcomes['waterProductionYear'] = np.append(outcomes['waterProductionYear'],\n",
    "#                                                  [bau_results_df['System Production Water'].values], axis=0)\n",
    "# outcomes['BatteryProductionYear'] = np.append(outcomes['BatteryProductionYear'],\n",
    "#                                                  [bau_results_df['System Production Battery'].values], axis=0)\n",
    "# outcomes['numActorsYear'] = np.append(outcomes['numActorsYear'],\n",
    "#                                                  [bau_results_df['Number of Active Actors'].values], axis=0)\n",
    "# outcomes['primaryUnmetDemandMwh'] = np.append(outcomes['primaryUnmetDemandMwh'],\n",
    "#                                                  [bau_results_df['Primary Total Unmet Demand (MWh)'].values], axis=0)\n",
    "# outcomes['primaryUnmetDemandHours'] = np.append(outcomes['primaryUnmetDemandHours'],\n",
    "#                                                  [bau_results_df['Primary Total Unmet Demand (Hours)'].values], axis=0)\n",
    "# outcomes['primaryUnmetDemandDays'] = np.append(outcomes['primaryUnmetDemandDays'],\n",
    "#                                                  [bau_results_df['Primary Total Unmet Demand (Days)'].values], axis=0)\n",
    "# outcomes['primaryMaxUnmetDemandMwhPerHour'] = np.append(outcomes['primaryMaxUnmetDemandMwhPerHour'],\n",
    "#                                                  [bau_results_df['Primary Max Unmet Demand Per Hour (MWh)'].values], axis=0)\n",
    "# outcomes['secondaryUnmetDemandMwh'] = np.append(outcomes['secondaryUnmetDemandMwh'],\n",
    "#                                                  [bau_results_df['Secondary Total Unmet Demand (MWh)'].values], axis=0)\n",
    "# outcomes['secondaryUnmetDemandHours'] = np.append(outcomes['secondaryUnmetDemandHours'],\n",
    "#                                                  [bau_results_df['Secondary Total Unmet Demand (Hours)'].values], axis=0)\n",
    "# outcomes['secondaryUnmetDemandDays'] = np.append(outcomes['secondaryUnmetDemandDays'],\n",
    "#                                                  [bau_results_df['Secondary Total Unmet Demand (Days)'].values], axis=0)\n",
    "# outcomes['secondaryMaxUnmetDemandMwhPerHour'] = np.append(outcomes['secondaryMaxUnmetDemandMwhPerHour'],\n",
    "#                                                  [bau_results_df['Secondary Max Unmet Demand Per Hour (MWh)'].values], axis=0)\n",
    "\n",
    "# outcomes['seedExperimentCsv'] = np.append(outcomes['seedExperimentCsv'], [seed_bau], axis=0)\n"
   ]
  },
  {
   "cell_type": "code",
   "execution_count": 13,
   "metadata": {
    "ExecuteTime": {
     "end_time": "2021-03-24T04:26:31.943126Z",
     "start_time": "2021-03-24T04:26:31.930223Z"
    }
   },
   "outputs": [],
   "source": [
    "# outcomes_to_show = ['consumptionYear', 'tariffsYear', 'primaryWholesalePriceYear','primaryWholesalePriceMonth', 'GHGYear', \n",
    "#                     'numConsumersYear', 'primarySpotProductionYear', 'secondarySpotProductionYear', \n",
    "#                     'offSpotProductionYear', 'renewableContributionYear', 'rooftopPVProductionYear', \n",
    "#                     'coalProductionYear', 'waterProductionYear', 'windProductionYear', 'gasProductionYear', \n",
    "#                     'solarProductionYear', 'BatteryProductionYear', 'numActorsYear', 'primaryUnmetDemandMwh', \n",
    "#                     'primaryUnmetDemandHours', 'primaryUnmetDemandDays', 'primaryMaxUnmetDemandMwhPerHour', \n",
    "#                     'secondaryUnmetDemandMwh', 'secondaryUnmetDemandHours', 'secondaryUnmetDemandDays', \n",
    "#                     'secondaryMaxUnmetDemandMwhPerHour']\n",
    "\n",
    "# # 23 levers/uncertainties selected after EET (last test July 2020)\n",
    "# # 25 uncertainties selected aftet EET including change on domestic demand and unmet demand output (August 2020)\n",
    "# uncertainties = experiments.columns[:-3]\n",
    "\n",
    "# #from startYear\n",
    "# startYear = 1998\n",
    "# startYearShift = (startYear - 1998)\n",
    "\n",
    "# #time = outcomes['TIMEYear'][0, startYearShift:]\n",
    "# time = outcomes['TIMEYear'][0, startYearShift:-32]\n",
    "\n",
    "# #points_of_interest = [*range(2020,2051,10)] \n",
    "# #points_of_interest = [ x - startYear for x in points_of_interest]\n",
    "\n",
    "# points_of_interest = [0,5,10,15,20]\n",
    "\n",
    "\n",
    "# # Filter outcomes taking into account the startYear, and removing Seed Experiment info. \n",
    "# # Seed it is useful if I want to retrieve more info from the csv files, or redo the experiments with the\n",
    "# # simulation parameters\n",
    "# outcomes_filtered = {k:v[:, startYearShift:-32] for k,v in outcomes.items() if k != 'seedExperimentCsv'}"
   ]
  },
  {
   "cell_type": "code",
   "execution_count": 14,
   "metadata": {
    "ExecuteTime": {
     "end_time": "2021-03-24T04:26:32.005608Z",
     "start_time": "2021-03-24T04:26:31.945094Z"
    }
   },
   "outputs": [
    {
     "ename": "NameError",
     "evalue": "name 'outcomes_filtered' is not defined",
     "output_type": "error",
     "traceback": [
      "\u001b[0;31m---------------------------------------------------------------------------\u001b[0m",
      "\u001b[0;31mNameError\u001b[0m                                 Traceback (most recent call last)",
      "\u001b[0;32m<ipython-input-14-48da778b9322>\u001b[0m in \u001b[0;36m<module>\u001b[0;34m\u001b[0m\n\u001b[1;32m      1\u001b[0m \u001b[0;31m# ## Aggregate household data\u001b[0m\u001b[0;34m\u001b[0m\u001b[0;34m\u001b[0m\u001b[0;34m\u001b[0m\u001b[0m\n\u001b[1;32m      2\u001b[0m \u001b[0mooi\u001b[0m \u001b[0;34m=\u001b[0m \u001b[0;34m'GHGYear'\u001b[0m\u001b[0;34m\u001b[0m\u001b[0;34m\u001b[0m\u001b[0m\n\u001b[0;32m----> 3\u001b[0;31m \u001b[0mdata_GHG_household\u001b[0m \u001b[0;34m=\u001b[0m \u001b[0moutcomes_filtered\u001b[0m\u001b[0;34m[\u001b[0m\u001b[0mooi\u001b[0m\u001b[0;34m]\u001b[0m\u001b[0;34m\u001b[0m\u001b[0;34m\u001b[0m\u001b[0m\n\u001b[0m\u001b[1;32m      4\u001b[0m \u001b[0;34m\u001b[0m\u001b[0m\n\u001b[1;32m      5\u001b[0m \u001b[0;31m# \"\"\" Converts household data in tCO2e into total residential data in MtCO2e\"\"\"\u001b[0m\u001b[0;34m\u001b[0m\u001b[0;34m\u001b[0m\u001b[0;34m\u001b[0m\u001b[0m\n",
      "\u001b[0;31mNameError\u001b[0m: name 'outcomes_filtered' is not defined"
     ]
    }
   ],
   "source": [
    "# ## Aggregate household data\n",
    "ooi = 'GHGYear'\n",
    "data_GHG_household = outcomes_filtered[ooi]\n",
    "\n",
    "# \"\"\" Converts household data in tCO2e into total residential data in MtCO2e\"\"\"\n",
    "data_GHG_residential = (data_GHG_household * outcomes_filtered['numConsumersYear']) / 1000000.0\n",
    "data_GHG_residential_bau = (bau_results_df['GHG Emissions (tCO2-e) per household'] * bau_results_df['Number of Domestic Consumers (households)']) / 1000000.0\n",
    "\n",
    "# \"\"\" Applies scaling factor used in simulation, so that data represents total emissions, not only residential (30%)\"\"\"\n",
    "data_GHG_total = data_GHG_residential / 0.3\n",
    "data_GHG_total_bau = data_GHG_residential_bau / 0.3\n",
    "\n",
    "\n",
    "# \"\"\"Overwrite GHG with the data of interest\"\"\"\n",
    "# outcomes_filtered[ooi] = data_GHG_total\n",
    "# bau_results_df[ooi] = data_GHG_total_bau"
   ]
  },
  {
   "cell_type": "code",
   "execution_count": 15,
   "metadata": {
    "ExecuteTime": {
     "end_time": "2021-03-24T04:26:32.775398Z",
     "start_time": "2021-03-24T04:26:32.006603Z"
    }
   },
   "outputs": [],
   "source": [
    "# #Subset of levers/uncertainties\n",
    "# #selected_levers = list(['rooftopPV', 'annualCpi','capacityFactorChangeBrownCoal','capacityFactorChangeWater','semiScheduleMinCapMarketGen'])    \n",
    "# selected_uncertainties = uncertainties\n",
    "\n",
    "# ooi = 'GHGYear'\n",
    "\n",
    "# data = outcomes_filtered[ooi]\n",
    "\n",
    "\n",
    "# num_exp = len(data)\n",
    "# out_avg_ooi = np.zeros(num_exp)\n",
    "\n",
    "# for i in range(num_exp):\n",
    "#     out_avg_ooi[i] = data[i].mean()\n",
    "\n",
    "# exp = pd.DataFrame(experiments)\n",
    "\n",
    "# exp = exp.loc[ :, selected_uncertainties] "
   ]
  },
  {
   "cell_type": "markdown",
   "metadata": {},
   "source": [
    "## Envelopes"
   ]
  },
  {
   "cell_type": "markdown",
   "metadata": {},
   "source": [
    "### GHGE"
   ]
  },
  {
   "cell_type": "markdown",
   "metadata": {},
   "source": [
    "#### Best seeds according to MAD, RMSE, Euclidian metrics"
   ]
  },
  {
   "cell_type": "code",
   "execution_count": 16,
   "metadata": {
    "ExecuteTime": {
     "end_time": "2021-03-24T04:26:32.870554Z",
     "start_time": "2021-03-24T04:26:32.776396Z"
    }
   },
   "outputs": [],
   "source": [
    "# b = 1.4826\n",
    "\n",
    "abs_difference_list = list()\n",
    "historic_emissions = historic_emissions_df[historic_emissions_df.index > 1997]['Hist_GHGE_MtCO2e']\n",
    "# bau_results_df_GHGE = bau_results_df['GHGYear'].iloc[:-32]\n",
    "\n",
    "# abs_difference_list_hist_all = abs(historic_emissions.values - outcomes_filtered['GHGYear'])\n",
    "# abs_difference_list_hist_bau = abs(historic_emissions.values - bau_results_df_GHGE)\n",
    "\n",
    "\n",
    "# mad_best = np.median(abs_difference_list_hist_all,axis=1)\n",
    "# print(f'Best possible MAD for {ooi} is {np.min(mad_best):.2f}, experiment index {np.argmin(mad_best)} vs. the MAD of Nominal {mad_best[-1]:.2f}')\n",
    "\n",
    "\n",
    "# #Root-mean square error\n",
    "# rms = np.sqrt(np.mean(np.square(historic_emissions.values - outcomes_filtered['GHGYear']),axis=1))\n",
    "# print(f'Best possible RMS for {ooi} is {np.min(rms):.2f}, experiment index {np.argmin(rms)} vs. the RMS of Nominal {rms[-1]:.2f}')\n",
    "\n",
    "# #Euclidian distance\n",
    "# eucl = dist = np.linalg.norm(historic_emissions.values - outcomes_filtered['GHGYear'],axis=1)\n",
    "# eucl_similar = 1/1+eucl[-1]\n",
    "# print(f'Best possible Euclidean Distance for {ooi} is {np.min(eucl):.2f}, experiment index {np.argmin(eucl)} vs. the Euclidean Distance of Nominal {eucl[-1]:.2f}')\n",
    "\n",
    "# #eucl_similar\n",
    "\n",
    "# # print(f'RMS for {ooi} of best experiment for Wholesale Price (74035) {rms[74035]:.2f}')\n",
    "\n"
   ]
  },
  {
   "cell_type": "markdown",
   "metadata": {
    "ExecuteTime": {
     "end_time": "2021-03-02T10:48:40.054088Z",
     "start_time": "2021-03-02T10:48:40.050099Z"
    }
   },
   "source": [
    "#### Plots"
   ]
  },
  {
   "cell_type": "code",
   "execution_count": 17,
   "metadata": {},
   "outputs": [
    {
     "data": {
      "text/plain": [
       "' Applies scaling factor used in simulation, so that data represents total emissions, not only residential (30%)'"
      ]
     },
     "execution_count": 17,
     "metadata": {},
     "output_type": "execute_result"
    }
   ],
   "source": [
    "# data_GHG_residential = (data_GHG_household * outcomes_filtered['numConsumersYear']) / 1000000.0\n",
    "# data_GHG_residential_bau = (bau_results_df['GHG Emissions (tCO2-e) per household'] * bau_results_df['Number of Domestic Consumers (households)']) / 1000000.0\n",
    "\n",
    "\"\"\" Applies scaling factor used in simulation, so that data represents total emissions, not only residential (30%)\"\"\"\n",
    "# data_GHG_total = data_GHG_residential / 0.3\n",
    "# data_GHG_total_bau = data_GHG_residential_bau / 0.3\n"
   ]
  },
  {
   "cell_type": "code",
   "execution_count": 18,
   "metadata": {
    "ExecuteTime": {
     "end_time": "2021-03-24T04:26:33.263758Z",
     "start_time": "2021-03-24T04:26:32.872548Z"
    }
   },
   "outputs": [
    {
     "ename": "NameError",
     "evalue": "name 'figure' is not defined",
     "output_type": "error",
     "traceback": [
      "\u001b[0;31m---------------------------------------------------------------------------\u001b[0m",
      "\u001b[0;31mNameError\u001b[0m                                 Traceback (most recent call last)",
      "\u001b[0;32m<ipython-input-18-73f5b25bd05a>\u001b[0m in \u001b[0;36m<module>\u001b[0;34m\u001b[0m\n\u001b[1;32m      1\u001b[0m \u001b[0;31m#change fig size\u001b[0m\u001b[0;34m\u001b[0m\u001b[0;34m\u001b[0m\u001b[0;34m\u001b[0m\u001b[0m\n\u001b[0;32m----> 2\u001b[0;31m \u001b[0mfigure\u001b[0m\u001b[0;34m(\u001b[0m\u001b[0mnum\u001b[0m\u001b[0;34m=\u001b[0m\u001b[0;32mNone\u001b[0m\u001b[0;34m,\u001b[0m \u001b[0mfigsize\u001b[0m\u001b[0;34m=\u001b[0m\u001b[0;34m(\u001b[0m\u001b[0;36m10\u001b[0m\u001b[0;34m,\u001b[0m \u001b[0;36m8\u001b[0m\u001b[0;34m)\u001b[0m\u001b[0;34m,\u001b[0m \u001b[0mdpi\u001b[0m\u001b[0;34m=\u001b[0m\u001b[0;36m80\u001b[0m\u001b[0;34m,\u001b[0m \u001b[0mfacecolor\u001b[0m\u001b[0;34m=\u001b[0m\u001b[0;34m'w'\u001b[0m\u001b[0;34m,\u001b[0m \u001b[0medgecolor\u001b[0m\u001b[0;34m=\u001b[0m\u001b[0;34m'k'\u001b[0m\u001b[0;34m)\u001b[0m\u001b[0;34m\u001b[0m\u001b[0;34m\u001b[0m\u001b[0m\n\u001b[0m\u001b[1;32m      3\u001b[0m \u001b[0;34m\u001b[0m\u001b[0m\n\u001b[1;32m      4\u001b[0m \u001b[0;31m#compute STD and MEAN\u001b[0m\u001b[0;34m\u001b[0m\u001b[0;34m\u001b[0m\u001b[0;34m\u001b[0m\u001b[0m\n\u001b[1;32m      5\u001b[0m \u001b[0;31m# ghgeSTD = np.std(outcomes_filtered['GHGYeaar'],axis=0)\u001b[0m\u001b[0;34m\u001b[0m\u001b[0;34m\u001b[0m\u001b[0;34m\u001b[0m\u001b[0m\n",
      "\u001b[0;31mNameError\u001b[0m: name 'figure' is not defined"
     ]
    }
   ],
   "source": [
    "#change fig size\n",
    "figure(num=None, figsize=(10, 8), dpi=80, facecolor='w', edgecolor='k')\n",
    "\n",
    "#compute STD and MEAN\n",
    "# ghgeSTD = np.std(outcomes_filtered['GHGYeaar'],axis=0)\n",
    "# ghge2STD = 2*np.std(outcomes_filtered['GHGYear'],axis=0)\n",
    "\n",
    "# ghgeMean = np.mean(outcomes_filtered['GHGYear'],axis=0)\n",
    "# ghgeNominal = outcomes_filtered[ooi][-1]\n",
    "ghgeHistoric = historic_emissions_df[historic_emissions_df.index > 1997]['Hist_GHGE_MtCO2e'].values\n",
    "\n",
    "#PLOT MEAN\n",
    "#lineMean, = plt.plot(time,ghgeMean, 'b-', label = 'Mean')\n",
    "\n",
    "#PLOT STD and 2STD\n",
    "# plt.fill_between(x=time,y1=ghgeNominal - ghgeSTD, y2=ghgeNominal + ghgeSTD,\n",
    "#                  color='gray', alpha=0.2)\n",
    "# plt.fill_between(x=time,y1=ghgeNominal - ghge2STD, y2=ghgeNominal + ghge2STD,\n",
    "#                  color='darkgray', alpha=0.2)\n",
    "\n",
    "#PLOT Historic\n",
    "lineHist, = plt.plot([1998 + i for i in range(len(ghgeHistoric))], ghgeHistoric, 'g--', label = 'Historic')\n",
    "\n",
    "#PLOT Nominal\n",
    "for i in freq_year.keys():\n",
    "    ghg_data = freq_year[i].loc[:2018]['GHG Emissions (tCO2-e) per household'] * freq_year[i].loc[:2018]['Number of Domestic Consumers (households)'] / 1000000.0\n",
    "    ghg_data /=  0.3\n",
    "\n",
    "    if i == 0.5:    \n",
    "        plt.plot( [1998 + i for i in range(len(ghgeHistoric))], ghg_data, label = f'GHGE - Hour {i}', alpha=0.4, color='red')\n",
    "    else:\n",
    "        plt.plot( [1998 + i for i in range(len(ghgeHistoric))], ghg_data, label = f'GHGE - Hour {i}', alpha=0.4)\n",
    "        \n",
    "        \n",
    "        #     else:\n",
    "#         plt.plot( yearly_dates,f'Simulated_GHGE_VIC (MtCO2e) {i}', data=historic_and_simul_emissions_df,\n",
    "#              linewidth=4, label = f'GHGE - Simulated (STLM+CSI+MS) Hour {i}')\n",
    "\n",
    "\n",
    "# lineNominal, = plt.plot(time,ghgeNominal, 'r-', label = 'Nominal')\n",
    "\n",
    "# lightgrey_patch = mpatches.Patch(color='lightgray', label='+/- 2\\u03C3')\n",
    "# darkgrey_patch = mpatches.Patch(color='darkgray', label='+/- 1\\u03C3')\n",
    "\n",
    "\n",
    "#PLOT legend, and title\n",
    "\n",
    "plt.legend()\n",
    "axes = plt.gca()\n",
    "axes.set_ylim([0,120])\n",
    "ylabel = axes.set_ylabel('$MtCO_2e$')\n",
    "#plt.suptitle(\"{}\".format(ooi), fontsize=15)"
   ]
  },
  {
   "cell_type": "markdown",
   "metadata": {},
   "source": [
    "### Summary Statistics"
   ]
  },
  {
   "cell_type": "code",
   "execution_count": 19,
   "metadata": {},
   "outputs": [
    {
     "data": {
      "text/html": [
       "<div>\n",
       "<style scoped>\n",
       "    .dataframe tbody tr th:only-of-type {\n",
       "        vertical-align: middle;\n",
       "    }\n",
       "\n",
       "    .dataframe tbody tr th {\n",
       "        vertical-align: top;\n",
       "    }\n",
       "\n",
       "    .dataframe thead th {\n",
       "        text-align: right;\n",
       "    }\n",
       "</style>\n",
       "<table border=\"1\" class=\"dataframe\">\n",
       "  <thead>\n",
       "    <tr style=\"text-align: right;\">\n",
       "      <th></th>\n",
       "      <th>0.5</th>\n",
       "      <th>1.0</th>\n",
       "      <th>2.0</th>\n",
       "      <th>3.0</th>\n",
       "      <th>4.0</th>\n",
       "      <th>6.0</th>\n",
       "      <th>8.0</th>\n",
       "      <th>12.0</th>\n",
       "      <th>24.0</th>\n",
       "    </tr>\n",
       "  </thead>\n",
       "  <tbody>\n",
       "    <tr>\n",
       "      <th>mean_ae</th>\n",
       "      <td>2.527453</td>\n",
       "      <td>2.387518</td>\n",
       "      <td>2.355778</td>\n",
       "      <td>2.355175</td>\n",
       "      <td>2.354571</td>\n",
       "      <td>2.353363</td>\n",
       "      <td>2.352155</td>\n",
       "      <td>2.349740</td>\n",
       "      <td>2.342727</td>\n",
       "    </tr>\n",
       "    <tr>\n",
       "      <th>median_ae</th>\n",
       "      <td>2.043580</td>\n",
       "      <td>1.436027</td>\n",
       "      <td>1.704608</td>\n",
       "      <td>1.704654</td>\n",
       "      <td>1.704699</td>\n",
       "      <td>1.704788</td>\n",
       "      <td>1.704876</td>\n",
       "      <td>1.705049</td>\n",
       "      <td>1.705542</td>\n",
       "    </tr>\n",
       "    <tr>\n",
       "      <th>rmse</th>\n",
       "      <td>3.438929</td>\n",
       "      <td>3.369487</td>\n",
       "      <td>3.386545</td>\n",
       "      <td>3.386425</td>\n",
       "      <td>3.386320</td>\n",
       "      <td>3.386151</td>\n",
       "      <td>3.386037</td>\n",
       "      <td>3.385973</td>\n",
       "      <td>3.387105</td>\n",
       "    </tr>\n",
       "  </tbody>\n",
       "</table>\n",
       "</div>"
      ],
      "text/plain": [
       "               0.5       1.0       2.0       3.0       4.0       6.0   \\\n",
       "mean_ae    2.527453  2.387518  2.355778  2.355175  2.354571  2.353363   \n",
       "median_ae  2.043580  1.436027  1.704608  1.704654  1.704699  1.704788   \n",
       "rmse       3.438929  3.369487  3.386545  3.386425  3.386320  3.386151   \n",
       "\n",
       "               8.0       12.0      24.0  \n",
       "mean_ae    2.352155  2.349740  2.342727  \n",
       "median_ae  1.704876  1.705049  1.705542  \n",
       "rmse       3.386037  3.385973  3.387105  "
      ]
     },
     "metadata": {},
     "output_type": "display_data"
    },
    {
     "data": {
      "image/png": "[encoded data removed]",
      "text/plain": [
       "<Figure size 2160x720 with 3 Axes>"
      ]
     },
     "metadata": {
      "needs_background": "light"
     },
     "output_type": "display_data"
    }
   ],
   "source": [
    "from sklearn.metrics import r2_score\n",
    "\n",
    "\n",
    "ghg_data_df = {}\n",
    "for year in freq_year.keys():\n",
    "\n",
    "    curr = {}\n",
    "\n",
    "    abs_difference_list = list()\n",
    "    diff_list = []\n",
    "    for i in historic_emissions_df[historic_emissions_df.index > 1997].index:\n",
    "        \n",
    "        simulated_value = freq_year[year].loc[i]['GHG Emissions (tCO2-e) per household'] * freq_year[year].loc[i]['Number of Domestic Consumers (households)'] / 1000000.0 / 0.3\n",
    "        hist_value = historic_emissions_df[historic_emissions_df.index > 1997].loc[i]['Hist_GHGE_MtCO2e']\n",
    "        \n",
    "        diff_list.append(simulated_value - hist_value)\n",
    "        \n",
    "        diff = abs(simulated_value - hist_value)\n",
    "        abs_difference_list.append(diff)\n",
    "        \n",
    "        \n",
    "        \n",
    "    curr['mean_ae'] = np.mean(abs_difference_list)\n",
    "    curr['median_ae'] = statistics.median(abs_difference_list)\n",
    "    curr['rmse'] = (np.mean(list(map(lambda a: a**2, diff_list))))**0.5\n",
    "    \n",
    "        \n",
    "    ghg_data_df[year] = curr\n",
    "        \n",
    "# mad = statistics.median(abs_difference_list)\n",
    "# std = mad*b\n",
    "# print(f\"Simulated results are {mad.round(decimals=2)} MTCO2-e (MAD) away from historic data\")\n",
    "# print(f\"Simulated results have a standard deviation of {std.round(decimals=2)} MTCO2-e from historic data\")\n",
    "\n",
    "ghg_data_df = pd.DataFrame(ghg_data_df)\n",
    "display(ghg_data_df)\n",
    "\n",
    "fig, ax = plt.subplots(1,3, figsize=(30,10))\n",
    "for i,j in enumerate(ghg_data_df.index):\n",
    "    ax[i].plot(freqs, ghg_data_df.loc[j])\n",
    "plt.show()"
   ]
  },
  {
   "cell_type": "code",
   "execution_count": 20,
   "metadata": {
    "ExecuteTime": {
     "end_time": "2021-03-24T04:26:33.279716Z",
     "start_time": "2021-03-24T04:26:33.265751Z"
    }
   },
   "outputs": [],
   "source": [
    "# withinSTD = ((ghgeHistoric < ghgeNominal + ghgeSTD) & (ghgeHistoric > ghgeNominal - ghgeSTD)).sum()\n",
    "# numCases = len(ghgeHistoric)\n",
    "# withinSTDpercentage = (withinSTD/numCases) * 100.0\n",
    "# print(f'{withinSTD} cases within the STD range out of {numCases}, which makes {withinSTDpercentage}% of total cases')\n",
    "\n",
    "# withinSTD = ((ghgeHistoric < ghgeNominal + 2*ghgeSTD) & (ghgeHistoric > ghgeNominal - 2*ghgeSTD)).sum()\n",
    "# numCases = len(ghgeHistoric)\n",
    "# withinSTDpercentage = (withinSTD/numCases) * 100.0\n",
    "# print(f'{withinSTD} cases within the 2STD range out of {numCases}, which makes {withinSTDpercentage}% of total cases')"
   ]
  },
  {
   "cell_type": "code",
   "execution_count": 21,
   "metadata": {
    "ExecuteTime": {
     "end_time": "2021-03-24T04:26:36.208616Z",
     "start_time": "2021-03-24T04:26:33.281757Z"
    },
    "scrolled": true
   },
   "outputs": [],
   "source": [
    "# from EMAworkbench.ema_workbench.analysis.plotting import multiple_densities, PlotType\n",
    "# from EMAworkbench.ema_workbench.analysis.plotting_util import Density \n",
    "\n",
    "# fig, ax_env = multiple_densities(experiments, outcomes_filtered, outcomes_to_show = ooi,\n",
    "#                                  points_in_time=[0,5,10,15,20], density = Density.HIST, grouping_specifiers=None,\n",
    "#                                  titles={ooi}, ylabels={ooi: \"MtCO2e\"}, legend=True,\n",
    "#                                  fill=True, plot_type=PlotType.ENVELOPE)\n",
    "\n",
    "# #Change x labels to years\n",
    "# ax_env[ooi]['main plot'].set_xticklabels([startYear + x / 10.0 for x in range(0,len(time)*10,25)])\n",
    "\n",
    "# #Add BAU in the plot with a red line\n",
    "# ax_env[ooi]['main plot'].plot(outcomes_filtered[ooi][-1], 'r-')\n",
    "\n",
    "# ax_env[ooi]['main plot'].plot(outcomes_filtered[ooi][63738], 'y-')\n",
    "# ax_env[ooi]['main plot'].plot(outcomes_filtered[ooi][27332], 'k-')\n",
    "# ax_env[ooi]['main plot'].plot(outcomes_filtered[ooi][25713], 'm-')\n",
    "\n",
    " \n",
    "# ax_env[ooi]['main plot'].plot(historic_emissions_df[historic_emissions_df.index > 1997]['Hist_GHGE_MtCO2e'].values, 'g--')\n",
    "\n",
    "\n",
    "\n",
    "# ## Add historic figures\n",
    "# ax_env\n",
    "\n",
    "# ## Show labels\n",
    "# # labels = ax_env['F']['main plot'].get_xticklabels()\n",
    "# # for l in labels:\n",
    "# #     print (l.get_text)\n",
    "\n",
    "# fig[0].suptitle(\"{}\".format(ooi), fontsize=15)\n",
    "# fig[0].set_size_inches(18.5, 10.5)\n",
    "# #plt.legend()\n",
    "\n",
    "# plt.savefig('{}/fig{}.png'.format(r'C:\\\\Users\\\\angel\\\\Documents\\\\GitHub\\\\gr4sp\\\\experiments\\\\notebookGr4sp\\\\outputs\\\\figs', '_3Regime_envelope_density_%s'%(ooi)),\n",
    "#                 dpi=300, bbox_inches='tight')\n"
   ]
  },
  {
   "cell_type": "markdown",
   "metadata": {},
   "source": [
    "### Wholesale prices (primary market)"
   ]
  },
  {
   "cell_type": "code",
   "execution_count": 22,
   "metadata": {
    "ExecuteTime": {
     "end_time": "2021-03-24T04:32:03.687806Z",
     "start_time": "2021-03-24T04:32:03.682827Z"
    }
   },
   "outputs": [],
   "source": [
    "#from startYear\n",
    "startYear_wholesale = 2005\n",
    "startYearShift_wholesale = (startYear_wholesale - 1998)\n",
    "\n",
    "#time = outcomes['TIMEYear'][0, startYearShift:]\n",
    "# time_wholesale = outcomes['TIMEYear'][0, startYearShift_wholesale:-30]\n",
    "\n",
    "#points_of_interest = [*range(2020,2051,10)] \n",
    "#points_of_interest = [ x - startYear for x in points_of_interest]\n",
    "\n",
    "points_of_interest_wholesale = [0,5,10,15]\n",
    "\n",
    "\n",
    "# Filter outcomes taking into account the startYear, and removing Seed Experiment info. \n",
    "# Seed it is useful if I want to retrieve more info from the csv files, or redo the experiments with the\n",
    "# simulation parameters\n",
    "# outcomes_filtered_wholesale = {k:v[:, startYearShift_wholesale:-30] for k,v in outcomes.items() if k != 'seedExperimentCsv'}"
   ]
  },
  {
   "cell_type": "code",
   "execution_count": 23,
   "metadata": {
    "ExecuteTime": {
     "end_time": "2021-03-24T04:32:05.121230Z",
     "start_time": "2021-03-24T04:32:04.602614Z"
    }
   },
   "outputs": [],
   "source": [
    "# # Subset Sobol levers\n",
    "# #selected_levers = list(['rooftopPV','annualCpi', 'generationRolloutPeriod', 'generatorRetirement','capacityFactorChangeBrownCoal','semiScheduleMinCapMarketGen'])    \n",
    "\n",
    "# select_uncertainties = uncertainties\n",
    "# ooi = 'primaryWholesalePriceYear'\n",
    "\n",
    "# num_exp = len(data)\n",
    "# out_avg_ooi = np.zeros(num_exp)\n",
    "\n",
    "# for i in range(num_exp):\n",
    "#     out_avg_ooi[i] = data[i].mean()\n",
    "\n",
    "# exp = pd.DataFrame(experiments)\n",
    "\n",
    "# exp = exp.loc[ :, select_uncertainties] \n",
    "\n"
   ]
  },
  {
   "cell_type": "markdown",
   "metadata": {},
   "source": [
    "#### Best seeds according to MAD, RMSE, Euclidian distance metrics"
   ]
  },
  {
   "cell_type": "code",
   "execution_count": 24,
   "metadata": {
    "ExecuteTime": {
     "end_time": "2021-03-24T04:32:05.972824Z",
     "start_time": "2021-03-24T04:32:05.894618Z"
    }
   },
   "outputs": [],
   "source": [
    "# b = 1.4826\n",
    "\n",
    "# abs_difference_list = list()\n",
    "# historic_wholesale_values = historic_wholesale_df['Volume Weighted Price (Historic) - $/MWh'].resample('Y').mean().values\n",
    "# abs_difference_list = abs(historic_wholesale_values - outcomes_filtered_wholesale[ooi])\n",
    "\n",
    "# mad = np.median(abs_difference_list,axis=1)\n",
    "# print(f'Best possible MAD for {ooi} is {np.min(mad):.2f}, experiment index {np.argmin(mad)} vs. the MAD of Nominal {mad[-1]:.2f}')\n",
    "\n",
    "# #sumad = np.sum(abs_difference_list,axis=1)\n",
    "# #print(f'Best possible SumAD for {ooi} is {np.min(sumad)}, experiment index {np.argmin(sumad)} vs. the SumAD of BAU {sumad[-1]}')\n",
    "\n",
    "# rms = np.sqrt(np.mean(np.square(historic_wholesale_values - outcomes_filtered_wholesale[ooi]),axis=1))\n",
    "# print(f'Best possible RMS for {ooi} is {np.min(rms):.2f}, experiment index {np.argmin(rms)} vs. the RMS of Nominal {rms[-1]:.2f}')\n",
    "\n",
    "# #Euclidian distance\n",
    "# eucl = dist = np.linalg.norm(historic_wholesale_values -  outcomes_filtered_wholesale[ooi],axis=1)\n",
    "\n",
    "# print(f'Best possible Euclidean Distance for {ooi} is {np.min(eucl):.2f}, experiment index {np.argmin(eucl)} vs. the Euclidean Distance of Nominal {eucl[-1]:.2f}')\n",
    "\n",
    "# print(f'RMS for {ooi} of best experiment for GHGE (25713) {rms[25713]}')\n"
   ]
  },
  {
   "cell_type": "markdown",
   "metadata": {
    "ExecuteTime": {
     "end_time": "2021-03-02T10:48:40.054088Z",
     "start_time": "2021-03-02T10:48:40.050099Z"
    }
   },
   "source": [
    "#### Plots"
   ]
  },
  {
   "cell_type": "code",
   "execution_count": 25,
   "metadata": {
    "ExecuteTime": {
     "end_time": "2021-03-24T04:32:06.998284Z",
     "start_time": "2021-03-24T04:32:06.749413Z"
    }
   },
   "outputs": [
    {
     "ename": "NameError",
     "evalue": "name 'figure' is not defined",
     "output_type": "error",
     "traceback": [
      "\u001b[0;31m---------------------------------------------------------------------------\u001b[0m",
      "\u001b[0;31mNameError\u001b[0m                                 Traceback (most recent call last)",
      "\u001b[0;32m<ipython-input-25-ad502802f279>\u001b[0m in \u001b[0;36m<module>\u001b[0;34m\u001b[0m\n\u001b[1;32m      1\u001b[0m \u001b[0;31m#change fig size\u001b[0m\u001b[0;34m\u001b[0m\u001b[0;34m\u001b[0m\u001b[0;34m\u001b[0m\u001b[0m\n\u001b[0;32m----> 2\u001b[0;31m \u001b[0mfigure\u001b[0m\u001b[0;34m(\u001b[0m\u001b[0mnum\u001b[0m\u001b[0;34m=\u001b[0m\u001b[0;32mNone\u001b[0m\u001b[0;34m,\u001b[0m \u001b[0mfigsize\u001b[0m\u001b[0;34m=\u001b[0m\u001b[0;34m(\u001b[0m\u001b[0;36m10\u001b[0m\u001b[0;34m,\u001b[0m \u001b[0;36m8\u001b[0m\u001b[0;34m)\u001b[0m\u001b[0;34m,\u001b[0m \u001b[0mdpi\u001b[0m\u001b[0;34m=\u001b[0m\u001b[0;36m80\u001b[0m\u001b[0;34m,\u001b[0m \u001b[0mfacecolor\u001b[0m\u001b[0;34m=\u001b[0m\u001b[0;34m'w'\u001b[0m\u001b[0;34m,\u001b[0m \u001b[0medgecolor\u001b[0m\u001b[0;34m=\u001b[0m\u001b[0;34m'k'\u001b[0m\u001b[0;34m)\u001b[0m\u001b[0;34m\u001b[0m\u001b[0;34m\u001b[0m\u001b[0m\n\u001b[0m\u001b[1;32m      3\u001b[0m \u001b[0;34m\u001b[0m\u001b[0m\n\u001b[1;32m      4\u001b[0m \u001b[0;31m#compute STD and MEAN\u001b[0m\u001b[0;34m\u001b[0m\u001b[0;34m\u001b[0m\u001b[0;34m\u001b[0m\u001b[0m\n\u001b[1;32m      5\u001b[0m \u001b[0;31m# wholesaleSTD = np.std(outcomes_filtered_wholesale['primaryWholesalePriceYear'],axis=0)\u001b[0m\u001b[0;34m\u001b[0m\u001b[0;34m\u001b[0m\u001b[0;34m\u001b[0m\u001b[0m\n",
      "\u001b[0;31mNameError\u001b[0m: name 'figure' is not defined"
     ]
    }
   ],
   "source": [
    "#change fig size\n",
    "figure(num=None, figsize=(10, 8), dpi=80, facecolor='w', edgecolor='k')\n",
    "\n",
    "#compute STD and MEAN\n",
    "# wholesaleSTD = np.std(outcomes_filtered_wholesale['primaryWholesalePriceYear'],axis=0)\n",
    "# wholesale2STD = 2*np.std(outcomes_filtered_wholesale['primaryWholesalePriceYear'],axis=0)\n",
    "\n",
    "# wholesaleMean = np.mean(outcomes_filtered_wholesale['primaryWholesalePriceYear'],axis=0)\n",
    "# wholesaleNominal = outcomes_filtered_wholesale[ooi][-1]\n",
    "\n",
    "#PLOT MEAN\n",
    "#lineMean, = plt.plot(time_wholesale, wholesaleMean, 'b-', label = 'Mean')\n",
    "\n",
    "#PLOT STD\n",
    "# plt.fill_between(x=time_wholesale, y1=wholesaleNominal - wholesaleSTD, y2=wholesaleNominal + wholesaleSTD,\n",
    "#                  color='gray', alpha=0.2)\n",
    "# plt.fill_between(x=time_wholesale, y1=wholesaleNominal - wholesale2STD, y2=wholesaleNominal + wholesale2STD,\n",
    "#                  color='darkgray', alpha=0.2)\n",
    "\n",
    "time_wholesale = range(2005, 2021)\n",
    "\n",
    "historic_wholesale_values = historic_wholesale_df['Volume Weighted Price (Historic) - $/MWh'].resample('Y').mean()\n",
    "\n",
    "#PLOT Historic\n",
    "lineHist, = plt.plot(time_wholesale, historic_wholesale_values, 'g--', label = 'Historic')\n",
    "\n",
    "#PLOT Nominal\n",
    "for i in freq_year.keys():\n",
    "    whole_y_data = freq_year[i].loc[2005:2020]['Primary Wholesale ($/MWh)']\n",
    "\n",
    "    if i == 0.5:    \n",
    "        plt.plot(whole_y_data.index, whole_y_data, label = f'Wholesale Year - Hour {i}', alpha=0.4, color='red')\n",
    "    else:\n",
    "        plt.plot(whole_y_data.index, whole_y_data, label = f'Wholesale Year - Hour {i}', alpha=0.4)\n",
    "\n",
    "\n",
    "# lightgrey_patch = mpatches.Patch(color='lightgray', label='+/- 2\\u03C3')\n",
    "# darkgrey_patch = mpatches.Patch(color='darkgray', label='+/- 1\\u03C3')\n",
    "\n",
    "#PLOT legend, and title\n",
    "plt.legend()\n",
    "plt.ylabel('$\\MWh')\n",
    "\n",
    "#plt.suptitle(\"{}\".format(ooi), fontsize=15)"
   ]
  },
  {
   "cell_type": "markdown",
   "metadata": {},
   "source": [
    "### Summary Statistics"
   ]
  },
  {
   "cell_type": "code",
   "execution_count": 26,
   "metadata": {},
   "outputs": [
    {
     "ename": "NameError",
     "evalue": "name 'time_wholesale' is not defined",
     "output_type": "error",
     "traceback": [
      "\u001b[0;31m---------------------------------------------------------------------------\u001b[0m",
      "\u001b[0;31mNameError\u001b[0m                                 Traceback (most recent call last)",
      "\u001b[0;32m<ipython-input-26-d7c6854715b6>\u001b[0m in \u001b[0;36m<module>\u001b[0;34m\u001b[0m\n\u001b[1;32m      9\u001b[0m     \u001b[0mabs_difference_list\u001b[0m \u001b[0;34m=\u001b[0m \u001b[0mlist\u001b[0m\u001b[0;34m(\u001b[0m\u001b[0;34m)\u001b[0m\u001b[0;34m\u001b[0m\u001b[0;34m\u001b[0m\u001b[0m\n\u001b[1;32m     10\u001b[0m     \u001b[0mdiff_list\u001b[0m \u001b[0;34m=\u001b[0m \u001b[0;34m[\u001b[0m\u001b[0;34m]\u001b[0m\u001b[0;34m\u001b[0m\u001b[0;34m\u001b[0m\u001b[0m\n\u001b[0;32m---> 11\u001b[0;31m     \u001b[0;32mfor\u001b[0m \u001b[0mi\u001b[0m \u001b[0;32min\u001b[0m \u001b[0mtime_wholesale\u001b[0m\u001b[0;34m:\u001b[0m\u001b[0;34m\u001b[0m\u001b[0;34m\u001b[0m\u001b[0m\n\u001b[0m\u001b[1;32m     12\u001b[0m \u001b[0;34m\u001b[0m\u001b[0m\n\u001b[1;32m     13\u001b[0m         \u001b[0msimulated_value\u001b[0m \u001b[0;34m=\u001b[0m \u001b[0mfreq_year\u001b[0m\u001b[0;34m[\u001b[0m\u001b[0myear\u001b[0m\u001b[0;34m]\u001b[0m\u001b[0;34m.\u001b[0m\u001b[0mloc\u001b[0m\u001b[0;34m[\u001b[0m\u001b[0mi\u001b[0m\u001b[0;34m]\u001b[0m\u001b[0;34m[\u001b[0m\u001b[0;34m'Primary Wholesale ($/MWh)'\u001b[0m\u001b[0;34m]\u001b[0m\u001b[0;34m\u001b[0m\u001b[0;34m\u001b[0m\u001b[0m\n",
      "\u001b[0;31mNameError\u001b[0m: name 'time_wholesale' is not defined"
     ]
    }
   ],
   "source": [
    "from sklearn.metrics import r2_score\n",
    "\n",
    "\n",
    "whole_y_data_df = {}\n",
    "for year in freq_year.keys():\n",
    "\n",
    "    curr = {}\n",
    "\n",
    "    abs_difference_list = list()\n",
    "    diff_list = []\n",
    "    for i in time_wholesale:\n",
    "        \n",
    "        simulated_value = freq_year[year].loc[i]['Primary Wholesale ($/MWh)']\n",
    "        \n",
    "        hist_value = historic_wholesale_values[i-2005]\n",
    "        \n",
    "        \n",
    "        diff_list.append(simulated_value - hist_value)\n",
    "        \n",
    "        diff = abs(simulated_value - hist_value)\n",
    "        abs_difference_list.append(diff)\n",
    "        \n",
    "        \n",
    "        \n",
    "    curr['mean_ae'] = np.mean(abs_difference_list)\n",
    "    curr['median_ae'] = statistics.median(abs_difference_list)\n",
    "    curr['rmse'] = (np.mean(list(map(lambda a: a**2, diff_list))))**0.5\n",
    "    \n",
    "        \n",
    "    whole_y_data_df[year] = curr\n",
    "        \n",
    "# mad = statistics.median(abs_difference_list)\n",
    "# std = mad*b\n",
    "# print(f\"Simulated results are {mad.round(decimals=2)} MTCO2-e (MAD) away from historic data\")\n",
    "# print(f\"Simulated results have a standard deviation of {std.round(decimals=2)} MTCO2-e from historic data\")\n",
    "\n",
    "whole_y_data_df = pd.DataFrame(whole_y_data_df)\n",
    "display(whole_y_data_df)\n",
    "\n",
    "fig, ax = plt.subplots(1,3, figsize=(30,10))\n",
    "for i,j in enumerate(whole_y_data_df.index):\n",
    "    ax[i].plot(freqs, whole_y_data_df.loc[j])\n",
    "plt.show()"
   ]
  },
  {
   "cell_type": "code",
   "execution_count": 27,
   "metadata": {
    "ExecuteTime": {
     "end_time": "2021-03-24T04:26:37.284504Z",
     "start_time": "2021-03-24T04:26:37.272669Z"
    }
   },
   "outputs": [],
   "source": [
    "# withinSTD = ((historic_wholesale_values < wholesaleNominal + wholesaleSTD) & (historic_wholesale_values > wholesaleNominal - wholesaleSTD)).sum()\n",
    "# numCases = len(historic_wholesale_values)\n",
    "# withinSTDpercentage = (withinSTD/numCases) * 100.0\n",
    "# print(f'{withinSTD} cases within the STD range out of {numCases}, which makes {withinSTDpercentage}% of total cases')\n",
    "\n",
    "# within2STD = ((historic_wholesale_values < wholesaleNominal + wholesale2STD) & (historic_wholesale_values > wholesaleNominal - wholesale2STD)).sum()\n",
    "# numCases = len(historic_wholesale_values)\n",
    "# within2STDpercentage = (within2STD/numCases) * 100.0\n",
    "# print(f'{within2STD} cases within the 2STD range out of {numCases}, which makes {within2STDpercentage}% of total cases')\n"
   ]
  },
  {
   "cell_type": "markdown",
   "metadata": {},
   "source": [
    "#### Yearly STD applied to monthly data"
   ]
  },
  {
   "cell_type": "code",
   "execution_count": 28,
   "metadata": {
    "ExecuteTime": {
     "end_time": "2021-03-24T04:26:37.309367Z",
     "start_time": "2021-03-24T04:26:37.288493Z"
    }
   },
   "outputs": [],
   "source": [
    "# std_series = pd.Series(name='STD',data=wholesaleSTD,index=pd.to_datetime(historic_wholesale_df['Volume Weighted Price (Historic) - $/MWh'].resample('Y').mean().index))\n",
    "# std_series = std_series.resample('MS').bfill()"
   ]
  },
  {
   "cell_type": "code",
   "execution_count": 29,
   "metadata": {
    "ExecuteTime": {
     "end_time": "2021-03-24T04:26:37.341467Z",
     "start_time": "2021-03-24T04:26:37.311894Z"
    },
    "scrolled": true
   },
   "outputs": [],
   "source": [
    "# simul_data_wholesale_filtered = monthly_bau_results_df['Primary Wholesale ($/MWh)']\n",
    "# simul_data_wholesale_filtered.index = pd.to_datetime(simul_data_wholesale_filtered.index)\n",
    "\n",
    "# historic_wholesale_filtered = historic_wholesale_df[\"Volume Weighted Price (Historic) - $/MWh\"]\n",
    "\n",
    "# from functools import reduce\n",
    "\n",
    "# historic_wholesale_list = [historic_wholesale_filtered, simul_data_wholesale_filtered, std_series]\n",
    "\n",
    "# historic_and_simul_wholesale_df = reduce(lambda x, y: pd.merge(x, y, on = 'Time (Month)'), historic_wholesale_list)\n",
    "# historic_and_simul_wholesale_df.head(10)\n"
   ]
  },
  {
   "cell_type": "code",
   "execution_count": null,
   "metadata": {},
   "outputs": [],
   "source": []
  },
  {
   "cell_type": "code",
   "execution_count": 30,
   "metadata": {
    "ExecuteTime": {
     "end_time": "2021-03-24T04:26:37.784468Z",
     "start_time": "2021-03-24T04:26:37.343462Z"
    }
   },
   "outputs": [],
   "source": [
    "# plt.figure(figsize=(18,10))\n",
    "\n",
    "# #plt.plot( 'Volume Weighted Price (Historic) - $/MWh', data=historic_and_simul_wholesale_df, marker='o', markerfacecolor='darkgoldenrod', markersize=8, color='burlywood', linewidth=4)\n",
    "# #plt.plot( 'Wholesale ($/MWh)', data=historic_and_simul_wholesale_df, marker='o', markerfacecolor='steelblue', markersize=8, color='lightblue', linewidth=4)\n",
    "\n",
    "# plt.plot( 'Primary Wholesale ($/MWh)', data=historic_and_simul_wholesale_df, color='r', linewidth=2, label='Wholesale Primary Spot Market - Simulated')\n",
    "# plt.plot( 'Volume Weighted Price (Historic) - $/MWh', data=historic_and_simul_wholesale_df, color='g', linestyle='--', linewidth=2, label='Wholesale Primary Spot Market - Historic')\n",
    "\n",
    "# #PLOT STD\n",
    "# monthWholeSTD = historic_and_simul_wholesale_df['STD'].values\n",
    "# monthWhole2STD = 2* historic_and_simul_wholesale_df['STD'].values\n",
    "\n",
    "# monthNominalWhole = historic_and_simul_wholesale_df['Primary Wholesale ($/MWh)'].values\n",
    "# monthHistoricWhole = historic_and_simul_wholesale_df['Volume Weighted Price (Historic) - $/MWh'].values\n",
    "\n",
    "# plt.fill_between(x=historic_and_simul_wholesale_df.index, y1=monthNominalWhole - monthWholeSTD, y2=monthNominalWhole + monthWholeSTD,\n",
    "#                  color='gray', alpha=0.2, label='+/- 2\\u03C3')\n",
    "# plt.fill_between(x=historic_and_simul_wholesale_df.index, y1=monthNominalWhole - monthWhole2STD, y2=monthNominalWhole + monthWhole2STD,\n",
    "#                  color='darkgray', alpha=0.2, label='+/- 1\\u03C3')\n",
    "\n",
    "\n",
    "# plt.xlabel('Months', size = 16)\n",
    "# plt.ylabel('$/MWh', size = 16)\n",
    "# plt.xticks(size = 14)\n",
    "# plt.yticks(size = 14)\n",
    "\n",
    "# plt.legend(prop={'size':16})"
   ]
  },
  {
   "cell_type": "code",
   "execution_count": 31,
   "metadata": {
    "ExecuteTime": {
     "end_time": "2021-03-24T04:26:37.799950Z",
     "start_time": "2021-03-24T04:26:37.786460Z"
    }
   },
   "outputs": [],
   "source": [
    "# withinSTD = ((monthHistoricWhole < monthNominalWhole + monthWholeSTD) & (monthHistoricWhole > monthNominalWhole - monthWholeSTD)).sum()\n",
    "# numCases = len(monthHistoricWhole)\n",
    "# withinSTDpercentage = (withinSTD/numCases) * 100.0\n",
    "# print(f'{withinSTD} cases within the STD range out of {numCases}, which makes {withinSTDpercentage}% of total cases')\n",
    "\n",
    "# within2STD = ((monthHistoricWhole < monthNominalWhole + monthWhole2STD) & (monthHistoricWhole > monthNominalWhole - monthWhole2STD)).sum()\n",
    "# numCases = len(monthHistoricWhole)\n",
    "# within2STDpercentage = (within2STD/numCases) * 100.0\n",
    "# print(f'{within2STD} cases within the 2STD range out of {numCases}, which makes {within2STDpercentage}% of total cases')\n"
   ]
  },
  {
   "cell_type": "markdown",
   "metadata": {},
   "source": [
    "#### Monthly STD applied to monthly data"
   ]
  },
  {
   "cell_type": "code",
   "execution_count": 32,
   "metadata": {
    "ExecuteTime": {
     "end_time": "2021-03-24T05:04:21.923896Z",
     "start_time": "2021-03-24T05:04:21.467541Z"
    }
   },
   "outputs": [],
   "source": [
    "# #compute STD and MEAN\n",
    "# wholesaleSTDmonth = np.std(outcomes_filtered_wholesale['primaryWholesalePriceMonth'],axis=0)\n",
    "# wholesaleMeanMonth = np.mean(outcomes_filtered_wholesale['primaryWholesalePriceMonth'],axis=0)"
   ]
  },
  {
   "cell_type": "code",
   "execution_count": 33,
   "metadata": {
    "ExecuteTime": {
     "end_time": "2021-03-24T05:04:22.729334Z",
     "start_time": "2021-03-24T05:04:22.700351Z"
    }
   },
   "outputs": [],
   "source": [
    "# std_series = pd.Series(name='STD',data=wholesaleSTDmonth,index=pd.to_datetime(outcomes_filtered_wholesale['TIMEMonth'][0]))\n",
    "# std_series = std_series.rename_axis('Time (Month)')\n",
    "# simul_data_wholesale_filtered = monthly_bau_results_df['Primary Wholesale ($/MWh)']\n",
    "# simul_data_wholesale_filtered.index = pd.to_datetime(simul_data_wholesale_filtered.index)\n",
    "\n",
    "# historic_wholesale_filtered = historic_wholesale_df[\"Volume Weighted Price (Historic) - $/MWh\"]\n",
    "\n",
    "# from functools import reduce\n",
    "\n",
    "# historic_wholesale_list = [historic_wholesale_filtered, simul_data_wholesale_filtered, std_series]\n",
    "\n",
    "# historic_and_simul_wholesale_df = reduce(lambda x, y: pd.merge(x, y, on = 'Time (Month)'), historic_wholesale_list)\n",
    "# historic_and_simul_wholesale_df.head(20)"
   ]
  },
  {
   "cell_type": "code",
   "execution_count": 34,
   "metadata": {
    "ExecuteTime": {
     "end_time": "2021-03-24T05:04:23.523615Z",
     "start_time": "2021-03-24T05:04:23.509130Z"
    }
   },
   "outputs": [],
   "source": [
    "# b = 1.4826\n",
    "\n",
    "# abs_difference_list = list()\n",
    "# historic_wholesale_values = historic_wholesale_filtered.values\n",
    "# monthNominalWhole = historic_and_simul_wholesale_df['Primary Wholesale ($/MWh)'].values\n",
    "\n",
    "# abs_difference_list = abs(historic_wholesale_values - monthNominalWhole)\n",
    "\n",
    "# mad = np.median(abs_difference_list)\n",
    "# print(f'The MAD of Nominal {mad:.2f}')\n",
    "\n",
    "# #sumad = np.sum(abs_difference_list,axis=1)\n",
    "# #print(f'Best possible SumAD for {ooi} is {np.min(sumad)}, experiment index {np.argmin(sumad)} vs. the SumAD of BAU {sumad[-1]}')\n",
    "\n",
    "# rms = np.sqrt(np.mean(np.square(historic_wholesale_values - monthNominalWhole)))\n",
    "# print(f'The RMS of Nominal {rms:.2f}')\n",
    "\n",
    "# #Euclidian distance\n",
    "# eucl = dist = np.linalg.norm(historic_wholesale_values -  monthNominalWhole)\n",
    "\n",
    "# print(f'The Euclidean Distance of Nominal {eucl:.2f}')"
   ]
  },
  {
   "cell_type": "code",
   "execution_count": 35,
   "metadata": {
    "ExecuteTime": {
     "end_time": "2021-03-24T05:05:01.406241Z",
     "start_time": "2021-03-24T05:05:01.129236Z"
    }
   },
   "outputs": [
    {
     "data": {
      "text/plain": [
       "<matplotlib.legend.Legend at 0x7f2518d8d580>"
      ]
     },
     "execution_count": 35,
     "metadata": {},
     "output_type": "execute_result"
    },
    {
     "ename": "RuntimeError",
     "evalue": "latex was not able to process the following string:\nb'$/MWh'\n\nHere is the full report generated by latex:\nThis is pdfTeX, Version 3.14159265-2.6-1.40.20 (TeX Live 2019/Debian) (preloaded format=latex)\n restricted \\write18 enabled.\nentering extended mode\n\n(/home/XXX/.cache/matplotlib/tex.cache/7796658cfd2a25746642aa994dd3ffe3.te\nx\nLaTeX2e <2020-02-02> patch level 2\nL3 programming layer <2020-02-14>\n(/usr/share/texlive/texmf-dist/tex/latex/base/article.cls\nDocument Class: article 2019/12/20 v1.4l Standard LaTeX document class\n(/usr/share/texlive/texmf-dist/tex/latex/base/size10.clo))\n(/usr/share/texlive/texmf-dist/tex/latex/type1cm/type1cm.sty)\n(/usr/share/texmf/tex/latex/cm-super/type1ec.sty\n(/usr/share/texlive/texmf-dist/tex/latex/base/t1cmr.fd))\n(/usr/share/texlive/texmf-dist/tex/latex/base/inputenc.sty)\n(/usr/share/texlive/texmf-dist/tex/latex/geometry/geometry.sty\n(/usr/share/texlive/texmf-dist/tex/latex/graphics/keyval.sty)\n(/usr/share/texlive/texmf-dist/tex/generic/iftex/ifvtex.sty\n(/usr/share/texlive/texmf-dist/tex/generic/iftex/iftex.sty)))\n(/usr/share/texlive/texmf-dist/tex/latex/base/textcomp.sty)\n(/usr/share/texlive/texmf-dist/tex/latex/l3backend/l3backend-dvips.def)\nNo file 7796658cfd2a25746642aa994dd3ffe3.aux.\n*geometry* driver: auto-detecting\n*geometry* detected driver: dvips\n! Extra }, or forgotten $.\nl.19 {\\rmfamily $/MWh}\n                      \nNo pages of output.\nTranscript written on 7796658cfd2a25746642aa994dd3ffe3.log.\n\n\n",
     "output_type": "error",
     "traceback": [
      "\u001b[0;31m---------------------------------------------------------------------------\u001b[0m",
      "\u001b[0;31mCalledProcessError\u001b[0m                        Traceback (most recent call last)",
      "\u001b[0;32m~/anaconda3/lib/python3.8/site-packages/matplotlib/texmanager.py\u001b[0m in \u001b[0;36m_run_checked_subprocess\u001b[0;34m(self, command, tex, cwd)\u001b[0m\n\u001b[1;32m    251\u001b[0m         \u001b[0;32mtry\u001b[0m\u001b[0;34m:\u001b[0m\u001b[0;34m\u001b[0m\u001b[0;34m\u001b[0m\u001b[0m\n\u001b[0;32m--> 252\u001b[0;31m             report = subprocess.check_output(\n\u001b[0m\u001b[1;32m    253\u001b[0m                 \u001b[0mcommand\u001b[0m\u001b[0;34m,\u001b[0m \u001b[0mcwd\u001b[0m\u001b[0;34m=\u001b[0m\u001b[0mcwd\u001b[0m \u001b[0;32mif\u001b[0m \u001b[0mcwd\u001b[0m \u001b[0;32mis\u001b[0m \u001b[0;32mnot\u001b[0m \u001b[0;32mNone\u001b[0m \u001b[0;32melse\u001b[0m \u001b[0mself\u001b[0m\u001b[0;34m.\u001b[0m\u001b[0mtexcache\u001b[0m\u001b[0;34m,\u001b[0m\u001b[0;34m\u001b[0m\u001b[0;34m\u001b[0m\u001b[0m\n",
      "\u001b[0;32m~/anaconda3/lib/python3.8/subprocess.py\u001b[0m in \u001b[0;36mcheck_output\u001b[0;34m(timeout, *popenargs, **kwargs)\u001b[0m\n\u001b[1;32m    414\u001b[0m \u001b[0;34m\u001b[0m\u001b[0m\n\u001b[0;32m--> 415\u001b[0;31m     return run(*popenargs, stdout=PIPE, timeout=timeout, check=True,\n\u001b[0m\u001b[1;32m    416\u001b[0m                **kwargs).stdout\n",
      "\u001b[0;32m~/anaconda3/lib/python3.8/subprocess.py\u001b[0m in \u001b[0;36mrun\u001b[0;34m(input, capture_output, timeout, check, *popenargs, **kwargs)\u001b[0m\n\u001b[1;32m    515\u001b[0m         \u001b[0;32mif\u001b[0m \u001b[0mcheck\u001b[0m \u001b[0;32mand\u001b[0m \u001b[0mretcode\u001b[0m\u001b[0;34m:\u001b[0m\u001b[0;34m\u001b[0m\u001b[0;34m\u001b[0m\u001b[0m\n\u001b[0;32m--> 516\u001b[0;31m             raise CalledProcessError(retcode, process.args,\n\u001b[0m\u001b[1;32m    517\u001b[0m                                      output=stdout, stderr=stderr)\n",
      "\u001b[0;31mCalledProcessError\u001b[0m: Command '['latex', '-interaction=nonstopmode', '--halt-on-error', '/home/XXX/.cache/matplotlib/tex.cache/7796658cfd2a25746642aa994dd3ffe3.tex']' returned non-zero exit status 1.",
      "\nThe above exception was the direct cause of the following exception:\n",
      "\u001b[0;31mRuntimeError\u001b[0m                              Traceback (most recent call last)",
      "\u001b[0;32m~/anaconda3/lib/python3.8/site-packages/IPython/core/formatters.py\u001b[0m in \u001b[0;36m__call__\u001b[0;34m(self, obj)\u001b[0m\n\u001b[1;32m    339\u001b[0m                 \u001b[0;32mpass\u001b[0m\u001b[0;34m\u001b[0m\u001b[0;34m\u001b[0m\u001b[0m\n\u001b[1;32m    340\u001b[0m             \u001b[0;32melse\u001b[0m\u001b[0;34m:\u001b[0m\u001b[0;34m\u001b[0m\u001b[0;34m\u001b[0m\u001b[0m\n\u001b[0;32m--> 341\u001b[0;31m                 \u001b[0;32mreturn\u001b[0m \u001b[0mprinter\u001b[0m\u001b[0;34m(\u001b[0m\u001b[0mobj\u001b[0m\u001b[0;34m)\u001b[0m\u001b[0;34m\u001b[0m\u001b[0;34m\u001b[0m\u001b[0m\n\u001b[0m\u001b[1;32m    342\u001b[0m             \u001b[0;31m# Finally look for special method names\u001b[0m\u001b[0;34m\u001b[0m\u001b[0;34m\u001b[0m\u001b[0;34m\u001b[0m\u001b[0m\n\u001b[1;32m    343\u001b[0m             \u001b[0mmethod\u001b[0m \u001b[0;34m=\u001b[0m \u001b[0mget_real_method\u001b[0m\u001b[0;34m(\u001b[0m\u001b[0mobj\u001b[0m\u001b[0;34m,\u001b[0m \u001b[0mself\u001b[0m\u001b[0;34m.\u001b[0m\u001b[0mprint_method\u001b[0m\u001b[0;34m)\u001b[0m\u001b[0;34m\u001b[0m\u001b[0;34m\u001b[0m\u001b[0m\n",
      "\u001b[0;32m~/anaconda3/lib/python3.8/site-packages/IPython/core/pylabtools.py\u001b[0m in \u001b[0;36m<lambda>\u001b[0;34m(fig)\u001b[0m\n\u001b[1;32m    246\u001b[0m \u001b[0;34m\u001b[0m\u001b[0m\n\u001b[1;32m    247\u001b[0m     \u001b[0;32mif\u001b[0m \u001b[0;34m'png'\u001b[0m \u001b[0;32min\u001b[0m \u001b[0mformats\u001b[0m\u001b[0;34m:\u001b[0m\u001b[0;34m\u001b[0m\u001b[0;34m\u001b[0m\u001b[0m\n\u001b[0;32m--> 248\u001b[0;31m         \u001b[0mpng_formatter\u001b[0m\u001b[0;34m.\u001b[0m\u001b[0mfor_type\u001b[0m\u001b[0;34m(\u001b[0m\u001b[0mFigure\u001b[0m\u001b[0;34m,\u001b[0m \u001b[0;32mlambda\u001b[0m \u001b[0mfig\u001b[0m\u001b[0;34m:\u001b[0m \u001b[0mprint_figure\u001b[0m\u001b[0;34m(\u001b[0m\u001b[0mfig\u001b[0m\u001b[0;34m,\u001b[0m \u001b[0;34m'png'\u001b[0m\u001b[0;34m,\u001b[0m \u001b[0;34m**\u001b[0m\u001b[0mkwargs\u001b[0m\u001b[0;34m)\u001b[0m\u001b[0;34m)\u001b[0m\u001b[0;34m\u001b[0m\u001b[0;34m\u001b[0m\u001b[0m\n\u001b[0m\u001b[1;32m    249\u001b[0m     \u001b[0;32mif\u001b[0m \u001b[0;34m'retina'\u001b[0m \u001b[0;32min\u001b[0m \u001b[0mformats\u001b[0m \u001b[0;32mor\u001b[0m \u001b[0;34m'png2x'\u001b[0m \u001b[0;32min\u001b[0m \u001b[0mformats\u001b[0m\u001b[0;34m:\u001b[0m\u001b[0;34m\u001b[0m\u001b[0;34m\u001b[0m\u001b[0m\n\u001b[1;32m    250\u001b[0m         \u001b[0mpng_formatter\u001b[0m\u001b[0;34m.\u001b[0m\u001b[0mfor_type\u001b[0m\u001b[0;34m(\u001b[0m\u001b[0mFigure\u001b[0m\u001b[0;34m,\u001b[0m \u001b[0;32mlambda\u001b[0m \u001b[0mfig\u001b[0m\u001b[0;34m:\u001b[0m \u001b[0mretina_figure\u001b[0m\u001b[0;34m(\u001b[0m\u001b[0mfig\u001b[0m\u001b[0;34m,\u001b[0m \u001b[0;34m**\u001b[0m\u001b[0mkwargs\u001b[0m\u001b[0;34m)\u001b[0m\u001b[0;34m)\u001b[0m\u001b[0;34m\u001b[0m\u001b[0;34m\u001b[0m\u001b[0m\n",
      "\u001b[0;32m~/anaconda3/lib/python3.8/site-packages/IPython/core/pylabtools.py\u001b[0m in \u001b[0;36mprint_figure\u001b[0;34m(fig, fmt, bbox_inches, **kwargs)\u001b[0m\n\u001b[1;32m    130\u001b[0m         \u001b[0mFigureCanvasBase\u001b[0m\u001b[0;34m(\u001b[0m\u001b[0mfig\u001b[0m\u001b[0;34m)\u001b[0m\u001b[0;34m\u001b[0m\u001b[0;34m\u001b[0m\u001b[0m\n\u001b[1;32m    131\u001b[0m \u001b[0;34m\u001b[0m\u001b[0m\n\u001b[0;32m--> 132\u001b[0;31m     \u001b[0mfig\u001b[0m\u001b[0;34m.\u001b[0m\u001b[0mcanvas\u001b[0m\u001b[0;34m.\u001b[0m\u001b[0mprint_figure\u001b[0m\u001b[0;34m(\u001b[0m\u001b[0mbytes_io\u001b[0m\u001b[0;34m,\u001b[0m \u001b[0;34m**\u001b[0m\u001b[0mkw\u001b[0m\u001b[0;34m)\u001b[0m\u001b[0;34m\u001b[0m\u001b[0;34m\u001b[0m\u001b[0m\n\u001b[0m\u001b[1;32m    133\u001b[0m     \u001b[0mdata\u001b[0m \u001b[0;34m=\u001b[0m \u001b[0mbytes_io\u001b[0m\u001b[0;34m.\u001b[0m\u001b[0mgetvalue\u001b[0m\u001b[0;34m(\u001b[0m\u001b[0;34m)\u001b[0m\u001b[0;34m\u001b[0m\u001b[0;34m\u001b[0m\u001b[0m\n\u001b[1;32m    134\u001b[0m     \u001b[0;32mif\u001b[0m \u001b[0mfmt\u001b[0m \u001b[0;34m==\u001b[0m \u001b[0;34m'svg'\u001b[0m\u001b[0;34m:\u001b[0m\u001b[0;34m\u001b[0m\u001b[0;34m\u001b[0m\u001b[0m\n",
      "\u001b[0;32m~/anaconda3/lib/python3.8/site-packages/matplotlib/backend_bases.py\u001b[0m in \u001b[0;36mprint_figure\u001b[0;34m(self, filename, dpi, facecolor, edgecolor, orientation, format, bbox_inches, pad_inches, bbox_extra_artists, backend, **kwargs)\u001b[0m\n\u001b[1;32m   2228\u001b[0m                        else suppress())\n\u001b[1;32m   2229\u001b[0m                 \u001b[0;32mwith\u001b[0m \u001b[0mctx\u001b[0m\u001b[0;34m:\u001b[0m\u001b[0;34m\u001b[0m\u001b[0;34m\u001b[0m\u001b[0m\n\u001b[0;32m-> 2230\u001b[0;31m                     \u001b[0mself\u001b[0m\u001b[0;34m.\u001b[0m\u001b[0mfigure\u001b[0m\u001b[0;34m.\u001b[0m\u001b[0mdraw\u001b[0m\u001b[0;34m(\u001b[0m\u001b[0mrenderer\u001b[0m\u001b[0;34m)\u001b[0m\u001b[0;34m\u001b[0m\u001b[0;34m\u001b[0m\u001b[0m\n\u001b[0m\u001b[1;32m   2231\u001b[0m \u001b[0;34m\u001b[0m\u001b[0m\n\u001b[1;32m   2232\u001b[0m             \u001b[0;32mif\u001b[0m \u001b[0mbbox_inches\u001b[0m\u001b[0;34m:\u001b[0m\u001b[0;34m\u001b[0m\u001b[0;34m\u001b[0m\u001b[0m\n",
      "\u001b[0;32m~/anaconda3/lib/python3.8/site-packages/matplotlib/artist.py\u001b[0m in \u001b[0;36mdraw_wrapper\u001b[0;34m(artist, renderer, *args, **kwargs)\u001b[0m\n\u001b[1;32m     72\u001b[0m     \u001b[0;34m@\u001b[0m\u001b[0mwraps\u001b[0m\u001b[0;34m(\u001b[0m\u001b[0mdraw\u001b[0m\u001b[0;34m)\u001b[0m\u001b[0;34m\u001b[0m\u001b[0;34m\u001b[0m\u001b[0m\n\u001b[1;32m     73\u001b[0m     \u001b[0;32mdef\u001b[0m \u001b[0mdraw_wrapper\u001b[0m\u001b[0;34m(\u001b[0m\u001b[0martist\u001b[0m\u001b[0;34m,\u001b[0m \u001b[0mrenderer\u001b[0m\u001b[0;34m,\u001b[0m \u001b[0;34m*\u001b[0m\u001b[0margs\u001b[0m\u001b[0;34m,\u001b[0m \u001b[0;34m**\u001b[0m\u001b[0mkwargs\u001b[0m\u001b[0;34m)\u001b[0m\u001b[0;34m:\u001b[0m\u001b[0;34m\u001b[0m\u001b[0;34m\u001b[0m\u001b[0m\n\u001b[0;32m---> 74\u001b[0;31m         \u001b[0mresult\u001b[0m \u001b[0;34m=\u001b[0m \u001b[0mdraw\u001b[0m\u001b[0;34m(\u001b[0m\u001b[0martist\u001b[0m\u001b[0;34m,\u001b[0m \u001b[0mrenderer\u001b[0m\u001b[0;34m,\u001b[0m \u001b[0;34m*\u001b[0m\u001b[0margs\u001b[0m\u001b[0;34m,\u001b[0m \u001b[0;34m**\u001b[0m\u001b[0mkwargs\u001b[0m\u001b[0;34m)\u001b[0m\u001b[0;34m\u001b[0m\u001b[0;34m\u001b[0m\u001b[0m\n\u001b[0m\u001b[1;32m     75\u001b[0m         \u001b[0;32mif\u001b[0m \u001b[0mrenderer\u001b[0m\u001b[0;34m.\u001b[0m\u001b[0m_rasterizing\u001b[0m\u001b[0;34m:\u001b[0m\u001b[0;34m\u001b[0m\u001b[0;34m\u001b[0m\u001b[0m\n\u001b[1;32m     76\u001b[0m             \u001b[0mrenderer\u001b[0m\u001b[0;34m.\u001b[0m\u001b[0mstop_rasterizing\u001b[0m\u001b[0;34m(\u001b[0m\u001b[0;34m)\u001b[0m\u001b[0;34m\u001b[0m\u001b[0;34m\u001b[0m\u001b[0m\n",
      "\u001b[0;32m~/anaconda3/lib/python3.8/site-packages/matplotlib/artist.py\u001b[0m in \u001b[0;36mdraw_wrapper\u001b[0;34m(artist, renderer, *args, **kwargs)\u001b[0m\n\u001b[1;32m     49\u001b[0m                 \u001b[0mrenderer\u001b[0m\u001b[0;34m.\u001b[0m\u001b[0mstart_filter\u001b[0m\u001b[0;34m(\u001b[0m\u001b[0;34m)\u001b[0m\u001b[0;34m\u001b[0m\u001b[0;34m\u001b[0m\u001b[0m\n\u001b[1;32m     50\u001b[0m \u001b[0;34m\u001b[0m\u001b[0m\n\u001b[0;32m---> 51\u001b[0;31m             \u001b[0;32mreturn\u001b[0m \u001b[0mdraw\u001b[0m\u001b[0;34m(\u001b[0m\u001b[0martist\u001b[0m\u001b[0;34m,\u001b[0m \u001b[0mrenderer\u001b[0m\u001b[0;34m,\u001b[0m \u001b[0;34m*\u001b[0m\u001b[0margs\u001b[0m\u001b[0;34m,\u001b[0m \u001b[0;34m**\u001b[0m\u001b[0mkwargs\u001b[0m\u001b[0;34m)\u001b[0m\u001b[0;34m\u001b[0m\u001b[0;34m\u001b[0m\u001b[0m\n\u001b[0m\u001b[1;32m     52\u001b[0m         \u001b[0;32mfinally\u001b[0m\u001b[0;34m:\u001b[0m\u001b[0;34m\u001b[0m\u001b[0;34m\u001b[0m\u001b[0m\n\u001b[1;32m     53\u001b[0m             \u001b[0;32mif\u001b[0m \u001b[0martist\u001b[0m\u001b[0;34m.\u001b[0m\u001b[0mget_agg_filter\u001b[0m\u001b[0;34m(\u001b[0m\u001b[0;34m)\u001b[0m \u001b[0;32mis\u001b[0m \u001b[0;32mnot\u001b[0m \u001b[0;32mNone\u001b[0m\u001b[0;34m:\u001b[0m\u001b[0;34m\u001b[0m\u001b[0;34m\u001b[0m\u001b[0m\n",
      "\u001b[0;32m~/anaconda3/lib/python3.8/site-packages/matplotlib/figure.py\u001b[0m in \u001b[0;36mdraw\u001b[0;34m(self, renderer)\u001b[0m\n\u001b[1;32m   2778\u001b[0m \u001b[0;34m\u001b[0m\u001b[0m\n\u001b[1;32m   2779\u001b[0m             \u001b[0mself\u001b[0m\u001b[0;34m.\u001b[0m\u001b[0mpatch\u001b[0m\u001b[0;34m.\u001b[0m\u001b[0mdraw\u001b[0m\u001b[0;34m(\u001b[0m\u001b[0mrenderer\u001b[0m\u001b[0;34m)\u001b[0m\u001b[0;34m\u001b[0m\u001b[0;34m\u001b[0m\u001b[0m\n\u001b[0;32m-> 2780\u001b[0;31m             mimage._draw_list_compositing_images(\n\u001b[0m\u001b[1;32m   2781\u001b[0m                 renderer, self, artists, self.suppressComposite)\n\u001b[1;32m   2782\u001b[0m \u001b[0;34m\u001b[0m\u001b[0m\n",
      "\u001b[0;32m~/anaconda3/lib/python3.8/site-packages/matplotlib/image.py\u001b[0m in \u001b[0;36m_draw_list_compositing_images\u001b[0;34m(renderer, parent, artists, suppress_composite)\u001b[0m\n\u001b[1;32m    130\u001b[0m     \u001b[0;32mif\u001b[0m \u001b[0mnot_composite\u001b[0m \u001b[0;32mor\u001b[0m \u001b[0;32mnot\u001b[0m \u001b[0mhas_images\u001b[0m\u001b[0;34m:\u001b[0m\u001b[0;34m\u001b[0m\u001b[0;34m\u001b[0m\u001b[0m\n\u001b[1;32m    131\u001b[0m         \u001b[0;32mfor\u001b[0m \u001b[0ma\u001b[0m \u001b[0;32min\u001b[0m \u001b[0martists\u001b[0m\u001b[0;34m:\u001b[0m\u001b[0;34m\u001b[0m\u001b[0;34m\u001b[0m\u001b[0m\n\u001b[0;32m--> 132\u001b[0;31m             \u001b[0ma\u001b[0m\u001b[0;34m.\u001b[0m\u001b[0mdraw\u001b[0m\u001b[0;34m(\u001b[0m\u001b[0mrenderer\u001b[0m\u001b[0;34m)\u001b[0m\u001b[0;34m\u001b[0m\u001b[0;34m\u001b[0m\u001b[0m\n\u001b[0m\u001b[1;32m    133\u001b[0m     \u001b[0;32melse\u001b[0m\u001b[0;34m:\u001b[0m\u001b[0;34m\u001b[0m\u001b[0;34m\u001b[0m\u001b[0m\n\u001b[1;32m    134\u001b[0m         \u001b[0;31m# Composite any adjacent images together\u001b[0m\u001b[0;34m\u001b[0m\u001b[0;34m\u001b[0m\u001b[0;34m\u001b[0m\u001b[0m\n",
      "\u001b[0;32m~/anaconda3/lib/python3.8/site-packages/matplotlib/artist.py\u001b[0m in \u001b[0;36mdraw_wrapper\u001b[0;34m(artist, renderer, *args, **kwargs)\u001b[0m\n\u001b[1;32m     49\u001b[0m                 \u001b[0mrenderer\u001b[0m\u001b[0;34m.\u001b[0m\u001b[0mstart_filter\u001b[0m\u001b[0;34m(\u001b[0m\u001b[0;34m)\u001b[0m\u001b[0;34m\u001b[0m\u001b[0;34m\u001b[0m\u001b[0m\n\u001b[1;32m     50\u001b[0m \u001b[0;34m\u001b[0m\u001b[0m\n\u001b[0;32m---> 51\u001b[0;31m             \u001b[0;32mreturn\u001b[0m \u001b[0mdraw\u001b[0m\u001b[0;34m(\u001b[0m\u001b[0martist\u001b[0m\u001b[0;34m,\u001b[0m \u001b[0mrenderer\u001b[0m\u001b[0;34m,\u001b[0m \u001b[0;34m*\u001b[0m\u001b[0margs\u001b[0m\u001b[0;34m,\u001b[0m \u001b[0;34m**\u001b[0m\u001b[0mkwargs\u001b[0m\u001b[0;34m)\u001b[0m\u001b[0;34m\u001b[0m\u001b[0;34m\u001b[0m\u001b[0m\n\u001b[0m\u001b[1;32m     52\u001b[0m         \u001b[0;32mfinally\u001b[0m\u001b[0;34m:\u001b[0m\u001b[0;34m\u001b[0m\u001b[0;34m\u001b[0m\u001b[0m\n\u001b[1;32m     53\u001b[0m             \u001b[0;32mif\u001b[0m \u001b[0martist\u001b[0m\u001b[0;34m.\u001b[0m\u001b[0mget_agg_filter\u001b[0m\u001b[0;34m(\u001b[0m\u001b[0;34m)\u001b[0m \u001b[0;32mis\u001b[0m \u001b[0;32mnot\u001b[0m \u001b[0;32mNone\u001b[0m\u001b[0;34m:\u001b[0m\u001b[0;34m\u001b[0m\u001b[0;34m\u001b[0m\u001b[0m\n",
      "\u001b[0;32m~/anaconda3/lib/python3.8/site-packages/matplotlib/_api/deprecation.py\u001b[0m in \u001b[0;36mwrapper\u001b[0;34m(*inner_args, **inner_kwargs)\u001b[0m\n\u001b[1;32m    429\u001b[0m                          \u001b[0;32melse\u001b[0m \u001b[0mdeprecation_addendum\u001b[0m\u001b[0;34m,\u001b[0m\u001b[0;34m\u001b[0m\u001b[0;34m\u001b[0m\u001b[0m\n\u001b[1;32m    430\u001b[0m                 **kwargs)\n\u001b[0;32m--> 431\u001b[0;31m         \u001b[0;32mreturn\u001b[0m \u001b[0mfunc\u001b[0m\u001b[0;34m(\u001b[0m\u001b[0;34m*\u001b[0m\u001b[0minner_args\u001b[0m\u001b[0;34m,\u001b[0m \u001b[0;34m**\u001b[0m\u001b[0minner_kwargs\u001b[0m\u001b[0;34m)\u001b[0m\u001b[0;34m\u001b[0m\u001b[0;34m\u001b[0m\u001b[0m\n\u001b[0m\u001b[1;32m    432\u001b[0m \u001b[0;34m\u001b[0m\u001b[0m\n\u001b[1;32m    433\u001b[0m     \u001b[0;32mreturn\u001b[0m \u001b[0mwrapper\u001b[0m\u001b[0;34m\u001b[0m\u001b[0;34m\u001b[0m\u001b[0m\n",
      "\u001b[0;32m~/anaconda3/lib/python3.8/site-packages/matplotlib/axes/_base.py\u001b[0m in \u001b[0;36mdraw\u001b[0;34m(self, renderer, inframe)\u001b[0m\n\u001b[1;32m   2919\u001b[0m             \u001b[0mrenderer\u001b[0m\u001b[0;34m.\u001b[0m\u001b[0mstop_rasterizing\u001b[0m\u001b[0;34m(\u001b[0m\u001b[0;34m)\u001b[0m\u001b[0;34m\u001b[0m\u001b[0;34m\u001b[0m\u001b[0m\n\u001b[1;32m   2920\u001b[0m \u001b[0;34m\u001b[0m\u001b[0m\n\u001b[0;32m-> 2921\u001b[0;31m         \u001b[0mmimage\u001b[0m\u001b[0;34m.\u001b[0m\u001b[0m_draw_list_compositing_images\u001b[0m\u001b[0;34m(\u001b[0m\u001b[0mrenderer\u001b[0m\u001b[0;34m,\u001b[0m \u001b[0mself\u001b[0m\u001b[0;34m,\u001b[0m \u001b[0martists\u001b[0m\u001b[0;34m)\u001b[0m\u001b[0;34m\u001b[0m\u001b[0;34m\u001b[0m\u001b[0m\n\u001b[0m\u001b[1;32m   2922\u001b[0m \u001b[0;34m\u001b[0m\u001b[0m\n\u001b[1;32m   2923\u001b[0m         \u001b[0mrenderer\u001b[0m\u001b[0;34m.\u001b[0m\u001b[0mclose_group\u001b[0m\u001b[0;34m(\u001b[0m\u001b[0;34m'axes'\u001b[0m\u001b[0;34m)\u001b[0m\u001b[0;34m\u001b[0m\u001b[0;34m\u001b[0m\u001b[0m\n",
      "\u001b[0;32m~/anaconda3/lib/python3.8/site-packages/matplotlib/image.py\u001b[0m in \u001b[0;36m_draw_list_compositing_images\u001b[0;34m(renderer, parent, artists, suppress_composite)\u001b[0m\n\u001b[1;32m    130\u001b[0m     \u001b[0;32mif\u001b[0m \u001b[0mnot_composite\u001b[0m \u001b[0;32mor\u001b[0m \u001b[0;32mnot\u001b[0m \u001b[0mhas_images\u001b[0m\u001b[0;34m:\u001b[0m\u001b[0;34m\u001b[0m\u001b[0;34m\u001b[0m\u001b[0m\n\u001b[1;32m    131\u001b[0m         \u001b[0;32mfor\u001b[0m \u001b[0ma\u001b[0m \u001b[0;32min\u001b[0m \u001b[0martists\u001b[0m\u001b[0;34m:\u001b[0m\u001b[0;34m\u001b[0m\u001b[0;34m\u001b[0m\u001b[0m\n\u001b[0;32m--> 132\u001b[0;31m             \u001b[0ma\u001b[0m\u001b[0;34m.\u001b[0m\u001b[0mdraw\u001b[0m\u001b[0;34m(\u001b[0m\u001b[0mrenderer\u001b[0m\u001b[0;34m)\u001b[0m\u001b[0;34m\u001b[0m\u001b[0;34m\u001b[0m\u001b[0m\n\u001b[0m\u001b[1;32m    133\u001b[0m     \u001b[0;32melse\u001b[0m\u001b[0;34m:\u001b[0m\u001b[0;34m\u001b[0m\u001b[0;34m\u001b[0m\u001b[0m\n\u001b[1;32m    134\u001b[0m         \u001b[0;31m# Composite any adjacent images together\u001b[0m\u001b[0;34m\u001b[0m\u001b[0;34m\u001b[0m\u001b[0;34m\u001b[0m\u001b[0m\n",
      "\u001b[0;32m~/anaconda3/lib/python3.8/site-packages/matplotlib/artist.py\u001b[0m in \u001b[0;36mdraw_wrapper\u001b[0;34m(artist, renderer, *args, **kwargs)\u001b[0m\n\u001b[1;32m     49\u001b[0m                 \u001b[0mrenderer\u001b[0m\u001b[0;34m.\u001b[0m\u001b[0mstart_filter\u001b[0m\u001b[0;34m(\u001b[0m\u001b[0;34m)\u001b[0m\u001b[0;34m\u001b[0m\u001b[0;34m\u001b[0m\u001b[0m\n\u001b[1;32m     50\u001b[0m \u001b[0;34m\u001b[0m\u001b[0m\n\u001b[0;32m---> 51\u001b[0;31m             \u001b[0;32mreturn\u001b[0m \u001b[0mdraw\u001b[0m\u001b[0;34m(\u001b[0m\u001b[0martist\u001b[0m\u001b[0;34m,\u001b[0m \u001b[0mrenderer\u001b[0m\u001b[0;34m,\u001b[0m \u001b[0;34m*\u001b[0m\u001b[0margs\u001b[0m\u001b[0;34m,\u001b[0m \u001b[0;34m**\u001b[0m\u001b[0mkwargs\u001b[0m\u001b[0;34m)\u001b[0m\u001b[0;34m\u001b[0m\u001b[0;34m\u001b[0m\u001b[0m\n\u001b[0m\u001b[1;32m     52\u001b[0m         \u001b[0;32mfinally\u001b[0m\u001b[0;34m:\u001b[0m\u001b[0;34m\u001b[0m\u001b[0;34m\u001b[0m\u001b[0m\n\u001b[1;32m     53\u001b[0m             \u001b[0;32mif\u001b[0m \u001b[0martist\u001b[0m\u001b[0;34m.\u001b[0m\u001b[0mget_agg_filter\u001b[0m\u001b[0;34m(\u001b[0m\u001b[0;34m)\u001b[0m \u001b[0;32mis\u001b[0m \u001b[0;32mnot\u001b[0m \u001b[0;32mNone\u001b[0m\u001b[0;34m:\u001b[0m\u001b[0;34m\u001b[0m\u001b[0;34m\u001b[0m\u001b[0m\n",
      "\u001b[0;32m~/anaconda3/lib/python3.8/site-packages/matplotlib/axis.py\u001b[0m in \u001b[0;36mdraw\u001b[0;34m(self, renderer, *args, **kwargs)\u001b[0m\n\u001b[1;32m   1148\u001b[0m         \u001b[0mself\u001b[0m\u001b[0;34m.\u001b[0m\u001b[0m_update_label_position\u001b[0m\u001b[0;34m(\u001b[0m\u001b[0mrenderer\u001b[0m\u001b[0;34m)\u001b[0m\u001b[0;34m\u001b[0m\u001b[0;34m\u001b[0m\u001b[0m\n\u001b[1;32m   1149\u001b[0m \u001b[0;34m\u001b[0m\u001b[0m\n\u001b[0;32m-> 1150\u001b[0;31m         \u001b[0mself\u001b[0m\u001b[0;34m.\u001b[0m\u001b[0mlabel\u001b[0m\u001b[0;34m.\u001b[0m\u001b[0mdraw\u001b[0m\u001b[0;34m(\u001b[0m\u001b[0mrenderer\u001b[0m\u001b[0;34m)\u001b[0m\u001b[0;34m\u001b[0m\u001b[0;34m\u001b[0m\u001b[0m\n\u001b[0m\u001b[1;32m   1151\u001b[0m \u001b[0;34m\u001b[0m\u001b[0m\n\u001b[1;32m   1152\u001b[0m         \u001b[0mself\u001b[0m\u001b[0;34m.\u001b[0m\u001b[0m_update_offset_text_position\u001b[0m\u001b[0;34m(\u001b[0m\u001b[0mticklabelBoxes\u001b[0m\u001b[0;34m,\u001b[0m \u001b[0mticklabelBoxes2\u001b[0m\u001b[0;34m)\u001b[0m\u001b[0;34m\u001b[0m\u001b[0;34m\u001b[0m\u001b[0m\n",
      "\u001b[0;32m~/anaconda3/lib/python3.8/site-packages/matplotlib/artist.py\u001b[0m in \u001b[0;36mdraw_wrapper\u001b[0;34m(artist, renderer, *args, **kwargs)\u001b[0m\n\u001b[1;32m     49\u001b[0m                 \u001b[0mrenderer\u001b[0m\u001b[0;34m.\u001b[0m\u001b[0mstart_filter\u001b[0m\u001b[0;34m(\u001b[0m\u001b[0;34m)\u001b[0m\u001b[0;34m\u001b[0m\u001b[0;34m\u001b[0m\u001b[0m\n\u001b[1;32m     50\u001b[0m \u001b[0;34m\u001b[0m\u001b[0m\n\u001b[0;32m---> 51\u001b[0;31m             \u001b[0;32mreturn\u001b[0m \u001b[0mdraw\u001b[0m\u001b[0;34m(\u001b[0m\u001b[0martist\u001b[0m\u001b[0;34m,\u001b[0m \u001b[0mrenderer\u001b[0m\u001b[0;34m,\u001b[0m \u001b[0;34m*\u001b[0m\u001b[0margs\u001b[0m\u001b[0;34m,\u001b[0m \u001b[0;34m**\u001b[0m\u001b[0mkwargs\u001b[0m\u001b[0;34m)\u001b[0m\u001b[0;34m\u001b[0m\u001b[0;34m\u001b[0m\u001b[0m\n\u001b[0m\u001b[1;32m     52\u001b[0m         \u001b[0;32mfinally\u001b[0m\u001b[0;34m:\u001b[0m\u001b[0;34m\u001b[0m\u001b[0;34m\u001b[0m\u001b[0m\n\u001b[1;32m     53\u001b[0m             \u001b[0;32mif\u001b[0m \u001b[0martist\u001b[0m\u001b[0;34m.\u001b[0m\u001b[0mget_agg_filter\u001b[0m\u001b[0;34m(\u001b[0m\u001b[0;34m)\u001b[0m \u001b[0;32mis\u001b[0m \u001b[0;32mnot\u001b[0m \u001b[0;32mNone\u001b[0m\u001b[0;34m:\u001b[0m\u001b[0;34m\u001b[0m\u001b[0;34m\u001b[0m\u001b[0m\n",
      "\u001b[0;32m~/anaconda3/lib/python3.8/site-packages/matplotlib/text.py\u001b[0m in \u001b[0;36mdraw\u001b[0;34m(self, renderer)\u001b[0m\n\u001b[1;32m    677\u001b[0m \u001b[0;34m\u001b[0m\u001b[0m\n\u001b[1;32m    678\u001b[0m         \u001b[0;32mwith\u001b[0m \u001b[0m_wrap_text\u001b[0m\u001b[0;34m(\u001b[0m\u001b[0mself\u001b[0m\u001b[0;34m)\u001b[0m \u001b[0;32mas\u001b[0m \u001b[0mtextobj\u001b[0m\u001b[0;34m:\u001b[0m\u001b[0;34m\u001b[0m\u001b[0;34m\u001b[0m\u001b[0m\n\u001b[0;32m--> 679\u001b[0;31m             \u001b[0mbbox\u001b[0m\u001b[0;34m,\u001b[0m \u001b[0minfo\u001b[0m\u001b[0;34m,\u001b[0m \u001b[0mdescent\u001b[0m \u001b[0;34m=\u001b[0m \u001b[0mtextobj\u001b[0m\u001b[0;34m.\u001b[0m\u001b[0m_get_layout\u001b[0m\u001b[0;34m(\u001b[0m\u001b[0mrenderer\u001b[0m\u001b[0;34m)\u001b[0m\u001b[0;34m\u001b[0m\u001b[0;34m\u001b[0m\u001b[0m\n\u001b[0m\u001b[1;32m    680\u001b[0m             \u001b[0mtrans\u001b[0m \u001b[0;34m=\u001b[0m \u001b[0mtextobj\u001b[0m\u001b[0;34m.\u001b[0m\u001b[0mget_transform\u001b[0m\u001b[0;34m(\u001b[0m\u001b[0;34m)\u001b[0m\u001b[0;34m\u001b[0m\u001b[0;34m\u001b[0m\u001b[0m\n\u001b[1;32m    681\u001b[0m \u001b[0;34m\u001b[0m\u001b[0m\n",
      "\u001b[0;32m~/anaconda3/lib/python3.8/site-packages/matplotlib/text.py\u001b[0m in \u001b[0;36m_get_layout\u001b[0;34m(self, renderer)\u001b[0m\n\u001b[1;32m    312\u001b[0m             \u001b[0mclean_line\u001b[0m\u001b[0;34m,\u001b[0m \u001b[0mismath\u001b[0m \u001b[0;34m=\u001b[0m \u001b[0mself\u001b[0m\u001b[0;34m.\u001b[0m\u001b[0m_preprocess_math\u001b[0m\u001b[0;34m(\u001b[0m\u001b[0mline\u001b[0m\u001b[0;34m)\u001b[0m\u001b[0;34m\u001b[0m\u001b[0;34m\u001b[0m\u001b[0m\n\u001b[1;32m    313\u001b[0m             \u001b[0;32mif\u001b[0m \u001b[0mclean_line\u001b[0m\u001b[0;34m:\u001b[0m\u001b[0;34m\u001b[0m\u001b[0;34m\u001b[0m\u001b[0m\n\u001b[0;32m--> 314\u001b[0;31m                 w, h, d = renderer.get_text_width_height_descent(\n\u001b[0m\u001b[1;32m    315\u001b[0m                     clean_line, self._fontproperties, ismath=ismath)\n\u001b[1;32m    316\u001b[0m             \u001b[0;32melse\u001b[0m\u001b[0;34m:\u001b[0m\u001b[0;34m\u001b[0m\u001b[0;34m\u001b[0m\u001b[0m\n",
      "\u001b[0;32m~/anaconda3/lib/python3.8/site-packages/matplotlib/backends/backend_agg.py\u001b[0m in \u001b[0;36mget_text_width_height_descent\u001b[0;34m(self, s, prop, ismath)\u001b[0m\n\u001b[1;32m    227\u001b[0m             \u001b[0mtexmanager\u001b[0m \u001b[0;34m=\u001b[0m \u001b[0mself\u001b[0m\u001b[0;34m.\u001b[0m\u001b[0mget_texmanager\u001b[0m\u001b[0;34m(\u001b[0m\u001b[0;34m)\u001b[0m\u001b[0;34m\u001b[0m\u001b[0;34m\u001b[0m\u001b[0m\n\u001b[1;32m    228\u001b[0m             \u001b[0mfontsize\u001b[0m \u001b[0;34m=\u001b[0m \u001b[0mprop\u001b[0m\u001b[0;34m.\u001b[0m\u001b[0mget_size_in_points\u001b[0m\u001b[0;34m(\u001b[0m\u001b[0;34m)\u001b[0m\u001b[0;34m\u001b[0m\u001b[0;34m\u001b[0m\u001b[0m\n\u001b[0;32m--> 229\u001b[0;31m             w, h, d = texmanager.get_text_width_height_descent(\n\u001b[0m\u001b[1;32m    230\u001b[0m                 s, fontsize, renderer=self)\n\u001b[1;32m    231\u001b[0m             \u001b[0;32mreturn\u001b[0m \u001b[0mw\u001b[0m\u001b[0;34m,\u001b[0m \u001b[0mh\u001b[0m\u001b[0;34m,\u001b[0m \u001b[0md\u001b[0m\u001b[0;34m\u001b[0m\u001b[0;34m\u001b[0m\u001b[0m\n",
      "\u001b[0;32m~/anaconda3/lib/python3.8/site-packages/matplotlib/texmanager.py\u001b[0m in \u001b[0;36mget_text_width_height_descent\u001b[0;34m(self, tex, fontsize, renderer)\u001b[0m\n\u001b[1;32m    397\u001b[0m         \u001b[0;32melse\u001b[0m\u001b[0;34m:\u001b[0m\u001b[0;34m\u001b[0m\u001b[0;34m\u001b[0m\u001b[0m\n\u001b[1;32m    398\u001b[0m             \u001b[0;31m# use dviread.\u001b[0m\u001b[0;34m\u001b[0m\u001b[0;34m\u001b[0m\u001b[0;34m\u001b[0m\u001b[0m\n\u001b[0;32m--> 399\u001b[0;31m             \u001b[0mdvifile\u001b[0m \u001b[0;34m=\u001b[0m \u001b[0mself\u001b[0m\u001b[0;34m.\u001b[0m\u001b[0mmake_dvi\u001b[0m\u001b[0;34m(\u001b[0m\u001b[0mtex\u001b[0m\u001b[0;34m,\u001b[0m \u001b[0mfontsize\u001b[0m\u001b[0;34m)\u001b[0m\u001b[0;34m\u001b[0m\u001b[0;34m\u001b[0m\u001b[0m\n\u001b[0m\u001b[1;32m    400\u001b[0m             \u001b[0;32mwith\u001b[0m \u001b[0mdviread\u001b[0m\u001b[0;34m.\u001b[0m\u001b[0mDvi\u001b[0m\u001b[0;34m(\u001b[0m\u001b[0mdvifile\u001b[0m\u001b[0;34m,\u001b[0m \u001b[0;36m72\u001b[0m \u001b[0;34m*\u001b[0m \u001b[0mdpi_fraction\u001b[0m\u001b[0;34m)\u001b[0m \u001b[0;32mas\u001b[0m \u001b[0mdvi\u001b[0m\u001b[0;34m:\u001b[0m\u001b[0;34m\u001b[0m\u001b[0;34m\u001b[0m\u001b[0m\n\u001b[1;32m    401\u001b[0m                 \u001b[0mpage\u001b[0m\u001b[0;34m,\u001b[0m \u001b[0;34m=\u001b[0m \u001b[0mdvi\u001b[0m\u001b[0;34m\u001b[0m\u001b[0;34m\u001b[0m\u001b[0m\n",
      "\u001b[0;32m~/anaconda3/lib/python3.8/site-packages/matplotlib/texmanager.py\u001b[0m in \u001b[0;36mmake_dvi\u001b[0;34m(self, tex, fontsize)\u001b[0m\n\u001b[1;32m    289\u001b[0m             \u001b[0;31m# and thus replace() works atomically.\u001b[0m\u001b[0;34m\u001b[0m\u001b[0;34m\u001b[0m\u001b[0;34m\u001b[0m\u001b[0m\n\u001b[1;32m    290\u001b[0m             \u001b[0;32mwith\u001b[0m \u001b[0mTemporaryDirectory\u001b[0m\u001b[0;34m(\u001b[0m\u001b[0mdir\u001b[0m\u001b[0;34m=\u001b[0m\u001b[0mPath\u001b[0m\u001b[0;34m(\u001b[0m\u001b[0mdvifile\u001b[0m\u001b[0;34m)\u001b[0m\u001b[0;34m.\u001b[0m\u001b[0mparent\u001b[0m\u001b[0;34m)\u001b[0m \u001b[0;32mas\u001b[0m \u001b[0mtmpdir\u001b[0m\u001b[0;34m:\u001b[0m\u001b[0;34m\u001b[0m\u001b[0;34m\u001b[0m\u001b[0m\n\u001b[0;32m--> 291\u001b[0;31m                 self._run_checked_subprocess(\n\u001b[0m\u001b[1;32m    292\u001b[0m                     [\"latex\", \"-interaction=nonstopmode\", \"--halt-on-error\",\n\u001b[1;32m    293\u001b[0m                      texfile], tex, cwd=tmpdir)\n",
      "\u001b[0;32m~/anaconda3/lib/python3.8/site-packages/matplotlib/texmanager.py\u001b[0m in \u001b[0;36m_run_checked_subprocess\u001b[0;34m(self, command, tex, cwd)\u001b[0m\n\u001b[1;32m    258\u001b[0m                 'found'.format(command[0])) from exc\n\u001b[1;32m    259\u001b[0m         \u001b[0;32mexcept\u001b[0m \u001b[0msubprocess\u001b[0m\u001b[0;34m.\u001b[0m\u001b[0mCalledProcessError\u001b[0m \u001b[0;32mas\u001b[0m \u001b[0mexc\u001b[0m\u001b[0;34m:\u001b[0m\u001b[0;34m\u001b[0m\u001b[0;34m\u001b[0m\u001b[0m\n\u001b[0;32m--> 260\u001b[0;31m             raise RuntimeError(\n\u001b[0m\u001b[1;32m    261\u001b[0m                 \u001b[0;34m'{prog} was not able to process the following string:\\n'\u001b[0m\u001b[0;34m\u001b[0m\u001b[0;34m\u001b[0m\u001b[0m\n\u001b[1;32m    262\u001b[0m                 \u001b[0;34m'{tex!r}\\n\\n'\u001b[0m\u001b[0;34m\u001b[0m\u001b[0;34m\u001b[0m\u001b[0m\n",
      "\u001b[0;31mRuntimeError\u001b[0m: latex was not able to process the following string:\nb'$/MWh'\n\nHere is the full report generated by latex:\nThis is pdfTeX, Version 3.14159265-2.6-1.40.20 (TeX Live 2019/Debian) (preloaded format=latex)\n restricted \\write18 enabled.\nentering extended mode\n\n(/home/XXX/.cache/matplotlib/tex.cache/7796658cfd2a25746642aa994dd3ffe3.te\nx\nLaTeX2e <2020-02-02> patch level 2\nL3 programming layer <2020-02-14>\n(/usr/share/texlive/texmf-dist/tex/latex/base/article.cls\nDocument Class: article 2019/12/20 v1.4l Standard LaTeX document class\n(/usr/share/texlive/texmf-dist/tex/latex/base/size10.clo))\n(/usr/share/texlive/texmf-dist/tex/latex/type1cm/type1cm.sty)\n(/usr/share/texmf/tex/latex/cm-super/type1ec.sty\n(/usr/share/texlive/texmf-dist/tex/latex/base/t1cmr.fd))\n(/usr/share/texlive/texmf-dist/tex/latex/base/inputenc.sty)\n(/usr/share/texlive/texmf-dist/tex/latex/geometry/geometry.sty\n(/usr/share/texlive/texmf-dist/tex/latex/graphics/keyval.sty)\n(/usr/share/texlive/texmf-dist/tex/generic/iftex/ifvtex.sty\n(/usr/share/texlive/texmf-dist/tex/generic/iftex/iftex.sty)))\n(/usr/share/texlive/texmf-dist/tex/latex/base/textcomp.sty)\n(/usr/share/texlive/texmf-dist/tex/latex/l3backend/l3backend-dvips.def)\nNo file 7796658cfd2a25746642aa994dd3ffe3.aux.\n*geometry* driver: auto-detecting\n*geometry* detected driver: dvips\n! Extra }, or forgotten $.\nl.19 {\\rmfamily $/MWh}\n                      \nNo pages of output.\nTranscript written on 7796658cfd2a25746642aa994dd3ffe3.log.\n\n\n"
     ]
    },
    {
     "data": {
      "text/plain": [
       "<Figure size 1296x720 with 1 Axes>"
      ]
     },
     "metadata": {
      "needs_background": "light"
     },
     "output_type": "display_data"
    }
   ],
   "source": [
    "plt.figure(figsize=(18,10))\n",
    "\n",
    "#plt.plot( 'Volume Weighted Price (Historic) - $/MWh', data=historic_and_simul_wholesale_df, marker='o', markerfacecolor='darkgoldenrod', markersize=8, color='burlywood', linewidth=4)\n",
    "#plt.plot( 'Wholesale ($/MWh)', data=historic_and_simul_wholesale_df, marker='o', markerfacecolor='steelblue', markersize=8, color='lightblue', linewidth=4)\n",
    "historic_wholesale_values = historic_wholesale_df['Volume Weighted Price (Historic) - $/MWh']\n",
    "\n",
    "plt.plot(historic_wholesale_values.index, historic_wholesale_values, color='black', linewidth=2, label='Wholesale Primary Spot Market - Simulated')\n",
    "for i in freq_month.keys():\n",
    "    \n",
    "    whole_y_data = freq_month[i].loc['2005-04-01':'2020-06-01']['Primary Wholesale ($/MWh)']\n",
    "\n",
    "\n",
    "    if i == 0.5:    \n",
    "        plt.plot(historic_wholesale_values.index, whole_y_data, label = f'Wholesale Month - Hour {i}', color='red')\n",
    "    else:\n",
    "        plt.plot(historic_wholesale_values.index, whole_y_data, label = f'Wholesale Month - Hour {i}', alpha=0.4)\n",
    "\n",
    "# plt.plot( 'Volume Weighted Price (Historic) - $/MWh', data=historic_and_simul_wholesale_df, color='g', linestyle='--', linewidth=2, label='Wholesale Primary Spot Market - Historic')\n",
    "\n",
    "#PLOT STD\n",
    "# monthWholeSTD = historic_and_simul_wholesale_df['STD'].values\n",
    "# monthWhole2STD = 2 * historic_and_simul_wholesale_df['STD'].values\n",
    "\n",
    "# plt.fill_between(x=historic_and_simul_wholesale_df.index, y1=monthNominalWhole - monthWholeSTD, y2=monthNominalWhole + monthWholeSTD,\n",
    "#                  color='gray', alpha=0.2,label='+/- 2\\u03C3')\n",
    "# plt.fill_between(x=historic_and_simul_wholesale_df.index, y1=monthNominalWhole - monthWhole2STD, y2=monthNominalWhole + monthWhole2STD,\n",
    "#                  color='darkgray', alpha=0.2,label='+/- 1\\u03C3')\n",
    "\n",
    "\n",
    "plt.xlabel('Months', size = 16)\n",
    "plt.ylabel('$/MWh', size = 16)\n",
    "plt.xticks(size = 14)\n",
    "plt.yticks(size = 14)\n",
    "plt.legend(prop={'size':16},loc='upper left')"
   ]
  },
  {
   "cell_type": "markdown",
   "metadata": {},
   "source": [
    "### Summary Statistics"
   ]
  },
  {
   "cell_type": "code",
   "execution_count": 36,
   "metadata": {},
   "outputs": [
    {
     "data": {
      "text/html": [
       "<div>\n",
       "<style scoped>\n",
       "    .dataframe tbody tr th:only-of-type {\n",
       "        vertical-align: middle;\n",
       "    }\n",
       "\n",
       "    .dataframe tbody tr th {\n",
       "        vertical-align: top;\n",
       "    }\n",
       "\n",
       "    .dataframe thead th {\n",
       "        text-align: right;\n",
       "    }\n",
       "</style>\n",
       "<table border=\"1\" class=\"dataframe\">\n",
       "  <thead>\n",
       "    <tr style=\"text-align: right;\">\n",
       "      <th></th>\n",
       "      <th>0.5</th>\n",
       "      <th>1.0</th>\n",
       "      <th>2.0</th>\n",
       "      <th>3.0</th>\n",
       "      <th>4.0</th>\n",
       "      <th>6.0</th>\n",
       "      <th>8.0</th>\n",
       "      <th>12.0</th>\n",
       "      <th>24.0</th>\n",
       "    </tr>\n",
       "  </thead>\n",
       "  <tbody>\n",
       "    <tr>\n",
       "      <th>mean_ae</th>\n",
       "      <td>24.886611</td>\n",
       "      <td>32.510018</td>\n",
       "      <td>33.395756</td>\n",
       "      <td>33.351593</td>\n",
       "      <td>33.307953</td>\n",
       "      <td>33.291206</td>\n",
       "      <td>33.287062</td>\n",
       "      <td>33.253968</td>\n",
       "      <td>34.535741</td>\n",
       "    </tr>\n",
       "    <tr>\n",
       "      <th>median_ae</th>\n",
       "      <td>16.077361</td>\n",
       "      <td>25.888328</td>\n",
       "      <td>25.778753</td>\n",
       "      <td>25.774716</td>\n",
       "      <td>25.976719</td>\n",
       "      <td>26.152666</td>\n",
       "      <td>25.999526</td>\n",
       "      <td>26.681132</td>\n",
       "      <td>28.472425</td>\n",
       "    </tr>\n",
       "    <tr>\n",
       "      <th>rmse</th>\n",
       "      <td>35.196476</td>\n",
       "      <td>41.961054</td>\n",
       "      <td>42.898887</td>\n",
       "      <td>42.830934</td>\n",
       "      <td>42.770112</td>\n",
       "      <td>42.674619</td>\n",
       "      <td>42.619151</td>\n",
       "      <td>42.646089</td>\n",
       "      <td>44.092359</td>\n",
       "    </tr>\n",
       "  </tbody>\n",
       "</table>\n",
       "</div>"
      ],
      "text/plain": [
       "                0.5        1.0        2.0        3.0        4.0        6.0   \\\n",
       "mean_ae    24.886611  32.510018  33.395756  33.351593  33.307953  33.291206   \n",
       "median_ae  16.077361  25.888328  25.778753  25.774716  25.976719  26.152666   \n",
       "rmse       35.196476  41.961054  42.898887  42.830934  42.770112  42.674619   \n",
       "\n",
       "                8.0        12.0       24.0  \n",
       "mean_ae    33.287062  33.253968  34.535741  \n",
       "median_ae  25.999526  26.681132  28.472425  \n",
       "rmse       42.619151  42.646089  44.092359  "
      ]
     },
     "metadata": {},
     "output_type": "display_data"
    },
    {
     "data": {
      "image/png": "[encoded data removed]",
      "text/plain": [
       "<Figure size 2160x720 with 3 Axes>"
      ]
     },
     "metadata": {
      "needs_background": "light"
     },
     "output_type": "display_data"
    }
   ],
   "source": [
    "from sklearn.metrics import r2_score\n",
    "\n",
    "\n",
    "whole_m_data_df = {}\n",
    "for month in freq_month.keys():\n",
    "\n",
    "    curr = {}\n",
    "\n",
    "    abs_difference_list = list()\n",
    "    diff_list = []\n",
    "    for i in historic_wholesale_values.index:\n",
    "        \n",
    "        simulated_value = freq_month[month].loc[i.strftime(\"%Y-%m-%d\")]['Primary Wholesale ($/MWh)']\n",
    "        \n",
    "        \n",
    "        hist_value = historic_wholesale_values.loc[i]\n",
    "        \n",
    "        \n",
    "        diff_list.append(simulated_value - hist_value)\n",
    "        \n",
    "        diff = abs(simulated_value - hist_value)\n",
    "        abs_difference_list.append(diff)\n",
    "        \n",
    "        \n",
    "        \n",
    "    curr['mean_ae'] = np.mean(abs_difference_list)\n",
    "    curr['median_ae'] = statistics.median(abs_difference_list)\n",
    "    curr['rmse'] = (np.mean(list(map(lambda a: a**2, diff_list))))**0.5\n",
    "    \n",
    "        \n",
    "    whole_m_data_df[month] = curr\n",
    "        \n",
    "# mad = statistics.median(abs_difference_list)\n",
    "# std = mad*b\n",
    "# print(f\"Simulated results are {mad.round(decimals=2)} MTCO2-e (MAD) away from historic data\")\n",
    "# print(f\"Simulated results have a standard deviation of {std.round(decimals=2)} MTCO2-e from historic data\")\n",
    "\n",
    "whole_m_data_df = pd.DataFrame(whole_m_data_df)\n",
    "display(whole_m_data_df)\n",
    "\n",
    "fig, ax = plt.subplots(1,3, figsize=(30,10))\n",
    "for i,j in enumerate(whole_m_data_df.index):\n",
    "    ax[i].plot(freqs, whole_m_data_df.loc[j])\n",
    "plt.show()"
   ]
  },
  {
   "cell_type": "code",
   "execution_count": 37,
   "metadata": {
    "ExecuteTime": {
     "end_time": "2021-03-24T04:32:42.214793Z",
     "start_time": "2021-03-24T04:32:42.197827Z"
    }
   },
   "outputs": [],
   "source": [
    "# historicWholeMonth = historic_and_simul_wholesale_df['Volume Weighted Price (Historic) - $/MWh'].values\n",
    "\n",
    "# withinSTD = ((historicWholeMonth < monthNominalWhole + monthWholeSTD) & (historicWholeMonth > monthNominalWhole - monthWholeSTD)).sum()\n",
    "# withinSTDpercentage = (withinSTD/len(historicWholeMonth)) * 100.0\n",
    "# print(f'{withinSTD} cases within the STD range out of {len(historicWholeMonth)}, which makes {withinSTDpercentage}% of total cases')\n",
    "\n",
    "\n",
    "# within2STD = ((historicWholeMonth < monthNominalWhole + monthWhole2STD) & (historicWholeMonth > monthNominalWhole - monthWhole2STD)).sum()\n",
    "# within2STDpercentage = (within2STD/len(historicWholeMonth)) * 100.0\n",
    "# print(f'{within2STD} cases within the 2STD range out of {len(historicWholeMonth)}, which makes {within2STDpercentage}% of total cases')\n"
   ]
  },
  {
   "cell_type": "code",
   "execution_count": 38,
   "metadata": {
    "ExecuteTime": {
     "end_time": "2021-03-24T04:32:45.128584Z",
     "start_time": "2021-03-24T04:32:43.107534Z"
    },
    "scrolled": true
   },
   "outputs": [],
   "source": [
    "# from EMAworkbench.ema_workbench.analysis.plotting import multiple_densities, PlotType\n",
    "# from EMAworkbench.ema_workbench.analysis.plotting_util import Density\n",
    "\n",
    "# # fig, ax_env = multiple_densities(experiments, outcomes_filtered, outcomes_to_show = ooi,\n",
    "# #                                  points_in_time=points_of_interest,  density = Density.HIST,\n",
    "# #                                  grouping_specifiers=None , titles={ooi}, ylabels={ooi: \"$/MWh\"}, legend=True,\n",
    "# #                                  fill=True, plot_type=PlotType.ENVELOPE)\n",
    "\n",
    "# fig, ax_env = multiple_densities(experiments, outcomes_filtered_wholesale, outcomes_to_show = ooi,\n",
    "#                                  points_in_time=points_of_interest_wholesale,  density = Density.HIST,\n",
    "#                                  grouping_specifiers=None , titles={ooi}, ylabels={ooi: \"$/MWh\"}, legend=True,\n",
    "#                                  fill=True, plot_type=PlotType.ENVELOPE)\n",
    "\n",
    "# #Change x labels to years\n",
    "# ax_env[ooi]['main plot'].set_xticklabels([startYear_wholesale + x / 10.0 for x in range(0,len(time_wholesale)*10,20)])\n",
    "# #Add BAU in the plot with a red wide line\n",
    "# ax_env[ooi]['main plot'].plot(outcomes_filtered_wholesale[ooi][-1], 'r-',linewidth=2 )\n",
    "# ax_env[ooi]['main plot'].plot(outcomes_filtered[ooi][21709], 'y-')\n",
    "# ax_env[ooi]['main plot'].plot(outcomes_filtered[ooi][48583], 'k-')\n",
    "# ax_env[ooi]['main plot'].plot(outcomes_filtered[ooi][74035], 'm-')\n",
    " \n",
    "\n",
    "# ax_env[ooi]['main plot'].plot(historic_wholesale_values, 'g--')\n",
    "\n",
    "\n",
    "# fig[0].suptitle(\"{}\".format(ooi), fontsize=15)\n",
    "# fig[0].set_size_inches(18.5, 10.5)\n",
    "\n",
    "# plt.savefig('{}/fig{}.png'.format(r'C:\\\\Users\\\\angel\\\\Documents\\\\GitHub\\\\gr4sp\\\\experiments\\\\notebookGr4sp\\\\outputs\\\\figs', '_3Regime_envelope_density_%s'%(ooi)),\n",
    "#                 dpi=300, bbox_inches='tight')\n"
   ]
  },
  {
   "cell_type": "markdown",
   "metadata": {},
   "source": [
    "### Tariffs"
   ]
  },
  {
   "cell_type": "code",
   "execution_count": 39,
   "metadata": {
    "ExecuteTime": {
     "end_time": "2021-03-24T04:32:46.308864Z",
     "start_time": "2021-03-24T04:32:46.294902Z"
    }
   },
   "outputs": [],
   "source": [
    "# #from startYear\n",
    "# startYear_tariffs = 2001\n",
    "# startYearShift_tariffs = (startYear_tariffs - 1998)\n",
    "\n",
    "# #time = outcomes['TIMEYear'][0, startYearShift:]\n",
    "# time_tariffs = outcomes['TIMEYear'][0, startYearShift_tariffs:-31]\n",
    "\n",
    "# #points_of_interest = [*range(2020,2051,10)] \n",
    "# #points_of_interest = [ x - startYear for x in points_of_interest]\n",
    "\n",
    "# points_of_interest_tariffs = [0,4,8,12]\n",
    "\n",
    "\n",
    "# # Filter outcomes taking into account the startYear, and removing Seed Experiment info. \n",
    "# # Seed it is useful if I want to retrieve more info from the csv files, or redo the experiments with the\n",
    "# # simulation parameters\n",
    "# outcomes_filtered_tariffs = {k:v[:, startYearShift_tariffs:-31] for k,v in outcomes.items() if k != 'seedExperimentCsv'}"
   ]
  },
  {
   "cell_type": "code",
   "execution_count": 40,
   "metadata": {
    "ExecuteTime": {
     "end_time": "2021-03-24T04:32:47.598341Z",
     "start_time": "2021-03-24T04:32:47.096705Z"
    }
   },
   "outputs": [],
   "source": [
    "# # Subset Sool levers/uncertainties\n",
    "# selected_uncertainties = uncertainties\n",
    "\n",
    "# #selected_levers = levers\n",
    "# ooi = 'tariffsYear'\n",
    "# data = outcomes_filtered_tariffs[ooi]\n",
    "\n",
    "# num_exp = len(data)\n",
    "# out_avg_ooi = np.zeros(num_exp)\n",
    "\n",
    "# for i in range(num_exp):\n",
    "#     out_avg_ooi[i] = data[i].mean()\n",
    "\n",
    "# exp = pd.DataFrame(experiments)\n",
    "\n",
    "# exp = exp.loc[ :, selected_uncertainties] "
   ]
  },
  {
   "cell_type": "code",
   "execution_count": 41,
   "metadata": {
    "ExecuteTime": {
     "end_time": "2021-03-24T04:33:09.167227Z",
     "start_time": "2021-03-24T04:33:08.934067Z"
    }
   },
   "outputs": [
    {
     "ename": "NameError",
     "evalue": "name 'figure' is not defined",
     "output_type": "error",
     "traceback": [
      "\u001b[0;31m---------------------------------------------------------------------------\u001b[0m",
      "\u001b[0;31mNameError\u001b[0m                                 Traceback (most recent call last)",
      "\u001b[0;32m<ipython-input-41-40687dcfa914>\u001b[0m in \u001b[0;36m<module>\u001b[0;34m\u001b[0m\n\u001b[1;32m      1\u001b[0m \u001b[0;31m#change fig size\u001b[0m\u001b[0;34m\u001b[0m\u001b[0;34m\u001b[0m\u001b[0;34m\u001b[0m\u001b[0m\n\u001b[0;32m----> 2\u001b[0;31m \u001b[0mfigure\u001b[0m\u001b[0;34m(\u001b[0m\u001b[0mnum\u001b[0m\u001b[0;34m=\u001b[0m\u001b[0;32mNone\u001b[0m\u001b[0;34m,\u001b[0m \u001b[0mfigsize\u001b[0m\u001b[0;34m=\u001b[0m\u001b[0;34m(\u001b[0m\u001b[0;36m10\u001b[0m\u001b[0;34m,\u001b[0m \u001b[0;36m8\u001b[0m\u001b[0;34m)\u001b[0m\u001b[0;34m,\u001b[0m \u001b[0mdpi\u001b[0m\u001b[0;34m=\u001b[0m\u001b[0;36m80\u001b[0m\u001b[0;34m,\u001b[0m \u001b[0mfacecolor\u001b[0m\u001b[0;34m=\u001b[0m\u001b[0;34m'w'\u001b[0m\u001b[0;34m,\u001b[0m \u001b[0medgecolor\u001b[0m\u001b[0;34m=\u001b[0m\u001b[0;34m'k'\u001b[0m\u001b[0;34m)\u001b[0m\u001b[0;34m\u001b[0m\u001b[0;34m\u001b[0m\u001b[0m\n\u001b[0m\u001b[1;32m      3\u001b[0m \u001b[0;34m\u001b[0m\u001b[0m\n\u001b[1;32m      4\u001b[0m \u001b[0;31m#compute STD and MEAN\u001b[0m\u001b[0;34m\u001b[0m\u001b[0;34m\u001b[0m\u001b[0;34m\u001b[0m\u001b[0m\n\u001b[1;32m      5\u001b[0m \u001b[0;31m# tariffsSTD = np.std(outcomes_filtered_tariffs['tariffsYear'],axis=0)\u001b[0m\u001b[0;34m\u001b[0m\u001b[0;34m\u001b[0m\u001b[0;34m\u001b[0m\u001b[0m\n",
      "\u001b[0;31mNameError\u001b[0m: name 'figure' is not defined"
     ]
    }
   ],
   "source": [
    "#change fig size\n",
    "figure(num=None, figsize=(10, 8), dpi=80, facecolor='w', edgecolor='k')\n",
    "\n",
    "#compute STD and MEAN\n",
    "# tariffsSTD = np.std(outcomes_filtered_tariffs['tariffsYear'],axis=0)\n",
    "# tariffs2STD = 2*np.std(outcomes_filtered_tariffs['tariffsYear'],axis=0)\n",
    "\n",
    "\n",
    "# tariffsMean = np.mean(outcomes_filtered_tariffs['tariffsYear'],axis=0)\n",
    "# tariffsNominal = outcomes_filtered_tariffs[ooi][-1]\n",
    "tariffsHistoricVinnies = yearly_historic_tariffs['St Vinnies Historic c/kWh (2019) '].values\n",
    "tariffsHistoricReview = yearly_historic_tariffs['Historic price from review c/KWh (2019)'].values\n",
    "\n",
    "#PLOT MEAN\n",
    "#lineMean, = plt.plot(time_tariffs, tariffsMean, 'b-', label = 'Mean')\n",
    "\n",
    "#PLOT STD and 2STD\n",
    "# plt.fill_between(x=time_tariffs, y1=tariffsNominal - tariffsSTD, y2=tariffsNominal + tariffsSTD,\n",
    "#                  color='gray', alpha=0.2,label='+/- 2\\u03C3')\n",
    "# plt.fill_between(x=time_tariffs, y1=tariffsNominal - tariffs2STD, y2=tariffsNominal + tariffs2STD,\n",
    "#                  color='darkgray', alpha=0.2,label='+/- 1\\u03C3')\n",
    "#PLOT Historic\n",
    "\n",
    "plt.plot(yearly_historic_tariffs.index, tariffsHistoricVinnies, 'g--', label = 'Historic St. Vinnies')\n",
    "plt.plot(yearly_historic_tariffs.index, tariffsHistoricReview, 'b--', label = 'Historic Review')\n",
    "\n",
    "for i in freq_year.keys():\n",
    "    tariff_y_data = freq_year[i].loc[2001:2019]['Avg Tariff (c/KWh) per household']\n",
    "\n",
    "    if i == 0.5:    \n",
    "        plt.plot(tariff_y_data.index, tariff_y_data, label = f'Tariff - Hour {i}',color='red')\n",
    "    else:\n",
    "        plt.plot(tariff_y_data.index, tariff_y_data, label = f'Tariff - Hour {i}', alpha=0.4)\n",
    "\n",
    "\n",
    "\n",
    "#PLOT Nominal\n",
    "# lineNominal, = plt.plot(time_tariffs, tariffsNominal, 'r-', label = 'Nominal')\n",
    "\n",
    "#PLOT legend, and title\n",
    "plt.ylabel('$c/kWh$')\n",
    "plt.legend()\n",
    "plt.grid()\n",
    "plt.xticks(range(2001,2020))\n",
    "plt.show()\n",
    "#plt.suptitle(\"{}\".format(ooi), fontsize=15)"
   ]
  },
  {
   "cell_type": "code",
   "execution_count": 42,
   "metadata": {},
   "outputs": [
    {
     "data": {
      "text/html": [
       "<div>\n",
       "<style scoped>\n",
       "    .dataframe tbody tr th:only-of-type {\n",
       "        vertical-align: middle;\n",
       "    }\n",
       "\n",
       "    .dataframe tbody tr th {\n",
       "        vertical-align: top;\n",
       "    }\n",
       "\n",
       "    .dataframe thead th {\n",
       "        text-align: right;\n",
       "    }\n",
       "</style>\n",
       "<table border=\"1\" class=\"dataframe\">\n",
       "  <thead>\n",
       "    <tr style=\"text-align: right;\">\n",
       "      <th></th>\n",
       "      <th>St Vinnies Historic c/kWh (2019)</th>\n",
       "      <th>Historic price from review c/KWh (2019)</th>\n",
       "    </tr>\n",
       "    <tr>\n",
       "      <th>Time (Year)</th>\n",
       "      <th></th>\n",
       "      <th></th>\n",
       "    </tr>\n",
       "  </thead>\n",
       "  <tbody>\n",
       "    <tr>\n",
       "      <th>2010</th>\n",
       "      <td>19.15</td>\n",
       "      <td>30.77</td>\n",
       "    </tr>\n",
       "    <tr>\n",
       "      <th>2011</th>\n",
       "      <td>19.82</td>\n",
       "      <td>31.72</td>\n",
       "    </tr>\n",
       "    <tr>\n",
       "      <th>2012</th>\n",
       "      <td>23.10</td>\n",
       "      <td>35.10</td>\n",
       "    </tr>\n",
       "    <tr>\n",
       "      <th>2013</th>\n",
       "      <td>23.67</td>\n",
       "      <td>40.17</td>\n",
       "    </tr>\n",
       "    <tr>\n",
       "      <th>2014</th>\n",
       "      <td>21.00</td>\n",
       "      <td>40.78</td>\n",
       "    </tr>\n",
       "    <tr>\n",
       "      <th>2015</th>\n",
       "      <td>19.86</td>\n",
       "      <td>35.76</td>\n",
       "    </tr>\n",
       "    <tr>\n",
       "      <th>2016</th>\n",
       "      <td>19.71</td>\n",
       "      <td>35.92</td>\n",
       "    </tr>\n",
       "    <tr>\n",
       "      <th>2017</th>\n",
       "      <td>21.28</td>\n",
       "      <td>37.61</td>\n",
       "    </tr>\n",
       "  </tbody>\n",
       "</table>\n",
       "</div>"
      ],
      "text/plain": [
       "             St Vinnies Historic c/kWh (2019)   \\\n",
       "Time (Year)                                      \n",
       "2010                                     19.15   \n",
       "2011                                     19.82   \n",
       "2012                                     23.10   \n",
       "2013                                     23.67   \n",
       "2014                                     21.00   \n",
       "2015                                     19.86   \n",
       "2016                                     19.71   \n",
       "2017                                     21.28   \n",
       "\n",
       "             Historic price from review c/KWh (2019)  \n",
       "Time (Year)                                           \n",
       "2010                                           30.77  \n",
       "2011                                           31.72  \n",
       "2012                                           35.10  \n",
       "2013                                           40.17  \n",
       "2014                                           40.78  \n",
       "2015                                           35.76  \n",
       "2016                                           35.92  \n",
       "2017                                           37.61  "
      ]
     },
     "execution_count": 42,
     "metadata": {},
     "output_type": "execute_result"
    }
   ],
   "source": [
    "yearly_historic_tariffs.dropna()"
   ]
  },
  {
   "cell_type": "code",
   "execution_count": 43,
   "metadata": {
    "ExecuteTime": {
     "end_time": "2021-03-24T04:33:48.663443Z",
     "start_time": "2021-03-24T04:33:48.422415Z"
    }
   },
   "outputs": [
    {
     "ename": "NameError",
     "evalue": "name 'figure' is not defined",
     "output_type": "error",
     "traceback": [
      "\u001b[0;31m---------------------------------------------------------------------------\u001b[0m",
      "\u001b[0;31mNameError\u001b[0m                                 Traceback (most recent call last)",
      "\u001b[0;32m<ipython-input-43-9eabd2aa53e2>\u001b[0m in \u001b[0;36m<module>\u001b[0;34m\u001b[0m\n\u001b[1;32m      1\u001b[0m \u001b[0;31m#change fig size\u001b[0m\u001b[0;34m\u001b[0m\u001b[0;34m\u001b[0m\u001b[0;34m\u001b[0m\u001b[0m\n\u001b[0;32m----> 2\u001b[0;31m \u001b[0mfigure\u001b[0m\u001b[0;34m(\u001b[0m\u001b[0mnum\u001b[0m\u001b[0;34m=\u001b[0m\u001b[0;32mNone\u001b[0m\u001b[0;34m,\u001b[0m \u001b[0mfigsize\u001b[0m\u001b[0;34m=\u001b[0m\u001b[0;34m(\u001b[0m\u001b[0;36m10\u001b[0m\u001b[0;34m,\u001b[0m \u001b[0;36m8\u001b[0m\u001b[0;34m)\u001b[0m\u001b[0;34m,\u001b[0m \u001b[0mdpi\u001b[0m\u001b[0;34m=\u001b[0m\u001b[0;36m80\u001b[0m\u001b[0;34m,\u001b[0m \u001b[0mfacecolor\u001b[0m\u001b[0;34m=\u001b[0m\u001b[0;34m'w'\u001b[0m\u001b[0;34m,\u001b[0m \u001b[0medgecolor\u001b[0m\u001b[0;34m=\u001b[0m\u001b[0;34m'k'\u001b[0m\u001b[0;34m)\u001b[0m\u001b[0;34m\u001b[0m\u001b[0;34m\u001b[0m\u001b[0m\n\u001b[0m\u001b[1;32m      3\u001b[0m \u001b[0;34m\u001b[0m\u001b[0m\n\u001b[1;32m      4\u001b[0m \u001b[0;31m#compute STD and MEAN\u001b[0m\u001b[0;34m\u001b[0m\u001b[0;34m\u001b[0m\u001b[0;34m\u001b[0m\u001b[0m\n\u001b[1;32m      5\u001b[0m \u001b[0;31m# tariffsSTD = np.std(outcomes_filtered_tariffs['tariffsYear'],axis=0)\u001b[0m\u001b[0;34m\u001b[0m\u001b[0;34m\u001b[0m\u001b[0;34m\u001b[0m\u001b[0m\n",
      "\u001b[0;31mNameError\u001b[0m: name 'figure' is not defined"
     ]
    }
   ],
   "source": [
    "#change fig size\n",
    "figure(num=None, figsize=(10, 8), dpi=80, facecolor='w', edgecolor='k')\n",
    "\n",
    "#compute STD and MEAN\n",
    "# tariffsSTD = np.std(outcomes_filtered_tariffs['tariffsYear'],axis=0)\n",
    "# tariffs2STD = 2*np.std(outcomes_filtered_tariffs['tariffsYear'],axis=0)\n",
    "\n",
    "\n",
    "# tariffsMean = np.mean(outcomes_filtered_tariffs['tariffsYear'],axis=0)\n",
    "# tariffsNominal = outcomes_filtered_tariffs[ooi][-1]\n",
    "\n",
    "\n",
    "tariffsAverageHistoric = yearly_historic_tariffs.mean(axis=1)\n",
    "\n",
    "#PLOT MEAN\n",
    "#lineMean, = plt.plot(time_tariffs, tariffsMean, 'b-', label = 'Mean')\n",
    "\n",
    "#PLOT STD\n",
    "# plt.fill_between(x=time_tariffs, y1=tariffsNominal - tariffsSTD, y2=tariffsNominal + tariffsSTD,\n",
    "#                  color='gray', alpha=0.2)\n",
    "# plt.fill_between(x=time_tariffs, y1=tariffsNominal - tariffs2STD, y2=tariffsNominal + tariffs2STD,\n",
    "#                  color='darkgray', alpha=0.2)\n",
    "\n",
    "#PLOT Historic\n",
    "lineHist, = plt.plot(tariffsAverageHistoric.index, tariffsAverageHistoric, 'g--', label = 'Historic')\n",
    "\n",
    "for i in freq_year.keys():\n",
    "    tariff_y_data = freq_year[i].loc[2001:2019]['Avg Tariff (c/KWh) per household']\n",
    "\n",
    "    if i == 0.5:    \n",
    "        plt.plot(tariff_y_data.index, tariff_y_data, label = f'Tariff - Hour {i}', color='red')\n",
    "    else:\n",
    "        plt.plot(tariff_y_data.index, tariff_y_data, label = f'Tariff - Hour {i}', alpha=0.4)\n",
    "\n",
    "#PLOT Nominal\n",
    "# lineNominal, = plt.plot(time_tariffs, tariffsNominal, 'r-', label = 'Nominal')\n",
    "\n",
    "# lightgrey_patch = mpatches.Patch(color='lightgray', label='+/- 2\\u03C3')\n",
    "# darkgrey_patch = mpatches.Patch(color='darkgray', label='+/- 1\\u03C3')\n",
    "\n",
    "#PLOT legend, and title\n",
    "# plt.legend(handles=[lineHist,lineNominal,darkgrey_patch,lightgrey_patch])\n",
    "plt.legend()\n",
    "plt.ylabel('$c/kWh$')\n",
    "plt.xticks(range(2001,2020))\n",
    "plt.grid()\n",
    "plt.show()\n",
    "\n",
    "#plt.suptitle(\"{}\".format(ooi), fontsize=15)"
   ]
  },
  {
   "cell_type": "markdown",
   "metadata": {},
   "source": [
    "### Summary Statistics"
   ]
  },
  {
   "cell_type": "code",
   "execution_count": 44,
   "metadata": {},
   "outputs": [
    {
     "ename": "NameError",
     "evalue": "name 'tariffsAverageHistoric' is not defined",
     "output_type": "error",
     "traceback": [
      "\u001b[0;31m---------------------------------------------------------------------------\u001b[0m",
      "\u001b[0;31mNameError\u001b[0m                                 Traceback (most recent call last)",
      "\u001b[0;32m<ipython-input-44-7bde86c1d30f>\u001b[0m in \u001b[0;36m<module>\u001b[0;34m\u001b[0m\n\u001b[1;32m      9\u001b[0m     \u001b[0mabs_difference_list\u001b[0m \u001b[0;34m=\u001b[0m \u001b[0mlist\u001b[0m\u001b[0;34m(\u001b[0m\u001b[0;34m)\u001b[0m\u001b[0;34m\u001b[0m\u001b[0;34m\u001b[0m\u001b[0m\n\u001b[1;32m     10\u001b[0m     \u001b[0mdiff_list\u001b[0m \u001b[0;34m=\u001b[0m \u001b[0;34m[\u001b[0m\u001b[0;34m]\u001b[0m\u001b[0;34m\u001b[0m\u001b[0;34m\u001b[0m\u001b[0m\n\u001b[0;32m---> 11\u001b[0;31m     \u001b[0;32mfor\u001b[0m \u001b[0mi\u001b[0m \u001b[0;32min\u001b[0m \u001b[0mtariffsAverageHistoric\u001b[0m\u001b[0;34m.\u001b[0m\u001b[0mindex\u001b[0m\u001b[0;34m:\u001b[0m\u001b[0;34m\u001b[0m\u001b[0;34m\u001b[0m\u001b[0m\n\u001b[0m\u001b[1;32m     12\u001b[0m \u001b[0;34m\u001b[0m\u001b[0m\n\u001b[1;32m     13\u001b[0m         \u001b[0msimulated_value\u001b[0m \u001b[0;34m=\u001b[0m \u001b[0mfreq_year\u001b[0m\u001b[0;34m[\u001b[0m\u001b[0myear\u001b[0m\u001b[0;34m]\u001b[0m\u001b[0;34m.\u001b[0m\u001b[0mloc\u001b[0m\u001b[0;34m[\u001b[0m\u001b[0mi\u001b[0m\u001b[0;34m]\u001b[0m\u001b[0;34m[\u001b[0m\u001b[0;34m'Avg Tariff (c/KWh) per household'\u001b[0m\u001b[0;34m]\u001b[0m\u001b[0;34m\u001b[0m\u001b[0;34m\u001b[0m\u001b[0m\n",
      "\u001b[0;31mNameError\u001b[0m: name 'tariffsAverageHistoric' is not defined"
     ]
    }
   ],
   "source": [
    "from sklearn.metrics import r2_score\n",
    "\n",
    "\n",
    "tariff_data_df = {}\n",
    "for year in freq_year.keys():\n",
    "\n",
    "    curr = {}\n",
    "\n",
    "    abs_difference_list = list()\n",
    "    diff_list = []\n",
    "    for i in tariffsAverageHistoric.index:\n",
    "\n",
    "        simulated_value = freq_year[year].loc[i]['Avg Tariff (c/KWh) per household']\n",
    "        \n",
    "        \n",
    "        hist_value = tariffsAverageHistoric.loc[i]\n",
    "        \n",
    "        \n",
    "        diff_list.append(simulated_value - hist_value)\n",
    "        \n",
    "        diff = abs(simulated_value - hist_value)\n",
    "        abs_difference_list.append(diff)\n",
    "        \n",
    "        \n",
    "\n",
    "    curr['mean_ae'] = np.mean(np.array(abs_difference_list)[~np.isnan(abs_difference_list)])\n",
    "    curr['median_ae'] = statistics.median(np.array(abs_difference_list)[~np.isnan(abs_difference_list)])\n",
    "    curr['rmse'] = (np.mean(list(map(lambda a: a**2, np.array(abs_difference_list)[~np.isnan(abs_difference_list)]))))**0.5\n",
    "    \n",
    "        \n",
    "    tariff_data_df[year] = curr\n",
    "        \n",
    "# mad = statistics.median(abs_difference_list)\n",
    "# std = mad*b\n",
    "# print(f\"Simulated results are {mad.round(decimals=2)} MTCO2-e (MAD) away from historic data\")\n",
    "# print(f\"Simulated results have a standard deviation of {std.round(decimals=2)} MTCO2-e from historic data\")\n",
    "\n",
    "tariff_data_df = pd.DataFrame(tariff_data_df)\n",
    "display(tariff_data_df)\n",
    "\n",
    "fig, ax = plt.subplots(1,3, figsize=(30,10))\n",
    "for i,j in enumerate(tariff_data_df.index):\n",
    "    ax[i].plot(freqs, tariff_data_df.loc[j])\n",
    "plt.show()\n"
   ]
  },
  {
   "cell_type": "code",
   "execution_count": 45,
   "metadata": {
    "ExecuteTime": {
     "end_time": "2021-03-24T04:34:17.813613Z",
     "start_time": "2021-03-24T04:34:17.796659Z"
    }
   },
   "outputs": [],
   "source": [
    "# withinSTD = ((tariffsAverageHistoric < tariffsNominal + tariffsSTD) & (tariffsAverageHistoric > tariffsNominal - tariffsSTD)).sum()\n",
    "# numCases = np.sum(tariffsAverageHistoric.count())\n",
    "# withinSTDpercentage = (withinSTD/numCases) * 100.0\n",
    "# print(f'{withinSTD} cases within the STD range out of {numCases}, which makes {withinSTDpercentage}% of total cases')\n",
    "\n",
    "# within2STD = ((tariffsAverageHistoric < tariffsNominal + tariffs2STD) & (tariffsAverageHistoric > tariffsNominal - tariffs2STD)).sum()\n",
    "# numCases = np.sum(tariffsAverageHistoric.count())\n",
    "# within2STDpercentage = (within2STD/numCases) * 100.0\n",
    "# print(f'{within2STD} cases within the 2STD range out of {numCases}, which makes {within2STDpercentage}% of total cases')\n"
   ]
  },
  {
   "cell_type": "markdown",
   "metadata": {},
   "source": [
    "#### Best seeds according to statistics  MAD, RMSE, Euclidian distance"
   ]
  },
  {
   "cell_type": "code",
   "execution_count": 46,
   "metadata": {
    "ExecuteTime": {
     "end_time": "2021-03-24T04:34:18.709894Z",
     "start_time": "2021-03-24T04:34:18.695697Z"
    }
   },
   "outputs": [],
   "source": [
    "# b = 1.4826\n",
    "\n",
    "# abs_difference_list = list()\n",
    "\n",
    "# abs_difference_list = abs(tariffsAverageHistoric.values - tariffsNominal)\n",
    "\n",
    "# mad = np.median(abs_difference_list[~np.isnan(abs_difference_list)])\n",
    "# print(f'The MAD of Nominal {mad:.2f}')\n",
    "\n",
    "# #Root-mean square error\n",
    "# squareTariffs = np.square(tariffsAverageHistoric.values - tariffsNominal)\n",
    "# rms = np.sqrt(np.mean(squareTariffs[~np.isnan(squareTariffs)],axis=0))\n",
    "# print(f'The RMS of Nominal {rms:.2f}')\n"
   ]
  },
  {
   "cell_type": "code",
   "execution_count": 47,
   "metadata": {
    "ExecuteTime": {
     "end_time": "2021-03-24T04:34:22.275708Z",
     "start_time": "2021-03-24T04:34:20.244275Z"
    }
   },
   "outputs": [],
   "source": [
    "# from EMAworkbench.ema_workbench.analysis.plotting import multiple_densities, PlotType\n",
    "# from EMAworkbench.ema_workbench.analysis.plotting_util import Density\n",
    "\n",
    "# fig, ax_env = multiple_densities(experiments, outcomes_filtered_tariffs, outcomes_to_show = ooi,\n",
    "#                                  points_in_time=points_of_interest_tariffs,  density = Density.HIST,\n",
    "#                                  grouping_specifiers=None , titles={ooi}, ylabels={ooi: \"c/KWh\"}, legend=True,\n",
    "#                                  fill=True, plot_type=PlotType.ENVELOPE)\n",
    "\n",
    "# #Change x labels to years\n",
    "# ax_env[ooi]['main plot'].set_xticklabels([startYear_tariffs + x / 10.0 for x in range(0,len(time_tariffs)*10,20)])\n",
    "# #Add BAU in the plot with a red wide line\n",
    "# ax_env[ooi]['main plot'].plot(outcomes_filtered_tariffs[ooi][-1], 'r:',linewidth=2 )\n",
    "\n",
    "# ax_env[ooi]['main plot'].plot(yearly_historic_tariffs['St Vinnies Historic c/kWh (2019) '].values, 'k--')\n",
    "# ax_env[ooi]['main plot'].plot(yearly_historic_tariffs['Historic price from review c/KWh (2019)'].values, 'k--')\n",
    "\n",
    "# fig[0].suptitle(\"{}\".format(ooi), fontsize=15)\n",
    "# fig[0].set_size_inches(18.5, 10.5)\n",
    "\n",
    "# plt.savefig('{}/fig{}.png'.format(r'C:\\\\Users\\\\angel\\\\Documents\\\\GitHub\\\\gr4sp\\\\experiments\\\\notebookGr4sp\\\\outputs\\\\figs', '_3Regime_envelope_density_%s'%(ooi)),\n",
    "#                 dpi=300, bbox_inches='tight')\n"
   ]
  },
  {
   "cell_type": "markdown",
   "metadata": {},
   "source": [
    "## Renewable energy in the System"
   ]
  },
  {
   "cell_type": "code",
   "execution_count": 48,
   "metadata": {
    "ExecuteTime": {
     "end_time": "2021-03-24T04:34:23.080321Z",
     "start_time": "2021-03-24T04:34:23.066359Z"
    }
   },
   "outputs": [],
   "source": [
    "## Historic renewables in the system (from OpenNem data)"
   ]
  },
  {
   "cell_type": "code",
   "execution_count": 49,
   "metadata": {
    "ExecuteTime": {
     "end_time": "2021-03-24T04:34:24.295748Z",
     "start_time": "2021-03-24T04:34:23.870573Z"
    }
   },
   "outputs": [],
   "source": [
    "# #from startYear\n",
    "# startYear_re = 2005\n",
    "# startYearShift_re = (startYear_re - 1998)\n",
    "\n",
    "# #time = outcomes['TIMEYear'][0, startYearShift:]\n",
    "# time_re = outcomes['TIMEYear'][0, startYearShift_re:-30]\n",
    "\n",
    "# #points_of_interest = [*range(2020,2051,10)] \n",
    "# #points_of_interest = [ x - startYear for x in points_of_interest]\n",
    "\n",
    "# points_of_interest_re = [0,5,10,15]\n",
    "\n",
    "\n",
    "# # Filter outcomes taking into account the startYear, and removing Seed Experiment info. \n",
    "# # Seed it is useful if I want to retrieve more info from the csv files, or redo the experiments with the\n",
    "# # simulation parameters\n",
    "# outcomes_filtered_re = {k:v[:, startYearShift_re:-30] for k,v in outcomes.items() if k != 'seedExperimentCsv'}"
   ]
  },
  {
   "cell_type": "code",
   "execution_count": 50,
   "metadata": {
    "ExecuteTime": {
     "end_time": "2021-03-24T04:34:25.266557Z",
     "start_time": "2021-03-24T04:34:25.252585Z"
    }
   },
   "outputs": [],
   "source": [
    "ooi = 'renewableContributionYear'"
   ]
  },
  {
   "cell_type": "code",
   "execution_count": 51,
   "metadata": {
    "ExecuteTime": {
     "end_time": "2021-03-24T04:34:26.230542Z",
     "start_time": "2021-03-24T04:34:26.185626Z"
    }
   },
   "outputs": [],
   "source": [
    "## Energy Production per month per technology\n",
    "histSolarRooftop = historic_wholesale_df['Solar (Rooftop) - GWh'].resample('YS').mean().values\n",
    "histSolarUtility = historic_wholesale_df['Solar (Utility) - GWh'].resample('YS').mean().values\n",
    "histWind = historic_wholesale_df['Wind - GWh'].resample('YS').mean().values\n",
    "histHydro = historic_wholesale_df['Hydro - GWh'].resample('YS').mean().values\n",
    "histBatt = historic_wholesale_df['Battery (Discharging) - GWh'].resample('YS').mean().values\n",
    "histGasOcgt = historic_wholesale_df['Gas (OCGT) - GWh'].resample('YS').mean().values\n",
    "histGasCcgt = historic_wholesale_df['Gas (Steam) - GWh'].resample('YS').mean().values\n",
    "histBC = historic_wholesale_df['Brown Coal - GWh'].resample('YS').mean().values\n",
    "histImport = historic_wholesale_df['Imports - GWh'].resample('YS').mean().values\n",
    "histExport = historic_wholesale_df['Exports - GWh'].resample('YS').mean().values\n",
    "\n",
    "allProduction = histSolarRooftop + histSolarUtility + histWind + histHydro + histBatt + histGasCcgt + histGasOcgt + histBC\n",
    "\n",
    "histRenewableProductionPerc = ((histSolarRooftop+histSolarUtility+histHydro+histWind) / allProduction) "
   ]
  },
  {
   "cell_type": "code",
   "execution_count": 55,
   "metadata": {
    "ExecuteTime": {
     "end_time": "2021-03-24T04:34:59.346342Z",
     "start_time": "2021-03-24T04:34:59.122903Z"
    }
   },
   "outputs": [
    {
     "data": {
      "image/png": "[encoded data removed]",
      "text/plain": [
       "<Figure size 468x216 with 1 Axes>"
      ]
     },
     "metadata": {
      "needs_background": "light"
     },
     "output_type": "display_data"
    }
   ],
   "source": [
    "\n",
    "# plt.rcParams['text.usetex'] = True\n",
    "# import matplotlib\n",
    "# matplotlib.rcParams['mathtext.fontset'] = 'stix'\n",
    "# matplotlib.rcParams['font.family'] = 'STIXGeneral'\n",
    "#change fig size\n",
    "# figure(num=None, figsize=(10, 8), dpi=80, facecolor='w', edgecolor='k')\n",
    "\n",
    "#compute STD and MEAN\n",
    "# reSTD = np.std(outcomes_filtered_re['renewableContributionYear'],axis=0)\n",
    "# re2STD = 2*np.std(outcomes_filtered_re['renewableContributionYear'],axis=0)\n",
    "\n",
    "# reMean = np.mean(outcomes_filtered_re['renewableContributionYear'],axis=0)\n",
    "# reNominal = outcomes_filtered_re[ooi][-1]\n",
    "\n",
    "# plt.figure(figsize=(6.5,3))\n",
    "\n",
    "fig, ax = plt.subplots(1, 1, figsize=(6.5, 3))\n",
    "\n",
    "reHistoric = histRenewableProductionPerc\n",
    "\n",
    "#PLOT MEAN\n",
    "#lineMean, = plt.plot(time_re,reMean, 'b-', label = 'Mean')\n",
    "\n",
    "#PLOT STD\n",
    "# plt.fill_between(x=time_re,y1=reNominal - reSTD, y2=reNominal + reSTD,\n",
    "#                  color='gray', alpha=0.2)\n",
    "# plt.fill_between(x=time_re,y1=reNominal - re2STD, y2=reNominal + re2STD,\n",
    "#                  color='darkgray', alpha=0.2)\n",
    "\n",
    "#PLOT Historic\n",
    "time_re = range(2005, 2021)\n",
    "lineHist, = ax.plot(time_re,reHistoric*100, linestyle='--', label = 'Historic', color='black')\n",
    "\n",
    "\n",
    "\n",
    "for i in freq_year.keys():\n",
    "    renew_y_data = freq_year[i].loc[2005:2020]['Percentage Renewable Production']\n",
    "\n",
    "    if i == 0.5:    \n",
    "        ax.plot(renew_y_data.index, renew_y_data*100, label = f'{i}hr', alpha=0.4, linewidth=1)\n",
    "    else:\n",
    "        ax.plot(renew_y_data.index, renew_y_data*100,  label = f'{i}hr', alpha=0.4, linewidth=1)\n",
    "\n",
    "#PLOT Nominal\n",
    "# lineNominal, = plt.plot(time_re,reNominal, 'r-', label = 'Nominal')\n",
    "\n",
    "\n",
    "# lightgrey_patch = mpatches.Patch(color='lightgray', label='+/- 2\\u03C3')\n",
    "# darkgrey_patch = mpatches.Patch(color='darkgray', label='+/- 1\\u03C3')\n",
    "\n",
    "#PLOT legend, and title\n",
    "# plt.legend(handles=[lineHist,lineNominal,darkgrey_patch,lightgrey_patch], loc = 'upper left')\n",
    "ax.legend(loc = 'upper left')\n",
    "ax.grid()\n",
    "ax.set_xlabel('Year')\n",
    "ax.set_ylabel('Renewable Market Share (\\%)')\n",
    "ax.set_xticks(renew_y_data.index[::2])\n",
    "ax.grid()\n",
    "plt.grid()\n",
    "# plt.legend(prop={'size':8})\n",
    "plt.savefig(\"results/AllCombined_renew.pdf\", facecolor='white', transparent=False,  bbox_inches='tight', dpi=600)\n",
    "plt.show()\n",
    "#plt.suptitle(\"{}\".format(ooi), fontsize=15)"
   ]
  },
  {
   "cell_type": "code",
   "execution_count": 53,
   "metadata": {},
   "outputs": [],
   "source": [
    "renews = {'Historic':reHistoric*100}\n",
    "for i in freq_year:\n",
    "    renews[i] = freq_year[i].loc[2005:2020]['Percentage Renewable Production'] * 100"
   ]
  },
  {
   "cell_type": "code",
   "execution_count": 54,
   "metadata": {},
   "outputs": [
    {
     "name": "stdout",
     "output_type": "stream",
     "text": [
      "\\begin{tabular}{lrrrrrrrrrr}\n",
      "\\toprule\n",
      "{} &  Historic &    0.5 &      1 &      2 &      3 &      4 &      6 &      8 &     12 &     24 \\\\\n",
      "Time (Year) &           &        &        &        &        &        &        &        &        &        \\\\\n",
      "\\midrule\n",
      "2005        &      5.33 &   6.95 &   7.54 &   7.53 &   7.53 &   7.53 &   7.53 &   7.53 &   7.53 &   7.52 \\\\\n",
      "2006        &      5.03 &   8.02 &   9.22 &   8.77 &   8.77 &   8.77 &   8.77 &   8.77 &   8.77 &   8.76 \\\\\n",
      "2007        &      2.92 &   7.99 &   9.24 &   9.04 &   9.04 &   9.03 &   9.03 &   9.03 &   9.03 &   9.02 \\\\\n",
      "2008        &      3.15 &   7.91 &   9.28 &   8.35 &   8.35 &   8.35 &   8.35 &   8.35 &   8.35 &   8.34 \\\\\n",
      "2009        &      5.21 &   8.45 &   9.86 &   9.12 &   9.12 &   9.12 &   9.12 &   9.12 &   9.12 &   9.11 \\\\\n",
      "2010        &      8.30 &   9.49 &  11.09 &   9.95 &   9.95 &   9.95 &   9.96 &   9.96 &   9.96 &   9.98 \\\\\n",
      "2011        &      6.70 &   9.76 &  11.02 &  10.22 &  10.22 &  10.23 &  10.24 &  10.25 &  10.27 &  10.33 \\\\\n",
      "2012        &      8.21 &   9.42 &   9.37 &   8.66 &   8.67 &   8.68 &   8.70 &   8.71 &   8.75 &   8.86 \\\\\n",
      "2013        &     12.03 &  10.06 &   8.88 &   8.23 &   8.24 &   8.26 &   8.29 &   8.33 &   8.40 &   8.61 \\\\\n",
      "2014        &      9.61 &  11.27 &  10.21 &   9.10 &   9.12 &   9.14 &   9.17 &   9.21 &   9.28 &   9.51 \\\\\n",
      "2015        &     12.05 &  13.56 &  13.42 &  11.89 &  11.91 &  11.93 &  11.98 &  12.02 &  12.11 &  12.39 \\\\\n",
      "2016        &     15.53 &  14.16 &  13.87 &  12.32 &  12.34 &  12.36 &  12.40 &  12.44 &  12.52 &  12.75 \\\\\n",
      "2017        &     14.72 &  21.13 &  21.55 &  20.56 &  20.61 &  20.65 &  20.73 &  20.82 &  20.99 &  21.50 \\\\\n",
      "2018        &     18.98 &  23.42 &  23.73 &  22.72 &  22.76 &  22.79 &  22.86 &  22.93 &  23.07 &  23.49 \\\\\n",
      "2019        &     21.60 &  24.32 &  24.33 &  22.92 &  22.94 &  22.96 &  22.99 &  23.02 &  23.08 &  23.28 \\\\\n",
      "2020        &     23.02 &  24.01 &  22.12 &  22.66 &  22.67 &  22.69 &  22.72 &  22.75 &  22.81 &  22.99 \\\\\n",
      "\\bottomrule\n",
      "\\end{tabular}\n",
      "\n"
     ]
    }
   ],
   "source": [
    "print(pd.DataFrame(renews).round(2).to_latex())"
   ]
  },
  {
   "cell_type": "markdown",
   "metadata": {},
   "source": [
    "### Summary Statistics"
   ]
  },
  {
   "cell_type": "code",
   "execution_count": 53,
   "metadata": {},
   "outputs": [
    {
     "data": {
      "text/html": [
       "<div>\n",
       "<style scoped>\n",
       "    .dataframe tbody tr th:only-of-type {\n",
       "        vertical-align: middle;\n",
       "    }\n",
       "\n",
       "    .dataframe tbody tr th {\n",
       "        vertical-align: top;\n",
       "    }\n",
       "\n",
       "    .dataframe thead th {\n",
       "        text-align: right;\n",
       "    }\n",
       "</style>\n",
       "<table border=\"1\" class=\"dataframe\">\n",
       "  <thead>\n",
       "    <tr style=\"text-align: right;\">\n",
       "      <th></th>\n",
       "      <th>0.5</th>\n",
       "      <th>1.0</th>\n",
       "      <th>2.0</th>\n",
       "      <th>3.0</th>\n",
       "      <th>4.0</th>\n",
       "      <th>6.0</th>\n",
       "      <th>8.0</th>\n",
       "      <th>12.0</th>\n",
       "      <th>24.0</th>\n",
       "    </tr>\n",
       "  </thead>\n",
       "  <tbody>\n",
       "    <tr>\n",
       "      <th>mean_ae</th>\n",
       "      <td>0.027646</td>\n",
       "      <td>0.033619</td>\n",
       "      <td>0.028610</td>\n",
       "      <td>0.028618</td>\n",
       "      <td>0.028626</td>\n",
       "      <td>0.028642</td>\n",
       "      <td>0.028658</td>\n",
       "      <td>0.028774</td>\n",
       "      <td>0.029209</td>\n",
       "    </tr>\n",
       "    <tr>\n",
       "      <th>median_ae</th>\n",
       "      <td>0.023500</td>\n",
       "      <td>0.029687</td>\n",
       "      <td>0.033630</td>\n",
       "      <td>0.033557</td>\n",
       "      <td>0.033485</td>\n",
       "      <td>0.033340</td>\n",
       "      <td>0.033195</td>\n",
       "      <td>0.032906</td>\n",
       "      <td>0.031014</td>\n",
       "    </tr>\n",
       "    <tr>\n",
       "      <th>rmse</th>\n",
       "      <td>0.031908</td>\n",
       "      <td>0.038891</td>\n",
       "      <td>0.034383</td>\n",
       "      <td>0.034432</td>\n",
       "      <td>0.034482</td>\n",
       "      <td>0.034584</td>\n",
       "      <td>0.034690</td>\n",
       "      <td>0.034911</td>\n",
       "      <td>0.035651</td>\n",
       "    </tr>\n",
       "  </tbody>\n",
       "</table>\n",
       "</div>"
      ],
      "text/plain": [
       "               0.5       1.0       2.0       3.0       4.0       6.0   \\\n",
       "mean_ae    0.027646  0.033619  0.028610  0.028618  0.028626  0.028642   \n",
       "median_ae  0.023500  0.029687  0.033630  0.033557  0.033485  0.033340   \n",
       "rmse       0.031908  0.038891  0.034383  0.034432  0.034482  0.034584   \n",
       "\n",
       "               8.0       12.0      24.0  \n",
       "mean_ae    0.028658  0.028774  0.029209  \n",
       "median_ae  0.033195  0.032906  0.031014  \n",
       "rmse       0.034690  0.034911  0.035651  "
      ]
     },
     "metadata": {},
     "output_type": "display_data"
    },
    {
     "name": "stdout",
     "output_type": "stream",
     "text": [
      "\\begin{tabular}{lrrrrrrrrr}\n",
      "\\hline\n",
      "{} &  \\textbf{0.5hr} &  \\textbf{1hr} &  \\textbf{2hr} &  \\textbf{3hr} &  \\textbf{4hr} &  \\textbf{6hr} &  \\textbf{8hr} &  \\textbf{12hr} &  \\textbf{24hr} \\\\\n",
      "\\hline\n",
      "\\textbf{MAE}  &            2.76 &          3.36 &          2.86 &          2.86 &          2.86 &          2.86 &          2.87 &           2.88 &           2.92 \\\\\n",
      "\\textbf{RMSE} &            3.19 &          3.89 &          3.44 &          3.44 &          3.45 &          3.46 &          3.47 &           3.49 &           3.57 \\\\\n",
      "\\hline\n",
      "\\end{tabular}\n",
      "\n"
     ]
    },
    {
     "data": {
      "image/png": "[encoded data removed]",
      "text/plain": [
       "<Figure size 1440x720 with 1 Axes>"
      ]
     },
     "metadata": {},
     "output_type": "display_data"
    }
   ],
   "source": [
    "from sklearn.metrics import r2_score\n",
    "\n",
    "\n",
    "renew_data_df = {}\n",
    "for year in freq_year.keys():\n",
    "\n",
    "    curr = {}\n",
    "\n",
    "    abs_difference_list = list()\n",
    "    diff_list = []\n",
    "    for i in range(2005,2021):\n",
    "\n",
    "        simulated_value = freq_year[year].loc[i]['Percentage Renewable Production']\n",
    "        \n",
    "        \n",
    "        hist_value = reHistoric[i-2005]\n",
    "        \n",
    "        \n",
    "        diff_list.append(simulated_value - hist_value)\n",
    "        \n",
    "        diff = abs(simulated_value - hist_value)\n",
    "        abs_difference_list.append(diff)\n",
    "        \n",
    "        \n",
    "\n",
    "    curr['mean_ae'] = np.mean(np.array(abs_difference_list)[~np.isnan(abs_difference_list)])\n",
    "    curr['median_ae'] = statistics.median(np.array(abs_difference_list)[~np.isnan(abs_difference_list)])\n",
    "    curr['rmse'] = (np.mean(list(map(lambda a: a**2, np.array(abs_difference_list)[~np.isnan(abs_difference_list)]))))**0.5\n",
    "    \n",
    "        \n",
    "    renew_data_df[year] = curr\n",
    "        \n",
    "# mad = statistics.median(abs_difference_list)\n",
    "# std = mad*b\n",
    "# print(f\"Simulated results are {mad.round(decimals=2)} MTCO2-e (MAD) away from historic data\")\n",
    "# print(f\"Simulated results have a standard deviation of {std.round(decimals=2)} MTCO2-e from historic data\")\n",
    "\n",
    "renew_data_df = pd.DataFrame(renew_data_df)\n",
    "display(renew_data_df)\n",
    "temp_df = renew_data_df.copy() * 100\n",
    "back = \"\\\\\"\n",
    "temp_df.columns = [f\"{back}textbf{{{i}hr}}\" for i in freq_year.keys()]\n",
    "temp_df.index = [f\"{back}textbf{{MAE}}\", '_', f\"{back}textbf{{RMSE}}\"]\n",
    "print(temp_df.loc[[f\"{back}textbf{{MAE}}\", f\"{back}textbf{{RMSE}}\"]].round(2).to_latex().replace(\"textbackslash \",\"\").replace(\"\\\\{\",\"{\").replace(\"\\\\}\",\"}\").replace(\"toprule\", 'hline').replace('midrule','hline').replace('bottomrule','hline'))\n",
    "\n",
    "\n",
    "# fig, ax = plt.subplots(1,3, figsize=(30,10))\n",
    "# for i,j in enumerate(renew_data_df.index):\n",
    "#     ax[i].plot(freqs, renew_data_df.loc[j])\n",
    "\n",
    "# plt.savefig(\"results/stats_renew\")\n",
    "# plt.show()\n",
    "\n",
    "fig = plt.figure(figsize=(20,10))\n",
    "plt.plot(freqs, renew_data_df.loc['mean_ae'], label = 'MAE')\n",
    "plt.plot(freqs, renew_data_df.loc['rmse'], label = 'RMSE')\n",
    "plt.legend()\n",
    "plt.savefig(f\"results/stats_renew\")\n",
    "plt.show()\n",
    "\n",
    "\n",
    "\n"
   ]
  },
  {
   "cell_type": "code",
   "execution_count": 43,
   "metadata": {
    "ExecuteTime": {
     "end_time": "2021-03-24T04:26:38.351566Z",
     "start_time": "2021-03-24T04:24:53.327Z"
    }
   },
   "outputs": [],
   "source": [
    "# withinSTD = ((histRenewableProductionPerc < reNominal + reSTD) & (histRenewableProductionPerc > reNominal - reSTD)).sum()\n",
    "# numCases = len(histRenewableProductionPerc)\n",
    "# withinSTDpercentage = (withinSTD/numCases) * 100.0\n",
    "# print(f'{withinSTD} cases within the STD range out of {numCases}, which makes {withinSTDpercentage}% of total cases')\n",
    "\n",
    "# within2STD = ((histRenewableProductionPerc < reNominal + re2STD) & (histRenewableProductionPerc > reNominal - re2STD)).sum()\n",
    "# numCases = len(histRenewableProductionPerc)\n",
    "# within2STDpercentage = (within2STD/numCases) * 100.0\n",
    "# print(f'{within2STD} cases within the 2STD range out of {numCases}, which makes {within2STDpercentage}% of total cases')"
   ]
  },
  {
   "cell_type": "code",
   "execution_count": 44,
   "metadata": {
    "ExecuteTime": {
     "end_time": "2021-03-24T04:26:38.352559Z",
     "start_time": "2021-03-24T04:24:53.331Z"
    }
   },
   "outputs": [],
   "source": [
    "# b = 1.4826\n",
    "\n",
    "# abs_difference_list = list()\n",
    "\n",
    "# abs_difference_list = abs(histRenewableProductionPerc - reNominal)\n",
    "\n",
    "# mad = np.median(abs_difference_list[~np.isnan(abs_difference_list)])\n",
    "# print(f'The MAD of Nominal {mad:.2f}')\n",
    "\n",
    "# #Root-mean square error\n",
    "# squareTariffs = np.square(histRenewableProductionPerc - reNominal)\n",
    "# rms = np.sqrt(np.mean(squareTariffs[~np.isnan(squareTariffs)],axis=0))\n",
    "# print(f'The RMS of Nominal {rms:.2f}')\n"
   ]
  },
  {
   "cell_type": "code",
   "execution_count": 36,
   "metadata": {},
   "outputs": [],
   "source": [
    "runtime_df = pd.read_csv(\"../../runtimes.csv\", index_col=0)"
   ]
  },
  {
   "cell_type": "code",
   "execution_count": 37,
   "metadata": {},
   "outputs": [],
   "source": [
    "\n",
    "runtime_df = pd.read_csv(\"../../runtimes.csv\", index_col=0)\n",
    "\n",
    "a = []\n",
    "for i in runtime_df:\n",
    "    for j in runtime_df[i]:\n",
    "        a.append([i, j])\n",
    "        \n",
    "runtime_df = pd.DataFrame(a, columns=['Freq','Time'])\n",
    "runtime_df['Freq'] = pd.to_numeric(runtime_df['Freq'])"
   ]
  },
  {
   "cell_type": "code",
   "execution_count": 46,
   "metadata": {},
   "outputs": [
    {
     "name": "stdout",
     "output_type": "stream",
     "text": [
      "\\begin{tabular}{lrrrrrrrrr}\n",
      "\\toprule\n",
      "Freq &   0.5  &   1.0  &   2.0  &   3.0  &  4.0  &  6.0  &  8.0  &  12.0 &  24.0 \\\\\n",
      "\\midrule\n",
      "Time &  77.04 &  29.23 &  15.95 &  12.39 &  10.9 &  9.19 &  7.67 &   6.4 &  4.86 \\\\\n",
      "\\bottomrule\n",
      "\\end{tabular}\n",
      "\n"
     ]
    }
   ],
   "source": [
    "print(runtime_df.groupby(by='Freq').mean().sort_values(by='Freq').transpose().round(2).to_latex())"
   ]
  },
  {
   "cell_type": "code",
   "execution_count": 41,
   "metadata": {},
   "outputs": [
    {
     "data": {
      "image/png": "[encoded data removed]",
      "text/plain": [
       "<Figure size 468x216 with 1 Axes>"
      ]
     },
     "metadata": {},
     "output_type": "display_data"
    }
   ],
   "source": [
    "import seaborn as sns\n",
    "# fig = plt.figure(figsize = (30,10))\n",
    "# sns.boxplot(x='Freq', y='Time', data=runtime_df)\n",
    "fig = plt.figure(figsize = (6.5,3))\n",
    "sns.lineplot(x='Freq', y='Time', data = runtime_df.groupby(by='Freq').mean().sort_values(by='Freq'))\n",
    "\n",
    "for i in runtime_df.groupby(by='Freq').mean().sort_values(by='Freq').iterrows():\n",
    "    plt.text(i[0],i[1],str(i[1][0].round(2)), fontsize=8)\n",
    "    \n",
    "\n",
    "plt.grid()\n",
    "plt.xticks(sorted(list(set(list(runtime_df['Freq'])))))\n",
    "plt.grid()\n",
    "\n",
    "\n",
    "plt.savefig(\"results/runtime\")\n",
    "\n",
    "plt.show()"
   ]
  },
  {
   "cell_type": "code",
   "execution_count": 59,
   "metadata": {},
   "outputs": [
    {
     "data": {
      "text/plain": [
       "Java       77.040077\n",
       "Python    134.060521\n",
       "dtype: float64"
      ]
     },
     "metadata": {},
     "output_type": "display_data"
    }
   ],
   "source": [
    "comp_df = pd.read_csv(\"../../runtime java-vs-python.csv\", index_col=0)\n",
    "display(comp_df.mean())\n",
    "vals = []\n",
    "for i in comp_df:\n",
    "    vals += [(i,j) for j in comp_df[i]]\n",
    "comp_df = pd.DataFrame(vals, columns=['Language','Time'])"
   ]
  },
  {
   "cell_type": "code",
   "execution_count": 60,
   "metadata": {},
   "outputs": [],
   "source": [
    "comp_df.Time = pd.to_numeric(comp_df.Time)"
   ]
  },
  {
   "cell_type": "code",
   "execution_count": 61,
   "metadata": {},
   "outputs": [
    {
     "data": {
      "text/html": [
       "<div>\n",
       "<style scoped>\n",
       "    .dataframe tbody tr th:only-of-type {\n",
       "        vertical-align: middle;\n",
       "    }\n",
       "\n",
       "    .dataframe tbody tr th {\n",
       "        vertical-align: top;\n",
       "    }\n",
       "\n",
       "    .dataframe thead th {\n",
       "        text-align: right;\n",
       "    }\n",
       "</style>\n",
       "<table border=\"1\" class=\"dataframe\">\n",
       "  <thead>\n",
       "    <tr style=\"text-align: right;\">\n",
       "      <th></th>\n",
       "      <th>count</th>\n",
       "      <th>mean</th>\n",
       "      <th>std</th>\n",
       "      <th>min</th>\n",
       "      <th>25%</th>\n",
       "      <th>50%</th>\n",
       "      <th>75%</th>\n",
       "      <th>max</th>\n",
       "    </tr>\n",
       "    <tr>\n",
       "      <th>Language</th>\n",
       "      <th></th>\n",
       "      <th></th>\n",
       "      <th></th>\n",
       "      <th></th>\n",
       "      <th></th>\n",
       "      <th></th>\n",
       "      <th></th>\n",
       "      <th></th>\n",
       "    </tr>\n",
       "  </thead>\n",
       "  <tbody>\n",
       "    <tr>\n",
       "      <th>Java</th>\n",
       "      <td>10.0</td>\n",
       "      <td>77.040077</td>\n",
       "      <td>3.083343</td>\n",
       "      <td>74.066493</td>\n",
       "      <td>74.480034</td>\n",
       "      <td>76.738528</td>\n",
       "      <td>78.179593</td>\n",
       "      <td>83.640709</td>\n",
       "    </tr>\n",
       "    <tr>\n",
       "      <th>Python</th>\n",
       "      <td>10.0</td>\n",
       "      <td>134.060521</td>\n",
       "      <td>3.854372</td>\n",
       "      <td>128.887245</td>\n",
       "      <td>131.059435</td>\n",
       "      <td>133.311326</td>\n",
       "      <td>136.468109</td>\n",
       "      <td>139.916631</td>\n",
       "    </tr>\n",
       "  </tbody>\n",
       "</table>\n",
       "</div>"
      ],
      "text/plain": [
       "          count        mean       std         min         25%         50%  \\\n",
       "Language                                                                    \n",
       "Java       10.0   77.040077  3.083343   74.066493   74.480034   76.738528   \n",
       "Python     10.0  134.060521  3.854372  128.887245  131.059435  133.311326   \n",
       "\n",
       "                 75%         max  \n",
       "Language                          \n",
       "Java       78.179593   83.640709  \n",
       "Python    136.468109  139.916631  "
      ]
     },
     "execution_count": 61,
     "metadata": {},
     "output_type": "execute_result"
    }
   ],
   "source": [
    "comp_df.groupby(by='Language').describe()['Time']"
   ]
  },
  {
   "cell_type": "code",
   "execution_count": 62,
   "metadata": {},
   "outputs": [
    {
     "name": "stdout",
     "output_type": "stream",
     "text": [
      "\\begin{tabular}{lrrrr}\n",
      "\\toprule\n",
      "{} &    mean &   std &     min &     max \\\\\n",
      "Language &         &       &         &         \\\\\n",
      "\\midrule\n",
      "Java     &   77.04 &  3.08 &   74.07 &   83.64 \\\\\n",
      "Python   &  134.06 &  3.85 &  128.89 &  139.92 \\\\\n",
      "\\bottomrule\n",
      "\\end{tabular}\n",
      "\n"
     ]
    }
   ],
   "source": [
    "print(comp_df.groupby(by='Language').describe()['Time'][['mean', 'std', 'min', 'max']].round(2).to_latex())"
   ]
  },
  {
   "cell_type": "code",
   "execution_count": 63,
   "metadata": {},
   "outputs": [
    {
     "data": {
      "image/png": "[encoded data removed]",
      "text/plain": [
       "<Figure size 720x720 with 1 Axes>"
      ]
     },
     "metadata": {
      "needs_background": "light"
     },
     "output_type": "display_data"
    }
   ],
   "source": [
    "import seaborn as sns\n",
    "import matplotlib.pyplot as plt\n",
    "fig = plt.figure(figsize = (10,10))\n",
    "\n",
    "sns.boxplot(x='Time', y='Language', data=comp_df, orient='h')\n",
    "plt.savefig(\"results/language_comp\")"
   ]
  },
  {
   "cell_type": "code",
   "execution_count": null,
   "metadata": {},
   "outputs": [],
   "source": []
  },
  {
   "cell_type": "code",
   "execution_count": null,
   "metadata": {},
   "outputs": [],
   "source": []
  },
  {
   "cell_type": "code",
   "execution_count": null,
   "metadata": {},
   "outputs": [],
   "source": []
  },
  {
   "cell_type": "code",
   "execution_count": null,
   "metadata": {},
   "outputs": [],
   "source": []
  },
  {
   "cell_type": "code",
   "execution_count": null,
   "metadata": {},
   "outputs": [],
   "source": []
  },
  {
   "cell_type": "code",
   "execution_count": null,
   "metadata": {},
   "outputs": [],
   "source": []
  },
  {
   "cell_type": "code",
   "execution_count": null,
   "metadata": {},
   "outputs": [],
   "source": []
  },
  {
   "cell_type": "code",
   "execution_count": null,
   "metadata": {},
   "outputs": [],
   "source": []
  },
  {
   "cell_type": "code",
   "execution_count": null,
   "metadata": {},
   "outputs": [],
   "source": []
  },
  {
   "cell_type": "code",
   "execution_count": null,
   "metadata": {},
   "outputs": [],
   "source": []
  },
  {
   "cell_type": "code",
   "execution_count": null,
   "metadata": {},
   "outputs": [],
   "source": []
  },
  {
   "cell_type": "code",
   "execution_count": null,
   "metadata": {},
   "outputs": [],
   "source": []
  }
 ],
 "metadata": {
  "kernelspec": {
   "display_name": "Python 3",
   "language": "python",
   "name": "python3"
  },
  "language_info": {
   "codemirror_mode": {
    "name": "ipython",
    "version": 3
   },
   "file_extension": ".py",
   "mimetype": "text/x-python",
   "name": "python",
   "nbconvert_exporter": "python",
   "pygments_lexer": "ipython3",
   "version": "3.8.8"
  },
  "toc": {
   "base_numbering": 1,
   "nav_menu": {},
   "number_sections": true,
   "sideBar": true,
   "skip_h1_title": false,
   "title_cell": "Table of Contents",
   "title_sidebar": "Contents",
   "toc_cell": false,
   "toc_position": {
    "height": "calc(100% - 180px)",
    "left": "10px",
    "top": "150px",
    "width": "321.391px"
   },
   "toc_section_display": true,
   "toc_window_display": true
  },
  "varInspector": {
   "cols": {
    "lenName": 16,
    "lenType": 16,
    "lenVar": 40
   },
   "kernels_config": {
    "python": {
     "delete_cmd_postfix": "",
     "delete_cmd_prefix": "del ",
     "library": "var_list.py",
     "varRefreshCmd": "print(var_dic_list())"
    },
    "r": {
     "delete_cmd_postfix": ") ",
     "delete_cmd_prefix": "rm(",
     "library": "var_list.r",
     "varRefreshCmd": "cat(var_dic_list()) "
    }
   },
   "position": {
    "height": "707.986px",
    "left": "1487px",
    "right": "20px",
    "top": "426.997px",
    "width": "397.969px"
   },
   "types_to_exclude": [
    "module",
    "function",
    "builtin_function_or_method",
    "instance",
    "_Feature"
   ],
   "window_display": false
  }
 },
 "nbformat": 4,
 "nbformat_minor": 4
}
