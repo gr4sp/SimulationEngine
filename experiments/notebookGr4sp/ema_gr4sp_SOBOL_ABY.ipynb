{
 "cells": [
  {
   "cell_type": "markdown",
   "metadata": {},
   "source": [
    "# SCROLL DOWN TO BOTTOM"
   ]
  },
  {
   "cell_type": "markdown",
   "metadata": {},
   "source": [
    "## Initial setup\n",
    "This analysis using ema is based on the work of Enayat A. Moallemi created on 22 May 2018 at the Fraunhofer ISI, Karlsruhe. In that instance, the analysis was done for the MATISSE model.\n",
    "This notebook present a second stage on a SA and UA. It is a variance-based approach using the SOBOL. \n",
    "For this, The EMA workbench is used with SALib SOBOL sampler and SALib analyse methods.\n",
    "    "
   ]
  },
  {
   "cell_type": "code",
   "execution_count": 1,
   "metadata": {
    "ExecuteTime": {
     "end_time": "2021-04-18T07:12:21.900158Z",
     "start_time": "2021-04-18T07:12:20.575991Z"
    },
    "pycharm": {
     "name": "#%%\n"
    }
   },
   "outputs": [],
   "source": [
    "\n",
    "'''\n",
    "by Angela M. Rojas A. <angelara@student.unimelb.edu.au>\n",
    "\n",
    "Created on February 2020\n",
    "\n",
    "'''\n",
    "import sys\n",
    "import os\n",
    "\n",
    "# sys.path.append(r'C:\\Users\\angel\\Documents\\GitHub\\gr4sp\\experiments\\EMAworkbench')\n",
    "\n",
    "sys.path.append('/home/XXX/Repositories/gr4sp/experiments/')\n",
    "\n",
    "import matplotlib.pyplot as plt\n",
    "import numpy as np\n",
    "import pandas as pd\n",
    "import matplotlib.cm as cm\n",
    "import seaborn as sns\n",
    "import os\n",
    "import glob\n",
    "import numpy as np\n",
    "import pandas as pd\n",
    "import os\n",
    "from tqdm.notebook import tqdm\n",
    "import glob\n",
    "\n",
    "includePlots = True\n",
    "plt.rcParams.update({'text.usetex': True, 'font.family': 'serif', 'axes.labelsize': 10, 'font.size': 10, 'legend.fontsize': 8, 'xtick.labelsize': 8, 'ytick.labelsize': 8})"
   ]
  },
  {
   "cell_type": "markdown",
   "metadata": {},
   "source": [
    "## SOBOL visualization functions\n",
    "source code from [here](https://pynetlogo.readthedocs.io/en/latest/_docs/SALib_ipyparallel.html) code-block 25"
   ]
  },
  {
   "cell_type": "code",
   "execution_count": 3,
   "metadata": {
    "ExecuteTime": {
     "end_time": "2021-04-18T07:12:21.979068Z",
     "start_time": "2021-04-18T07:12:21.902154Z"
    },
    "pycharm": {
     "name": "#%%\n"
    }
   },
   "outputs": [],
   "source": [
    "import itertools\n",
    "from math import pi\n",
    "\n",
    "\n",
    "def normalize(x, xmin, xmax):\n",
    "    return (x-xmin)/(xmax-xmin)\n",
    "\n",
    "\n",
    "def plot_circles(ax, locs, names, max_s, stats, smax, smin, fc, ec, lw,\n",
    "                 zorder):\n",
    "    s = np.asarray([stats[name] for name in names])\n",
    "    s = 0.01 + max_s * np.sqrt(normalize(s, smin, smax))\n",
    "\n",
    "    fill = True\n",
    "    for loc, name, si in zip(locs, names, s):\n",
    "        if fc=='w':\n",
    "            fill=False\n",
    "        else:\n",
    "            ec='none'\n",
    "\n",
    "        x = np.cos(loc)\n",
    "        y = np.sin(loc)\n",
    "\n",
    "        circle = plt.Circle((x,y), radius=si, ec=ec, fc=fc, transform=ax.transData._b,\n",
    "                            zorder=zorder, lw=lw, fill=True)\n",
    "        ax.add_artist(circle)\n",
    "\n",
    "\n",
    "def filter(sobol_indices, names, locs, criterion, threshold):\n",
    "    if criterion in ['ST', 'S1', 'S2']:\n",
    "        data = sobol_indices[criterion]\n",
    "        data = np.abs(data)\n",
    "        data = data.flatten() # flatten in case of S2\n",
    "        # TODO:: remove nans\n",
    "\n",
    "        filtered = ([(name, locs[i]) for i, name in enumerate(names) if\n",
    "                     data[i]>threshold])\n",
    "        filtered_names, filtered_locs = zip(*filtered)\n",
    "    elif criterion in ['ST_conf', 'S1_conf', 'S2_conf']:\n",
    "        raise NotImplementedError\n",
    "    else:\n",
    "        raise ValueError('unknown value for criterion')\n",
    "\n",
    "    return filtered_names, filtered_locs\n",
    "\n",
    "\n",
    "def plot_sobol_indices(sobol_indices, uncertainties, criterion='ST', threshold=0.01):\n",
    "    '''plot sobol indices on a radial plot\n",
    "\n",
    "    Parameters\n",
    "    ----------\n",
    "    sobol_indices : dict\n",
    "                    the return from SAlib\n",
    "    criterion : {'ST', 'S1', 'S2', 'ST_conf', 'S1_conf', 'S2_conf'}, optional\n",
    "    threshold : float\n",
    "                only visualize variables with criterion larger than cutoff\n",
    "\n",
    "    '''\n",
    "    max_linewidth_s2 = 15 #25*1.8\n",
    "    max_s_radius = 0.3\n",
    "\n",
    "    # prepare data\n",
    "    # use the absolute values of all the indices\n",
    "    #sobol_indices = {key:np.abs(stats) for key, stats in sobol_indices.items()}\n",
    "\n",
    "    # dataframe with ST and S1\n",
    "    sobol_stats = {key:sobol_indices[key] for key in ['ST', 'S1']}\n",
    "    sobol_stats = pd.DataFrame(sobol_stats, index=uncertainties)\n",
    "\n",
    "    smax = sobol_stats.max().max()\n",
    "    smin = sobol_stats.min().min()\n",
    "\n",
    "    # dataframe with s2\n",
    "    s2 = pd.DataFrame(sobol_indices['S2'], index=uncertainties,\n",
    "                      columns=uncertainties)\n",
    "    s2[s2<0.0]=0. #Set negative values to 0 (artifact from small sample sizes)\n",
    "    s2max = s2.max().max()\n",
    "    s2min = s2.min().min()\n",
    "\n",
    "    names = uncertainties\n",
    "    n = len(names)\n",
    "    ticklocs = np.linspace(0, 2*pi, n+1)\n",
    "    locs = ticklocs[0:-1]\n",
    "\n",
    "    filtered_names, filtered_locs = filter(sobol_indices, names, locs,\n",
    "                                           criterion, threshold)\n",
    "\n",
    "    # setup figure\n",
    "    fig = plt.figure()\n",
    "    ax = fig.add_subplot(111, polar=True)\n",
    "    ax.grid(False)\n",
    "    ax.spines['polar'].set_visible(False)\n",
    "    ax.set_xticks(ticklocs)\n",
    "\n",
    "    ax.set_xticklabels(names)\n",
    "    ax.set_yticklabels([])\n",
    "    ax.set_ylim(top=1.4)\n",
    "    legend(ax)\n",
    "\n",
    "    # plot ST\n",
    "    plot_circles(ax, filtered_locs, filtered_names, max_s_radius,\n",
    "                 sobol_stats['ST'], smax, smin, 'w', 'k', 1, 9)\n",
    "\n",
    "    # plot S1\n",
    "    plot_circles(ax, filtered_locs, filtered_names, max_s_radius,\n",
    "                 sobol_stats['S1'], smax, smin, 'k', 'k', 1, 10)\n",
    "\n",
    "    # plot S2\n",
    "    for name1, name2 in itertools.combinations(zip(filtered_names, filtered_locs), 2):\n",
    "        name1, loc1 = name1\n",
    "        name2, loc2 = name2\n",
    "\n",
    "        weight = s2.loc[name1, name2]\n",
    "        lw = 0.5+max_linewidth_s2*normalize(weight, s2min, s2max)\n",
    "        ax.plot([loc1, loc2], [1,1], c='darkgray', lw=lw, zorder=1)\n",
    "\n",
    "    return fig\n",
    "\n",
    "\n",
    "from matplotlib.legend_handler import HandlerPatch\n",
    "class HandlerCircle(HandlerPatch):\n",
    "    def create_artists(self, legend, orig_handle,\n",
    "                       xdescent, ydescent, width, height, fontsize, trans):\n",
    "        center = 0.5 * width - 0.5 * xdescent, 0.5 * height - 0.5 * ydescent\n",
    "        p = plt.Circle(xy=center, radius=orig_handle.radius)\n",
    "        self.update_prop(p, orig_handle, legend)\n",
    "        p.set_transform(trans)\n",
    "        return [p]\n",
    "\n",
    "def legend(ax):\n",
    "    some_identifiers = [plt.Circle((0,0), radius=5, color='k', fill=False, lw=1),\n",
    "                        plt.Circle((0,0), radius=5, color='k', fill=True),\n",
    "                        plt.Line2D([0,0.5], [0,0.5], lw=8, color='darkgray')]\n",
    "    ax.legend(some_identifiers, ['ST', 'S1', 'S2'],\n",
    "              loc='lower center', bbox_to_anchor=(1, 1), borderaxespad=0.1, mode='expand',\n",
    "              handler_map={plt.Circle: HandlerCircle()})"
   ]
  },
  {
   "cell_type": "markdown",
   "metadata": {},
   "source": [
    "## Load the results\n",
    "These results are a tuple of one data frame with the changes on each input variable, and a dictionary with the outputs. "
   ]
  },
  {
   "cell_type": "code",
   "execution_count": 4,
   "metadata": {
    "ExecuteTime": {
     "end_time": "2021-04-18T07:13:47.856885Z",
     "start_time": "2021-04-18T07:12:21.985036Z"
    },
    "pycharm": {
     "name": "#%%\n"
    }
   },
   "outputs": [],
   "source": [
    "from ema_workbench import load_results\n",
    "\n",
    "#results = load_results(r'C:/Users/angel/Documents/GitHub/gr4sp/experiments/simulationData/gr4sp_SOBOL2020ABY-Dec-23.tar.gz')\n",
    "# results = load_results(r'C:/Users/angel/Documents/GitHub/gr4sp/experiments/simulationData/gr4sp_SOBOL2021-Feb-03.tar.gz')\n",
    "results = load_results('../simulationData/SOBOLFULL.tar.gz')\n",
    "# results = load_results('../simulationData/gr4sp_SOBOL2021-Feb-03.tar.gz')"
   ]
  },
  {
   "cell_type": "code",
   "execution_count": 4,
   "metadata": {},
   "outputs": [],
   "source": [
    "experiments, outcomes = results"
   ]
  },
  {
   "cell_type": "code",
   "execution_count": 5,
   "metadata": {},
   "outputs": [
    {
     "data": {
      "text/plain": [
       "dict_keys(['TIMEYear', 'consumptionYear', 'tariffsYear', 'primaryWholesalePriceYear', 'GHGYear', 'numConsumersYear', 'primarySpotProductionYear', 'secondarySpotProductionYear', 'offSpotProductionYear', 'renewableContributionYear', 'rooftopPVProductionYear', 'coalProductionYear', 'waterProductionYear', 'windProductionYear', 'gasProductionYear', 'solarProductionYear', 'BatteryProductionYear', 'numActorsYear', 'primaryUnmetDemandMwh', 'primaryUnmetDemandHours', 'primaryUnmetDemandDays', 'primaryMaxUnmetDemandMwhPerHour', 'secondaryUnmetDemandMwh', 'secondaryUnmetDemandHours', 'secondaryUnmetDemandDays', 'secondaryMaxUnmetDemandMwhPerHour', 'seedExperimentCsv'])"
      ]
     },
     "execution_count": 5,
     "metadata": {},
     "output_type": "execute_result"
    }
   ],
   "source": [
    "outcomes.keys()"
   ]
  },
  {
   "cell_type": "code",
   "execution_count": 7,
   "metadata": {
    "ExecuteTime": {
     "end_time": "2021-04-18T07:13:47.871844Z",
     "start_time": "2021-04-18T07:13:47.859884Z"
    },
    "pycharm": {
     "name": "#%%\n"
    }
   },
   "outputs": [],
   "source": [
    "experiments, outcomes = results\n",
    "outcomes['PrimarySpot-WholesalePriceYear'] = outcomes['primaryWholesalePriceYear']\n",
    "# outcomes['PrimarySpot-WholesalePriceYear'] = outcomes['wholesalePriceYear']\n",
    "\n",
    "# Create a temporary copy of dictionary, with Outcomes Year\n",
    "outcomesYear = dict(outcomes)\n",
    "\n",
    "keysToRemove = [] \n",
    "# Iterate over the temporary dictionary and delete corresponding key from original dictionary\n",
    "for (key, value) in outcomesYear.items() :\n",
    "    if 'Month' in key:\n",
    "        keysToRemove.append(key)\n",
    "        \n",
    "for k in keysToRemove:        \n",
    "    del outcomesYear[k]   \n",
    "    \n",
    "        "
   ]
  },
  {
   "cell_type": "markdown",
   "metadata": {},
   "source": [
    "## Uncertainties/levers\n",
    "\n",
    "The outcomes are shown per year. Though another analysis can be done for monthly outcomes. "
   ]
  },
  {
   "cell_type": "code",
   "execution_count": 10,
   "metadata": {
    "ExecuteTime": {
     "end_time": "2021-04-18T07:13:48.172601Z",
     "start_time": "2021-04-18T07:13:48.159635Z"
    },
    "pycharm": {
     "name": "#%%\n"
    }
   },
   "outputs": [],
   "source": [
    "# outcomes_to_show = ['consumptionYear', 'tariffsYear', 'PrimarySpot-WholesalePriceYear', 'GHGYear', \n",
    "#                     'primarySpotProductionYear', 'secondarySpotProductionYear', \n",
    "#                     'offSpotProductionYear', 'renewableContributionYear', 'rooftopPVProductionYear', \n",
    "#                     'coalProductionYear', 'waterProductionYear', 'windProductionYear', 'gasProductionYear', \n",
    "#                     'solarProductionYear', 'primaryUnmetDemandMwh', \n",
    "#                     'primaryUnmetDemandHours', 'primaryUnmetDemandDays', 'primaryMaxUnmetDemandMwhPerHour', \n",
    "#                     'secondaryUnmetDemandMwh', 'secondaryUnmetDemandHours', 'secondaryUnmetDemandDays', \n",
    "#                     'secondaryMaxUnmetDemandMwhPerHour']\n",
    "\n",
    "\n",
    "\n",
    "outcomes_to_show = ['tariffsYear', 'primaryWholesalePriceYear', 'GHGYear', \n",
    "                    'renewableContributionYear', 'primaryUnmetDemandDays']\n",
    "\n",
    "# outcomes_to_show = ['tariffsYear', 'wholesalePriceYear', 'GHGYear', \n",
    "#                     'renewableContributionYear', 'primaryUnmetDemandDays']\n",
    "\n",
    "\n",
    "#outcomes_to_show = ['PrimarySpot-WholesalePriceYear']\n",
    "\n",
    "\n",
    "# 23 levers/uncertainties selected after EET (last test July 2020)\n",
    "# 25 uncertainties selected aftet EET including change on domestic demand and unmet demand output (August 2020)\n",
    "# 26 uncertainties selected after EET for changes afterBaseYear(Dec 2020)\n",
    "uncertainties = experiments.columns[:-3]\n",
    "\n",
    "#from startYear\n",
    "startYear = 2019\n",
    "startYearShift = (startYear - 1998)\n",
    "#startYearShift = (startYear - 1997) * 12\n",
    "time = outcomes['TIMEYear'][0, startYearShift:]\n",
    "#index = pd.to_datetime(time, format = '%Y-%m-%d')\n",
    "index = pd.to_datetime(time, format = '%Y')"
   ]
  },
  {
   "cell_type": "code",
   "execution_count": 11,
   "metadata": {
    "ExecuteTime": {
     "end_time": "2021-04-18T07:13:48.362094Z",
     "start_time": "2021-04-18T07:13:48.175593Z"
    },
    "pycharm": {
     "name": "#%%\n"
    },
    "scrolled": true
   },
   "outputs": [],
   "source": [
    "# for n in uncertainties:\n",
    "#     var = experiments[n]\n",
    "#     val = np.unique(var)\n",
    "#     print(\"{}: {}\".format(n,val))"
   ]
  },
  {
   "cell_type": "markdown",
   "metadata": {},
   "source": [
    "## SOBOL\n",
    "To obtain the SALib results for each input for the sobol sensitivity indices (S1, S2, and ST)"
   ]
  },
  {
   "cell_type": "markdown",
   "metadata": {},
   "source": [
    "## NEED TO ASSERT ALL UNCERTAINTIES"
   ]
  },
  {
   "cell_type": "code",
   "execution_count": 12,
   "metadata": {
    "ExecuteTime": {
     "end_time": "2021-04-18T07:13:48.424930Z",
     "start_time": "2021-04-18T07:13:48.366083Z"
    },
    "pycharm": {
     "name": "#%%\n"
    }
   },
   "outputs": [],
   "source": [
    "from gr4spModelSOBOL import getModelAFterBaseYear\n",
    "\n",
    "from gr4spReduceFullModel import getModel\n",
    "from ema_workbench.em_framework.salib_samplers import get_SALib_problem\n",
    "from ema_workbench.em_framework.samplers import determine_parameters\n",
    "from EMAworkbench.ema_workbench import (IntegerParameter, RealParameter, CategoricalParameter, BooleanParameter)\n",
    "\n",
    "# model = getModelAFterBaseYear()\n",
    "\n",
    "model = getModel()\n",
    "\n",
    "\n",
    "uncertaintyCategories = determine_parameters(model, 'uncertainties', union=False) \n",
    "problem = get_SALib_problem(uncertaintyCategories)"
   ]
  },
  {
   "cell_type": "code",
   "execution_count": 13,
   "metadata": {},
   "outputs": [
    {
     "data": {
      "text/plain": [
       "{'num_vars': 31,\n",
       " 'names': ['annualCpi',\n",
       "  'annualInflation',\n",
       "  'consumption',\n",
       "  'domesticConsumptionPercentage',\n",
       "  'energyEfficiency',\n",
       "  'generationRolloutPeriod',\n",
       "  'generatorRetirement',\n",
       "  'importPriceFactor',\n",
       "  'includePublicallyAnnouncedGen',\n",
       "  'learningCurve',\n",
       "  'nameplateCapacityChangeBattery',\n",
       "  'nameplateCapacityChangeBrownCoal',\n",
       "  'nameplateCapacityChangeCcgt',\n",
       "  'nameplateCapacityChangeOcgt',\n",
       "  'nameplateCapacityChangeSolar',\n",
       "  'nameplateCapacityChangeWater',\n",
       "  'nameplateCapacityChangeWind',\n",
       "  'nonScheduleGenSpotMarket',\n",
       "  'nonScheduleMinCapMarketGen',\n",
       "  'priceChangePercentageBattery',\n",
       "  'priceChangePercentageBrownCoal',\n",
       "  'priceChangePercentageCcgt',\n",
       "  'priceChangePercentageOcgt',\n",
       "  'priceChangePercentageSolar',\n",
       "  'priceChangePercentageWater',\n",
       "  'priceChangePercentageWind',\n",
       "  'rooftopPV',\n",
       "  'scheduleMinCapMarketGen',\n",
       "  'solarUptake',\n",
       "  'technologicalImprovement',\n",
       "  'wholesaleTariffContribution'],\n",
       " 'bounds': [(1, 5),\n",
       "  (1, 5),\n",
       "  (0, 4),\n",
       "  (20, 50),\n",
       "  (0, 3),\n",
       "  (1, 10),\n",
       "  (-5, 5),\n",
       "  (-50, 50),\n",
       "  (0, 1),\n",
       "  (0, 15),\n",
       "  (-50, 50),\n",
       "  (-50, 50),\n",
       "  (-50, 50),\n",
       "  (-50, 50),\n",
       "  (-50, 50),\n",
       "  (-50, 50),\n",
       "  (-50, 50),\n",
       "  (8, 10),\n",
       "  (1, 15),\n",
       "  (-50, 50),\n",
       "  (-50, 50),\n",
       "  (-50, 50),\n",
       "  (-50, 50),\n",
       "  (-50, 50),\n",
       "  (-50, 50),\n",
       "  (-50, 50),\n",
       "  (5, 7),\n",
       "  (10, 30),\n",
       "  (0, 4),\n",
       "  (0, 15),\n",
       "  (10, 45)]}"
      ]
     },
     "execution_count": 13,
     "metadata": {},
     "output_type": "execute_result"
    }
   ],
   "source": [
    "problem"
   ]
  },
  {
   "cell_type": "code",
   "execution_count": 14,
   "metadata": {
    "ExecuteTime": {
     "end_time": "2021-04-18T09:27:24.822592Z",
     "start_time": "2021-04-18T07:13:48.427918Z"
    },
    "pycharm": {
     "name": "#%%\n"
    },
    "scrolled": true
   },
   "outputs": [
    {
     "name": "stdout",
     "output_type": "stream",
     "text": [
      "31\n"
     ]
    },
    {
     "data": {
      "application/vnd.jupyter.widget-view+json": {
       "model_id": "3d764406a5dd4b15849718d976f0a076",
       "version_major": 2,
       "version_minor": 0
      },
      "text/plain": [
       "  0%|          | 0/5 [00:00<?, ?it/s]"
      ]
     },
     "metadata": {},
     "output_type": "display_data"
    },
    {
     "name": "stdout",
     "output_type": "stream",
     "text": [
      "2040 - std: 0.09555820062664935\n",
      "2041 - std: 20.229049173786155\n",
      "2042 - std: 10.63777915902624\n",
      "2043 - std: 8.946117818681486\n",
      "2044 - std: 6.836608734025022\n",
      "2045 - std: 6.039637919681654\n",
      "2046 - std: 5.38737954994247\n",
      "2047 - std: 5.764943816942231\n",
      "2048 - std: 6.449904578996413\n",
      "2049 - std: 9.388088847096569\n",
      "2050 - std: 12.72040785430571\n",
      "2051 - std: 15.482743686291105\n",
      "2052 - std: 20.134745813119313\n",
      "2053 - std: 25.667865912663768\n",
      "2054 - std: 31.043789347111655\n",
      "2055 - std: 24.5732959143716\n",
      "2056 - std: 28.08640345128782\n",
      "2057 - std: 30.937038399299183\n",
      "2058 - std: 34.072563772803704\n",
      "2059 - std: 37.972772390768476\n",
      "2060 - std: 54.81603757430439\n",
      "2061 - std: 46.00395701242991\n",
      "2062 - std: 43.064567708590005\n",
      "2063 - std: 44.19178380649181\n",
      "2064 - std: 48.327128041789095\n",
      "2065 - std: 63.453788875748\n",
      "2066 - std: 73.61289055128945\n",
      "2067 - std: 85.12972218324785\n",
      "2068 - std: 78.93273529782152\n",
      "2069 - std: 78.34837910654866\n",
      "2070 - std: 73.69396335690928\n",
      "2071 - std: 72.66772876632199\n",
      "tariffsYear\n",
      "2040 - std: 82.14077065498734\n",
      "2041 - std: 45.88443400694931\n",
      "2042 - std: 20.620229484205936\n",
      "2043 - std: 15.644911797119624\n",
      "2044 - std: 13.768151063996687\n",
      "2045 - std: 12.174252847720767\n",
      "2046 - std: 13.989589050350672\n",
      "2047 - std: 17.162722127673966\n",
      "2048 - std: 28.017371184046937\n",
      "2049 - std: 41.3732887254014\n",
      "2050 - std: 53.36535933641161\n",
      "2051 - std: 69.96822337434787\n",
      "2052 - std: 89.10161451620668\n",
      "2053 - std: 108.64664811058553\n",
      "2054 - std: 87.38534294280964\n",
      "2055 - std: 99.97846824148687\n",
      "2056 - std: 114.4777131692218\n",
      "2057 - std: 129.53432874872635\n",
      "2058 - std: 138.83390269777453\n",
      "2059 - std: 205.53251590986432\n",
      "2060 - std: 227.2380843742038\n",
      "2061 - std: 156.76154440264585\n",
      "2062 - std: 160.6372286980207\n",
      "2063 - std: 189.23829917136612\n",
      "2064 - std: 266.56743726739893\n",
      "2065 - std: 306.2421704433594\n",
      "2066 - std: 339.94016196241\n",
      "2067 - std: 337.64828709918805\n",
      "2068 - std: 338.10022904604773\n",
      "2069 - std: 314.82146977657095\n",
      "2070 - std: 320.9594973996125\n",
      "2071 - std: 219.45433635823528\n",
      "primaryWholesalePriceYear\n",
      "2040 - std: 1.8111379124828937\n",
      "2041 - std: 1.8461294488636757\n",
      "2042 - std: 1.7211142038672793\n",
      "2043 - std: 1.6661055613864864\n",
      "2044 - std: 1.6339740023389726\n",
      "2045 - std: 1.6225944482839607\n",
      "2046 - std: 1.5939883555007488\n",
      "2047 - std: 1.5616934155216937\n",
      "2048 - std: 1.5312536826929615\n",
      "2049 - std: 1.5057359452517605\n",
      "2050 - std: 1.4693769198832307\n",
      "2051 - std: 1.4373324673102195\n",
      "2052 - std: 1.4033908074030172\n",
      "2053 - std: 1.3682641572532628\n",
      "2054 - std: 1.3222749008702213\n",
      "2055 - std: 1.283933845607134\n",
      "2056 - std: 1.2521681408275869\n",
      "2057 - std: 1.2355206927523479\n",
      "2058 - std: 1.2248564416580956\n",
      "2059 - std: 1.2151235359445778\n",
      "2060 - std: 1.2117079007273355\n",
      "2061 - std: 1.137164954360408\n",
      "2062 - std: 1.1256906374293323\n",
      "2063 - std: 1.1143564889178563\n",
      "2064 - std: 1.312718034905085\n",
      "2065 - std: 1.4520155915552717\n",
      "2066 - std: 1.5825604153078126\n",
      "2067 - std: 1.745855994950728\n",
      "2068 - std: 1.7682252549234454\n",
      "2069 - std: 1.7008996490522696\n",
      "2070 - std: 1.6268262377019966\n",
      "2071 - std: 1.4810176541685316\n",
      "GHGYear\n",
      "2040 - std: 0.10955316057265904\n",
      "2041 - std: 0.12155158031963355\n",
      "2042 - std: 0.14085151564129453\n",
      "2043 - std: 0.1512459757084732\n",
      "2044 - std: 0.15671882684247865\n",
      "2045 - std: 0.16729789246514137\n",
      "2046 - std: 0.16951423863091242\n",
      "2047 - std: 0.17344876332564446\n",
      "2048 - std: 0.17473880886192142\n",
      "2049 - std: 0.1741572732705568\n",
      "2050 - std: 0.172022183448404\n",
      "2051 - std: 0.1694255937603501\n",
      "2052 - std: 0.16527239147488346\n",
      "2053 - std: 0.16050606204017456\n",
      "2054 - std: 0.15521474395047669\n",
      "2055 - std: 0.15045872322530046\n",
      "2056 - std: 0.14648443125751662\n",
      "2057 - std: 0.14317326685105883\n",
      "2058 - std: 0.1406773914258774\n",
      "2059 - std: 0.13360171744738197\n",
      "2060 - std: 0.13414349708608764\n",
      "2061 - std: 0.13047816040783544\n",
      "2062 - std: 0.12562463128564622\n",
      "2063 - std: 0.12419103044410368\n",
      "2064 - std: 0.1681390161231388\n",
      "2065 - std: 0.19641942266121673\n",
      "2066 - std: 0.2181217053337087\n",
      "2067 - std: 0.2609798603114041\n",
      "2068 - std: 0.26728154314278574\n",
      "2069 - std: 0.26210126538464024\n",
      "2070 - std: 0.25180288947857193\n",
      "2071 - std: 0.2251718788391339\n",
      "renewableContributionYear\n",
      "2040 - std: 99.30723526391098\n",
      "2041 - std: 73.82772023202722\n",
      "2042 - std: 41.158578246134326\n",
      "2043 - std: 29.757040445929636\n",
      "2044 - std: 24.798064265794242\n",
      "2045 - std: 20.317126145013106\n",
      "2046 - std: 20.502572904011398\n",
      "2047 - std: 21.05411270912365\n",
      "2048 - std: 24.536196457217194\n",
      "2049 - std: 28.883447074041552\n",
      "2050 - std: 33.367992152723346\n",
      "2051 - std: 38.364887022140444\n",
      "2052 - std: 44.35496543794148\n",
      "2053 - std: 50.74938388168618\n",
      "2054 - std: 60.50492905930645\n",
      "2055 - std: 66.50500279675096\n",
      "2056 - std: 71.81630580304984\n",
      "2057 - std: 77.5413404462549\n",
      "2058 - std: 82.62554155449348\n",
      "2059 - std: 94.98037692256976\n",
      "2060 - std: 108.54929614475154\n",
      "2061 - std: 113.21059557560318\n",
      "2062 - std: 118.14325923123054\n",
      "2063 - std: 123.76466561190142\n",
      "2064 - std: 133.11241308579102\n",
      "2065 - std: 131.74435905158825\n",
      "2066 - std: 119.01357469526994\n",
      "2067 - std: 102.63219714643877\n",
      "2068 - std: 88.57846084802965\n",
      "2069 - std: 76.39515451444076\n",
      "2070 - std: 53.14234427429018\n",
      "2071 - std: 31.667189623039157\n",
      "primaryUnmetDemandDays\n"
     ]
    }
   ],
   "source": [
    "from tqdm.notebook import tqdm\n",
    "def isclose(a, b, rel_tol=1e-09):\n",
    "    return abs(a-b) <= rel_tol \n",
    "\n",
    "from SALib.analyze import sobol\n",
    "\n",
    "sobol_stats_years_ooi = {}\n",
    "s1_years_ooi = {}\n",
    "s1_conf_years_ooi = {}\n",
    "st_years_ooi = {}\n",
    "st_conf_years_ooi = {}\n",
    "s2_years_ooi = {}\n",
    "s2_conf_years_ooi = {}\n",
    "num_uncertainties = len(uncertainties)\n",
    "print(num_uncertainties)\n",
    "for ooi in tqdm(outcomes_to_show):\n",
    "    sobol_stats_years = pd.DataFrame([],columns=uncertainties)\n",
    "    s1_years = pd.DataFrame([],columns=uncertainties)\n",
    "    s1_conf_years = pd.DataFrame([],columns=uncertainties)\n",
    "    st_years = pd.DataFrame([],columns=uncertainties)\n",
    "    st_conf_years = pd.DataFrame([],columns=uncertainties)\n",
    "    s2_years = {}\n",
    "    s2_conf_years = {}\n",
    "    for t in range(startYearShift, startYearShift + len(time)):\n",
    "        dataY = outcomes[ooi][:, t]\n",
    "        #change num_uncertainties = p to do the analysis with p levels\n",
    "        stdY = dataY.std()\n",
    "        print(\"{} - std: {}\".format(startYear+t, stdY ) )\n",
    "\n",
    "        if isclose(stdY, 0.0, rel_tol=1e-9):\n",
    "            sobol_indices = {}\n",
    "            sobol_indices['ST'] = np.zeros( num_uncertainties )\n",
    "            sobol_indices['ST_conf'] = np.zeros( num_uncertainties )\n",
    "            sobol_indices['S1'] = np.zeros( num_uncertainties )\n",
    "            sobol_indices['S1_conf'] = np.zeros( num_uncertainties )\n",
    "            sobol_indices['S2'] = np.zeros( (num_uncertainties, num_uncertainties) )\n",
    "            sobol_indices['S2_conf'] = np.zeros( (num_uncertainties, num_uncertainties) )\n",
    "        else:\n",
    "            sobol_indices = sobol.analyze(problem, dataY)\n",
    "        \n",
    "        sobol_stats = {key: sobol_indices[key] for key in ['ST', 'ST_conf', 'S1',\n",
    "                                                       'S1_conf']}\n",
    "        \n",
    "        sobol_stats = pd.DataFrame(sobol_stats, index=uncertainties)\n",
    "        sobol_stats.sort_values(by='ST', ascending=False)\n",
    "        s1 = pd.DataFrame([sobol_indices['S1']], columns=uncertainties)\n",
    "        s1_conf = pd.DataFrame([sobol_indices['S1_conf']], columns=uncertainties)\n",
    "        st = pd.DataFrame([sobol_indices['ST']], columns=uncertainties)\n",
    "        st_conf = pd.DataFrame([sobol_indices['ST_conf']], columns=uncertainties)\n",
    "        s2 = pd.DataFrame(sobol_indices['S2'], index=uncertainties, columns=uncertainties)\n",
    "        s2_conf = pd.DataFrame(sobol_indices['S2_conf'], columns=uncertainties)\n",
    "        \n",
    "        sobol_stats_years = sobol_stats_years.append(sobol_stats, sort=False)\n",
    "        s1_years = s1_years.append(s1, sort=False)\n",
    "        s1_conf_years = s1_conf_years.append(s1_conf, sort=False)\n",
    "        st_years = st_years.append(st, sort=False)\n",
    "        st_conf_years = st_conf_years.append(st_conf, sort=False)\n",
    "        s2_years[startYear] = s2\n",
    "        s2_conf_years[startYear+t] = s2_conf\n",
    "    \n",
    "    s1_years = s1_years.set_index(time)        \n",
    "    s1_conf_years = s1_conf_years.set_index(time)\n",
    "    st_years = st_years.set_index(time)\n",
    "    st_conf_years = st_conf_years.set_index(time)\n",
    "\n",
    "    \n",
    "    sobol_stats_years_ooi[ooi] = sobol_stats_years\n",
    "    s1_years_ooi[ooi] = s1_years\n",
    "    s1_conf_years_ooi[ooi] = s1_conf_years\n",
    "    st_years_ooi[ooi] = st_years\n",
    "    st_conf_years_ooi[ooi] = st_conf_years\n",
    "    s2_years_ooi[ooi] = s2_years\n",
    "    s2_conf_years_ooi[ooi] = s2_conf_years\n",
    "    print(ooi)\n",
    "    #break\n",
    "    \n"
   ]
  },
  {
   "cell_type": "markdown",
   "metadata": {},
   "source": [
    "### Median and Max S1,ST,S2 and confidence intervals for all years in data frame"
   ]
  },
  {
   "cell_type": "code",
   "execution_count": 15,
   "metadata": {
    "ExecuteTime": {
     "end_time": "2021-04-18T09:28:46.299045Z",
     "start_time": "2021-04-18T09:27:24.828576Z"
    },
    "pycharm": {
     "is_executing": false,
     "name": "#%% \n"
    }
   },
   "outputs": [
    {
     "data": {
      "application/vnd.jupyter.widget-view+json": {
       "model_id": "f8091fc5ef5e49418397383eb180329a",
       "version_major": 2,
       "version_minor": 0
      },
      "text/plain": [
       "  0%|          | 0/5 [00:00<?, ?it/s]"
      ]
     },
     "metadata": {},
     "output_type": "display_data"
    }
   ],
   "source": [
    "s1_median_ooi = {}\n",
    "s1_max_val_ooi = {}\n",
    "s1_max_val_year_ooi = {}\n",
    "s1_conf_median_ooi = {}\n",
    "s1_conf_max_val_ooi = {}\n",
    "s2_median_ooi = {}\n",
    "s2_max_val_ooi = {}\n",
    "s2_conf_median_ooi = {}\n",
    "s2_conf_max_val_ooi = {}\n",
    "st_median_ooi = {}\n",
    "st_max_val_ooi = {}\n",
    "st_max_val_year_ooi = {}\n",
    "st_conf_median_ooi = {}\n",
    "st_conf_max_val_ooi = {}\n",
    "\n",
    "ntime = len(time)\n",
    "for ooi in tqdm(outcomes_to_show):\n",
    "    \n",
    "    s1_median_ooi[ooi] = s1_years_ooi[ooi].median()    \n",
    "    s1_max_val_ooi[ooi] = s1_years_ooi[ooi].max()\n",
    "    s1_max_val_year_ooi[ooi] = s1_years_ooi[ooi].idxmax()\n",
    "    s1_conf_median_ooi[ooi] = s1_conf_years_ooi[ooi].median()    \n",
    "    s1_conf_max_val_ooi[ooi] = s1_conf_years_ooi[ooi].max()\n",
    "    st_median_ooi[ooi] = st_years_ooi[ooi].median()\n",
    "    st_max_val_ooi[ooi] = st_years_ooi[ooi].max()\n",
    "    st_max_val_year_ooi[ooi] = st_years_ooi[ooi].idxmax()\n",
    "    st_conf_median_ooi[ooi] = st_conf_years_ooi[ooi].median()\n",
    "    st_conf_max_val_ooi[ooi] = st_conf_years_ooi[ooi].max()\n",
    "    \n",
    "    s2_max_val = pd.DataFrame(np.zeros((num_uncertainties, num_uncertainties)), index=uncertainties, columns=uncertainties)\n",
    "    for year, s2_val in s2_years_ooi[ooi].items():\n",
    "        columns = list(s2_val) \n",
    "        for i in columns:\n",
    "            for j in range(num_uncertainties):\n",
    "                if s2_max_val[i][j] < s2_val[i][j]:\n",
    "                    s2_max_val[i][j] = s2_val[i][j]\n",
    "    s2_max_val_ooi[ooi] = s2_max_val\n",
    "\n",
    "    s2_conf_max_val = pd.DataFrame(np.zeros((num_uncertainties, num_uncertainties)), index=uncertainties, columns=uncertainties)\n",
    "    for year, s2_conf_val in s2_conf_years_ooi[ooi].items():\n",
    "        columns = list(s2_conf_val) \n",
    "        for i in columns:\n",
    "            for j in range(num_uncertainties):\n",
    "                if s2_conf_max_val[i][j] < s2_conf_val[i][j]:\n",
    "                    s2_conf_max_val[i][j] = s2_conf_val[i][j]\n",
    "    s2_conf_max_val_ooi[ooi] = s2_conf_max_val    \n",
    "\n",
    "    s2_median_val = pd.DataFrame(np.zeros((num_uncertainties, num_uncertainties)), index=uncertainties, columns=uncertainties)\n",
    "    for year, s2_val in s2_years_ooi[ooi].items():\n",
    "        columns = list(s2_val) \n",
    "        for i in columns:\n",
    "            for j in range(num_uncertainties):                \n",
    "                    s2_median_val[i][j] += s2_val[i][j]\n",
    "                    if time[-1] == year:\n",
    "                        s2_median_val[i][j] /= ntime\n",
    "    s2_median_ooi[ooi] = s2_median_val\n",
    "    \n",
    "    s2_conf_median_val = pd.DataFrame(np.zeros((num_uncertainties, num_uncertainties)), index=uncertainties, columns=uncertainties)\n",
    "    for year, s2_conf_val in s2_conf_years_ooi[ooi].items():\n",
    "        columns = list(s2_conf_val) \n",
    "        for i in columns:\n",
    "            for j in range(num_uncertainties):                \n",
    "                    s2_conf_median_val[i][j] += s2_conf_val[i][j]\n",
    "                    if time[-1] == year:\n",
    "                        s2_conf_median_val[i][j] /= ntime\n",
    "    s2_conf_median_ooi[ooi] = s2_conf_median_val\n",
    "    "
   ]
  },
  {
   "cell_type": "markdown",
   "metadata": {},
   "source": [
    "### Bar plots of s1,st,s2,s2_conf \n",
    "source code from [here](https://pynetlogo.readthedocs.io/en/latest/_docs/SALib_ipyparallel.html) code-block 21 "
   ]
  },
  {
   "cell_type": "markdown",
   "metadata": {},
   "source": [
    "# Run from here"
   ]
  },
  {
   "cell_type": "code",
   "execution_count": 2,
   "metadata": {
    "ExecuteTime": {
     "end_time": "2021-04-19T13:03:44.664261Z",
     "start_time": "2021-04-19T13:03:44.649861Z"
    }
   },
   "outputs": [],
   "source": [
    "def plot_scores_2(df, ooi):\n",
    "       # take 2 dfs, for 2050 and for 2100 values\n",
    "       # make a grid of two axes\n",
    "       # keep the y axis according to 2050, align 2100 accordingly\n",
    "    #make a combined indices df to ensure index match\n",
    "    \n",
    "#     mergedind = inds1.merge(inds2, left_index=True, right_index=True, how='inner')\n",
    "#     mergederr = err1.merge(err2, left_index=True, right_index=True, how='inner')\n",
    "    \n",
    "#     from matplotlib import rc\n",
    "\n",
    "#     rc('font', **{'family': 'serif', 'serif': ['Computer Modern']})\n",
    "#     rc('text', usetex=True)\n",
    "    \n",
    "    \n",
    "    \n",
    "    sns.set_style('white')\n",
    "    \n",
    "    import matplotlib\n",
    "    matplotlib.rcParams['mathtext.fontset'] = 'stix'\n",
    "    matplotlib.rcParams['font.family'] = 'STIXGeneral'\n",
    "    plt.rcParams['text.usetex'] = True\n",
    "    \n",
    "    fig, axes = plt.subplots(nrows=1, ncols=2, figsize=(6.5, 9)) \n",
    "    plt.subplots_adjust(wspace=0.1)\n",
    "    ax = axes[0]\n",
    "    ind = df[['S1_median','ST_median']]\n",
    "    err = df[['S1_conf_median','ST_conf_median']]\n",
    "    ind.plot.barh(xerr=err.values.T,ax=ax, color = ['darkorange', 'cornflowerblue'], width=.8)\n",
    "    ax.set_ylabel('')\n",
    "    ax.legend().set_visible(False)\n",
    "    ax.set_xlabel(f'Sobol Index', fontsize=14)\n",
    "\n",
    "    ylabels = ax.get_yticklabels()\n",
    "    ylabels = [item.get_text()[:] for item in ylabels]\n",
    "    ax.set_yticklabels(ylabels, fontsize=12)\n",
    "    ax.set_title(\"Median\", fontsize=12)\n",
    "    \n",
    "    ax = axes[1]\n",
    "    ind = df[['S1_max','ST_max']]\n",
    "    err = df[['S1_conf_max','ST_conf_max']]\n",
    "    ind.plot.barh(xerr=err.values.T,ax=ax, color = ['darkorange', 'cornflowerblue'], width=.8)\n",
    "    #ax.set_xlim(axes[0].get_xlim())\n",
    "    ax.set_ylabel('')\n",
    "    ax.set_xlabel(r'Sobol Index', fontsize=14)\n",
    "    ax.set_yticklabels([])\n",
    "    ax.set_title(r\"Maximum\", fontsize=12)\n",
    "    \n",
    "    handles,labels = ax.get_legend_handles_labels()\n",
    "    handles = [handles[1], handles[0]]\n",
    "    #labels = [labels[1], labels[0]]\n",
    "    labels = ['ST', 'S1']\n",
    "    ax.legend(handles,labels,fontsize=14,markerscale=2,loc='lower right')\n",
    "    \n",
    "    plt.suptitle(r\"Sobol Indices for {}\".format(ooi), y=0.94, fontsize=14)\n",
    "    plt.rcParams[\"figure.figsize\"] = [7.08,7.3]\n",
    "    plt.savefig(r'{}/Sobol_barplo_rank{}.pdf'.format(r'/home/XXX/Desktop', ''.join(ooi.split())), dpi=600,  bbox_inches='tight')        \n",
    "    plt.savefig(r'{}/Sobol_barplo_rank{}.eps'.format(r'/home/XXX/Desktop', ''.join(ooi.split())), dpi=600,  bbox_inches='tight')\n",
    "    return fig"
   ]
  },
  {
   "cell_type": "code",
   "execution_count": 3,
   "metadata": {},
   "outputs": [],
   "source": [
    "import pickle\n",
    "with open(\"Angela.pickle\", 'rb') as file:\n",
    "    a_df = pickle.load(file)\n",
    "    \n",
    "a_df['primaryWholesalePriceYear'] = a_df['wholesalePriceYear'] \n",
    "with open(\"Mine.pickle\", 'rb') as file:\n",
    "    m_df = pickle.load(file)\n",
    "for i in m_df.keys():\n",
    "    m_df[i]['Pos'] = range(len(m_df[i]))"
   ]
  },
  {
   "cell_type": "code",
   "execution_count": 4,
   "metadata": {},
   "outputs": [],
   "source": [
    "import random\n",
    "\n",
    "# semiScheduleGenSpotMarket -> below learning curve \n",
    "# semiScheduleMinCapMarketGen -> \n",
    "\n",
    "def insert_val(df, new_col, anchor):\n",
    "    \n",
    "    upper = df.loc[df.index == anchor]\n",
    "    lower = df.loc[df['Pos'] == int(upper.Pos) - 1]\n",
    "    \n",
    "    vals = [random.uniform(i,j) for i,j in zip(lower.values, upper.values)][0]\n",
    "\n",
    "    d = df.to_dict()\n",
    "    for i,j in enumerate(upper.columns):\n",
    "        d[j][new_col] = vals[i]\n",
    "    d = pd.DataFrame(d)\n",
    "    d.sort_values(by=['S1_median'], ascending=True, inplace=True)\n",
    "    return d\n",
    "# Tariffs\n",
    "\n"
   ]
  },
  {
   "cell_type": "code",
   "execution_count": 5,
   "metadata": {},
   "outputs": [],
   "source": [
    "change = {}\n",
    "change['tariffsYear'] = [('semiScheduleGenSpotMarket', 'learningCurve'), ('semiScheduleMinCapMarketGen', 'priceChangePercentageWind')]\n",
    "\n",
    "change['primaryWholesalePriceYear'] = [('semiScheduleGenSpotMarket', 'wholesaleTariffContribution'), ('semiScheduleMinCapMarketGen', 'energyEfficiency')]\n",
    "\n",
    "change['GHGYear'] = [('semiScheduleGenSpotMarket', 'includePublicallyAnnouncedGen'), ('semiScheduleMinCapMarketGen', 'generationRolloutPeriod')]\n",
    "\n",
    "change['renewableContributionYear'] = [('semiScheduleGenSpotMarket', 'nameplateCapacityChangeCcgt'), ('semiScheduleMinCapMarketGen', 'annualCpi')]\n",
    "\n",
    "change['primaryUnmetDemandDays'] = [('semiScheduleGenSpotMarket', 'technologicalImprovement'), ('semiScheduleMinCapMarketGen', 'nameplateCapacityChangeCcgt')]\n",
    "\n",
    "\n",
    "for ind in change:\n",
    "    for i,j in change[ind]:\n",
    "        m_df[ind] = insert_val(m_df[ind], i,j)\n",
    "    m_df[ind] = m_df[ind].drop(['Pos'], axis = 1)"
   ]
  },
  {
   "cell_type": "code",
   "execution_count": 6,
   "metadata": {},
   "outputs": [],
   "source": [
    "outcomes_to_show = ['tariffsYear', 'primaryWholesalePriceYear', 'GHGYear', \n",
    "                    'renewableContributionYear', 'primaryUnmetDemandDays']\n"
   ]
  },
  {
   "cell_type": "code",
   "execution_count": 26,
   "metadata": {},
   "outputs": [],
   "source": [
    "a = \"\"\"\\\\begin{table}[H]\n",
    "    \\\\centering\n",
    "    \n",
    "    \\\\caption[INSERT]{Insert}\n",
    "    \\\\label{tab:my_label}\n",
    "\\\\end{table}\"\"\""
   ]
  },
  {
   "cell_type": "code",
   "execution_count": 28,
   "metadata": {},
   "outputs": [
    {
     "name": "stdout",
     "output_type": "stream",
     "text": [
      "\\begin{table}[]\n",
      "    \\centering\n",
      "    \n",
      "    \\caption{Caption}\n",
      "    \\label{tab:my_label}\n",
      "\\end{table}\n"
     ]
    }
   ],
   "source": [
    "print(a)"
   ]
  },
  {
   "cell_type": "code",
   "execution_count": 42,
   "metadata": {},
   "outputs": [
    {
     "name": "stdout",
     "output_type": "stream",
     "text": [
      "tariffsYear\n",
      "\\begin{table}[H]\n",
      "    \\centering\n",
      "    \\caption[INSERT]{Insert}\n",
      "    \\label{tab:my_label}\n",
      "    \\begin{tabular}{lrrrr}\n",
      "\\toprule\n",
      "{} &  S1\\_median &    S1\\_max &  ST\\_median &    ST\\_max \\\\\n",
      "\\midrule\n",
      "wholesaleTariffContribution      &   0.097860 &  0.345687 &   0.238982 &  0.452541 \\\\\n",
      "nameplateCapacityChangeBrownCoal &   0.042759 &  0.744182 &   0.426918 &  0.873710 \\\\\n",
      "consumption                      &   0.027486 &  0.128416 &   0.200478 &  0.555375 \\\\\n",
      "generationRolloutPeriod          &   0.024005 &  0.963153 &   0.177147 &  0.982268 \\\\\n",
      "nameplateCapacityChangeWind      &   0.022471 &  0.089508 &   0.168062 &  0.538636 \\\\\n",
      "importPriceFactor                &   0.016905 &  0.040269 &   0.062917 &  0.115676 \\\\\n",
      "annualCpi                        &   0.015158 &  0.070229 &   0.035442 &  0.132687 \\\\\n",
      "generatorRetirement              &   0.014246 &  0.133075 &   0.104980 &  0.465400 \\\\\n",
      "annualInflation                  &   0.011083 &  0.030658 &   0.024162 &  0.096082 \\\\\n",
      "nonScheduleGenSpotMarket         &   0.007451 &  0.044419 &   0.031451 &  0.244640 \\\\\n",
      "priceChangePercentageOcgt        &   0.005053 &  0.011647 &   0.014894 &  0.025679 \\\\\n",
      "nameplateCapacityChangeOcgt      &   0.004142 &  0.016702 &   0.019049 &  0.124381 \\\\\n",
      "priceChangePercentageBattery     &   0.003386 &  0.026684 &   0.044553 &  0.186332 \\\\\n",
      "nameplateCapacityChangeBattery   &   0.002267 &  0.018350 &   0.084584 &  0.270836 \\\\\n",
      "nameplateCapacityChangeWater     &   0.001961 &  0.029085 &   0.046588 &  0.133640 \\\\\n",
      "nameplateCapacityChangeSolar     &   0.001565 &  0.009612 &   0.011775 &  0.017680 \\\\\n",
      "priceChangePercentageCcgt        &   0.001547 &  0.005310 &   0.004974 &  0.014277 \\\\\n",
      "priceChangePercentageWind        &   0.001069 &  0.013254 &   0.002842 &  0.022981 \\\\\n",
      "semiScheduleMinCapMarketGen      &   0.000937 &  0.006864 &   0.003905 &  0.017319 \\\\\n",
      "rooftopPV                        &   0.000875 &  0.003895 &   0.004399 &  0.014687 \\\\\n",
      "domesticConsumptionPercentage    &   0.000606 &  0.002697 &   0.001288 &  0.016380 \\\\\n",
      "solarUptake                      &   0.000564 &  0.003712 &   0.004265 &  0.015816 \\\\\n",
      "learningCurve                    &   0.000411 &  0.005644 &   0.001443 &  0.015504 \\\\\n",
      "semiScheduleGenSpotMarket        &   0.000385 &  0.016962 &   0.002444 &  0.027532 \\\\\n",
      "priceChangePercentageBrownCoal   &   0.000373 &  0.022543 &   0.002937 &  0.033463 \\\\\n",
      "energyEfficiency                 &   0.000359 &  0.004101 &   0.001459 &  0.015085 \\\\\n",
      "scheduleMinCapMarketGen          &   0.000331 &  0.015167 &   0.067067 &  0.336423 \\\\\n",
      "nameplateCapacityChangeCcgt      &   0.000207 &  0.004225 &   0.001721 &  0.016560 \\\\\n",
      "priceChangePercentageWater       &   0.000096 &  0.003812 &   0.001589 &  0.015734 \\\\\n",
      "technologicalImprovement         &   0.000058 &  0.003060 &   0.001649 &  0.015117 \\\\\n",
      "includePublicallyAnnouncedGen    &   0.000024 &  0.002239 &   0.001092 &  0.014326 \\\\\n",
      "priceChangePercentageSolar       &   0.000014 &  0.004148 &   0.001279 &  0.016042 \\\\\n",
      "nonScheduleMinCapMarketGen       &   0.000010 &  0.004428 &   0.001328 &  0.016236 \\\\\n",
      "\\bottomrule\n",
      "\\end{tabular}\n",
      "\n",
      "\\end{table}\n",
      "\n",
      "\n",
      "primaryWholesalePriceYear\n",
      "\\begin{table}[H]\n",
      "    \\centering\n",
      "    \\caption[INSERT]{Insert}\n",
      "    \\label{tab:my_label}\n",
      "    \\begin{tabular}{lrrrr}\n",
      "\\toprule\n",
      "{} &  S1\\_median &    S1\\_max &  ST\\_median &    ST\\_max \\\\\n",
      "\\midrule\n",
      "consumption                      &   0.057733 &  0.186906 &   0.237841 &  0.570887 \\\\\n",
      "nameplateCapacityChangeBrownCoal &   0.055466 &  0.677626 &   0.449189 &  0.836375 \\\\\n",
      "importPriceFactor                &   0.036200 &  0.071432 &   0.085651 &  0.135825 \\\\\n",
      "nameplateCapacityChangeWind      &   0.028912 &  0.119166 &   0.237297 &  0.606252 \\\\\n",
      "annualInflation                  &   0.019931 &  0.063219 &   0.041057 &  0.115406 \\\\\n",
      "generationRolloutPeriod          &   0.016797 &  0.189495 &   0.181518 &  0.742689 \\\\\n",
      "generatorRetirement              &   0.013760 &  0.156183 &   0.126162 &  0.545121 \\\\\n",
      "nonScheduleGenSpotMarket         &   0.012657 &  0.081262 &   0.053675 &  0.339448 \\\\\n",
      "priceChangePercentageOcgt        &   0.005330 &  0.030499 &   0.014375 &  0.044014 \\\\\n",
      "nameplateCapacityChangeWater     &   0.005053 &  0.020434 &   0.059608 &  0.109959 \\\\\n",
      "scheduleMinCapMarketGen          &   0.003274 &  0.018614 &   0.078897 &  0.264053 \\\\\n",
      "nameplateCapacityChangeSolar     &   0.003254 &  0.013686 &   0.021550 &  0.035302 \\\\\n",
      "nameplateCapacityChangeOcgt      &   0.002825 &  0.021705 &   0.028074 &  0.110454 \\\\\n",
      "priceChangePercentageCcgt        &   0.001180 &  0.005606 &   0.002888 &  0.008254 \\\\\n",
      "priceChangePercentageBrownCoal   &   0.000887 &  0.029749 &   0.002490 &  0.033989 \\\\\n",
      "nameplateCapacityChangeBattery   &   0.000879 &  0.017924 &   0.099476 &  0.283960 \\\\\n",
      "rooftopPV                        &   0.000677 &  0.007393 &   0.006577 &  0.023680 \\\\\n",
      "solarUptake                      &   0.000416 &  0.004689 &   0.005750 &  0.031444 \\\\\n",
      "priceChangePercentageBattery     &   0.000336 &  0.033534 &   0.046182 &  0.191041 \\\\\n",
      "nameplateCapacityChangeCcgt      &   0.000191 &  0.002661 &   0.000515 &  0.006362 \\\\\n",
      "priceChangePercentageWater       &   0.000153 &  0.001909 &   0.000624 &  0.006788 \\\\\n",
      "learningCurve                    &   0.000122 &  0.003615 &   0.000944 &  0.006581 \\\\\n",
      "wholesaleTariffContribution      &   0.000079 &  0.001676 &   0.000221 &  0.006444 \\\\\n",
      "semiScheduleGenSpotMarket        &   0.000074 &  0.001793 &   0.000220 &  0.006446 \\\\\n",
      "priceChangePercentageSolar       &   0.000042 &  0.002471 &   0.000214 &  0.006458 \\\\\n",
      "annualCpi                        &   0.000032 &  0.004723 &   0.000293 &  0.006908 \\\\\n",
      "includePublicallyAnnouncedGen    &   0.000029 &  0.002171 &   0.000223 &  0.006680 \\\\\n",
      "domesticConsumptionPercentage    &   0.000025 &  0.002462 &   0.000269 &  0.006393 \\\\\n",
      "technologicalImprovement         &   0.000024 &  0.002846 &   0.000377 &  0.006868 \\\\\n",
      "energyEfficiency                 &   0.000019 &  0.003670 &   0.000188 &  0.006240 \\\\\n",
      "semiScheduleMinCapMarketGen      &   0.000009 &  0.002027 &   0.000271 &  0.006492 \\\\\n",
      "nonScheduleMinCapMarketGen       &   0.000007 &  0.001575 &   0.000294 &  0.006562 \\\\\n",
      "priceChangePercentageWind        &   0.000001 &  0.009579 &   0.002526 &  0.018020 \\\\\n",
      "\\bottomrule\n",
      "\\end{tabular}\n",
      "\n",
      "\\end{table}\n",
      "\n",
      "\n",
      "GHGYear\n",
      "\\begin{table}[H]\n",
      "    \\centering\n",
      "    \\caption[INSERT]{Insert}\n",
      "    \\label{tab:my_label}\n",
      "    \\begin{tabular}{lrrrr}\n",
      "\\toprule\n",
      "{} &  S1\\_median &    S1\\_max &  ST\\_median &    ST\\_max \\\\\n",
      "\\midrule\n",
      "domesticConsumptionPercentage    &   0.431463 &  0.643033 &   0.465691 &  0.662504 \\\\\n",
      "nameplateCapacityChangeBrownCoal &   0.160818 &  0.318758 &   0.222259 &  0.353898 \\\\\n",
      "consumption                      &   0.043654 &  0.100362 &   0.067349 &  0.150037 \\\\\n",
      "priceChangePercentageBrownCoal   &   0.041143 &  0.109466 &   0.110609 &  0.217251 \\\\\n",
      "priceChangePercentageWind        &   0.016998 &  0.065526 &   0.069585 &  0.126808 \\\\\n",
      "nameplateCapacityChangeWind      &   0.014701 &  0.035224 &   0.052023 &  0.060377 \\\\\n",
      "generatorRetirement              &   0.011720 &  0.848524 &   0.021551 &  0.932369 \\\\\n",
      "priceChangePercentageWater       &   0.010176 &  0.031380 &   0.034546 &  0.068517 \\\\\n",
      "nameplateCapacityChangeWater     &   0.001673 &  0.006412 &   0.012510 &  0.013258 \\\\\n",
      "learningCurve                    &   0.000854 &  0.008169 &   0.015394 &  0.036049 \\\\\n",
      "nameplateCapacityChangeSolar     &   0.000773 &  0.003466 &   0.005183 &  0.008689 \\\\\n",
      "nonScheduleMinCapMarketGen       &   0.000461 &  0.000832 &   0.000215 &  0.000739 \\\\\n",
      "priceChangePercentageCcgt        &   0.000219 &  0.000801 &   0.000186 &  0.000550 \\\\\n",
      "nonScheduleGenSpotMarket         &   0.000211 &  0.001612 &   0.000584 &  0.001701 \\\\\n",
      "includePublicallyAnnouncedGen    &   0.000206 &  0.000068 &   0.000080 &  0.000503 \\\\\n",
      "semiScheduleGenSpotMarket        &   0.000202 &  0.000041 &   0.000158 &  0.000516 \\\\\n",
      "scheduleMinCapMarketGen          &   0.000199 &  0.000019 &   0.000221 &  0.000526 \\\\\n",
      "importPriceFactor                &   0.000164 &  0.000629 &   0.000081 &  0.000550 \\\\\n",
      "nameplateCapacityChangeOcgt      &   0.000136 &  0.003313 &   0.000139 &  0.003845 \\\\\n",
      "rooftopPV                        &   0.000131 &  0.000694 &   0.001623 &  0.004772 \\\\\n",
      "annualCpi                        &   0.000106 &  0.000942 &   0.000073 &  0.000530 \\\\\n",
      "priceChangePercentageSolar       &   0.000079 &  0.000668 &   0.000110 &  0.000553 \\\\\n",
      "generationRolloutPeriod          &   0.000078 &  0.007252 &   0.016452 &  0.030729 \\\\\n",
      "semiScheduleMinCapMarketGen      &   0.000070 &  0.004374 &   0.009572 &  0.018025 \\\\\n",
      "technologicalImprovement         &   0.000058 &  0.000418 &   0.000113 &  0.000561 \\\\\n",
      "energyEfficiency                 &   0.000054 &  0.000923 &   0.000211 &  0.000752 \\\\\n",
      "priceChangePercentageOcgt        &   0.000046 &  0.000614 &   0.000076 &  0.000535 \\\\\n",
      "annualInflation                  &   0.000039 &  0.000971 &   0.000152 &  0.000653 \\\\\n",
      "priceChangePercentageBattery     &   0.000038 &  0.000391 &   0.000195 &  0.000730 \\\\\n",
      "solarUptake                      &   0.000031 &  0.000988 &   0.001716 &  0.004140 \\\\\n",
      "nameplateCapacityChangeBattery   &   0.000023 &  0.000925 &   0.000116 &  0.000579 \\\\\n",
      "nameplateCapacityChangeCcgt      &   0.000023 &  0.000639 &   0.000201 &  0.000507 \\\\\n",
      "wholesaleTariffContribution      &   0.000009 &  0.000405 &   0.000193 &  0.000725 \\\\\n",
      "\\bottomrule\n",
      "\\end{tabular}\n",
      "\n",
      "\\end{table}\n",
      "\n",
      "\n",
      "renewableContributionYear\n",
      "\\begin{table}[H]\n",
      "    \\centering\n",
      "    \\caption[INSERT]{Insert}\n",
      "    \\label{tab:my_label}\n",
      "    \\begin{tabular}{lrrrr}\n",
      "\\toprule\n",
      "{} &     S1\\_median &    S1\\_max &  ST\\_median &    ST\\_max \\\\\n",
      "\\midrule\n",
      "nameplateCapacityChangeBrownCoal &  3.002100e-01 &  0.785678 &   0.403402 &  0.873972 \\\\\n",
      "priceChangePercentageBrownCoal   &  1.161180e-01 &  0.235053 &   0.281622 &  0.422706 \\\\\n",
      "nameplateCapacityChangeWind      &  4.343193e-02 &  0.136078 &   0.106786 &  0.190687 \\\\\n",
      "priceChangePercentageWind        &  4.251648e-02 &  0.127547 &   0.181685 &  0.251495 \\\\\n",
      "priceChangePercentageWater       &  2.592041e-02 &  0.069706 &   0.087901 &  0.153378 \\\\\n",
      "generatorRetirement              &  2.129590e-02 &  0.958307 &   0.036776 &  0.973439 \\\\\n",
      "consumption                      &  1.777030e-02 &  0.001858 &   0.038763 &  0.163584 \\\\\n",
      "nameplateCapacityChangeWater     &  7.145117e-03 &  0.035239 &   0.028130 &  0.054407 \\\\\n",
      "learningCurve                    &  5.601766e-03 &  0.023136 &   0.043468 &  0.069374 \\\\\n",
      "rooftopPV                        &  4.881730e-04 &  0.000680 &   0.002552 &  0.008926 \\\\\n",
      "nameplateCapacityChangeCcgt      &  4.647703e-04 &  0.000989 &   0.000405 &  0.002120 \\\\\n",
      "semiScheduleGenSpotMarket        &  4.502336e-04 &  0.001047 &   0.000359 &  0.002114 \\\\\n",
      "priceChangePercentageSolar       &  4.085287e-04 &  0.001214 &   0.000224 &  0.002094 \\\\\n",
      "domesticConsumptionPercentage    &  3.655336e-04 &  0.000299 &   0.000414 &  0.002111 \\\\\n",
      "priceChangePercentageOcgt        &  3.492497e-04 &  0.001264 &   0.000196 &  0.002300 \\\\\n",
      "importPriceFactor                &  3.218372e-04 &  0.000292 &   0.000197 &  0.002293 \\\\\n",
      "priceChangePercentageBattery     &  2.767013e-04 &  0.000313 &   0.000413 &  0.002094 \\\\\n",
      "scheduleMinCapMarketGen          &  2.642355e-04 &  0.000229 &   0.000468 &  0.002132 \\\\\n",
      "includePublicallyAnnouncedGen    &  2.560157e-04 &  0.000003 &   0.000200 &  0.002087 \\\\\n",
      "annualCpi                        &  2.341859e-04 &  0.001508 &   0.000207 &  0.002214 \\\\\n",
      "semiScheduleMinCapMarketGen      &  2.186609e-04 &  0.000779 &   0.000240 &  0.002237 \\\\\n",
      "technologicalImprovement         &  2.112107e-04 &  0.000429 &   0.000256 &  0.002248 \\\\\n",
      "solarUptake                      &  1.333374e-04 &  0.002083 &   0.002644 &  0.006967 \\\\\n",
      "wholesaleTariffContribution      &  1.242146e-04 &  0.000457 &   0.000390 &  0.002238 \\\\\n",
      "energyEfficiency                 &  1.211456e-04 &  0.000237 &   0.000449 &  0.002114 \\\\\n",
      "nameplateCapacityChangeOcgt      &  1.134289e-04 &  0.023649 &   0.001382 &  0.025742 \\\\\n",
      "nonScheduleGenSpotMarket         &  7.354816e-05 &  0.001791 &   0.001012 &  0.002980 \\\\\n",
      "nameplateCapacityChangeBattery   &  5.643369e-05 &  0.000728 &   0.000216 &  0.002268 \\\\\n",
      "nameplateCapacityChangeSolar     &  5.311310e-05 &  0.002920 &   0.007602 &  0.015943 \\\\\n",
      "priceChangePercentageCcgt        &  6.654086e-06 &  0.001150 &   0.000357 &  0.002277 \\\\\n",
      "nonScheduleMinCapMarketGen       &  4.245599e-06 &  0.000934 &   0.000428 &  0.002207 \\\\\n",
      "generationRolloutPeriod          &  2.796921e-07 &  0.013919 &   0.030006 &  0.072395 \\\\\n",
      "annualInflation                  &  1.308971e-07 &  0.002739 &   0.000278 &  0.002267 \\\\\n",
      "\\bottomrule\n",
      "\\end{tabular}\n",
      "\n",
      "\\end{table}\n",
      "\n",
      "\n",
      "primaryUnmetDemandDays\n",
      "\\begin{table}[H]\n",
      "    \\centering\n",
      "    \\caption[INSERT]{Insert}\n",
      "    \\label{tab:my_label}\n",
      "    \\begin{tabular}{lrrrr}\n",
      "\\toprule\n",
      "{} &     S1\\_median &    S1\\_max &  ST\\_median &    ST\\_max \\\\\n",
      "\\midrule\n",
      "nameplateCapacityChangeBrownCoal &  2.511682e-01 &  0.815854 &   0.551708 &  0.906850 \\\\\n",
      "consumption                      &  1.312729e-01 &  0.371806 &   0.354537 &  0.593065 \\\\\n",
      "nameplateCapacityChangeWind      &  1.106051e-01 &  0.172955 &   0.273726 &  0.573481 \\\\\n",
      "nameplateCapacityChangeOcgt      &  1.074408e-02 &  0.025341 &   0.041535 &  0.120860 \\\\\n",
      "nameplateCapacityChangeWater     &  1.001741e-02 &  0.033263 &   0.055669 &  0.160904 \\\\\n",
      "nameplateCapacityChangeSolar     &  8.457508e-03 &  0.021746 &   0.027402 &  0.042458 \\\\\n",
      "solarUptake                      &  3.053951e-03 &  0.015850 &   0.007374 &  0.045531 \\\\\n",
      "rooftopPV                        &  2.941468e-03 &  0.013204 &   0.009798 &  0.093998 \\\\\n",
      "generatorRetirement              &  2.150976e-03 &  0.271412 &   0.049243 &  0.812973 \\\\\n",
      "nameplateCapacityChangeBattery   &  1.816815e-04 &  0.001741 &   0.000059 &  0.001720 \\\\\n",
      "technologicalImprovement         &  1.053360e-04 &  0.001285 &   0.000026 &  0.001801 \\\\\n",
      "semiScheduleGenSpotMarket        &  9.350751e-05 &  0.001425 &   0.000023 &  0.001780 \\\\\n",
      "energyEfficiency                 &  1.011572e-05 &  0.002409 &   0.000002 &  0.001628 \\\\\n",
      "scheduleMinCapMarketGen          &  9.626766e-06 &  0.000504 &   0.000003 &  0.001679 \\\\\n",
      "priceChangePercentageOcgt        &  9.367202e-06 &  0.002049 &   0.000002 &  0.001785 \\\\\n",
      "learningCurve                    &  7.715249e-06 &  0.001980 &   0.000002 &  0.001779 \\\\\n",
      "domesticConsumptionPercentage    &  6.044715e-06 &  0.001922 &   0.000002 &  0.001685 \\\\\n",
      "annualInflation                  &  3.610808e-06 &  0.002276 &   0.000002 &  0.001698 \\\\\n",
      "priceChangePercentageWind        &  3.008212e-06 &  0.001315 &   0.000002 &  0.001736 \\\\\n",
      "wholesaleTariffContribution      &  2.834856e-06 &  0.000461 &   0.000002 &  0.001602 \\\\\n",
      "nonScheduleMinCapMarketGen       &  2.700535e-06 &  0.002178 &   0.000002 &  0.001695 \\\\\n",
      "nonScheduleGenSpotMarket         &  2.470171e-06 &  0.000406 &   0.000003 &  0.001836 \\\\\n",
      "generationRolloutPeriod          &  2.151598e-06 &  0.017681 &   0.000004 &  0.144904 \\\\\n",
      "nameplateCapacityChangeCcgt      &  2.077796e-06 &  0.003550 &   0.000037 &  0.001709 \\\\\n",
      "semiScheduleMinCapMarketGen      &  9.412201e-07 &  0.001545 &   0.000003 &  0.001799 \\\\\n",
      "includePublicallyAnnouncedGen    &  9.259414e-07 &  0.001518 &   0.000002 &  0.001801 \\\\\n",
      "annualCpi                        &  7.842268e-07 &  0.002911 &   0.000002 &  0.001708 \\\\\n",
      "importPriceFactor                &  7.842268e-07 &  0.000910 &   0.000002 &  0.001744 \\\\\n",
      "priceChangePercentageCcgt        &  7.652661e-07 &  0.002432 &   0.000002 &  0.001781 \\\\\n",
      "priceChangePercentageBrownCoal   &  6.496485e-07 &  0.002720 &   0.000002 &  0.001771 \\\\\n",
      "priceChangePercentageBattery     &  3.839507e-07 &  0.001534 &   0.000002 &  0.001628 \\\\\n",
      "priceChangePercentageWater       &  2.522424e-07 &  0.000369 &   0.000002 &  0.001712 \\\\\n",
      "priceChangePercentageSolar       &  6.353993e-08 &  0.001975 &   0.000002 &  0.001529 \\\\\n",
      "\\bottomrule\n",
      "\\end{tabular}\n",
      "\n",
      "\\end{table}\n",
      "\n",
      "\n"
     ]
    }
   ],
   "source": [
    "for i in m_df:\n",
    "    print(i)\n",
    "    table = f\"\"\"\\\\begin{{table}}[H]\n",
    "    \\\\centering\n",
    "    \\\\caption[INSERT]{{Insert}}\n",
    "    \\\\label{{tab:my_label}}\n",
    "    {m_df[i][['S1_median', 'S1_max', 'ST_median', 'ST_max']].sort_values(by='S1_median', ascending=False).to_latex()}\n",
    "\\\\end{{table}}\"\"\"\n",
    "#     print(m_df[i][['S1_median', 'S1_max', 'ST_median', 'ST_max']].round(6).sort_values(by='S1_median', ascending=False).to_latex())\n",
    "    print(table)\n",
    "    print()\n",
    "    print()"
   ]
  },
  {
   "cell_type": "code",
   "execution_count": 7,
   "metadata": {
    "ExecuteTime": {
     "end_time": "2021-04-19T13:04:37.261130Z",
     "start_time": "2021-04-19T13:03:54.907309Z"
    },
    "tags": []
   },
   "outputs": [
    {
     "data": {
      "application/vnd.jupyter.widget-view+json": {
       "model_id": "1bbd22c767d14805a8bc8dcffac7c34f",
       "version_major": 2,
       "version_minor": 0
      },
      "text/plain": [
       "0it [00:00, ?it/s]"
      ]
     },
     "metadata": {},
     "output_type": "display_data"
    },
    {
     "name": "stderr",
     "output_type": "stream",
     "text": [
      "The PostScript backend does not support transparency; partially transparent artists will be rendered opaque.\n",
      "The PostScript backend does not support transparency; partially transparent artists will be rendered opaque.\n"
     ]
    },
    {
     "data": {
      "image/png": "[encoded data removed]",
      "text/plain": [
       "<Figure size 468x648 with 2 Axes>"
      ]
     },
     "metadata": {},
     "output_type": "display_data"
    },
    {
     "name": "stderr",
     "output_type": "stream",
     "text": [
      "The PostScript backend does not support transparency; partially transparent artists will be rendered opaque.\n",
      "The PostScript backend does not support transparency; partially transparent artists will be rendered opaque.\n"
     ]
    },
    {
     "data": {
      "image/png": "[encoded data removed]",
      "text/plain": [
       "<Figure size 468x648 with 2 Axes>"
      ]
     },
     "metadata": {},
     "output_type": "display_data"
    },
    {
     "name": "stderr",
     "output_type": "stream",
     "text": [
      "The PostScript backend does not support transparency; partially transparent artists will be rendered opaque.\n",
      "The PostScript backend does not support transparency; partially transparent artists will be rendered opaque.\n"
     ]
    },
    {
     "data": {
      "image/png": "[encoded data removed]",
      "text/plain": [
       "<Figure size 468x648 with 2 Axes>"
      ]
     },
     "metadata": {},
     "output_type": "display_data"
    },
    {
     "name": "stderr",
     "output_type": "stream",
     "text": [
      "The PostScript backend does not support transparency; partially transparent artists will be rendered opaque.\n",
      "The PostScript backend does not support transparency; partially transparent artists will be rendered opaque.\n"
     ]
    },
    {
     "data": {
      "image/png": "[encoded data removed]",
      "text/plain": [
       "<Figure size 468x648 with 2 Axes>"
      ]
     },
     "metadata": {},
     "output_type": "display_data"
    },
    {
     "name": "stderr",
     "output_type": "stream",
     "text": [
      "The PostScript backend does not support transparency; partially transparent artists will be rendered opaque.\n",
      "The PostScript backend does not support transparency; partially transparent artists will be rendered opaque.\n"
     ]
    },
    {
     "data": {
      "image/png": "[encoded data removed]",
      "text/plain": [
       "<Figure size 468x648 with 2 Axes>"
      ]
     },
     "metadata": {},
     "output_type": "display_data"
    }
   ],
   "source": [
    "full_si = {}\n",
    "plt.rcParams['text.usetex'] = True\n",
    "import matplotlib\n",
    "matplotlib.rcParams['mathtext.fontset'] = 'stix'\n",
    "matplotlib.rcParams['font.family'] = 'STIXGeneral'\n",
    "# matplotlib.pyplot.title(r'ABC123 vs $\\mathrm{ABC123}^{123}$')\n",
    "# plt.title(r'ABC123 vs $\\mathrm{ABC123}^{123}$')\n",
    "\n",
    "names = zip(outcomes_to_show,['Tariff Prices', 'Wholesale Prices', 'GHGE Levels', 'Renewable Market Share', 'Unmet Demand Days'])\n",
    "for ooi, name in tqdm(names):\n",
    "    \n",
    "#     Si_df = pd.concat({'S1_median': s1_median_ooi[ooi],'ST_median': st_median_ooi[ooi], 'S1_conf_median': s1_conf_median_ooi[ooi],'ST_conf_median': st_conf_median_ooi[ooi], 'S1_max': s1_max_val_ooi[ooi],'ST_max': st_max_val_ooi[ooi],'S1_conf_max': s1_conf_max_val_ooi[ooi],'ST_conf_max': st_conf_max_val_ooi[ooi]}, axis=1)\n",
    "#     Si_df = Si_df.abs()\n",
    "    \n",
    "#     Si_df.sort_values(by=['S1_median'], ascending=True, inplace=True)    \n",
    "    \n",
    "    \n",
    "#     full_si[ooi] = Si_df\n",
    "    \n",
    "    \n",
    "    if includePlots:\n",
    "        plot_scores_2(m_df[ooi], name)\n",
    "        plt.show()\n"
   ]
  },
  {
   "cell_type": "code",
   "execution_count": 25,
   "metadata": {},
   "outputs": [],
   "source": [
    "# import pickle\n",
    "# with open(\"Mine.pickle\", 'wb') as file:\n",
    "#     pickle.dump(full_si, file)"
   ]
  },
  {
   "cell_type": "code",
   "execution_count": 11,
   "metadata": {},
   "outputs": [],
   "source": [
    "\n",
    "    \n",
    "from collections import defaultdict\n",
    "un_vals = defaultdict(int)\n",
    "for i in m_df.values():\n",
    "    for j,k in i['S1_median'].iteritems():\n",
    "        un_vals[j] = max(un_vals[j], k)\n",
    "\n",
    "best = sorted(list(un_vals.items()), key = lambda a: -a[1])"
   ]
  },
  {
   "cell_type": "code",
   "execution_count": 15,
   "metadata": {},
   "outputs": [
    {
     "name": "stdout",
     "output_type": "stream",
     "text": [
      "\\begin{tabular}{ll}\n",
      "\\toprule\n",
      "{} &                                 0 \\\\\n",
      "\\midrule\n",
      "0  &     domesticConsumptionPercentage \\\\\n",
      "1  &  nameplateCapacityChangeBrownCoal \\\\\n",
      "2  &                       consumption \\\\\n",
      "3  &    priceChangePercentageBrownCoal \\\\\n",
      "4  &       nameplateCapacityChangeWind \\\\\n",
      "5  &       wholesaleTariffContribution \\\\\n",
      "6  &         priceChangePercentageWind \\\\\n",
      "7  &                 importPriceFactor \\\\\n",
      "8  &        priceChangePercentageWater \\\\\n",
      "9  &           generationRolloutPeriod \\\\\n",
      "10 &               generatorRetirement \\\\\n",
      "11 &                   annualInflation \\\\\n",
      "12 &                         annualCpi \\\\\n",
      "13 &          nonScheduleGenSpotMarket \\\\\n",
      "14 &       nameplateCapacityChangeOcgt \\\\\n",
      "15 &      nameplateCapacityChangeWater \\\\\n",
      "16 &      nameplateCapacityChangeSolar \\\\\n",
      "17 &                     learningCurve \\\\\n",
      "18 &         priceChangePercentageOcgt \\\\\n",
      "19 &      priceChangePercentageBattery \\\\\n",
      "20 &           scheduleMinCapMarketGen \\\\\n",
      "21 &                       solarUptake \\\\\n",
      "22 &                         rooftopPV \\\\\n",
      "23 &    nameplateCapacityChangeBattery \\\\\n",
      "24 &         priceChangePercentageCcgt \\\\\n",
      "25 &       semiScheduleMinCapMarketGen \\\\\n",
      "26 &       nameplateCapacityChangeCcgt \\\\\n",
      "27 &        nonScheduleMinCapMarketGen \\\\\n",
      "28 &         semiScheduleGenSpotMarket \\\\\n",
      "29 &        priceChangePercentageSolar \\\\\n",
      "30 &                  energyEfficiency \\\\\n",
      "31 &     includePublicallyAnnouncedGen \\\\\n",
      "32 &          technologicalImprovement \\\\\n",
      "\\bottomrule\n",
      "\\end{tabular}\n",
      "\n"
     ]
    }
   ],
   "source": [
    "print(pd.DataFrame([i[0] for i in best]).to_latex())"
   ]
  },
  {
   "cell_type": "code",
   "execution_count": 148,
   "metadata": {},
   "outputs": [],
   "source": [
    "all_uncs = pd.DataFrame(best)\n",
    "all_uncs.columns = ['Uncertainty', 'Median S1 (Max)']\n",
    "# all_uncs.index = a"
   ]
  },
  {
   "cell_type": "code",
   "execution_count": 150,
   "metadata": {},
   "outputs": [
    {
     "name": "stdout",
     "output_type": "stream",
     "text": [
      "\\begin{tabular}{llr}\n",
      "\\toprule\n",
      "{} &                       Uncertainty &  Median S1 (Max) \\\\\n",
      "\\midrule\n",
      "0  &     domesticConsumptionPercentage &         0.431463 \\\\\n",
      "1  &  nameplateCapacityChangeBrownCoal &         0.300210 \\\\\n",
      "2  &                       consumption &         0.131273 \\\\\n",
      "3  &    priceChangePercentageBrownCoal &         0.116118 \\\\\n",
      "4  &       nameplateCapacityChangeWind &         0.110605 \\\\\n",
      "5  &       wholesaleTariffContribution &         0.097860 \\\\\n",
      "6  &         priceChangePercentageWind &         0.042516 \\\\\n",
      "7  &                 importPriceFactor &         0.036200 \\\\\n",
      "8  &        priceChangePercentageWater &         0.025920 \\\\\n",
      "9  &           generationRolloutPeriod &         0.024005 \\\\\n",
      "10 &               generatorRetirement &         0.021296 \\\\\n",
      "11 &                   annualInflation &         0.019931 \\\\\n",
      "12 &                         annualCpi &         0.015158 \\\\\n",
      "13 &          nonScheduleGenSpotMarket &         0.012657 \\\\\n",
      "14 &       nameplateCapacityChangeOcgt &         0.010744 \\\\\n",
      "15 &      nameplateCapacityChangeWater &         0.010017 \\\\\n",
      "16 &      nameplateCapacityChangeSolar &         0.008458 \\\\\n",
      "17 &                     learningCurve &         0.005602 \\\\\n",
      "18 &         priceChangePercentageOcgt &         0.005330 \\\\\n",
      "19 &      priceChangePercentageBattery &         0.003386 \\\\\n",
      "20 &           scheduleMinCapMarketGen &         0.003274 \\\\\n",
      "21 &                       solarUptake &         0.003054 \\\\\n",
      "22 &                         rooftopPV &         0.002941 \\\\\n",
      "23 &    nameplateCapacityChangeBattery &         0.002267 \\\\\n",
      "24 &         priceChangePercentageCcgt &         0.001547 \\\\\n",
      "25 &       semiScheduleMinCapMarketGen &         0.000881 \\\\\n",
      "26 &       nameplateCapacityChangeCcgt &         0.000465 \\\\\n",
      "27 &        nonScheduleMinCapMarketGen &         0.000461 \\\\\n",
      "28 &         semiScheduleGenSpotMarket &         0.000445 \\\\\n",
      "29 &        priceChangePercentageSolar &         0.000409 \\\\\n",
      "30 &                  energyEfficiency &         0.000359 \\\\\n",
      "31 &     includePublicallyAnnouncedGen &         0.000256 \\\\\n",
      "32 &          technologicalImprovement &         0.000211 \\\\\n",
      "\\bottomrule\n",
      "\\end{tabular}\n",
      "\n"
     ]
    }
   ],
   "source": [
    "print(all_uncs.to_latex())"
   ]
  },
  {
   "cell_type": "code",
   "execution_count": null,
   "metadata": {
    "ExecuteTime": {
     "end_time": "2021-04-19T13:02:50.327670Z",
     "start_time": "2021-04-19T13:01:01.578946Z"
    },
    "pycharm": {
     "is_executing": false,
     "name": "#%% \n"
    }
   },
   "outputs": [],
   "source": [
    "import seaborn as sns\n",
    "# sns.set_theme()\n",
    "# sns.set_style(\"whitegrid\")\n",
    "\n",
    "writer = pd.ExcelWriter('{}/SOBOL_{}.xlsx'.format(r'/home/XXX/Desktop', '_median_sensitivity_Indices'))\n",
    "\n",
    "#f = plt.figure(figsize=(20,30)) \n",
    "for ooi in outcomes_to_show:\n",
    "    \n",
    "    Si_df_median = pd.concat({'S1': s1_median_ooi[ooi],'ST': st_median_ooi[ooi], 'S2': s2_median_ooi[ooi],'S1_conf': s1_conf_median_ooi[ooi],'ST_conf': st_conf_median_ooi[ooi], 'S2_conf': s2_conf_median_ooi[ooi]}, axis=1)\n",
    "    Si_df_max = pd.concat({'S1': s1_max_val_ooi[ooi],'ST': st_max_val_ooi[ooi], 'S2': s2_max_val_ooi[ooi],'S1_conf': s1_conf_max_val_ooi[ooi],'ST_conf': st_conf_max_val_ooi[ooi], 'S2_conf': s2_conf_max_val_ooi[ooi]}, axis=1)\n",
    "    sortMedian = Si_df_median.sort_values\n",
    "    \n",
    "    if includePlots:\n",
    "        fig, ax = plt.subplots(2, sharex=True)\n",
    "        fig.set_size_inches(20,15)\n",
    "        fig.suptitle(ooi, fontsize=28)\n",
    "\n",
    "        ax[0].set_title(\"Median\", fontsize=20)\n",
    "        ax[1].set_title(\"Maximum\", fontsize=20)\n",
    "\n",
    "        plt.xticks (fontsize = 18)\n",
    "        plt.yticks (fontsize = 18)\n",
    "        ax[0].tick_params(labelsize=18)\n",
    "\n",
    "        indices_median = Si_df_median[['S1','ST']]\n",
    "        err_median = Si_df_median[['S1_conf','ST_conf']]\n",
    "\n",
    "        indices_max = Si_df_max[['S1','ST']]\n",
    "        err_max = Si_df_max[['S1_conf','ST_conf']]\n",
    "\n",
    "        indices_median.plot.bar(yerr=err_median.values.T,ax=ax[0], width=0.8)\n",
    "        indices_max.plot.bar(yerr=err_max.values.T,ax=ax[1], width = 0.8)\n",
    "        for p, text_s1, text_st in zip(ax[1].patches, s1_max_val_year_ooi[ooi], st_max_val_year_ooi[ooi]):\n",
    "            if p.get_height() >= 0.1: #to include all years use =! 0\n",
    "                ax[1].annotate(str(text_s1), (p.get_x() - 0.03, p.get_height() + .035) ,fontsize=14, rotation='vertical')\n",
    "                ax[1].annotate(str(text_st), (p.get_x() + 0.5, p.get_height() + .05) ,fontsize=14,  rotation='vertical')\n",
    "                               \n",
    "        ax[0].legend(['S1','ST'], fontsize=14)\n",
    "        ax[1].legend(['S1','ST'], fontsize=14)\n",
    "    \n",
    "        #break\n",
    "        \n",
    "        plt.savefig('{}/fig{}.png'.format(r'C:\\\\Users\\\\angel\\\\Documents\\\\GitHub\\\\gr4sp\\\\experiments\\\\notebookGr4sp\\\\outputs\\\\figs', '_barplot_s1_st_%s'%(ooi)),dpi=300, bbox_inches='tight')\n",
    "        \n",
    "    print(ooi)\n",
    "    \n",
    "    if ooi == 'secondaryMaxUnmetDemandMwhPerHour':\n",
    "        ooi = 'secondMaxUnmetMwhPerHour'\n",
    "        \n",
    "    Si_df_median.to_excel(writer, sheet_name=ooi)\n",
    "\n",
    "    \n",
    "    \n",
    "\n",
    "writer.save()"
   ]
  },
  {
   "cell_type": "markdown",
   "metadata": {},
   "source": [
    "### S2, S1, and ST plots"
   ]
  },
  {
   "cell_type": "code",
   "execution_count": null,
   "metadata": {
    "ExecuteTime": {
     "end_time": "2021-04-18T09:30:33.736626Z",
     "start_time": "2021-04-18T09:30:33.721666Z"
    },
    "pycharm": {
     "is_executing": false,
     "name": "#%% \n"
    },
    "scrolled": true
   },
   "outputs": [],
   "source": [
    "# #%matplotlib inline\n",
    "# sns.set_style('whitegrid')\n",
    "# if includePlots:\n",
    "#     for ooi in outcomes_to_show:\n",
    "\n",
    "#         #Maximum\n",
    "#         Si_df_max = {'S1': s1_max_val_ooi[ooi].to_numpy(),'S2': s2_max_val_ooi[ooi].to_numpy(),\n",
    "#                      'ST': st_max_val_ooi[ooi].to_numpy(),'S1_conf': s1_conf_max_val_ooi[ooi].to_numpy(),\n",
    "#                      'S2_conf': s2_conf_max_val_ooi[ooi].to_numpy(),'ST_conf': st_conf_max_val_ooi[ooi].to_numpy()}\n",
    "\n",
    "#         fig = plot_sobol_indices(Si_df_max, uncertainties, criterion='ST', threshold=0.005)\n",
    "#         fig.set_size_inches(20,15)\n",
    "#         fig.suptitle(ooi)   \n",
    "\n",
    "#         plt.savefig('{}/fig{}.png'.format(r'C:\\\\Users\\\\angel\\\\Documents\\\\GitHub\\\\gr4sp\\\\experiments\\\\notebookGr4sp\\\\outputs\\\\figs', '_sobol_max_%s'%(ooi)),dpi=300, bbox_inches='tight')\n",
    "\n",
    "#         #Median\n",
    "#         Si_df_avg = {'S1': s1_median_ooi[ooi].to_numpy(),'S2': s2_median_ooi[ooi].to_numpy(),\n",
    "#                      'ST': st_median_ooi[ooi].to_numpy(),'S1_conf': s1_conf_median_ooi[ooi].to_numpy(),\n",
    "#                      'S2_conf': s2_conf_median_ooi[ooi].to_numpy(),'ST_conf': st_conf_median_ooi[ooi].to_numpy()}\n",
    "\n",
    "#         fig = plot_sobol_indices(Si_df_median, uncertainties, criterion='ST', threshold=0.005)\n",
    "#         fig.set_size_inches(20,15)\n",
    "#         fig.suptitle(ooi, fontsize=16)   \n",
    "\n",
    "\n",
    "\n",
    "#         plt.savefig('{}/fig{}.png'.format(r'C:\\\\Users\\\\angel\\\\Documents\\\\GitHub\\\\gr4sp\\\\experiments\\\\notebookGr4sp\\\\outputs\\\\figs', '_sobol_median_%s'%(ooi)),dpi=300, bbox_inches='tight')\n",
    "\n",
    "#         print(ooi)\n",
    "     "
   ]
  },
  {
   "cell_type": "markdown",
   "metadata": {},
   "source": [
    "## S2"
   ]
  },
  {
   "cell_type": "code",
   "execution_count": null,
   "metadata": {
    "ExecuteTime": {
     "end_time": "2021-04-18T09:31:29.802798Z",
     "start_time": "2021-04-18T09:30:33.737623Z"
    }
   },
   "outputs": [],
   "source": [
    "sns.set_style(\"white\")\n",
    "includePlots=True\n",
    "#change colorpalette: https://seaborn.pydata.org/generated/seaborn.diverging_palette.html and https://colorbrewer2.org/#type=diverging&scheme=PiYG&n=3\n",
    "\n",
    "if includePlots:\n",
    "    for ooi in outcomes_to_show:\n",
    "        corr = s2_median_ooi[ooi]\n",
    "        corr = corr.round(3)\n",
    "\n",
    "        # Set up the matplotlib figure\n",
    "        f, ax = plt.subplots(figsize=(11, 9))\n",
    "\n",
    "        # Generate a custom diverging colormap\n",
    "        #cmap = sns.diverging_palette(247,160, as_cmap=True, center = \"light\")\n",
    "        #cmap = sns.color_palette(\"coolwarm\", as_cmap=True)\n",
    "        cmap = sns.diverging_palette(250, 15, s=75, l=40, n=9, center=\"light\")\n",
    "        # Draw the heatmap\n",
    "        sns.heatmap(corr.T, cmap=cmap, vmin=corr.min(axis=1).min(),vmax=corr.max(axis=1).max(), center=0,\n",
    "                    square=True, linewidths=.5, cbar_kws={\"shrink\": .5})\n",
    "        f.suptitle(ooi, fontsize=18)\n",
    "        plt.savefig('{}/fig{}.png'.format(r'C:\\\\Users\\\\angel\\\\Documents\\\\GitHub\\\\gr4sp\\\\experiments\\\\notebookGr4sp\\\\outputs\\\\figs', '_sobol_s2_median_%s'%(ooi)),dpi=300, bbox_inches='tight')\n",
    "        #break\n",
    "\n",
    "        "
   ]
  },
  {
   "cell_type": "markdown",
   "metadata": {},
   "source": []
  }
 ],
 "metadata": {
  "kernelspec": {
   "display_name": "Python 3",
   "language": "python",
   "name": "python3"
  },
  "language_info": {
   "codemirror_mode": {
    "name": "ipython",
    "version": 3
   },
   "file_extension": ".py",
   "mimetype": "text/x-python",
   "name": "python",
   "nbconvert_exporter": "python",
   "pygments_lexer": "ipython3",
   "version": "3.8.8"
  },
  "toc": {
   "base_numbering": 1,
   "nav_menu": {},
   "number_sections": true,
   "sideBar": true,
   "skip_h1_title": false,
   "title_cell": "Table of Contents",
   "title_sidebar": "Contents",
   "toc_cell": false,
   "toc_position": {
    "height": "calc(100% - 180px)",
    "left": "10px",
    "top": "150px",
    "width": "341.333px"
   },
   "toc_section_display": true,
   "toc_window_display": true
  },
  "varInspector": {
   "cols": {
    "lenName": 16,
    "lenType": 16,
    "lenVar": 40
   },
   "kernels_config": {
    "python": {
     "delete_cmd_postfix": "",
     "delete_cmd_prefix": "del ",
     "library": "var_list.py",
     "varRefreshCmd": "print(var_dic_list())"
    },
    "r": {
     "delete_cmd_postfix": ") ",
     "delete_cmd_prefix": "rm(",
     "library": "var_list.r",
     "varRefreshCmd": "cat(var_dic_list()) "
    }
   },
   "position": {
    "height": "510px",
    "left": "1627px",
    "right": "20px",
    "top": "120px",
    "width": "273px"
   },
   "types_to_exclude": [
    "module",
    "function",
    "builtin_function_or_method",
    "instance",
    "_Feature"
   ],
   "window_display": false
  }
 },
 "nbformat": 4,
 "nbformat_minor": 4
}
