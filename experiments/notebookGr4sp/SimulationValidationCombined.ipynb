{
 "cells": [
  {
   "cell_type": "markdown",
   "metadata": {},
   "source": [
    "### # Intial setup\n",
    "\n",
    "Angela M. Rojas A. <angelara@student.unimelb.edu.au>\n",
    "\n",
    "Created on 08 Sep 2020\n",
    "\n",
    "This notebook uses historic data on GHG emissions, wholesale prices and tariffs to validate simulation results for this outputs using certain input settings. \n",
    "The validation is performed with available data from the official start of the easter market in Australia in 1999.\n",
    "Data sources, wrangling exercises and assumptions are commented throughout the notebook."
   ]
  },
  {
   "cell_type": "code",
   "execution_count": 1,
   "metadata": {
    "ExecuteTime": {
     "end_time": "2021-03-17T04:25:14.122858Z",
     "start_time": "2021-03-17T04:25:14.103391Z"
    },
    "pycharm": {
     "is_executing": false,
     "name": "#%%\n"
    }
   },
   "outputs": [
    {
     "name": "stderr",
     "output_type": "stream",
     "text": [
      "In /home/XXX/anaconda3/lib/python3.7/site-packages/matplotlib/mpl-data/stylelib/_classic_test.mplstyle: \n",
      "The text.latex.preview rcparam was deprecated in Matplotlib 3.3 and will be removed two minor releases later.\n",
      "In /home/XXX/anaconda3/lib/python3.7/site-packages/matplotlib/mpl-data/stylelib/_classic_test.mplstyle: \n",
      "The mathtext.fallback_to_cm rcparam was deprecated in Matplotlib 3.3 and will be removed two minor releases later.\n",
      "In /home/XXX/anaconda3/lib/python3.7/site-packages/matplotlib/mpl-data/stylelib/_classic_test.mplstyle: Support for setting the 'mathtext.fallback_to_cm' rcParam is deprecated since 3.3 and will be removed two minor releases later; use 'mathtext.fallback : 'cm' instead.\n",
      "In /home/XXX/anaconda3/lib/python3.7/site-packages/matplotlib/mpl-data/stylelib/_classic_test.mplstyle: \n",
      "The validate_bool_maybe_none function was deprecated in Matplotlib 3.3 and will be removed two minor releases later.\n",
      "In /home/XXX/anaconda3/lib/python3.7/site-packages/matplotlib/mpl-data/stylelib/_classic_test.mplstyle: \n",
      "The savefig.jpeg_quality rcparam was deprecated in Matplotlib 3.3 and will be removed two minor releases later.\n",
      "In /home/XXX/anaconda3/lib/python3.7/site-packages/matplotlib/mpl-data/stylelib/_classic_test.mplstyle: \n",
      "The keymap.all_axes rcparam was deprecated in Matplotlib 3.3 and will be removed two minor releases later.\n",
      "In /home/XXX/anaconda3/lib/python3.7/site-packages/matplotlib/mpl-data/stylelib/_classic_test.mplstyle: \n",
      "The animation.avconv_path rcparam was deprecated in Matplotlib 3.3 and will be removed two minor releases later.\n",
      "In /home/XXX/anaconda3/lib/python3.7/site-packages/matplotlib/mpl-data/stylelib/_classic_test.mplstyle: \n",
      "The animation.avconv_args rcparam was deprecated in Matplotlib 3.3 and will be removed two minor releases later.\n"
     ]
    }
   ],
   "source": [
    "import sys\n",
    "import os\n",
    "\n",
    "sys.path.append(r'C:\\Users\\angel\\Documents\\GitHub\\gr4sp\\experiments\\EMAworkbench')\n",
    "\n",
    "sys.path.append(r'C:\\Users\\angel\\Documents\\GitHub\\gr4sp\\experiments')\n",
    "\n",
    "import statistics\n",
    "import datetime as DT\n",
    "import matplotlib.pyplot as plt\n",
    "import numpy as np\n",
    "import pandas as pd\n",
    "import matplotlib.cm as cm\n",
    "import matplotlib.dates as mdates\n",
    "import seaborn as sns\n",
    "sns.set_style(\"whitegrid\") \n",
    "\n",
    "import os\n",
    "import glob\n",
    "import numpy as np\n",
    "import pandas as pd\n",
    "import os\n",
    "import glob\n",
    "\n"
   ]
  },
  {
   "cell_type": "code",
   "execution_count": 2,
   "metadata": {},
   "outputs": [],
   "source": [
    "# Get solar level around time, with uneven in the value infront or behind"
   ]
  },
  {
   "cell_type": "markdown",
   "metadata": {},
   "source": [
    "## Load BAU results\n",
    "The model has two types of results reporting: Full and Light. It also provide results summarised by month and by year. Their used will depend on the type of validation. For instance, wholesale prices can be found in a monthly basis since April 2005. Therefore, monthly results on simulated wholesale prices are used in this case. Even though emissions can be reported for every month (and even every 30 min if needed), greenhouse gas emissions are usually presented in a yearly basis therefore, if further granularity is not needed, annual simulations results are used in this case.\n",
    "\n",
    "NB! files for BAU to make validation should have the same seed.\n"
   ]
  },
  {
   "cell_type": "code",
   "execution_count": 3,
   "metadata": {},
   "outputs": [
    {
     "ename": "ValueError",
     "evalue": "invalid literal for int() with base 10: 'SLOWCHANGE'",
     "output_type": "error",
     "traceback": [
      "\u001b[0;31m---------------------------------------------------------------------------\u001b[0m",
      "\u001b[0;31mValueError\u001b[0m                                Traceback (most recent call last)",
      "\u001b[0;32m<ipython-input-3-1f983f1ce9a4>\u001b[0m in \u001b[0;36m<module>\u001b[0;34m\u001b[0m\n\u001b[0;32m----> 1\u001b[0;31m \u001b[0mm_month_files\u001b[0m \u001b[0;34m=\u001b[0m \u001b[0msorted\u001b[0m\u001b[0;34m(\u001b[0m\u001b[0mlist\u001b[0m\u001b[0;34m(\u001b[0m\u001b[0mfilter\u001b[0m\u001b[0;34m(\u001b[0m\u001b[0;32mlambda\u001b[0m \u001b[0ma\u001b[0m\u001b[0;34m:\u001b[0m \u001b[0;34m'Monthly'\u001b[0m \u001b[0;32min\u001b[0m \u001b[0ma\u001b[0m\u001b[0;34m,\u001b[0m \u001b[0mos\u001b[0m\u001b[0;34m.\u001b[0m\u001b[0mlistdir\u001b[0m\u001b[0;34m(\u001b[0m\u001b[0;34m\"../../csv/Nominal\"\u001b[0m\u001b[0;34m)\u001b[0m\u001b[0;34m)\u001b[0m\u001b[0;34m)\u001b[0m\u001b[0;34m,\u001b[0m \u001b[0mkey\u001b[0m \u001b[0;34m=\u001b[0m \u001b[0;32mlambda\u001b[0m \u001b[0ma\u001b[0m\u001b[0;34m:\u001b[0m \u001b[0mint\u001b[0m\u001b[0;34m(\u001b[0m\u001b[0ma\u001b[0m\u001b[0;34m.\u001b[0m\u001b[0msplit\u001b[0m\u001b[0;34m(\u001b[0m\u001b[0;34m'.'\u001b[0m\u001b[0;34m)\u001b[0m\u001b[0;34m[\u001b[0m\u001b[0;36m0\u001b[0m\u001b[0;34m]\u001b[0m\u001b[0;34m.\u001b[0m\u001b[0msplit\u001b[0m\u001b[0;34m(\u001b[0m\u001b[0;34m'_'\u001b[0m\u001b[0;34m)\u001b[0m\u001b[0;34m[\u001b[0m\u001b[0;34m-\u001b[0m\u001b[0;36m1\u001b[0m\u001b[0;34m]\u001b[0m\u001b[0;34m)\u001b[0m\u001b[0;34m)\u001b[0m\u001b[0;34m\u001b[0m\u001b[0;34m\u001b[0m\u001b[0m\n\u001b[0m\u001b[1;32m      2\u001b[0m \u001b[0;34m\u001b[0m\u001b[0m\n\u001b[1;32m      3\u001b[0m \u001b[0mmonth_file\u001b[0m \u001b[0;34m=\u001b[0m \u001b[0mm_month_files\u001b[0m\u001b[0;34m[\u001b[0m\u001b[0;34m-\u001b[0m\u001b[0;36m1\u001b[0m\u001b[0;34m]\u001b[0m\u001b[0;34m\u001b[0m\u001b[0;34m\u001b[0m\u001b[0m\n\u001b[1;32m      4\u001b[0m \u001b[0;34m\u001b[0m\u001b[0m\n\u001b[1;32m      5\u001b[0m \u001b[0mm_year_files\u001b[0m \u001b[0;34m=\u001b[0m \u001b[0msorted\u001b[0m\u001b[0;34m(\u001b[0m\u001b[0mlist\u001b[0m\u001b[0;34m(\u001b[0m\u001b[0mfilter\u001b[0m\u001b[0;34m(\u001b[0m\u001b[0;32mlambda\u001b[0m \u001b[0ma\u001b[0m\u001b[0;34m:\u001b[0m \u001b[0;34m'Year'\u001b[0m \u001b[0;32min\u001b[0m \u001b[0ma\u001b[0m\u001b[0;34m,\u001b[0m \u001b[0mos\u001b[0m\u001b[0;34m.\u001b[0m\u001b[0mlistdir\u001b[0m\u001b[0;34m(\u001b[0m\u001b[0;34m\"../../csv/Nominal\"\u001b[0m\u001b[0;34m)\u001b[0m\u001b[0;34m)\u001b[0m\u001b[0;34m)\u001b[0m\u001b[0;34m,\u001b[0m \u001b[0mkey\u001b[0m \u001b[0;34m=\u001b[0m \u001b[0;32mlambda\u001b[0m \u001b[0ma\u001b[0m\u001b[0;34m:\u001b[0m \u001b[0mint\u001b[0m\u001b[0;34m(\u001b[0m\u001b[0ma\u001b[0m\u001b[0;34m.\u001b[0m\u001b[0msplit\u001b[0m\u001b[0;34m(\u001b[0m\u001b[0;34m'.'\u001b[0m\u001b[0;34m)\u001b[0m\u001b[0;34m[\u001b[0m\u001b[0;36m0\u001b[0m\u001b[0;34m]\u001b[0m\u001b[0;34m.\u001b[0m\u001b[0msplit\u001b[0m\u001b[0;34m(\u001b[0m\u001b[0;34m'_'\u001b[0m\u001b[0;34m)\u001b[0m\u001b[0;34m[\u001b[0m\u001b[0;34m-\u001b[0m\u001b[0;36m1\u001b[0m\u001b[0;34m]\u001b[0m\u001b[0;34m)\u001b[0m\u001b[0;34m)\u001b[0m\u001b[0;34m\u001b[0m\u001b[0;34m\u001b[0m\u001b[0m\n",
      "\u001b[0;32m<ipython-input-3-1f983f1ce9a4>\u001b[0m in \u001b[0;36m<lambda>\u001b[0;34m(a)\u001b[0m\n\u001b[0;32m----> 1\u001b[0;31m \u001b[0mm_month_files\u001b[0m \u001b[0;34m=\u001b[0m \u001b[0msorted\u001b[0m\u001b[0;34m(\u001b[0m\u001b[0mlist\u001b[0m\u001b[0;34m(\u001b[0m\u001b[0mfilter\u001b[0m\u001b[0;34m(\u001b[0m\u001b[0;32mlambda\u001b[0m \u001b[0ma\u001b[0m\u001b[0;34m:\u001b[0m \u001b[0;34m'Monthly'\u001b[0m \u001b[0;32min\u001b[0m \u001b[0ma\u001b[0m\u001b[0;34m,\u001b[0m \u001b[0mos\u001b[0m\u001b[0;34m.\u001b[0m\u001b[0mlistdir\u001b[0m\u001b[0;34m(\u001b[0m\u001b[0;34m\"../../csv/Nominal\"\u001b[0m\u001b[0;34m)\u001b[0m\u001b[0;34m)\u001b[0m\u001b[0;34m)\u001b[0m\u001b[0;34m,\u001b[0m \u001b[0mkey\u001b[0m \u001b[0;34m=\u001b[0m \u001b[0;32mlambda\u001b[0m \u001b[0ma\u001b[0m\u001b[0;34m:\u001b[0m \u001b[0mint\u001b[0m\u001b[0;34m(\u001b[0m\u001b[0ma\u001b[0m\u001b[0;34m.\u001b[0m\u001b[0msplit\u001b[0m\u001b[0;34m(\u001b[0m\u001b[0;34m'.'\u001b[0m\u001b[0;34m)\u001b[0m\u001b[0;34m[\u001b[0m\u001b[0;36m0\u001b[0m\u001b[0;34m]\u001b[0m\u001b[0;34m.\u001b[0m\u001b[0msplit\u001b[0m\u001b[0;34m(\u001b[0m\u001b[0;34m'_'\u001b[0m\u001b[0;34m)\u001b[0m\u001b[0;34m[\u001b[0m\u001b[0;34m-\u001b[0m\u001b[0;36m1\u001b[0m\u001b[0;34m]\u001b[0m\u001b[0;34m)\u001b[0m\u001b[0;34m)\u001b[0m\u001b[0;34m\u001b[0m\u001b[0;34m\u001b[0m\u001b[0m\n\u001b[0m\u001b[1;32m      2\u001b[0m \u001b[0;34m\u001b[0m\u001b[0m\n\u001b[1;32m      3\u001b[0m \u001b[0mmonth_file\u001b[0m \u001b[0;34m=\u001b[0m \u001b[0mm_month_files\u001b[0m\u001b[0;34m[\u001b[0m\u001b[0;34m-\u001b[0m\u001b[0;36m1\u001b[0m\u001b[0;34m]\u001b[0m\u001b[0;34m\u001b[0m\u001b[0;34m\u001b[0m\u001b[0m\n\u001b[1;32m      4\u001b[0m \u001b[0;34m\u001b[0m\u001b[0m\n\u001b[1;32m      5\u001b[0m \u001b[0mm_year_files\u001b[0m \u001b[0;34m=\u001b[0m \u001b[0msorted\u001b[0m\u001b[0;34m(\u001b[0m\u001b[0mlist\u001b[0m\u001b[0;34m(\u001b[0m\u001b[0mfilter\u001b[0m\u001b[0;34m(\u001b[0m\u001b[0;32mlambda\u001b[0m \u001b[0ma\u001b[0m\u001b[0;34m:\u001b[0m \u001b[0;34m'Year'\u001b[0m \u001b[0;32min\u001b[0m \u001b[0ma\u001b[0m\u001b[0;34m,\u001b[0m \u001b[0mos\u001b[0m\u001b[0;34m.\u001b[0m\u001b[0mlistdir\u001b[0m\u001b[0;34m(\u001b[0m\u001b[0;34m\"../../csv/Nominal\"\u001b[0m\u001b[0;34m)\u001b[0m\u001b[0;34m)\u001b[0m\u001b[0;34m)\u001b[0m\u001b[0;34m,\u001b[0m \u001b[0mkey\u001b[0m \u001b[0;34m=\u001b[0m \u001b[0;32mlambda\u001b[0m \u001b[0ma\u001b[0m\u001b[0;34m:\u001b[0m \u001b[0mint\u001b[0m\u001b[0;34m(\u001b[0m\u001b[0ma\u001b[0m\u001b[0;34m.\u001b[0m\u001b[0msplit\u001b[0m\u001b[0;34m(\u001b[0m\u001b[0;34m'.'\u001b[0m\u001b[0;34m)\u001b[0m\u001b[0;34m[\u001b[0m\u001b[0;36m0\u001b[0m\u001b[0;34m]\u001b[0m\u001b[0;34m.\u001b[0m\u001b[0msplit\u001b[0m\u001b[0;34m(\u001b[0m\u001b[0;34m'_'\u001b[0m\u001b[0;34m)\u001b[0m\u001b[0;34m[\u001b[0m\u001b[0;34m-\u001b[0m\u001b[0;36m1\u001b[0m\u001b[0;34m]\u001b[0m\u001b[0;34m)\u001b[0m\u001b[0;34m)\u001b[0m\u001b[0;34m\u001b[0m\u001b[0;34m\u001b[0m\u001b[0m\n",
      "\u001b[0;31mValueError\u001b[0m: invalid literal for int() with base 10: 'SLOWCHANGE'"
     ]
    }
   ],
   "source": [
    "m_month_files = sorted(list(filter(lambda a: 'Monthly' in a, os.listdir(\"../../csv/Nominal\"))), key = lambda a: int(a.split('.')[0].split('_')[-1]))\n",
    "\n",
    "month_file = m_month_files[-1]\n",
    "\n",
    "m_year_files = sorted(list(filter(lambda a: 'Year' in a, os.listdir(\"../../csv/Nominal\"))), key = lambda a: int(a.split('.')[0].split('_')[-1]))\n",
    "\n",
    "year_file = m_year_files[-1]\n",
    "\n",
    "description = \"24hour\"\n",
    "\n",
    "filenames = []"
   ]
  },
  {
   "cell_type": "code",
   "execution_count": 13,
   "metadata": {
    "ExecuteTime": {
     "end_time": "2021-03-17T04:25:14.180200Z",
     "start_time": "2021-03-17T04:25:14.125421Z"
    },
    "pycharm": {
     "is_executing": false,
     "name": "#%%\n"
    }
   },
   "outputs": [],
   "source": [
    "#tests\n",
    "#yearly_bau_results_df = pd.read_csv(r'/home/XXX/Repositories/gr4sp/experiments/simulationData/VICSimDataYearSummary_seed_1607046606115.csv', index_col='Time (Year)')\n",
    "#monthly_bau_results_df = pd.read_csv(r'/home/XXX/Repositories/gr4sp/experiments/simulationData/VICSimDataMonthlySummary_seed_1607046606115.csv', index_col='Time (Month)')\n",
    "\n",
    "\n",
    "#last file for validation (changes in tariffs)\n",
    "# yearly_bau_results_df = pd.read_csv(r'/home/XXX/Repositories/gr4sp/experiments/simulationData/VICSimDataYearSummary_seed_1607932481652.csv', index_col='Time (Year)')\n",
    "# monthly_bau_results_df = pd.read_csv(r'/home/XXX/Repositories/gr4sp/experiments/simulationData/VICSimDataMonthlySummary_seed_1607932481652.csv', index_col='Time (Month)')\n",
    "\n",
    "################################################################################################\n",
    "month_file = \"/home/XXX/Documents/NominalSimDataMonthlySummary_24hour.csv\"\n",
    "year_file = \"/home/XXX/Documents/NominalSimDataYearSummary_24hour.csv\"\n",
    "monthly_bau_results_df = pd.read_csv(month_file, index_col='Time (Month)')\n",
    "yearly_bau_results_df = pd.read_csv(year_file, index_col='Time (Year)')\n",
    "filenames = []\n",
    "description = \"t4\"\n",
    "\n",
    "\n",
    "# monthly_bau_results_df = pd.read_csv(f'../../csv/Nominal/{t4_month_file}', index_col='Time (Month)')\n",
    "# yearly_bau_results_df = pd.read_csv(f'../../csv/Nominal/{t4_year_file}', index_col='Time (Year)')\n",
    "\n",
    "\n",
    "\n",
    "\n",
    "#results with generation_consumption_historic from Sep db\n",
    "#yearly_bau_results_df = pd.read_csv(r'/home/XXX/Repositories/gr4sp/experiments/simulationData/VICSimDataYearSummary_seed_1606371233282.csv', index_col='Time (Year)')\n",
    "#monthly_bau_results_df = pd.read_csv(r'/home/XXX/Repositories/gr4sp/experiments/simulationData/VICSimDataMonthlySummary_seed_1606371233282.csv', index_col='Time (Month)')"
   ]
  },
  {
   "cell_type": "code",
   "execution_count": 14,
   "metadata": {},
   "outputs": [
    {
     "data": {
      "image/png": "[encoded data removed]",
      "text/plain": [
       "<Figure size 1296x720 with 1 Axes>"
      ]
     },
     "metadata": {},
     "output_type": "display_data"
    }
   ],
   "source": [
    "plt.figure(figsize=(18,10))\n",
    "plt.text(0,1,description, fontsize=100)\n",
    "plt.text(0,0.75,month_file, fontsize=30)\n",
    "plt.text(0,0.25,year_file, fontsize=30)\n",
    "\n",
    "plt.grid(False)\n",
    "plt.xticks([])\n",
    "plt.yticks([])\n",
    "plt.savefig(f\"results/{description}_title\")\n",
    "filenames.append(f\"results/{description}_title\")"
   ]
  },
  {
   "cell_type": "code",
   "execution_count": 15,
   "metadata": {
    "ExecuteTime": {
     "end_time": "2021-03-17T04:25:14.185071Z",
     "start_time": "2021-03-17T04:25:14.181179Z"
    }
   },
   "outputs": [],
   "source": [
    "#annualSysProdDates= [DT.datetime.strptime(str(int(date)),'%Y') for date in monthly_bau_results_df.index]\n"
   ]
  },
  {
   "cell_type": "code",
   "execution_count": 16,
   "metadata": {
    "ExecuteTime": {
     "end_time": "2021-03-17T04:25:23.281144Z",
     "start_time": "2021-03-17T04:25:14.187067Z"
    }
   },
   "outputs": [
    {
     "data": {
      "image/png": "[encoded data removed]",
      "text/plain": [
       "<Figure size 1152x720 with 1 Axes>"
      ]
     },
     "metadata": {},
     "output_type": "display_data"
    }
   ],
   "source": [
    "#Monthly system production per fuel type\n",
    "plt.figure(figsize=(16,10))\n",
    "\n",
    "monthly_bau_results_df\n",
    "plt.plot( monthly_bau_results_df.index,'System Production Solar', data=monthly_bau_results_df, color='orange', linewidth=4, label = 'Solar')\n",
    "plt.plot( monthly_bau_results_df.index,'System Production Coal', data=monthly_bau_results_df, color='brown', linewidth=4, label = 'Brown coal')\n",
    "plt.plot( monthly_bau_results_df.index,'System Production Water', data=monthly_bau_results_df, color='blue', linewidth=4, label = 'Hydro')\n",
    "plt.plot( monthly_bau_results_df.index,'System Production Wind', data=monthly_bau_results_df, color='grey', linewidth=4, label = 'Wind')\n",
    "plt.plot( monthly_bau_results_df.index,'System Production Gas', data=monthly_bau_results_df, color='red', linewidth=4, label = 'Gas')\n",
    "\n",
    "\n",
    "#plt.title('Historic vs Simulated GHGE(MtCO2e)', size = 20)\n",
    "plt.xlabel('Month',size = 10)\n",
    "plt.ylabel('MWh',size = 16)\n",
    "plt.xticks(size = 12)\n",
    "plt.yticks(size = 12)\n",
    "plt.title('System Production per technology type')\n",
    "plt.legend(prop={'size':14})\n",
    "plt.savefig(f\"results/{description}_production\")\n",
    "filenames.append(f\"results/{description}_production\")"
   ]
  },
  {
   "cell_type": "code",
   "execution_count": 17,
   "metadata": {
    "ExecuteTime": {
     "end_time": "2021-03-17T04:25:23.305417Z",
     "start_time": "2021-03-17T04:25:23.282122Z"
    },
    "pycharm": {
     "is_executing": false,
     "name": "#%%\n"
    },
    "scrolled": true
   },
   "outputs": [
    {
     "data": {
      "text/html": [
       "<div>\n",
       "<style scoped>\n",
       "    .dataframe tbody tr th:only-of-type {\n",
       "        vertical-align: middle;\n",
       "    }\n",
       "\n",
       "    .dataframe tbody tr th {\n",
       "        vertical-align: top;\n",
       "    }\n",
       "\n",
       "    .dataframe thead th {\n",
       "        text-align: right;\n",
       "    }\n",
       "</style>\n",
       "<table border=\"1\" class=\"dataframe\">\n",
       "  <thead>\n",
       "    <tr style=\"text-align: right;\">\n",
       "      <th></th>\n",
       "      <th>Consumption (KWh) per household</th>\n",
       "      <th>Avg Tariff (c/KWh) per household</th>\n",
       "      <th>Primary Wholesale ($/MWh)</th>\n",
       "      <th>GHG Emissions (tCO2-e) per household</th>\n",
       "      <th>Number of Domestic Consumers (households)</th>\n",
       "      <th>Percentage Renewable Production</th>\n",
       "      <th>System Production Primary Spot</th>\n",
       "      <th>System Production Secondary Spot</th>\n",
       "      <th>System Production Off Spot</th>\n",
       "      <th>System Production Rooftop PV</th>\n",
       "      <th>...</th>\n",
       "      <th>285000 - Battery - Gannawarra Energy Storage System - 25.33 - S - 2020 - 2033 - OffSpot</th>\n",
       "      <th>293000 - Wind - Berrybank Wind Farm - 180.6 - SS - 2020 - 2050 - Primary</th>\n",
       "      <th>295000 - Wind - Moorabool Wind Farm - 320.32 - SS - 2020 - 2044 - Primary</th>\n",
       "      <th>297000 - Wind - Stockyard Hill Wind Farm - 531.93 - SS - 2020 - 2045 - Primary</th>\n",
       "      <th>301000 - Wind - Cherry Tree Wind Farm - 57.6 - SS - 2020 - 2050 - Primary</th>\n",
       "      <th>303000 - Solar - Carwarp Solar Farm - Stage I - 100.0 - SS - 2020 - 2050 - Primary</th>\n",
       "      <th>305000 - Wind - Dundonnell Wind Farm - 336.0 - SS - 2020 - 2045 - Primary</th>\n",
       "      <th>308000 - Wind - Mortlake South Wind Farm - 157.5 - SS - 2020 - 2050 - Primary</th>\n",
       "      <th>317000 - Solar - Winton Asset Co. Pty Ltd as Trustee of the Winton Asset Trust - 85.0 - SS - 2021 - 2051 - Primary</th>\n",
       "      <th>331000 - Solar - Kiamal Solar Farm - Stage 2 - 149.96 - SS - 2022 - 2052 - Primary</th>\n",
       "    </tr>\n",
       "    <tr>\n",
       "      <th>Time (Year)</th>\n",
       "      <th></th>\n",
       "      <th></th>\n",
       "      <th></th>\n",
       "      <th></th>\n",
       "      <th></th>\n",
       "      <th></th>\n",
       "      <th></th>\n",
       "      <th></th>\n",
       "      <th></th>\n",
       "      <th></th>\n",
       "      <th></th>\n",
       "      <th></th>\n",
       "      <th></th>\n",
       "      <th></th>\n",
       "      <th></th>\n",
       "      <th></th>\n",
       "      <th></th>\n",
       "      <th></th>\n",
       "      <th></th>\n",
       "      <th></th>\n",
       "      <th></th>\n",
       "    </tr>\n",
       "  </thead>\n",
       "  <tbody>\n",
       "    <tr>\n",
       "      <th>1998</th>\n",
       "      <td>7274.621326</td>\n",
       "      <td>26.621281</td>\n",
       "      <td>0.000000</td>\n",
       "      <td>9.241233</td>\n",
       "      <td>1637917.0</td>\n",
       "      <td>0.019037</td>\n",
       "      <td>0.000000</td>\n",
       "      <td>0.0</td>\n",
       "      <td>0.000000</td>\n",
       "      <td>0.0</td>\n",
       "      <td>...</td>\n",
       "      <td>0.0</td>\n",
       "      <td>0.0</td>\n",
       "      <td>0.0</td>\n",
       "      <td>0.0</td>\n",
       "      <td>0.0</td>\n",
       "      <td>0.0</td>\n",
       "      <td>0.0</td>\n",
       "      <td>0.0</td>\n",
       "      <td>0.0</td>\n",
       "      <td>0.0</td>\n",
       "    </tr>\n",
       "    <tr>\n",
       "      <th>1999</th>\n",
       "      <td>7972.760042</td>\n",
       "      <td>23.351999</td>\n",
       "      <td>13.547134</td>\n",
       "      <td>10.268510</td>\n",
       "      <td>1666850.0</td>\n",
       "      <td>0.015648</td>\n",
       "      <td>922184.093941</td>\n",
       "      <td>0.0</td>\n",
       "      <td>9270.414000</td>\n",
       "      <td>0.0</td>\n",
       "      <td>...</td>\n",
       "      <td>0.0</td>\n",
       "      <td>0.0</td>\n",
       "      <td>0.0</td>\n",
       "      <td>0.0</td>\n",
       "      <td>0.0</td>\n",
       "      <td>0.0</td>\n",
       "      <td>0.0</td>\n",
       "      <td>0.0</td>\n",
       "      <td>0.0</td>\n",
       "      <td>0.0</td>\n",
       "    </tr>\n",
       "    <tr>\n",
       "      <th>2000</th>\n",
       "      <td>8336.261405</td>\n",
       "      <td>9.374055</td>\n",
       "      <td>13.621925</td>\n",
       "      <td>10.608477</td>\n",
       "      <td>1695784.0</td>\n",
       "      <td>0.023104</td>\n",
       "      <td>978902.299751</td>\n",
       "      <td>0.0</td>\n",
       "      <td>9295.743000</td>\n",
       "      <td>0.0</td>\n",
       "      <td>...</td>\n",
       "      <td>0.0</td>\n",
       "      <td>0.0</td>\n",
       "      <td>0.0</td>\n",
       "      <td>0.0</td>\n",
       "      <td>0.0</td>\n",
       "      <td>0.0</td>\n",
       "      <td>0.0</td>\n",
       "      <td>0.0</td>\n",
       "      <td>0.0</td>\n",
       "      <td>0.0</td>\n",
       "    </tr>\n",
       "    <tr>\n",
       "      <th>2001</th>\n",
       "      <td>8225.690958</td>\n",
       "      <td>7.208783</td>\n",
       "      <td>14.144400</td>\n",
       "      <td>10.435732</td>\n",
       "      <td>1724718.0</td>\n",
       "      <td>0.022632</td>\n",
       "      <td>979179.787833</td>\n",
       "      <td>0.0</td>\n",
       "      <td>12365.562000</td>\n",
       "      <td>0.0</td>\n",
       "      <td>...</td>\n",
       "      <td>0.0</td>\n",
       "      <td>0.0</td>\n",
       "      <td>0.0</td>\n",
       "      <td>0.0</td>\n",
       "      <td>0.0</td>\n",
       "      <td>0.0</td>\n",
       "      <td>0.0</td>\n",
       "      <td>0.0</td>\n",
       "      <td>0.0</td>\n",
       "      <td>0.0</td>\n",
       "    </tr>\n",
       "    <tr>\n",
       "      <th>2002</th>\n",
       "      <td>8195.767319</td>\n",
       "      <td>6.645045</td>\n",
       "      <td>14.263314</td>\n",
       "      <td>10.307854</td>\n",
       "      <td>1753652.0</td>\n",
       "      <td>0.030111</td>\n",
       "      <td>990949.843371</td>\n",
       "      <td>0.0</td>\n",
       "      <td>15721.921448</td>\n",
       "      <td>0.0</td>\n",
       "      <td>...</td>\n",
       "      <td>0.0</td>\n",
       "      <td>0.0</td>\n",
       "      <td>0.0</td>\n",
       "      <td>0.0</td>\n",
       "      <td>0.0</td>\n",
       "      <td>0.0</td>\n",
       "      <td>0.0</td>\n",
       "      <td>0.0</td>\n",
       "      <td>0.0</td>\n",
       "      <td>0.0</td>\n",
       "    </tr>\n",
       "  </tbody>\n",
       "</table>\n",
       "<p>5 rows × 921 columns</p>\n",
       "</div>"
      ],
      "text/plain": [
       "             Consumption (KWh) per household  \\\n",
       "Time (Year)                                    \n",
       "1998                             7274.621326   \n",
       "1999                             7972.760042   \n",
       "2000                             8336.261405   \n",
       "2001                             8225.690958   \n",
       "2002                             8195.767319   \n",
       "\n",
       "             Avg Tariff (c/KWh) per household  Primary Wholesale ($/MWh)  \\\n",
       "Time (Year)                                                                \n",
       "1998                                26.621281                   0.000000   \n",
       "1999                                23.351999                  13.547134   \n",
       "2000                                 9.374055                  13.621925   \n",
       "2001                                 7.208783                  14.144400   \n",
       "2002                                 6.645045                  14.263314   \n",
       "\n",
       "             GHG Emissions (tCO2-e) per household  \\\n",
       "Time (Year)                                         \n",
       "1998                                     9.241233   \n",
       "1999                                    10.268510   \n",
       "2000                                    10.608477   \n",
       "2001                                    10.435732   \n",
       "2002                                    10.307854   \n",
       "\n",
       "             Number of Domestic Consumers (households)  \\\n",
       "Time (Year)                                              \n",
       "1998                                         1637917.0   \n",
       "1999                                         1666850.0   \n",
       "2000                                         1695784.0   \n",
       "2001                                         1724718.0   \n",
       "2002                                         1753652.0   \n",
       "\n",
       "             Percentage Renewable Production  System Production Primary Spot  \\\n",
       "Time (Year)                                                                    \n",
       "1998                                0.019037                        0.000000   \n",
       "1999                                0.015648                   922184.093941   \n",
       "2000                                0.023104                   978902.299751   \n",
       "2001                                0.022632                   979179.787833   \n",
       "2002                                0.030111                   990949.843371   \n",
       "\n",
       "             System Production Secondary Spot  System Production Off Spot  \\\n",
       "Time (Year)                                                                 \n",
       "1998                                      0.0                    0.000000   \n",
       "1999                                      0.0                 9270.414000   \n",
       "2000                                      0.0                 9295.743000   \n",
       "2001                                      0.0                12365.562000   \n",
       "2002                                      0.0                15721.921448   \n",
       "\n",
       "             System Production Rooftop PV  ...  \\\n",
       "Time (Year)                                ...   \n",
       "1998                                  0.0  ...   \n",
       "1999                                  0.0  ...   \n",
       "2000                                  0.0  ...   \n",
       "2001                                  0.0  ...   \n",
       "2002                                  0.0  ...   \n",
       "\n",
       "             285000 - Battery - Gannawarra Energy Storage System - 25.33 - S - 2020 - 2033 - OffSpot  \\\n",
       "Time (Year)                                                                                            \n",
       "1998                                                       0.0                                         \n",
       "1999                                                       0.0                                         \n",
       "2000                                                       0.0                                         \n",
       "2001                                                       0.0                                         \n",
       "2002                                                       0.0                                         \n",
       "\n",
       "             293000 - Wind - Berrybank Wind Farm - 180.6 - SS - 2020 - 2050 - Primary  \\\n",
       "Time (Year)                                                                             \n",
       "1998                                                       0.0                          \n",
       "1999                                                       0.0                          \n",
       "2000                                                       0.0                          \n",
       "2001                                                       0.0                          \n",
       "2002                                                       0.0                          \n",
       "\n",
       "             295000 - Wind - Moorabool Wind Farm - 320.32 - SS - 2020 - 2044 - Primary  \\\n",
       "Time (Year)                                                                              \n",
       "1998                                                       0.0                           \n",
       "1999                                                       0.0                           \n",
       "2000                                                       0.0                           \n",
       "2001                                                       0.0                           \n",
       "2002                                                       0.0                           \n",
       "\n",
       "             297000 - Wind - Stockyard Hill Wind Farm - 531.93 - SS - 2020 - 2045 - Primary  \\\n",
       "Time (Year)                                                                                   \n",
       "1998                                                       0.0                                \n",
       "1999                                                       0.0                                \n",
       "2000                                                       0.0                                \n",
       "2001                                                       0.0                                \n",
       "2002                                                       0.0                                \n",
       "\n",
       "             301000 - Wind - Cherry Tree Wind Farm - 57.6 - SS - 2020 - 2050 - Primary  \\\n",
       "Time (Year)                                                                              \n",
       "1998                                                       0.0                           \n",
       "1999                                                       0.0                           \n",
       "2000                                                       0.0                           \n",
       "2001                                                       0.0                           \n",
       "2002                                                       0.0                           \n",
       "\n",
       "             303000 - Solar - Carwarp Solar Farm - Stage I - 100.0 - SS - 2020 - 2050 - Primary  \\\n",
       "Time (Year)                                                                                       \n",
       "1998                                                       0.0                                    \n",
       "1999                                                       0.0                                    \n",
       "2000                                                       0.0                                    \n",
       "2001                                                       0.0                                    \n",
       "2002                                                       0.0                                    \n",
       "\n",
       "             305000 - Wind - Dundonnell Wind Farm - 336.0 - SS - 2020 - 2045 - Primary  \\\n",
       "Time (Year)                                                                              \n",
       "1998                                                       0.0                           \n",
       "1999                                                       0.0                           \n",
       "2000                                                       0.0                           \n",
       "2001                                                       0.0                           \n",
       "2002                                                       0.0                           \n",
       "\n",
       "             308000 - Wind - Mortlake South Wind Farm - 157.5 - SS - 2020 - 2050 - Primary  \\\n",
       "Time (Year)                                                                                  \n",
       "1998                                                       0.0                               \n",
       "1999                                                       0.0                               \n",
       "2000                                                       0.0                               \n",
       "2001                                                       0.0                               \n",
       "2002                                                       0.0                               \n",
       "\n",
       "             317000 - Solar - Winton Asset Co. Pty Ltd as Trustee of the Winton Asset Trust - 85.0 - SS - 2021 - 2051 - Primary  \\\n",
       "Time (Year)                                                                                                                       \n",
       "1998                                                       0.0                                                                    \n",
       "1999                                                       0.0                                                                    \n",
       "2000                                                       0.0                                                                    \n",
       "2001                                                       0.0                                                                    \n",
       "2002                                                       0.0                                                                    \n",
       "\n",
       "             331000 - Solar - Kiamal Solar Farm - Stage 2 - 149.96 - SS - 2022 - 2052 - Primary  \n",
       "Time (Year)                                                                                      \n",
       "1998                                                       0.0                                   \n",
       "1999                                                       0.0                                   \n",
       "2000                                                       0.0                                   \n",
       "2001                                                       0.0                                   \n",
       "2002                                                       0.0                                   \n",
       "\n",
       "[5 rows x 921 columns]"
      ]
     },
     "execution_count": 17,
     "metadata": {},
     "output_type": "execute_result"
    }
   ],
   "source": [
    "yearly_bau_results_df.head()"
   ]
  },
  {
   "cell_type": "code",
   "execution_count": 18,
   "metadata": {
    "ExecuteTime": {
     "end_time": "2021-03-17T04:25:23.318385Z",
     "start_time": "2021-03-17T04:25:23.306450Z"
    }
   },
   "outputs": [
    {
     "data": {
      "text/html": [
       "<div>\n",
       "<style scoped>\n",
       "    .dataframe tbody tr th:only-of-type {\n",
       "        vertical-align: middle;\n",
       "    }\n",
       "\n",
       "    .dataframe tbody tr th {\n",
       "        vertical-align: top;\n",
       "    }\n",
       "\n",
       "    .dataframe thead th {\n",
       "        text-align: right;\n",
       "    }\n",
       "</style>\n",
       "<table border=\"1\" class=\"dataframe\">\n",
       "  <thead>\n",
       "    <tr style=\"text-align: right;\">\n",
       "      <th></th>\n",
       "      <th>Simulated_GHGE_VIC (MtCO2e)</th>\n",
       "    </tr>\n",
       "    <tr>\n",
       "      <th>Time (Year)</th>\n",
       "      <th></th>\n",
       "    </tr>\n",
       "  </thead>\n",
       "  <tbody>\n",
       "    <tr>\n",
       "      <th>1998</th>\n",
       "      <td>50.454577</td>\n",
       "    </tr>\n",
       "    <tr>\n",
       "      <th>1999</th>\n",
       "      <td>57.053552</td>\n",
       "    </tr>\n",
       "    <tr>\n",
       "      <th>2000</th>\n",
       "      <td>59.965617</td>\n",
       "    </tr>\n",
       "    <tr>\n",
       "      <th>2001</th>\n",
       "      <td>59.995648</td>\n",
       "    </tr>\n",
       "    <tr>\n",
       "      <th>2002</th>\n",
       "      <td>60.254631</td>\n",
       "    </tr>\n",
       "  </tbody>\n",
       "</table>\n",
       "</div>"
      ],
      "text/plain": [
       "             Simulated_GHGE_VIC (MtCO2e)\n",
       "Time (Year)                             \n",
       "1998                           50.454577\n",
       "1999                           57.053552\n",
       "2000                           59.965617\n",
       "2001                           59.995648\n",
       "2002                           60.254631"
      ]
     },
     "execution_count": 18,
     "metadata": {},
     "output_type": "execute_result"
    }
   ],
   "source": [
    "\"\"\" Filtering GHG emissions from BAU \"\"\"\n",
    "\n",
    "data_GHG_household = yearly_bau_results_df['GHG Emissions (tCO2-e) per household']\n",
    "\n",
    "\"\"\" Converts household data in tCO2e into total residential data in MtCO2e\"\"\"\n",
    "data_GHG_residential = (data_GHG_household * \n",
    "                        yearly_bau_results_df['Number of Domestic Consumers (households)']) / 1000000.0\n",
    "\n",
    "\"\"\" Applies scaling factor used in simulation, so that data represents total emissions, not only residential (30%)\"\"\"\n",
    "data_GHG_total = data_GHG_residential / 0.3\n",
    "\n",
    "data_GHG_total_df =  pd.DataFrame(data_GHG_total)\n",
    "\n",
    "# Since the market started officially in 1999, it is assumed that quantification of emissions stabilises after this date.\n",
    "# Therefore, the years 1998 and 1999 are ignored.\n",
    "\n",
    "simul_data_GHG_total_df=data_GHG_total_df.rename(columns = {0:'Simulated_GHGE_VIC (MtCO2e)'})[:]\n",
    "simul_data_GHG_total_df.head()\n"
   ]
  },
  {
   "cell_type": "markdown",
   "metadata": {},
   "source": [
    "## GHG emissions validation\n",
    "1. load historic emissions and merge with simulated results\n",
    "2. plot historic and simulated results\n",
    "3. use a descriptive statistic measure to validate results from simulation against historic values\n",
    "\n",
    "The key role of decarbonising the electricity sector in Victoria: The electricity sector in Victoria accounted for more than half of emissions in 2016. After the retirement of Hazelwood, this contribution still sited at 42% of the state's emissions. At the validation date (2020), historic emissions data for the electricity sector in Victoria is only available until 2017. 2018 number has been assumed to be 2017 (56.1) value minus a net reduction of 11.8 MtCO2-e given the retirement of Hazelwood in 2017.\n",
    "Sources of data:\n",
    "- https://engage.vic.gov.au/climate-change-reducing-victorias-greenhouse-gas-emissions\n",
    "- https://www.climatechange.vic.gov.au/information-and-resources/greenhouse-gas-emissions-in-victoria\n",
    "- https://www.climatechange.vic.gov.au/__data/assets/pdf_file/0033/395079/Victorian-Greenhouse-Gas-Emissions-Report-2018.pdf\n",
    "- https://www.climatechange.vic.gov.au/__data/assets/pdf_file/0016/443014/Victorian-Greenhouse-Gas-Emissions-Report-2019.pdf"
   ]
  },
  {
   "cell_type": "markdown",
   "metadata": {},
   "source": [
    "### load historic emissions and merge with simulation results\n"
   ]
  },
  {
   "cell_type": "code",
   "execution_count": 19,
   "metadata": {
    "ExecuteTime": {
     "end_time": "2021-03-17T04:25:23.326363Z",
     "start_time": "2021-03-17T04:25:23.319382Z"
    }
   },
   "outputs": [],
   "source": [
    "#A CSV is built based on the information available in these sources \n",
    "historic_emissions_df = pd.read_csv(r'/home/XXX/Repositories/gr4sp/experiments/simulationData/19902018_historic_emissions_Vic.csv', index_col='Time (Year)')"
   ]
  },
  {
   "cell_type": "code",
   "execution_count": 20,
   "metadata": {
    "ExecuteTime": {
     "end_time": "2021-03-17T04:25:23.337337Z",
     "start_time": "2021-03-17T04:25:23.328358Z"
    }
   },
   "outputs": [
    {
     "data": {
      "text/html": [
       "<div>\n",
       "<style scoped>\n",
       "    .dataframe tbody tr th:only-of-type {\n",
       "        vertical-align: middle;\n",
       "    }\n",
       "\n",
       "    .dataframe tbody tr th {\n",
       "        vertical-align: top;\n",
       "    }\n",
       "\n",
       "    .dataframe thead th {\n",
       "        text-align: right;\n",
       "    }\n",
       "</style>\n",
       "<table border=\"1\" class=\"dataframe\">\n",
       "  <thead>\n",
       "    <tr style=\"text-align: right;\">\n",
       "      <th></th>\n",
       "      <th>Hist_GHGE_MtCO2e</th>\n",
       "    </tr>\n",
       "    <tr>\n",
       "      <th>Time (Year)</th>\n",
       "      <th></th>\n",
       "    </tr>\n",
       "  </thead>\n",
       "  <tbody>\n",
       "    <tr>\n",
       "      <th>1990</th>\n",
       "      <td>44.2</td>\n",
       "    </tr>\n",
       "    <tr>\n",
       "      <th>1991</th>\n",
       "      <td>46.3</td>\n",
       "    </tr>\n",
       "    <tr>\n",
       "      <th>1992</th>\n",
       "      <td>47.5</td>\n",
       "    </tr>\n",
       "    <tr>\n",
       "      <th>1993</th>\n",
       "      <td>45.3</td>\n",
       "    </tr>\n",
       "    <tr>\n",
       "      <th>1994</th>\n",
       "      <td>45.5</td>\n",
       "    </tr>\n",
       "    <tr>\n",
       "      <th>1995</th>\n",
       "      <td>47.8</td>\n",
       "    </tr>\n",
       "    <tr>\n",
       "      <th>1996</th>\n",
       "      <td>49.9</td>\n",
       "    </tr>\n",
       "    <tr>\n",
       "      <th>1997</th>\n",
       "      <td>52.6</td>\n",
       "    </tr>\n",
       "    <tr>\n",
       "      <th>1998</th>\n",
       "      <td>59.2</td>\n",
       "    </tr>\n",
       "    <tr>\n",
       "      <th>1999</th>\n",
       "      <td>61.8</td>\n",
       "    </tr>\n",
       "    <tr>\n",
       "      <th>2000</th>\n",
       "      <td>62.7</td>\n",
       "    </tr>\n",
       "    <tr>\n",
       "      <th>2001</th>\n",
       "      <td>62.2</td>\n",
       "    </tr>\n",
       "    <tr>\n",
       "      <th>2002</th>\n",
       "      <td>60.4</td>\n",
       "    </tr>\n",
       "    <tr>\n",
       "      <th>2003</th>\n",
       "      <td>61.5</td>\n",
       "    </tr>\n",
       "    <tr>\n",
       "      <th>2004</th>\n",
       "      <td>64.7</td>\n",
       "    </tr>\n",
       "  </tbody>\n",
       "</table>\n",
       "</div>"
      ],
      "text/plain": [
       "             Hist_GHGE_MtCO2e\n",
       "Time (Year)                  \n",
       "1990                     44.2\n",
       "1991                     46.3\n",
       "1992                     47.5\n",
       "1993                     45.3\n",
       "1994                     45.5\n",
       "1995                     47.8\n",
       "1996                     49.9\n",
       "1997                     52.6\n",
       "1998                     59.2\n",
       "1999                     61.8\n",
       "2000                     62.7\n",
       "2001                     62.2\n",
       "2002                     60.4\n",
       "2003                     61.5\n",
       "2004                     64.7"
      ]
     },
     "execution_count": 20,
     "metadata": {},
     "output_type": "execute_result"
    }
   ],
   "source": [
    "historic_emissions_df.head(15)"
   ]
  },
  {
   "cell_type": "code",
   "execution_count": 21,
   "metadata": {
    "ExecuteTime": {
     "end_time": "2021-03-17T04:25:23.366028Z",
     "start_time": "2021-03-17T04:25:23.339329Z"
    }
   },
   "outputs": [
    {
     "data": {
      "text/html": [
       "<div>\n",
       "<style scoped>\n",
       "    .dataframe tbody tr th:only-of-type {\n",
       "        vertical-align: middle;\n",
       "    }\n",
       "\n",
       "    .dataframe tbody tr th {\n",
       "        vertical-align: top;\n",
       "    }\n",
       "\n",
       "    .dataframe thead th {\n",
       "        text-align: right;\n",
       "    }\n",
       "</style>\n",
       "<table border=\"1\" class=\"dataframe\">\n",
       "  <thead>\n",
       "    <tr style=\"text-align: right;\">\n",
       "      <th></th>\n",
       "      <th>Simulated_GHGE_VIC (MtCO2e)</th>\n",
       "      <th>Hist_GHGE_MtCO2e</th>\n",
       "    </tr>\n",
       "    <tr>\n",
       "      <th>Time (Year)</th>\n",
       "      <th></th>\n",
       "      <th></th>\n",
       "    </tr>\n",
       "  </thead>\n",
       "  <tbody>\n",
       "    <tr>\n",
       "      <th>1998</th>\n",
       "      <td>50.454577</td>\n",
       "      <td>59.2</td>\n",
       "    </tr>\n",
       "    <tr>\n",
       "      <th>1999</th>\n",
       "      <td>57.053552</td>\n",
       "      <td>61.8</td>\n",
       "    </tr>\n",
       "    <tr>\n",
       "      <th>2000</th>\n",
       "      <td>59.965617</td>\n",
       "      <td>62.7</td>\n",
       "    </tr>\n",
       "    <tr>\n",
       "      <th>2001</th>\n",
       "      <td>59.995648</td>\n",
       "      <td>62.2</td>\n",
       "    </tr>\n",
       "    <tr>\n",
       "      <th>2002</th>\n",
       "      <td>60.254631</td>\n",
       "      <td>60.4</td>\n",
       "    </tr>\n",
       "    <tr>\n",
       "      <th>2003</th>\n",
       "      <td>61.379035</td>\n",
       "      <td>61.5</td>\n",
       "    </tr>\n",
       "    <tr>\n",
       "      <th>2004</th>\n",
       "      <td>62.049939</td>\n",
       "      <td>64.7</td>\n",
       "    </tr>\n",
       "    <tr>\n",
       "      <th>2005</th>\n",
       "      <td>63.201414</td>\n",
       "      <td>63.5</td>\n",
       "    </tr>\n",
       "    <tr>\n",
       "      <th>2006</th>\n",
       "      <td>65.107070</td>\n",
       "      <td>64.3</td>\n",
       "    </tr>\n",
       "    <tr>\n",
       "      <th>2007</th>\n",
       "      <td>64.909129</td>\n",
       "      <td>63.3</td>\n",
       "    </tr>\n",
       "    <tr>\n",
       "      <th>2008</th>\n",
       "      <td>65.405592</td>\n",
       "      <td>63.7</td>\n",
       "    </tr>\n",
       "    <tr>\n",
       "      <th>2009</th>\n",
       "      <td>65.214288</td>\n",
       "      <td>65.6</td>\n",
       "    </tr>\n",
       "    <tr>\n",
       "      <th>2010</th>\n",
       "      <td>65.396443</td>\n",
       "      <td>65.3</td>\n",
       "    </tr>\n",
       "    <tr>\n",
       "      <th>2011</th>\n",
       "      <td>64.400030</td>\n",
       "      <td>64.4</td>\n",
       "    </tr>\n",
       "    <tr>\n",
       "      <th>2012</th>\n",
       "      <td>63.740357</td>\n",
       "      <td>66.7</td>\n",
       "    </tr>\n",
       "    <tr>\n",
       "      <th>2013</th>\n",
       "      <td>62.895129</td>\n",
       "      <td>59.0</td>\n",
       "    </tr>\n",
       "    <tr>\n",
       "      <th>2014</th>\n",
       "      <td>62.754409</td>\n",
       "      <td>57.0</td>\n",
       "    </tr>\n",
       "    <tr>\n",
       "      <th>2015</th>\n",
       "      <td>60.483809</td>\n",
       "      <td>61.1</td>\n",
       "    </tr>\n",
       "    <tr>\n",
       "      <th>2016</th>\n",
       "      <td>61.470721</td>\n",
       "      <td>59.2</td>\n",
       "    </tr>\n",
       "    <tr>\n",
       "      <th>2017</th>\n",
       "      <td>48.786517</td>\n",
       "      <td>56.1</td>\n",
       "    </tr>\n",
       "    <tr>\n",
       "      <th>2018</th>\n",
       "      <td>46.537620</td>\n",
       "      <td>46.4</td>\n",
       "    </tr>\n",
       "  </tbody>\n",
       "</table>\n",
       "</div>"
      ],
      "text/plain": [
       "             Simulated_GHGE_VIC (MtCO2e)  Hist_GHGE_MtCO2e\n",
       "Time (Year)                                               \n",
       "1998                           50.454577              59.2\n",
       "1999                           57.053552              61.8\n",
       "2000                           59.965617              62.7\n",
       "2001                           59.995648              62.2\n",
       "2002                           60.254631              60.4\n",
       "2003                           61.379035              61.5\n",
       "2004                           62.049939              64.7\n",
       "2005                           63.201414              63.5\n",
       "2006                           65.107070              64.3\n",
       "2007                           64.909129              63.3\n",
       "2008                           65.405592              63.7\n",
       "2009                           65.214288              65.6\n",
       "2010                           65.396443              65.3\n",
       "2011                           64.400030              64.4\n",
       "2012                           63.740357              66.7\n",
       "2013                           62.895129              59.0\n",
       "2014                           62.754409              57.0\n",
       "2015                           60.483809              61.1\n",
       "2016                           61.470721              59.2\n",
       "2017                           48.786517              56.1\n",
       "2018                           46.537620              46.4"
      ]
     },
     "execution_count": 21,
     "metadata": {},
     "output_type": "execute_result"
    }
   ],
   "source": [
    "from functools import reduce\n",
    "\n",
    "historic_and_simul_emissions_list = [simul_data_GHG_total_df, historic_emissions_df]\n",
    "historic_and_simul_emissions_list\n",
    "\n",
    "historic_and_simul_emissions_df = reduce(lambda x, y: pd.merge(x, y, on = 'Time (Year)'), historic_and_simul_emissions_list)\n",
    "historic_and_simul_emissions_df.head(40)"
   ]
  },
  {
   "cell_type": "markdown",
   "metadata": {},
   "source": [
    "### Plot historic and simulated emissions"
   ]
  },
  {
   "cell_type": "code",
   "execution_count": 22,
   "metadata": {
    "ExecuteTime": {
     "end_time": "2021-03-17T04:25:23.691808Z",
     "start_time": "2021-03-17T04:25:23.368023Z"
    }
   },
   "outputs": [
    {
     "data": {
      "image/png": "[encoded data removed]",
      "text/plain": [
       "<Figure size 1152x720 with 1 Axes>"
      ]
     },
     "metadata": {},
     "output_type": "display_data"
    }
   ],
   "source": [
    "plt.figure(figsize=(16,10))\n",
    "#xfmt = mdates.DateFormatter('%Y-%m-%d')\n",
    "#axes.xaxis.set_major_formatter(xfmt)\n",
    "\n",
    "\n",
    "yearly_dates = [DT.datetime.strptime(str(int(date)),'%Y') for date in historic_and_simul_emissions_df.index]\n",
    "\n",
    "#plt.plot( yearly_dates, 'Hist_GHGE_MtCO2e', data=historic_and_simul_emissions_df, marker='o', markerfacecolor='darkgoldenrod', markersize=8, color='burlywood', linewidth=4)\n",
    "#plt.plot( yearly_dates,'Simulated_GHGE_VIC (MtCO2e)', data=historic_and_simul_emissions_df, marker='o', markerfacecolor='lightblue', markersize=8, color='lightblue', linewidth=4)\n",
    "\n",
    "plt.plot( yearly_dates,'Simulated_GHGE_VIC (MtCO2e)', data=historic_and_simul_emissions_df, color='lightblue', linewidth=4, label = 'GHGE - Simulated (STLM+CSI+MS)')\n",
    "plt.plot( yearly_dates, 'Hist_GHGE_MtCO2e', data=historic_and_simul_emissions_df, color='burlywood', linewidth=4, label = 'GHGE - Historic')\n",
    "\n",
    "# plt.plot( yearly_dates,'Simulated_GHGE_VIC (MtCO2e)', data=historic_and_simul_emissions_df, color='lightblue', linewidth=4, label = 'GHGE - Simulated (STLM+CSI+MS)')\n",
    "# plt.plot( yearly_dates, 'Hist_GHGE_MtCO2e', data=historic_and_simul_emissions_df, color='burlywood', linewidth=4, label = 'GHGE - Historic')\n",
    "\n",
    "#plt.title('Historic vs Simulated GHGE(MtCO2e)', size = 20)\n",
    "plt.xlabel('Years',size = 16)\n",
    "plt.ylabel('MtCO2-e',size = 16)\n",
    "plt.xticks(size = 14)\n",
    "plt.yticks(size = 14)\n",
    "plt.legend(prop={'size':16})\n",
    "plt.savefig(f\"results/{description}_ghg\")\n",
    "filenames.append(f\"results/{description}_ghg\")"
   ]
  },
  {
   "cell_type": "code",
   "execution_count": 23,
   "metadata": {
    "ExecuteTime": {
     "end_time": "2021-03-17T04:25:23.974875Z",
     "start_time": "2021-03-17T04:25:23.693264Z"
    }
   },
   "outputs": [
    {
     "data": {
      "text/plain": [
       "<AxesSubplot:>"
      ]
     },
     "execution_count": 23,
     "metadata": {},
     "output_type": "execute_result"
    },
    {
     "data": {
      "image/png": "[encoded data removed]",
      "text/plain": [
       "<Figure size 432x288 with 1 Axes>"
      ]
     },
     "metadata": {},
     "output_type": "display_data"
    }
   ],
   "source": [
    "#distribution\n",
    "historic_and_simul_emissions_df['Hist_GHGE_MtCO2e'].hist()"
   ]
  },
  {
   "cell_type": "markdown",
   "metadata": {},
   "source": [
    "### Validation using MAD, RMSE and Euclidian distance\n",
    "\n",
    "The validation uses the [Median Absolute Deviation](https://en.wikipedia.org/wiki/Median_absolute_deviation) between historic emissions and simulation results. The validation is done for the years 2000 to 2018. \n",
    "$b$ is 1.4826 and it is a constant linked to assumption of normality of the data (i.e. disregarding the abnormality of the data) [(Leys et al, 2013)\n",
    "](http://dx.doi.org/10.1016/j.jesp.2013.03.013) and can be used to find the standard deviation. \n",
    "\n",
    "The MAD used here is an adaptation in which the statistic is used to compare historic and simulated results.\n",
    "$MAD = median (|s_i - h_i|)$, where $i$ is the year of analysis, $s_i$ is the simulated emissions and $h_i$ is the historic data point at the $i_{th}$ year."
   ]
  },
  {
   "cell_type": "code",
   "execution_count": 24,
   "metadata": {
    "ExecuteTime": {
     "end_time": "2021-03-17T04:25:23.990304Z",
     "start_time": "2021-03-17T04:25:23.975873Z"
    }
   },
   "outputs": [
    {
     "name": "stdout",
     "output_type": "stream",
     "text": [
      "Simulated results are 1.71 MTCO2-e (MAD) away from historic data\n",
      "Simulated results have a standard deviation of 2.53 MTCO2-e from historic data\n"
     ]
    }
   ],
   "source": [
    "b = 1.4826\n",
    "\n",
    "abs_difference_list = list()\n",
    "for i in historic_and_simul_emissions_df.index:\n",
    "    diff = abs(historic_and_simul_emissions_df.loc[i][0] - historic_and_simul_emissions_df.loc[i][1])\n",
    "    abs_difference_list.append(diff)\n",
    "\n",
    "mad = statistics.median(abs_difference_list)\n",
    "std = mad*b\n",
    "print(f\"Simulated results are {mad.round(decimals=2)} MTCO2-e (MAD) away from historic data\")\n",
    "print(f\"Simulated results have a standard deviation of {std.round(decimals=2)} MTCO2-e from historic data\")\n",
    "  "
   ]
  },
  {
   "cell_type": "code",
   "execution_count": 25,
   "metadata": {
    "ExecuteTime": {
     "end_time": "2021-03-17T04:25:24.010259Z",
     "start_time": "2021-03-17T04:25:23.991301Z"
    }
   },
   "outputs": [
    {
     "name": "stderr",
     "output_type": "stream",
     "text": [
      "/home/XXX/anaconda3/lib/python3.7/site-packages/ipykernel_launcher.py:3: RuntimeWarning: invalid value encountered in sqrt\n",
      "  This is separate from the ipykernel package so we can avoid doing imports until\n"
     ]
    }
   ],
   "source": [
    "sqr_list = list()\n",
    "for i in historic_and_simul_emissions_df.index:\n",
    "    sqr = np.sqrt(historic_and_simul_emissions_df.loc[i][0] - historic_and_simul_emissions_df.loc[i][1])\n",
    "    #sqr_list.append(sqr)\n",
    "\n"
   ]
  },
  {
   "cell_type": "markdown",
   "metadata": {},
   "source": [
    "## Wholesale prices validation\n",
    "\n",
    "1. load historic and simulated monthly wholesale prices\n",
    "2. plot historic and simulated results\n",
    "3. use a descriptive statistic measure to validate results from simulation against historic values\n",
    "\n",
    "Wholesale data can be found since 2005 in a monthly basis. Therefore, the monthly summary report is used for this validation. \n",
    "Sources of data:\n",
    "- https://opennem.org.au/energy/vic1/"
   ]
  },
  {
   "cell_type": "markdown",
   "metadata": {},
   "source": [
    "### Load historic and simulated wholesale prices. Merge data."
   ]
  },
  {
   "cell_type": "code",
   "execution_count": 26,
   "metadata": {
    "ExecuteTime": {
     "end_time": "2021-03-17T04:25:24.041144Z",
     "start_time": "2021-03-17T04:25:24.011257Z"
    },
    "scrolled": true
   },
   "outputs": [
    {
     "data": {
      "text/html": [
       "<div>\n",
       "<style scoped>\n",
       "    .dataframe tbody tr th:only-of-type {\n",
       "        vertical-align: middle;\n",
       "    }\n",
       "\n",
       "    .dataframe tbody tr th {\n",
       "        vertical-align: top;\n",
       "    }\n",
       "\n",
       "    .dataframe thead th {\n",
       "        text-align: right;\n",
       "    }\n",
       "</style>\n",
       "<table border=\"1\" class=\"dataframe\">\n",
       "  <thead>\n",
       "    <tr style=\"text-align: right;\">\n",
       "      <th></th>\n",
       "      <th>Temperature - C</th>\n",
       "      <th>Solar (Rooftop) Market Value - $</th>\n",
       "      <th>Solar (Rooftop) - GWh</th>\n",
       "      <th>Solar (Utility) Market Value - $</th>\n",
       "      <th>Solar (Utility) - GWh</th>\n",
       "      <th>Wind Market Value - $</th>\n",
       "      <th>Wind - GWh</th>\n",
       "      <th>Hydro Market Value - $</th>\n",
       "      <th>Hydro - GWh</th>\n",
       "      <th>Battery (Discharging) Market Value - $</th>\n",
       "      <th>...</th>\n",
       "      <th>Wind Market Value - $/MWh</th>\n",
       "      <th>Hydro Market Value - $/MWh</th>\n",
       "      <th>Battery (Discharging) Market Value - $/MWh</th>\n",
       "      <th>Gas (OCGT) Market Value - $/MWh</th>\n",
       "      <th>Gas (Steam) Market Value - $/MWh</th>\n",
       "      <th>Brown Coal Market Value - $/MWh</th>\n",
       "      <th>Imports Market Value - $/MWh</th>\n",
       "      <th>Exports Market Value - $/MWh</th>\n",
       "      <th>Volume Weighted Price (Historic) - $/MWh</th>\n",
       "      <th>Imports % from wholesale price</th>\n",
       "    </tr>\n",
       "    <tr>\n",
       "      <th>Time (Month)</th>\n",
       "      <th></th>\n",
       "      <th></th>\n",
       "      <th></th>\n",
       "      <th></th>\n",
       "      <th></th>\n",
       "      <th></th>\n",
       "      <th></th>\n",
       "      <th></th>\n",
       "      <th></th>\n",
       "      <th></th>\n",
       "      <th></th>\n",
       "      <th></th>\n",
       "      <th></th>\n",
       "      <th></th>\n",
       "      <th></th>\n",
       "      <th></th>\n",
       "      <th></th>\n",
       "      <th></th>\n",
       "      <th></th>\n",
       "      <th></th>\n",
       "      <th></th>\n",
       "    </tr>\n",
       "  </thead>\n",
       "  <tbody>\n",
       "    <tr>\n",
       "      <th>2005-04-01</th>\n",
       "      <td>NaN</td>\n",
       "      <td>0.0</td>\n",
       "      <td>0.0</td>\n",
       "      <td>0.0</td>\n",
       "      <td>0.0</td>\n",
       "      <td>0.0</td>\n",
       "      <td>0.0</td>\n",
       "      <td>11848263.30</td>\n",
       "      <td>304.50</td>\n",
       "      <td>0.0</td>\n",
       "      <td>...</td>\n",
       "      <td>0.0</td>\n",
       "      <td>38.910553</td>\n",
       "      <td>0.0</td>\n",
       "      <td>44.023585</td>\n",
       "      <td>39.220646</td>\n",
       "      <td>30.605720</td>\n",
       "      <td>38.289921</td>\n",
       "      <td>-19.009200</td>\n",
       "      <td>31.809904</td>\n",
       "      <td>20%</td>\n",
       "    </tr>\n",
       "    <tr>\n",
       "      <th>2005-05-01</th>\n",
       "      <td>NaN</td>\n",
       "      <td>0.0</td>\n",
       "      <td>0.0</td>\n",
       "      <td>0.0</td>\n",
       "      <td>0.0</td>\n",
       "      <td>0.0</td>\n",
       "      <td>0.0</td>\n",
       "      <td>8161908.91</td>\n",
       "      <td>260.01</td>\n",
       "      <td>0.0</td>\n",
       "      <td>...</td>\n",
       "      <td>0.0</td>\n",
       "      <td>31.390750</td>\n",
       "      <td>0.0</td>\n",
       "      <td>35.260919</td>\n",
       "      <td>35.709309</td>\n",
       "      <td>24.667570</td>\n",
       "      <td>31.791585</td>\n",
       "      <td>-18.044240</td>\n",
       "      <td>25.330109</td>\n",
       "      <td>26%</td>\n",
       "    </tr>\n",
       "    <tr>\n",
       "      <th>2005-06-01</th>\n",
       "      <td>NaN</td>\n",
       "      <td>0.0</td>\n",
       "      <td>0.0</td>\n",
       "      <td>0.0</td>\n",
       "      <td>0.0</td>\n",
       "      <td>0.0</td>\n",
       "      <td>0.0</td>\n",
       "      <td>6597447.23</td>\n",
       "      <td>200.71</td>\n",
       "      <td>0.0</td>\n",
       "      <td>...</td>\n",
       "      <td>0.0</td>\n",
       "      <td>32.870546</td>\n",
       "      <td>0.0</td>\n",
       "      <td>50.142422</td>\n",
       "      <td>37.533559</td>\n",
       "      <td>23.616642</td>\n",
       "      <td>30.781600</td>\n",
       "      <td>-17.572286</td>\n",
       "      <td>24.249596</td>\n",
       "      <td>27%</td>\n",
       "    </tr>\n",
       "    <tr>\n",
       "      <th>2005-07-01</th>\n",
       "      <td>NaN</td>\n",
       "      <td>0.0</td>\n",
       "      <td>0.0</td>\n",
       "      <td>0.0</td>\n",
       "      <td>0.0</td>\n",
       "      <td>0.0</td>\n",
       "      <td>0.0</td>\n",
       "      <td>7421383.61</td>\n",
       "      <td>182.63</td>\n",
       "      <td>0.0</td>\n",
       "      <td>...</td>\n",
       "      <td>0.0</td>\n",
       "      <td>40.636169</td>\n",
       "      <td>0.0</td>\n",
       "      <td>56.781103</td>\n",
       "      <td>39.030981</td>\n",
       "      <td>26.668752</td>\n",
       "      <td>32.787615</td>\n",
       "      <td>-17.823924</td>\n",
       "      <td>27.651352</td>\n",
       "      <td>19%</td>\n",
       "    </tr>\n",
       "    <tr>\n",
       "      <th>2005-08-01</th>\n",
       "      <td>NaN</td>\n",
       "      <td>0.0</td>\n",
       "      <td>0.0</td>\n",
       "      <td>0.0</td>\n",
       "      <td>0.0</td>\n",
       "      <td>0.0</td>\n",
       "      <td>0.0</td>\n",
       "      <td>10855283.83</td>\n",
       "      <td>207.39</td>\n",
       "      <td>0.0</td>\n",
       "      <td>...</td>\n",
       "      <td>0.0</td>\n",
       "      <td>52.342369</td>\n",
       "      <td>0.0</td>\n",
       "      <td>98.739498</td>\n",
       "      <td>60.657385</td>\n",
       "      <td>30.161182</td>\n",
       "      <td>39.640099</td>\n",
       "      <td>-16.523324</td>\n",
       "      <td>32.022126</td>\n",
       "      <td>24%</td>\n",
       "    </tr>\n",
       "  </tbody>\n",
       "</table>\n",
       "<p>5 rows × 34 columns</p>\n",
       "</div>"
      ],
      "text/plain": [
       "              Temperature - C  Solar (Rooftop) Market Value - $  \\\n",
       "Time (Month)                                                      \n",
       "2005-04-01                NaN                               0.0   \n",
       "2005-05-01                NaN                               0.0   \n",
       "2005-06-01                NaN                               0.0   \n",
       "2005-07-01                NaN                               0.0   \n",
       "2005-08-01                NaN                               0.0   \n",
       "\n",
       "              Solar (Rooftop) - GWh  Solar (Utility) Market Value - $  \\\n",
       "Time (Month)                                                            \n",
       "2005-04-01                      0.0                               0.0   \n",
       "2005-05-01                      0.0                               0.0   \n",
       "2005-06-01                      0.0                               0.0   \n",
       "2005-07-01                      0.0                               0.0   \n",
       "2005-08-01                      0.0                               0.0   \n",
       "\n",
       "              Solar (Utility) - GWh  Wind Market Value - $  Wind - GWh  \\\n",
       "Time (Month)                                                             \n",
       "2005-04-01                      0.0                    0.0         0.0   \n",
       "2005-05-01                      0.0                    0.0         0.0   \n",
       "2005-06-01                      0.0                    0.0         0.0   \n",
       "2005-07-01                      0.0                    0.0         0.0   \n",
       "2005-08-01                      0.0                    0.0         0.0   \n",
       "\n",
       "              Hydro Market Value - $  Hydro - GWh  \\\n",
       "Time (Month)                                        \n",
       "2005-04-01               11848263.30       304.50   \n",
       "2005-05-01                8161908.91       260.01   \n",
       "2005-06-01                6597447.23       200.71   \n",
       "2005-07-01                7421383.61       182.63   \n",
       "2005-08-01               10855283.83       207.39   \n",
       "\n",
       "              Battery (Discharging) Market Value - $  ...  \\\n",
       "Time (Month)                                          ...   \n",
       "2005-04-01                                       0.0  ...   \n",
       "2005-05-01                                       0.0  ...   \n",
       "2005-06-01                                       0.0  ...   \n",
       "2005-07-01                                       0.0  ...   \n",
       "2005-08-01                                       0.0  ...   \n",
       "\n",
       "              Wind Market Value - $/MWh  Hydro Market Value - $/MWh  \\\n",
       "Time (Month)                                                          \n",
       "2005-04-01                          0.0                   38.910553   \n",
       "2005-05-01                          0.0                   31.390750   \n",
       "2005-06-01                          0.0                   32.870546   \n",
       "2005-07-01                          0.0                   40.636169   \n",
       "2005-08-01                          0.0                   52.342369   \n",
       "\n",
       "              Battery (Discharging) Market Value - $/MWh  \\\n",
       "Time (Month)                                               \n",
       "2005-04-01                                           0.0   \n",
       "2005-05-01                                           0.0   \n",
       "2005-06-01                                           0.0   \n",
       "2005-07-01                                           0.0   \n",
       "2005-08-01                                           0.0   \n",
       "\n",
       "              Gas (OCGT) Market Value - $/MWh  \\\n",
       "Time (Month)                                    \n",
       "2005-04-01                          44.023585   \n",
       "2005-05-01                          35.260919   \n",
       "2005-06-01                          50.142422   \n",
       "2005-07-01                          56.781103   \n",
       "2005-08-01                          98.739498   \n",
       "\n",
       "              Gas (Steam) Market Value - $/MWh  \\\n",
       "Time (Month)                                     \n",
       "2005-04-01                           39.220646   \n",
       "2005-05-01                           35.709309   \n",
       "2005-06-01                           37.533559   \n",
       "2005-07-01                           39.030981   \n",
       "2005-08-01                           60.657385   \n",
       "\n",
       "              Brown Coal Market Value - $/MWh  Imports Market Value - $/MWh  \\\n",
       "Time (Month)                                                                  \n",
       "2005-04-01                          30.605720                     38.289921   \n",
       "2005-05-01                          24.667570                     31.791585   \n",
       "2005-06-01                          23.616642                     30.781600   \n",
       "2005-07-01                          26.668752                     32.787615   \n",
       "2005-08-01                          30.161182                     39.640099   \n",
       "\n",
       "              Exports Market Value - $/MWh  \\\n",
       "Time (Month)                                 \n",
       "2005-04-01                      -19.009200   \n",
       "2005-05-01                      -18.044240   \n",
       "2005-06-01                      -17.572286   \n",
       "2005-07-01                      -17.823924   \n",
       "2005-08-01                      -16.523324   \n",
       "\n",
       "              Volume Weighted Price (Historic) - $/MWh  \\\n",
       "Time (Month)                                             \n",
       "2005-04-01                                   31.809904   \n",
       "2005-05-01                                   25.330109   \n",
       "2005-06-01                                   24.249596   \n",
       "2005-07-01                                   27.651352   \n",
       "2005-08-01                                   32.022126   \n",
       "\n",
       "              Imports % from wholesale price  \n",
       "Time (Month)                                  \n",
       "2005-04-01                               20%  \n",
       "2005-05-01                               26%  \n",
       "2005-06-01                               27%  \n",
       "2005-07-01                               19%  \n",
       "2005-08-01                               24%  \n",
       "\n",
       "[5 rows x 34 columns]"
      ]
     },
     "execution_count": 26,
     "metadata": {},
     "output_type": "execute_result"
    }
   ],
   "source": [
    "historic_wholesale_df = pd.read_csv(r'/home/XXX/Repositories/gr4sp/experiments/simulationData/2005_2020_OpenNemDataV1.csv', index_col='Time (Month)')\n",
    "historic_wholesale_df.index = pd.to_datetime(historic_wholesale_df.index)\n",
    "\n",
    "historic_wholesale_df.head(5)"
   ]
  },
  {
   "cell_type": "code",
   "execution_count": 27,
   "metadata": {
    "ExecuteTime": {
     "end_time": "2021-03-17T04:25:24.084952Z",
     "start_time": "2021-03-17T04:25:24.043138Z"
    },
    "scrolled": true
   },
   "outputs": [
    {
     "data": {
      "text/html": [
       "<div>\n",
       "<style scoped>\n",
       "    .dataframe tbody tr th:only-of-type {\n",
       "        vertical-align: middle;\n",
       "    }\n",
       "\n",
       "    .dataframe tbody tr th {\n",
       "        vertical-align: top;\n",
       "    }\n",
       "\n",
       "    .dataframe thead th {\n",
       "        text-align: right;\n",
       "    }\n",
       "</style>\n",
       "<table border=\"1\" class=\"dataframe\">\n",
       "  <thead>\n",
       "    <tr style=\"text-align: right;\">\n",
       "      <th></th>\n",
       "      <th>Solar (Rooftop) Market Value - $/MWh</th>\n",
       "      <th>Solar (Utility) Market Value - $/MWh</th>\n",
       "      <th>Wind Market Value - $/MWh</th>\n",
       "      <th>Hydro Market Value - $/MWh</th>\n",
       "      <th>Battery (Discharging) Market Value - $/MWh</th>\n",
       "      <th>Gas (OCGT) Market Value - $/MWh</th>\n",
       "      <th>Gas (Steam) Market Value - $/MWh</th>\n",
       "      <th>Brown Coal Market Value - $/MWh</th>\n",
       "      <th>Imports Market Value - $/MWh</th>\n",
       "      <th>Exports Market Value - $/MWh</th>\n",
       "      <th>Volume Weighted Price (Historic) - $/MWh</th>\n",
       "    </tr>\n",
       "  </thead>\n",
       "  <tbody>\n",
       "    <tr>\n",
       "      <th>count</th>\n",
       "      <td>43.000000</td>\n",
       "      <td>27.000000</td>\n",
       "      <td>139.000000</td>\n",
       "      <td>183.000000</td>\n",
       "      <td>20.000000</td>\n",
       "      <td>183.000000</td>\n",
       "      <td>173.000000</td>\n",
       "      <td>183.000000</td>\n",
       "      <td>179.000000</td>\n",
       "      <td>183.000000</td>\n",
       "      <td>183.000000</td>\n",
       "    </tr>\n",
       "    <tr>\n",
       "      <th>mean</th>\n",
       "      <td>90.332890</td>\n",
       "      <td>92.076481</td>\n",
       "      <td>50.638187</td>\n",
       "      <td>90.944478</td>\n",
       "      <td>217.862556</td>\n",
       "      <td>108.929418</td>\n",
       "      <td>94.154000</td>\n",
       "      <td>52.472880</td>\n",
       "      <td>119.409691</td>\n",
       "      <td>-38.045397</td>\n",
       "      <td>55.933604</td>\n",
       "    </tr>\n",
       "    <tr>\n",
       "      <th>std</th>\n",
       "      <td>42.699474</td>\n",
       "      <td>59.916837</td>\n",
       "      <td>30.738708</td>\n",
       "      <td>104.782223</td>\n",
       "      <td>357.340630</td>\n",
       "      <td>136.090265</td>\n",
       "      <td>92.163127</td>\n",
       "      <td>31.325816</td>\n",
       "      <td>306.942885</td>\n",
       "      <td>20.533371</td>\n",
       "      <td>38.410661</td>\n",
       "    </tr>\n",
       "    <tr>\n",
       "      <th>min</th>\n",
       "      <td>26.776309</td>\n",
       "      <td>27.106774</td>\n",
       "      <td>15.666767</td>\n",
       "      <td>18.569393</td>\n",
       "      <td>47.142848</td>\n",
       "      <td>16.857991</td>\n",
       "      <td>21.455400</td>\n",
       "      <td>16.758639</td>\n",
       "      <td>16.278577</td>\n",
       "      <td>-100.544755</td>\n",
       "      <td>16.925035</td>\n",
       "    </tr>\n",
       "    <tr>\n",
       "      <th>25%</th>\n",
       "      <td>74.482850</td>\n",
       "      <td>62.689421</td>\n",
       "      <td>27.142393</td>\n",
       "      <td>40.269586</td>\n",
       "      <td>94.354779</td>\n",
       "      <td>44.430657</td>\n",
       "      <td>42.324384</td>\n",
       "      <td>30.132401</td>\n",
       "      <td>40.555487</td>\n",
       "      <td>-48.368355</td>\n",
       "      <td>30.979238</td>\n",
       "    </tr>\n",
       "    <tr>\n",
       "      <th>50%</th>\n",
       "      <td>84.510477</td>\n",
       "      <td>84.229018</td>\n",
       "      <td>44.482960</td>\n",
       "      <td>58.074492</td>\n",
       "      <td>120.899721</td>\n",
       "      <td>63.667700</td>\n",
       "      <td>59.025668</td>\n",
       "      <td>42.805408</td>\n",
       "      <td>59.927214</td>\n",
       "      <td>-30.531950</td>\n",
       "      <td>44.520646</td>\n",
       "    </tr>\n",
       "    <tr>\n",
       "      <th>75%</th>\n",
       "      <td>106.780128</td>\n",
       "      <td>94.102468</td>\n",
       "      <td>66.952232</td>\n",
       "      <td>102.697146</td>\n",
       "      <td>141.611117</td>\n",
       "      <td>114.354224</td>\n",
       "      <td>115.136459</td>\n",
       "      <td>64.435457</td>\n",
       "      <td>108.060641</td>\n",
       "      <td>-22.148248</td>\n",
       "      <td>68.841054</td>\n",
       "    </tr>\n",
       "    <tr>\n",
       "      <th>max</th>\n",
       "      <td>269.618267</td>\n",
       "      <td>333.592607</td>\n",
       "      <td>243.209880</td>\n",
       "      <td>869.047975</td>\n",
       "      <td>1659.823813</td>\n",
       "      <td>1005.482367</td>\n",
       "      <td>742.663722</td>\n",
       "      <td>232.179879</td>\n",
       "      <td>3804.041722</td>\n",
       "      <td>-15.418553</td>\n",
       "      <td>331.125849</td>\n",
       "    </tr>\n",
       "  </tbody>\n",
       "</table>\n",
       "</div>"
      ],
      "text/plain": [
       "       Solar (Rooftop) Market Value - $/MWh  \\\n",
       "count                             43.000000   \n",
       "mean                              90.332890   \n",
       "std                               42.699474   \n",
       "min                               26.776309   \n",
       "25%                               74.482850   \n",
       "50%                               84.510477   \n",
       "75%                              106.780128   \n",
       "max                              269.618267   \n",
       "\n",
       "       Solar (Utility) Market Value - $/MWh  Wind Market Value - $/MWh  \\\n",
       "count                             27.000000                 139.000000   \n",
       "mean                              92.076481                  50.638187   \n",
       "std                               59.916837                  30.738708   \n",
       "min                               27.106774                  15.666767   \n",
       "25%                               62.689421                  27.142393   \n",
       "50%                               84.229018                  44.482960   \n",
       "75%                               94.102468                  66.952232   \n",
       "max                              333.592607                 243.209880   \n",
       "\n",
       "       Hydro Market Value - $/MWh  Battery (Discharging) Market Value - $/MWh  \\\n",
       "count                  183.000000                                   20.000000   \n",
       "mean                    90.944478                                  217.862556   \n",
       "std                    104.782223                                  357.340630   \n",
       "min                     18.569393                                   47.142848   \n",
       "25%                     40.269586                                   94.354779   \n",
       "50%                     58.074492                                  120.899721   \n",
       "75%                    102.697146                                  141.611117   \n",
       "max                    869.047975                                 1659.823813   \n",
       "\n",
       "       Gas (OCGT) Market Value - $/MWh  Gas (Steam) Market Value - $/MWh  \\\n",
       "count                       183.000000                        173.000000   \n",
       "mean                        108.929418                         94.154000   \n",
       "std                         136.090265                         92.163127   \n",
       "min                          16.857991                         21.455400   \n",
       "25%                          44.430657                         42.324384   \n",
       "50%                          63.667700                         59.025668   \n",
       "75%                         114.354224                        115.136459   \n",
       "max                        1005.482367                        742.663722   \n",
       "\n",
       "       Brown Coal Market Value - $/MWh  Imports Market Value - $/MWh  \\\n",
       "count                       183.000000                    179.000000   \n",
       "mean                         52.472880                    119.409691   \n",
       "std                          31.325816                    306.942885   \n",
       "min                          16.758639                     16.278577   \n",
       "25%                          30.132401                     40.555487   \n",
       "50%                          42.805408                     59.927214   \n",
       "75%                          64.435457                    108.060641   \n",
       "max                         232.179879                   3804.041722   \n",
       "\n",
       "       Exports Market Value - $/MWh  Volume Weighted Price (Historic) - $/MWh  \n",
       "count                    183.000000                                183.000000  \n",
       "mean                     -38.045397                                 55.933604  \n",
       "std                       20.533371                                 38.410661  \n",
       "min                     -100.544755                                 16.925035  \n",
       "25%                      -48.368355                                 30.979238  \n",
       "50%                      -30.531950                                 44.520646  \n",
       "75%                      -22.148248                                 68.841054  \n",
       "max                      -15.418553                                331.125849  "
      ]
     },
     "execution_count": 27,
     "metadata": {},
     "output_type": "execute_result"
    }
   ],
   "source": [
    "# some statistics from historic wholesale prices per technology\n",
    "\n",
    "historic_wholesale_all_techs = historic_wholesale_df.iloc[:,22:-1]\n",
    "historic_wholesale_all_techs = historic_wholesale_all_techs.replace(0.0, np.NaN)\n",
    "\n",
    "historic_wholesale_all_techs.describe(include = 'all')"
   ]
  },
  {
   "cell_type": "code",
   "execution_count": 28,
   "metadata": {
    "ExecuteTime": {
     "end_time": "2021-03-17T04:25:24.089939Z",
     "start_time": "2021-03-17T04:25:24.085952Z"
    }
   },
   "outputs": [],
   "source": [
    "\"\"\" Filtering whoelsale prices from historic data\"\"\"\n",
    "\n",
    "historic_wholesale_filtered = historic_wholesale_df[\"Volume Weighted Price (Historic) - $/MWh\"]\n"
   ]
  },
  {
   "cell_type": "markdown",
   "metadata": {},
   "source": [
    "Load simulation results using BAU settings"
   ]
  },
  {
   "cell_type": "code",
   "execution_count": 29,
   "metadata": {
    "ExecuteTime": {
     "end_time": "2021-03-17T04:25:24.121386Z",
     "start_time": "2021-03-17T04:25:24.091933Z"
    }
   },
   "outputs": [
    {
     "data": {
      "text/html": [
       "<div>\n",
       "<style scoped>\n",
       "    .dataframe tbody tr th:only-of-type {\n",
       "        vertical-align: middle;\n",
       "    }\n",
       "\n",
       "    .dataframe tbody tr th {\n",
       "        vertical-align: top;\n",
       "    }\n",
       "\n",
       "    .dataframe thead th {\n",
       "        text-align: right;\n",
       "    }\n",
       "</style>\n",
       "<table border=\"1\" class=\"dataframe\">\n",
       "  <thead>\n",
       "    <tr style=\"text-align: right;\">\n",
       "      <th></th>\n",
       "      <th>Consumption (KWh) per household</th>\n",
       "      <th>Avg Tariff (c/KWh) per household</th>\n",
       "      <th>Primary Wholesale ($/MWh)</th>\n",
       "      <th>GHG Emissions (tCO2-e) per household</th>\n",
       "      <th>Number of Domestic Consumers (households)</th>\n",
       "      <th>Percentage Renewable Production</th>\n",
       "      <th>System Production Primary Spot</th>\n",
       "      <th>System Production Secondary Spot</th>\n",
       "      <th>System Production Off Spot</th>\n",
       "      <th>System Production Rooftop PV</th>\n",
       "      <th>...</th>\n",
       "      <th>System Production Battery</th>\n",
       "      <th>Number of Active Actors</th>\n",
       "      <th>Primary Total Unmet Demand (MWh)</th>\n",
       "      <th>Primary Total Unmet Demand (Hours)</th>\n",
       "      <th>Primary Total Unmet Demand (Days)</th>\n",
       "      <th>Primary Max Unmet Demand Per Hour (MWh)</th>\n",
       "      <th>Secondary Total Unmet Demand (MWh)</th>\n",
       "      <th>Secondary Total Unmet Demand (Hours)</th>\n",
       "      <th>Secondary Total Unmet Demand (Days)</th>\n",
       "      <th>Secondary Max Unmet Demand Per Hour (MWh)</th>\n",
       "    </tr>\n",
       "    <tr>\n",
       "      <th>Time (Month)</th>\n",
       "      <th></th>\n",
       "      <th></th>\n",
       "      <th></th>\n",
       "      <th></th>\n",
       "      <th></th>\n",
       "      <th></th>\n",
       "      <th></th>\n",
       "      <th></th>\n",
       "      <th></th>\n",
       "      <th></th>\n",
       "      <th></th>\n",
       "      <th></th>\n",
       "      <th></th>\n",
       "      <th></th>\n",
       "      <th></th>\n",
       "      <th></th>\n",
       "      <th></th>\n",
       "      <th></th>\n",
       "      <th></th>\n",
       "      <th></th>\n",
       "      <th></th>\n",
       "    </tr>\n",
       "  </thead>\n",
       "  <tbody>\n",
       "    <tr>\n",
       "      <th>1998-01-01</th>\n",
       "      <td>610.093185</td>\n",
       "      <td>26.621281</td>\n",
       "      <td>0.0</td>\n",
       "      <td>0.777263</td>\n",
       "      <td>1637917.0</td>\n",
       "      <td>0.019037</td>\n",
       "      <td>0.0</td>\n",
       "      <td>0.0</td>\n",
       "      <td>0.0</td>\n",
       "      <td>0.0</td>\n",
       "      <td>...</td>\n",
       "      <td>0.0</td>\n",
       "      <td>16.0</td>\n",
       "      <td>0.0</td>\n",
       "      <td>0.0</td>\n",
       "      <td>0.0</td>\n",
       "      <td>0.0</td>\n",
       "      <td>0.0</td>\n",
       "      <td>0.0</td>\n",
       "      <td>0.0</td>\n",
       "      <td>0.0</td>\n",
       "    </tr>\n",
       "    <tr>\n",
       "      <th>1998-02-01</th>\n",
       "      <td>625.782770</td>\n",
       "      <td>26.621281</td>\n",
       "      <td>0.0</td>\n",
       "      <td>0.797251</td>\n",
       "      <td>1640328.0</td>\n",
       "      <td>0.019038</td>\n",
       "      <td>0.0</td>\n",
       "      <td>0.0</td>\n",
       "      <td>0.0</td>\n",
       "      <td>0.0</td>\n",
       "      <td>...</td>\n",
       "      <td>0.0</td>\n",
       "      <td>16.0</td>\n",
       "      <td>0.0</td>\n",
       "      <td>0.0</td>\n",
       "      <td>0.0</td>\n",
       "      <td>0.0</td>\n",
       "      <td>0.0</td>\n",
       "      <td>0.0</td>\n",
       "      <td>0.0</td>\n",
       "      <td>0.0</td>\n",
       "    </tr>\n",
       "    <tr>\n",
       "      <th>1998-03-01</th>\n",
       "      <td>612.592140</td>\n",
       "      <td>26.621281</td>\n",
       "      <td>0.0</td>\n",
       "      <td>0.780437</td>\n",
       "      <td>1642739.0</td>\n",
       "      <td>0.019038</td>\n",
       "      <td>0.0</td>\n",
       "      <td>0.0</td>\n",
       "      <td>0.0</td>\n",
       "      <td>0.0</td>\n",
       "      <td>...</td>\n",
       "      <td>0.0</td>\n",
       "      <td>16.0</td>\n",
       "      <td>0.0</td>\n",
       "      <td>0.0</td>\n",
       "      <td>0.0</td>\n",
       "      <td>0.0</td>\n",
       "      <td>0.0</td>\n",
       "      <td>0.0</td>\n",
       "      <td>0.0</td>\n",
       "      <td>0.0</td>\n",
       "    </tr>\n",
       "    <tr>\n",
       "      <th>1998-04-01</th>\n",
       "      <td>584.372246</td>\n",
       "      <td>26.621281</td>\n",
       "      <td>0.0</td>\n",
       "      <td>0.744481</td>\n",
       "      <td>1645150.0</td>\n",
       "      <td>0.019038</td>\n",
       "      <td>0.0</td>\n",
       "      <td>0.0</td>\n",
       "      <td>0.0</td>\n",
       "      <td>0.0</td>\n",
       "      <td>...</td>\n",
       "      <td>0.0</td>\n",
       "      <td>16.0</td>\n",
       "      <td>0.0</td>\n",
       "      <td>0.0</td>\n",
       "      <td>0.0</td>\n",
       "      <td>0.0</td>\n",
       "      <td>0.0</td>\n",
       "      <td>0.0</td>\n",
       "      <td>0.0</td>\n",
       "      <td>0.0</td>\n",
       "    </tr>\n",
       "    <tr>\n",
       "      <th>1998-05-01</th>\n",
       "      <td>606.897104</td>\n",
       "      <td>26.621281</td>\n",
       "      <td>0.0</td>\n",
       "      <td>0.773175</td>\n",
       "      <td>1647561.0</td>\n",
       "      <td>0.019037</td>\n",
       "      <td>0.0</td>\n",
       "      <td>0.0</td>\n",
       "      <td>0.0</td>\n",
       "      <td>0.0</td>\n",
       "      <td>...</td>\n",
       "      <td>0.0</td>\n",
       "      <td>16.0</td>\n",
       "      <td>0.0</td>\n",
       "      <td>0.0</td>\n",
       "      <td>0.0</td>\n",
       "      <td>0.0</td>\n",
       "      <td>0.0</td>\n",
       "      <td>0.0</td>\n",
       "      <td>0.0</td>\n",
       "      <td>0.0</td>\n",
       "    </tr>\n",
       "  </tbody>\n",
       "</table>\n",
       "<p>5 rows × 25 columns</p>\n",
       "</div>"
      ],
      "text/plain": [
       "              Consumption (KWh) per household  \\\n",
       "Time (Month)                                    \n",
       "1998-01-01                         610.093185   \n",
       "1998-02-01                         625.782770   \n",
       "1998-03-01                         612.592140   \n",
       "1998-04-01                         584.372246   \n",
       "1998-05-01                         606.897104   \n",
       "\n",
       "              Avg Tariff (c/KWh) per household  Primary Wholesale ($/MWh)  \\\n",
       "Time (Month)                                                                \n",
       "1998-01-01                           26.621281                        0.0   \n",
       "1998-02-01                           26.621281                        0.0   \n",
       "1998-03-01                           26.621281                        0.0   \n",
       "1998-04-01                           26.621281                        0.0   \n",
       "1998-05-01                           26.621281                        0.0   \n",
       "\n",
       "              GHG Emissions (tCO2-e) per household  \\\n",
       "Time (Month)                                         \n",
       "1998-01-01                                0.777263   \n",
       "1998-02-01                                0.797251   \n",
       "1998-03-01                                0.780437   \n",
       "1998-04-01                                0.744481   \n",
       "1998-05-01                                0.773175   \n",
       "\n",
       "              Number of Domestic Consumers (households)  \\\n",
       "Time (Month)                                              \n",
       "1998-01-01                                    1637917.0   \n",
       "1998-02-01                                    1640328.0   \n",
       "1998-03-01                                    1642739.0   \n",
       "1998-04-01                                    1645150.0   \n",
       "1998-05-01                                    1647561.0   \n",
       "\n",
       "              Percentage Renewable Production  System Production Primary Spot  \\\n",
       "Time (Month)                                                                    \n",
       "1998-01-01                           0.019037                             0.0   \n",
       "1998-02-01                           0.019038                             0.0   \n",
       "1998-03-01                           0.019038                             0.0   \n",
       "1998-04-01                           0.019038                             0.0   \n",
       "1998-05-01                           0.019037                             0.0   \n",
       "\n",
       "              System Production Secondary Spot  System Production Off Spot  \\\n",
       "Time (Month)                                                                 \n",
       "1998-01-01                                 0.0                         0.0   \n",
       "1998-02-01                                 0.0                         0.0   \n",
       "1998-03-01                                 0.0                         0.0   \n",
       "1998-04-01                                 0.0                         0.0   \n",
       "1998-05-01                                 0.0                         0.0   \n",
       "\n",
       "              System Production Rooftop PV  ...  System Production Battery  \\\n",
       "Time (Month)                                ...                              \n",
       "1998-01-01                             0.0  ...                        0.0   \n",
       "1998-02-01                             0.0  ...                        0.0   \n",
       "1998-03-01                             0.0  ...                        0.0   \n",
       "1998-04-01                             0.0  ...                        0.0   \n",
       "1998-05-01                             0.0  ...                        0.0   \n",
       "\n",
       "              Number of Active Actors  Primary Total Unmet Demand (MWh)  \\\n",
       "Time (Month)                                                              \n",
       "1998-01-01                       16.0                               0.0   \n",
       "1998-02-01                       16.0                               0.0   \n",
       "1998-03-01                       16.0                               0.0   \n",
       "1998-04-01                       16.0                               0.0   \n",
       "1998-05-01                       16.0                               0.0   \n",
       "\n",
       "              Primary Total Unmet Demand (Hours)  \\\n",
       "Time (Month)                                       \n",
       "1998-01-01                                   0.0   \n",
       "1998-02-01                                   0.0   \n",
       "1998-03-01                                   0.0   \n",
       "1998-04-01                                   0.0   \n",
       "1998-05-01                                   0.0   \n",
       "\n",
       "              Primary Total Unmet Demand (Days)  \\\n",
       "Time (Month)                                      \n",
       "1998-01-01                                  0.0   \n",
       "1998-02-01                                  0.0   \n",
       "1998-03-01                                  0.0   \n",
       "1998-04-01                                  0.0   \n",
       "1998-05-01                                  0.0   \n",
       "\n",
       "              Primary Max Unmet Demand Per Hour (MWh)  \\\n",
       "Time (Month)                                            \n",
       "1998-01-01                                        0.0   \n",
       "1998-02-01                                        0.0   \n",
       "1998-03-01                                        0.0   \n",
       "1998-04-01                                        0.0   \n",
       "1998-05-01                                        0.0   \n",
       "\n",
       "              Secondary Total Unmet Demand (MWh)  \\\n",
       "Time (Month)                                       \n",
       "1998-01-01                                   0.0   \n",
       "1998-02-01                                   0.0   \n",
       "1998-03-01                                   0.0   \n",
       "1998-04-01                                   0.0   \n",
       "1998-05-01                                   0.0   \n",
       "\n",
       "              Secondary Total Unmet Demand (Hours)  \\\n",
       "Time (Month)                                         \n",
       "1998-01-01                                     0.0   \n",
       "1998-02-01                                     0.0   \n",
       "1998-03-01                                     0.0   \n",
       "1998-04-01                                     0.0   \n",
       "1998-05-01                                     0.0   \n",
       "\n",
       "              Secondary Total Unmet Demand (Days)  \\\n",
       "Time (Month)                                        \n",
       "1998-01-01                                    0.0   \n",
       "1998-02-01                                    0.0   \n",
       "1998-03-01                                    0.0   \n",
       "1998-04-01                                    0.0   \n",
       "1998-05-01                                    0.0   \n",
       "\n",
       "              Secondary Max Unmet Demand Per Hour (MWh)  \n",
       "Time (Month)                                             \n",
       "1998-01-01                                          0.0  \n",
       "1998-02-01                                          0.0  \n",
       "1998-03-01                                          0.0  \n",
       "1998-04-01                                          0.0  \n",
       "1998-05-01                                          0.0  \n",
       "\n",
       "[5 rows x 25 columns]"
      ]
     },
     "execution_count": 29,
     "metadata": {},
     "output_type": "execute_result"
    }
   ],
   "source": [
    "monthly_bau_results_df.head()"
   ]
  },
  {
   "cell_type": "code",
   "execution_count": 30,
   "metadata": {},
   "outputs": [
    {
     "data": {
      "text/html": [
       "<div>\n",
       "<style scoped>\n",
       "    .dataframe tbody tr th:only-of-type {\n",
       "        vertical-align: middle;\n",
       "    }\n",
       "\n",
       "    .dataframe tbody tr th {\n",
       "        vertical-align: top;\n",
       "    }\n",
       "\n",
       "    .dataframe thead th {\n",
       "        text-align: right;\n",
       "    }\n",
       "</style>\n",
       "<table border=\"1\" class=\"dataframe\">\n",
       "  <thead>\n",
       "    <tr style=\"text-align: right;\">\n",
       "      <th></th>\n",
       "      <th>Consumption (KWh) per household</th>\n",
       "      <th>Avg Tariff (c/KWh) per household</th>\n",
       "      <th>Primary Wholesale ($/MWh)</th>\n",
       "      <th>GHG Emissions (tCO2-e) per household</th>\n",
       "      <th>Number of Domestic Consumers (households)</th>\n",
       "      <th>Percentage Renewable Production</th>\n",
       "      <th>System Production Primary Spot</th>\n",
       "      <th>System Production Secondary Spot</th>\n",
       "      <th>System Production Off Spot</th>\n",
       "      <th>System Production Rooftop PV</th>\n",
       "      <th>...</th>\n",
       "      <th>System Production Battery</th>\n",
       "      <th>Number of Active Actors</th>\n",
       "      <th>Primary Total Unmet Demand (MWh)</th>\n",
       "      <th>Primary Total Unmet Demand (Hours)</th>\n",
       "      <th>Primary Total Unmet Demand (Days)</th>\n",
       "      <th>Primary Max Unmet Demand Per Hour (MWh)</th>\n",
       "      <th>Secondary Total Unmet Demand (MWh)</th>\n",
       "      <th>Secondary Total Unmet Demand (Hours)</th>\n",
       "      <th>Secondary Total Unmet Demand (Days)</th>\n",
       "      <th>Secondary Max Unmet Demand Per Hour (MWh)</th>\n",
       "    </tr>\n",
       "    <tr>\n",
       "      <th>Time (Month)</th>\n",
       "      <th></th>\n",
       "      <th></th>\n",
       "      <th></th>\n",
       "      <th></th>\n",
       "      <th></th>\n",
       "      <th></th>\n",
       "      <th></th>\n",
       "      <th></th>\n",
       "      <th></th>\n",
       "      <th></th>\n",
       "      <th></th>\n",
       "      <th></th>\n",
       "      <th></th>\n",
       "      <th></th>\n",
       "      <th></th>\n",
       "      <th></th>\n",
       "      <th></th>\n",
       "      <th></th>\n",
       "      <th></th>\n",
       "      <th></th>\n",
       "      <th></th>\n",
       "    </tr>\n",
       "  </thead>\n",
       "  <tbody>\n",
       "    <tr>\n",
       "      <th>1998-01-01</th>\n",
       "      <td>610.093185</td>\n",
       "      <td>26.621281</td>\n",
       "      <td>0.000000</td>\n",
       "      <td>0.777263</td>\n",
       "      <td>1637917.0</td>\n",
       "      <td>0.019037</td>\n",
       "      <td>0.00000</td>\n",
       "      <td>0.0</td>\n",
       "      <td>0.000000</td>\n",
       "      <td>0.000000</td>\n",
       "      <td>...</td>\n",
       "      <td>0.0</td>\n",
       "      <td>16.0</td>\n",
       "      <td>0.000000</td>\n",
       "      <td>0.0</td>\n",
       "      <td>0.0</td>\n",
       "      <td>0.000000</td>\n",
       "      <td>0.0</td>\n",
       "      <td>0.0</td>\n",
       "      <td>0.0</td>\n",
       "      <td>0.0</td>\n",
       "    </tr>\n",
       "    <tr>\n",
       "      <th>1998-02-01</th>\n",
       "      <td>625.782770</td>\n",
       "      <td>26.621281</td>\n",
       "      <td>0.000000</td>\n",
       "      <td>0.797251</td>\n",
       "      <td>1640328.0</td>\n",
       "      <td>0.019038</td>\n",
       "      <td>0.00000</td>\n",
       "      <td>0.0</td>\n",
       "      <td>0.000000</td>\n",
       "      <td>0.000000</td>\n",
       "      <td>...</td>\n",
       "      <td>0.0</td>\n",
       "      <td>16.0</td>\n",
       "      <td>0.000000</td>\n",
       "      <td>0.0</td>\n",
       "      <td>0.0</td>\n",
       "      <td>0.000000</td>\n",
       "      <td>0.0</td>\n",
       "      <td>0.0</td>\n",
       "      <td>0.0</td>\n",
       "      <td>0.0</td>\n",
       "    </tr>\n",
       "    <tr>\n",
       "      <th>1998-03-01</th>\n",
       "      <td>612.592140</td>\n",
       "      <td>26.621281</td>\n",
       "      <td>0.000000</td>\n",
       "      <td>0.780437</td>\n",
       "      <td>1642739.0</td>\n",
       "      <td>0.019038</td>\n",
       "      <td>0.00000</td>\n",
       "      <td>0.0</td>\n",
       "      <td>0.000000</td>\n",
       "      <td>0.000000</td>\n",
       "      <td>...</td>\n",
       "      <td>0.0</td>\n",
       "      <td>16.0</td>\n",
       "      <td>0.000000</td>\n",
       "      <td>0.0</td>\n",
       "      <td>0.0</td>\n",
       "      <td>0.000000</td>\n",
       "      <td>0.0</td>\n",
       "      <td>0.0</td>\n",
       "      <td>0.0</td>\n",
       "      <td>0.0</td>\n",
       "    </tr>\n",
       "    <tr>\n",
       "      <th>1998-04-01</th>\n",
       "      <td>584.372246</td>\n",
       "      <td>26.621281</td>\n",
       "      <td>0.000000</td>\n",
       "      <td>0.744481</td>\n",
       "      <td>1645150.0</td>\n",
       "      <td>0.019038</td>\n",
       "      <td>0.00000</td>\n",
       "      <td>0.0</td>\n",
       "      <td>0.000000</td>\n",
       "      <td>0.000000</td>\n",
       "      <td>...</td>\n",
       "      <td>0.0</td>\n",
       "      <td>16.0</td>\n",
       "      <td>0.000000</td>\n",
       "      <td>0.0</td>\n",
       "      <td>0.0</td>\n",
       "      <td>0.000000</td>\n",
       "      <td>0.0</td>\n",
       "      <td>0.0</td>\n",
       "      <td>0.0</td>\n",
       "      <td>0.0</td>\n",
       "    </tr>\n",
       "    <tr>\n",
       "      <th>1998-05-01</th>\n",
       "      <td>606.897104</td>\n",
       "      <td>26.621281</td>\n",
       "      <td>0.000000</td>\n",
       "      <td>0.773175</td>\n",
       "      <td>1647561.0</td>\n",
       "      <td>0.019037</td>\n",
       "      <td>0.00000</td>\n",
       "      <td>0.0</td>\n",
       "      <td>0.000000</td>\n",
       "      <td>0.000000</td>\n",
       "      <td>...</td>\n",
       "      <td>0.0</td>\n",
       "      <td>16.0</td>\n",
       "      <td>0.000000</td>\n",
       "      <td>0.0</td>\n",
       "      <td>0.0</td>\n",
       "      <td>0.000000</td>\n",
       "      <td>0.0</td>\n",
       "      <td>0.0</td>\n",
       "      <td>0.0</td>\n",
       "      <td>0.0</td>\n",
       "    </tr>\n",
       "    <tr>\n",
       "      <th>...</th>\n",
       "      <td>...</td>\n",
       "      <td>...</td>\n",
       "      <td>...</td>\n",
       "      <td>...</td>\n",
       "      <td>...</td>\n",
       "      <td>...</td>\n",
       "      <td>...</td>\n",
       "      <td>...</td>\n",
       "      <td>...</td>\n",
       "      <td>...</td>\n",
       "      <td>...</td>\n",
       "      <td>...</td>\n",
       "      <td>...</td>\n",
       "      <td>...</td>\n",
       "      <td>...</td>\n",
       "      <td>...</td>\n",
       "      <td>...</td>\n",
       "      <td>...</td>\n",
       "      <td>...</td>\n",
       "      <td>...</td>\n",
       "      <td>...</td>\n",
       "    </tr>\n",
       "    <tr>\n",
       "      <th>2050-08-01</th>\n",
       "      <td>373.002824</td>\n",
       "      <td>32.618256</td>\n",
       "      <td>189.186630</td>\n",
       "      <td>0.022763</td>\n",
       "      <td>4259702.0</td>\n",
       "      <td>0.890994</td>\n",
       "      <td>16155.96744</td>\n",
       "      <td>0.0</td>\n",
       "      <td>10295.761055</td>\n",
       "      <td>9327.427119</td>\n",
       "      <td>...</td>\n",
       "      <td>0.0</td>\n",
       "      <td>194.0</td>\n",
       "      <td>166567.251402</td>\n",
       "      <td>31.0</td>\n",
       "      <td>31.0</td>\n",
       "      <td>6421.310274</td>\n",
       "      <td>0.0</td>\n",
       "      <td>0.0</td>\n",
       "      <td>0.0</td>\n",
       "      <td>0.0</td>\n",
       "    </tr>\n",
       "    <tr>\n",
       "      <th>2050-09-01</th>\n",
       "      <td>327.925522</td>\n",
       "      <td>32.618256</td>\n",
       "      <td>187.996750</td>\n",
       "      <td>0.018357</td>\n",
       "      <td>4264187.0</td>\n",
       "      <td>0.901095</td>\n",
       "      <td>14477.18220</td>\n",
       "      <td>0.0</td>\n",
       "      <td>13440.381889</td>\n",
       "      <td>12761.076352</td>\n",
       "      <td>...</td>\n",
       "      <td>0.0</td>\n",
       "      <td>194.0</td>\n",
       "      <td>136731.164466</td>\n",
       "      <td>30.0</td>\n",
       "      <td>30.0</td>\n",
       "      <td>5595.310472</td>\n",
       "      <td>0.0</td>\n",
       "      <td>0.0</td>\n",
       "      <td>0.0</td>\n",
       "      <td>0.0</td>\n",
       "    </tr>\n",
       "    <tr>\n",
       "      <th>2050-10-01</th>\n",
       "      <td>322.146443</td>\n",
       "      <td>32.618256</td>\n",
       "      <td>187.260574</td>\n",
       "      <td>0.030507</td>\n",
       "      <td>4268672.0</td>\n",
       "      <td>0.831544</td>\n",
       "      <td>14959.75494</td>\n",
       "      <td>0.0</td>\n",
       "      <td>1980.134641</td>\n",
       "      <td>1317.261267</td>\n",
       "      <td>...</td>\n",
       "      <td>0.0</td>\n",
       "      <td>194.0</td>\n",
       "      <td>158335.515617</td>\n",
       "      <td>31.0</td>\n",
       "      <td>2.0</td>\n",
       "      <td>5187.959603</td>\n",
       "      <td>0.0</td>\n",
       "      <td>0.0</td>\n",
       "      <td>0.0</td>\n",
       "      <td>0.0</td>\n",
       "    </tr>\n",
       "    <tr>\n",
       "      <th>2050-11-01</th>\n",
       "      <td>305.031444</td>\n",
       "      <td>32.618256</td>\n",
       "      <td>186.172577</td>\n",
       "      <td>0.014104</td>\n",
       "      <td>4273157.0</td>\n",
       "      <td>0.918591</td>\n",
       "      <td>14477.18220</td>\n",
       "      <td>0.0</td>\n",
       "      <td>19438.667693</td>\n",
       "      <td>18740.025518</td>\n",
       "      <td>...</td>\n",
       "      <td>0.0</td>\n",
       "      <td>0.0</td>\n",
       "      <td>110797.343195</td>\n",
       "      <td>30.0</td>\n",
       "      <td>30.0</td>\n",
       "      <td>5193.360954</td>\n",
       "      <td>0.0</td>\n",
       "      <td>0.0</td>\n",
       "      <td>0.0</td>\n",
       "      <td>0.0</td>\n",
       "    </tr>\n",
       "    <tr>\n",
       "      <th>2050-12-01</th>\n",
       "      <td>320.522673</td>\n",
       "      <td>32.618256</td>\n",
       "      <td>185.488129</td>\n",
       "      <td>0.014021</td>\n",
       "      <td>4277642.0</td>\n",
       "      <td>0.923072</td>\n",
       "      <td>14959.75494</td>\n",
       "      <td>0.0</td>\n",
       "      <td>22127.824687</td>\n",
       "      <td>21399.235429</td>\n",
       "      <td>...</td>\n",
       "      <td>0.0</td>\n",
       "      <td>0.0</td>\n",
       "      <td>113506.191868</td>\n",
       "      <td>31.0</td>\n",
       "      <td>31.0</td>\n",
       "      <td>5513.395896</td>\n",
       "      <td>0.0</td>\n",
       "      <td>0.0</td>\n",
       "      <td>0.0</td>\n",
       "      <td>0.0</td>\n",
       "    </tr>\n",
       "  </tbody>\n",
       "</table>\n",
       "<p>636 rows × 25 columns</p>\n",
       "</div>"
      ],
      "text/plain": [
       "              Consumption (KWh) per household  \\\n",
       "Time (Month)                                    \n",
       "1998-01-01                         610.093185   \n",
       "1998-02-01                         625.782770   \n",
       "1998-03-01                         612.592140   \n",
       "1998-04-01                         584.372246   \n",
       "1998-05-01                         606.897104   \n",
       "...                                       ...   \n",
       "2050-08-01                         373.002824   \n",
       "2050-09-01                         327.925522   \n",
       "2050-10-01                         322.146443   \n",
       "2050-11-01                         305.031444   \n",
       "2050-12-01                         320.522673   \n",
       "\n",
       "              Avg Tariff (c/KWh) per household  Primary Wholesale ($/MWh)  \\\n",
       "Time (Month)                                                                \n",
       "1998-01-01                           26.621281                   0.000000   \n",
       "1998-02-01                           26.621281                   0.000000   \n",
       "1998-03-01                           26.621281                   0.000000   \n",
       "1998-04-01                           26.621281                   0.000000   \n",
       "1998-05-01                           26.621281                   0.000000   \n",
       "...                                        ...                        ...   \n",
       "2050-08-01                           32.618256                 189.186630   \n",
       "2050-09-01                           32.618256                 187.996750   \n",
       "2050-10-01                           32.618256                 187.260574   \n",
       "2050-11-01                           32.618256                 186.172577   \n",
       "2050-12-01                           32.618256                 185.488129   \n",
       "\n",
       "              GHG Emissions (tCO2-e) per household  \\\n",
       "Time (Month)                                         \n",
       "1998-01-01                                0.777263   \n",
       "1998-02-01                                0.797251   \n",
       "1998-03-01                                0.780437   \n",
       "1998-04-01                                0.744481   \n",
       "1998-05-01                                0.773175   \n",
       "...                                            ...   \n",
       "2050-08-01                                0.022763   \n",
       "2050-09-01                                0.018357   \n",
       "2050-10-01                                0.030507   \n",
       "2050-11-01                                0.014104   \n",
       "2050-12-01                                0.014021   \n",
       "\n",
       "              Number of Domestic Consumers (households)  \\\n",
       "Time (Month)                                              \n",
       "1998-01-01                                    1637917.0   \n",
       "1998-02-01                                    1640328.0   \n",
       "1998-03-01                                    1642739.0   \n",
       "1998-04-01                                    1645150.0   \n",
       "1998-05-01                                    1647561.0   \n",
       "...                                                 ...   \n",
       "2050-08-01                                    4259702.0   \n",
       "2050-09-01                                    4264187.0   \n",
       "2050-10-01                                    4268672.0   \n",
       "2050-11-01                                    4273157.0   \n",
       "2050-12-01                                    4277642.0   \n",
       "\n",
       "              Percentage Renewable Production  System Production Primary Spot  \\\n",
       "Time (Month)                                                                    \n",
       "1998-01-01                           0.019037                         0.00000   \n",
       "1998-02-01                           0.019038                         0.00000   \n",
       "1998-03-01                           0.019038                         0.00000   \n",
       "1998-04-01                           0.019038                         0.00000   \n",
       "1998-05-01                           0.019037                         0.00000   \n",
       "...                                       ...                             ...   \n",
       "2050-08-01                           0.890994                     16155.96744   \n",
       "2050-09-01                           0.901095                     14477.18220   \n",
       "2050-10-01                           0.831544                     14959.75494   \n",
       "2050-11-01                           0.918591                     14477.18220   \n",
       "2050-12-01                           0.923072                     14959.75494   \n",
       "\n",
       "              System Production Secondary Spot  System Production Off Spot  \\\n",
       "Time (Month)                                                                 \n",
       "1998-01-01                                 0.0                    0.000000   \n",
       "1998-02-01                                 0.0                    0.000000   \n",
       "1998-03-01                                 0.0                    0.000000   \n",
       "1998-04-01                                 0.0                    0.000000   \n",
       "1998-05-01                                 0.0                    0.000000   \n",
       "...                                        ...                         ...   \n",
       "2050-08-01                                 0.0                10295.761055   \n",
       "2050-09-01                                 0.0                13440.381889   \n",
       "2050-10-01                                 0.0                 1980.134641   \n",
       "2050-11-01                                 0.0                19438.667693   \n",
       "2050-12-01                                 0.0                22127.824687   \n",
       "\n",
       "              System Production Rooftop PV  ...  System Production Battery  \\\n",
       "Time (Month)                                ...                              \n",
       "1998-01-01                        0.000000  ...                        0.0   \n",
       "1998-02-01                        0.000000  ...                        0.0   \n",
       "1998-03-01                        0.000000  ...                        0.0   \n",
       "1998-04-01                        0.000000  ...                        0.0   \n",
       "1998-05-01                        0.000000  ...                        0.0   \n",
       "...                                    ...  ...                        ...   \n",
       "2050-08-01                     9327.427119  ...                        0.0   \n",
       "2050-09-01                    12761.076352  ...                        0.0   \n",
       "2050-10-01                     1317.261267  ...                        0.0   \n",
       "2050-11-01                    18740.025518  ...                        0.0   \n",
       "2050-12-01                    21399.235429  ...                        0.0   \n",
       "\n",
       "              Number of Active Actors  Primary Total Unmet Demand (MWh)  \\\n",
       "Time (Month)                                                              \n",
       "1998-01-01                       16.0                          0.000000   \n",
       "1998-02-01                       16.0                          0.000000   \n",
       "1998-03-01                       16.0                          0.000000   \n",
       "1998-04-01                       16.0                          0.000000   \n",
       "1998-05-01                       16.0                          0.000000   \n",
       "...                               ...                               ...   \n",
       "2050-08-01                      194.0                     166567.251402   \n",
       "2050-09-01                      194.0                     136731.164466   \n",
       "2050-10-01                      194.0                     158335.515617   \n",
       "2050-11-01                        0.0                     110797.343195   \n",
       "2050-12-01                        0.0                     113506.191868   \n",
       "\n",
       "              Primary Total Unmet Demand (Hours)  \\\n",
       "Time (Month)                                       \n",
       "1998-01-01                                   0.0   \n",
       "1998-02-01                                   0.0   \n",
       "1998-03-01                                   0.0   \n",
       "1998-04-01                                   0.0   \n",
       "1998-05-01                                   0.0   \n",
       "...                                          ...   \n",
       "2050-08-01                                  31.0   \n",
       "2050-09-01                                  30.0   \n",
       "2050-10-01                                  31.0   \n",
       "2050-11-01                                  30.0   \n",
       "2050-12-01                                  31.0   \n",
       "\n",
       "              Primary Total Unmet Demand (Days)  \\\n",
       "Time (Month)                                      \n",
       "1998-01-01                                  0.0   \n",
       "1998-02-01                                  0.0   \n",
       "1998-03-01                                  0.0   \n",
       "1998-04-01                                  0.0   \n",
       "1998-05-01                                  0.0   \n",
       "...                                         ...   \n",
       "2050-08-01                                 31.0   \n",
       "2050-09-01                                 30.0   \n",
       "2050-10-01                                  2.0   \n",
       "2050-11-01                                 30.0   \n",
       "2050-12-01                                 31.0   \n",
       "\n",
       "              Primary Max Unmet Demand Per Hour (MWh)  \\\n",
       "Time (Month)                                            \n",
       "1998-01-01                                   0.000000   \n",
       "1998-02-01                                   0.000000   \n",
       "1998-03-01                                   0.000000   \n",
       "1998-04-01                                   0.000000   \n",
       "1998-05-01                                   0.000000   \n",
       "...                                               ...   \n",
       "2050-08-01                                6421.310274   \n",
       "2050-09-01                                5595.310472   \n",
       "2050-10-01                                5187.959603   \n",
       "2050-11-01                                5193.360954   \n",
       "2050-12-01                                5513.395896   \n",
       "\n",
       "              Secondary Total Unmet Demand (MWh)  \\\n",
       "Time (Month)                                       \n",
       "1998-01-01                                   0.0   \n",
       "1998-02-01                                   0.0   \n",
       "1998-03-01                                   0.0   \n",
       "1998-04-01                                   0.0   \n",
       "1998-05-01                                   0.0   \n",
       "...                                          ...   \n",
       "2050-08-01                                   0.0   \n",
       "2050-09-01                                   0.0   \n",
       "2050-10-01                                   0.0   \n",
       "2050-11-01                                   0.0   \n",
       "2050-12-01                                   0.0   \n",
       "\n",
       "              Secondary Total Unmet Demand (Hours)  \\\n",
       "Time (Month)                                         \n",
       "1998-01-01                                     0.0   \n",
       "1998-02-01                                     0.0   \n",
       "1998-03-01                                     0.0   \n",
       "1998-04-01                                     0.0   \n",
       "1998-05-01                                     0.0   \n",
       "...                                            ...   \n",
       "2050-08-01                                     0.0   \n",
       "2050-09-01                                     0.0   \n",
       "2050-10-01                                     0.0   \n",
       "2050-11-01                                     0.0   \n",
       "2050-12-01                                     0.0   \n",
       "\n",
       "              Secondary Total Unmet Demand (Days)  \\\n",
       "Time (Month)                                        \n",
       "1998-01-01                                    0.0   \n",
       "1998-02-01                                    0.0   \n",
       "1998-03-01                                    0.0   \n",
       "1998-04-01                                    0.0   \n",
       "1998-05-01                                    0.0   \n",
       "...                                           ...   \n",
       "2050-08-01                                    0.0   \n",
       "2050-09-01                                    0.0   \n",
       "2050-10-01                                    0.0   \n",
       "2050-11-01                                    0.0   \n",
       "2050-12-01                                    0.0   \n",
       "\n",
       "              Secondary Max Unmet Demand Per Hour (MWh)  \n",
       "Time (Month)                                             \n",
       "1998-01-01                                          0.0  \n",
       "1998-02-01                                          0.0  \n",
       "1998-03-01                                          0.0  \n",
       "1998-04-01                                          0.0  \n",
       "1998-05-01                                          0.0  \n",
       "...                                                 ...  \n",
       "2050-08-01                                          0.0  \n",
       "2050-09-01                                          0.0  \n",
       "2050-10-01                                          0.0  \n",
       "2050-11-01                                          0.0  \n",
       "2050-12-01                                          0.0  \n",
       "\n",
       "[636 rows x 25 columns]"
      ]
     },
     "execution_count": 30,
     "metadata": {},
     "output_type": "execute_result"
    }
   ],
   "source": [
    "monthly_bau_results_df"
   ]
  },
  {
   "cell_type": "code",
   "execution_count": 31,
   "metadata": {
    "ExecuteTime": {
     "end_time": "2021-03-17T04:25:24.127190Z",
     "start_time": "2021-03-17T04:25:24.122383Z"
    }
   },
   "outputs": [],
   "source": [
    "# Historic is only available from April 2005 until June 2020. Simulated data for those dates are used for validation.\n",
    "\n",
    "\"\"\" Filtering Whoelsale prices from simulation BAU \"\"\"\n",
    "\n",
    "simul_data_wholesale_filtered = monthly_bau_results_df['Primary Wholesale ($/MWh)']\n",
    "simul_data_wholesale_filtered.index = pd.to_datetime(simul_data_wholesale_filtered.index)\n"
   ]
  },
  {
   "cell_type": "code",
   "execution_count": 32,
   "metadata": {
    "ExecuteTime": {
     "end_time": "2021-03-17T04:25:24.152124Z",
     "start_time": "2021-03-17T04:25:24.128188Z"
    },
    "scrolled": true
   },
   "outputs": [
    {
     "data": {
      "text/html": [
       "<div>\n",
       "<style scoped>\n",
       "    .dataframe tbody tr th:only-of-type {\n",
       "        vertical-align: middle;\n",
       "    }\n",
       "\n",
       "    .dataframe tbody tr th {\n",
       "        vertical-align: top;\n",
       "    }\n",
       "\n",
       "    .dataframe thead th {\n",
       "        text-align: right;\n",
       "    }\n",
       "</style>\n",
       "<table border=\"1\" class=\"dataframe\">\n",
       "  <thead>\n",
       "    <tr style=\"text-align: right;\">\n",
       "      <th></th>\n",
       "      <th>Volume Weighted Price (Historic) - $/MWh</th>\n",
       "      <th>Primary Wholesale ($/MWh)</th>\n",
       "    </tr>\n",
       "    <tr>\n",
       "      <th>Time (Month)</th>\n",
       "      <th></th>\n",
       "      <th></th>\n",
       "    </tr>\n",
       "  </thead>\n",
       "  <tbody>\n",
       "    <tr>\n",
       "      <th>2005-04-01</th>\n",
       "      <td>31.809904</td>\n",
       "      <td>18.140015</td>\n",
       "    </tr>\n",
       "    <tr>\n",
       "      <th>2005-05-01</th>\n",
       "      <td>25.330109</td>\n",
       "      <td>115.023827</td>\n",
       "    </tr>\n",
       "    <tr>\n",
       "      <th>2005-06-01</th>\n",
       "      <td>24.249596</td>\n",
       "      <td>133.146103</td>\n",
       "    </tr>\n",
       "    <tr>\n",
       "      <th>2005-07-01</th>\n",
       "      <td>27.651352</td>\n",
       "      <td>114.748039</td>\n",
       "    </tr>\n",
       "    <tr>\n",
       "      <th>2005-08-01</th>\n",
       "      <td>32.022126</td>\n",
       "      <td>114.677063</td>\n",
       "    </tr>\n",
       "    <tr>\n",
       "      <th>...</th>\n",
       "      <td>...</td>\n",
       "      <td>...</td>\n",
       "    </tr>\n",
       "    <tr>\n",
       "      <th>2020-02-01</th>\n",
       "      <td>49.201480</td>\n",
       "      <td>120.777901</td>\n",
       "    </tr>\n",
       "    <tr>\n",
       "      <th>2020-03-01</th>\n",
       "      <td>43.196436</td>\n",
       "      <td>70.662193</td>\n",
       "    </tr>\n",
       "    <tr>\n",
       "      <th>2020-04-01</th>\n",
       "      <td>34.966287</td>\n",
       "      <td>15.052718</td>\n",
       "    </tr>\n",
       "    <tr>\n",
       "      <th>2020-05-01</th>\n",
       "      <td>39.152540</td>\n",
       "      <td>18.801584</td>\n",
       "    </tr>\n",
       "    <tr>\n",
       "      <th>2020-06-01</th>\n",
       "      <td>51.204533</td>\n",
       "      <td>22.606699</td>\n",
       "    </tr>\n",
       "  </tbody>\n",
       "</table>\n",
       "<p>183 rows × 2 columns</p>\n",
       "</div>"
      ],
      "text/plain": [
       "              Volume Weighted Price (Historic) - $/MWh  \\\n",
       "Time (Month)                                             \n",
       "2005-04-01                                   31.809904   \n",
       "2005-05-01                                   25.330109   \n",
       "2005-06-01                                   24.249596   \n",
       "2005-07-01                                   27.651352   \n",
       "2005-08-01                                   32.022126   \n",
       "...                                                ...   \n",
       "2020-02-01                                   49.201480   \n",
       "2020-03-01                                   43.196436   \n",
       "2020-04-01                                   34.966287   \n",
       "2020-05-01                                   39.152540   \n",
       "2020-06-01                                   51.204533   \n",
       "\n",
       "              Primary Wholesale ($/MWh)  \n",
       "Time (Month)                             \n",
       "2005-04-01                    18.140015  \n",
       "2005-05-01                   115.023827  \n",
       "2005-06-01                   133.146103  \n",
       "2005-07-01                   114.748039  \n",
       "2005-08-01                   114.677063  \n",
       "...                                 ...  \n",
       "2020-02-01                   120.777901  \n",
       "2020-03-01                    70.662193  \n",
       "2020-04-01                    15.052718  \n",
       "2020-05-01                    18.801584  \n",
       "2020-06-01                    22.606699  \n",
       "\n",
       "[183 rows x 2 columns]"
      ]
     },
     "execution_count": 32,
     "metadata": {},
     "output_type": "execute_result"
    }
   ],
   "source": [
    "\n",
    "from functools import reduce\n",
    "\n",
    "historic_wholesale_list = [historic_wholesale_filtered, simul_data_wholesale_filtered]\n",
    "historic_wholesale_list\n",
    "\n",
    "historic_and_simul_wholesale_df = reduce(lambda x, y: pd.merge(x, y, on = 'Time (Month)'), historic_wholesale_list)\n",
    "historic_and_simul_wholesale_df.head(200)"
   ]
  },
  {
   "cell_type": "markdown",
   "metadata": {},
   "source": [
    "### Plot historic and simulated wholesale prices"
   ]
  },
  {
   "cell_type": "code",
   "execution_count": null,
   "metadata": {},
   "outputs": [],
   "source": []
  },
  {
   "cell_type": "code",
   "execution_count": 43,
   "metadata": {},
   "outputs": [
    {
     "data": {
      "image/png": "[encoded data removed]",
      "text/plain": [
       "<Figure size 1296x720 with 1 Axes>"
      ]
     },
     "metadata": {},
     "output_type": "display_data"
    }
   ],
   "source": [
    "plt.figure(figsize=(18,10))\n",
    "\n",
    "#plt.plot( 'Volume Weighted Price (Historic) - $/MWh', data=historic_and_simul_wholesale_df, marker='o', markerfacecolor='darkgoldenrod', markersize=8, color='burlywood', linewidth=4)\n",
    "#plt.plot( 'Wholesale ($/MWh)', data=historic_and_simul_wholesale_df, marker='o', markerfacecolor='steelblue', markersize=8, color='lightblue', linewidth=4)\n",
    "\n",
    "plt.plot( 'Primary Wholesale ($/MWh)', data=historic_and_simul_wholesale_df, color='lightblue', linewidth=4, label='Wholesale Primary Spot Market - Simulated (STLM+CSI+MS)')\n",
    "plt.plot( 'Volume Weighted Price (Historic) - $/MWh', data=historic_and_simul_wholesale_df, color='burlywood', linewidth=4, label='Wholesale Primary Spot Market - Historic')\n",
    "\n",
    "\n",
    "\n",
    "rolling_size = 8\n",
    "plt.plot( 'Volume Weighted Price (Historic) - $/MWh', data=historic_and_simul_wholesale_df.rolling(window=rolling_size).mean(), color='yellow', linewidth=4, label=f'ROLLING {rolling_size} Wholesale Primary Spot Market - Historic')\n",
    "plt.plot( 'Primary Wholesale ($/MWh)', data=historic_and_simul_wholesale_df.rolling(window=rolling_size).mean(), color='red', linewidth=4, label=f'ROLLING {rolling_size} Wholesale Primary Spot Market - Simulated (STLM+CSI+MS)')\n",
    "\n",
    "\n",
    "\n",
    "plt.xlabel('Months', size = 16)\n",
    "plt.ylabel('$/MWh', size = 16)\n",
    "plt.xticks(size = 14)\n",
    "plt.yticks(size = 14)\n",
    "plt.legend(prop={'size':16})\n",
    "plt.savefig(f\"results/{description}_wholesale_month\")\n",
    "filenames.append(f\"results/{description}_wholesale_month\")"
   ]
  },
  {
   "cell_type": "code",
   "execution_count": null,
   "metadata": {
    "ExecuteTime": {
     "end_time": "2021-03-17T04:25:24.686531Z",
     "start_time": "2021-03-17T04:25:24.472337Z"
    }
   },
   "outputs": [],
   "source": [
    "#distribution\n",
    "\n",
    "historic_and_simul_wholesale_df['Volume Weighted Price (Historic) - $/MWh'].hist()"
   ]
  },
  {
   "cell_type": "markdown",
   "metadata": {},
   "source": [
    "### Validation using MAD"
   ]
  },
  {
   "cell_type": "code",
   "execution_count": null,
   "metadata": {
    "ExecuteTime": {
     "end_time": "2021-03-17T04:25:24.749937Z",
     "start_time": "2021-03-17T04:25:24.687518Z"
    }
   },
   "outputs": [],
   "source": [
    "b = 1.4826\n",
    "\n",
    "abs_difference_list = list()\n",
    "for i in historic_and_simul_wholesale_df.index:\n",
    "    diff = abs(historic_and_simul_wholesale_df.loc[i][0] - historic_and_simul_wholesale_df.loc[i][1])\n",
    "    abs_difference_list.append(diff)\n",
    "\n",
    "mad = statistics.median(abs_difference_list)\n",
    "std = mad*b\n",
    "print(f\"Simulated results are {mad.round(decimals=2)} $/MWh (MAD) away from historic data\")\n",
    "print(f\"Simulated results have a standard deviation of {std.round(decimals=2)} $/MWh from historic data\")"
   ]
  },
  {
   "cell_type": "code",
   "execution_count": null,
   "metadata": {
    "ExecuteTime": {
     "end_time": "2021-03-17T04:25:25.107556Z",
     "start_time": "2021-03-17T04:25:24.753928Z"
    }
   },
   "outputs": [],
   "source": [
    "annual = historic_and_simul_wholesale_df.resample(\"AS\").agg(['mean'])#, 'min', 'max'\n",
    "\n",
    "plt.figure(figsize=(18,10))\n",
    "#plt.plot( 'Volume Weighted Price (Historic) - $/MWh', data=annual, marker='o', markerfacecolor='darkgoldenrod', markersize=8, color='burlywood', linewidth=4)\n",
    "#plt.plot( 'Wholesale ($/MWh)', data=annual, marker='o', markerfacecolor='steelblue', markersize=8, color='lightblue', linewidth=4)\n",
    "\n",
    "plt.plot( 'Primary Wholesale ($/MWh)', data=annual, color='lightblue', linewidth=4, label='Wholesale Primary Spot Market - Simulated (STLM+CSI+MS)')\n",
    "plt.plot( 'Volume Weighted Price (Historic) - $/MWh', data=annual, color='burlywood', linewidth=4, label='Wholesale Primary Spot Market - Historic')\n",
    "\n",
    "\n",
    "plt.xlabel('Year', size = 16)\n",
    "plt.ylabel('$/MWh', size = 16)\n",
    "plt.xticks(size = 14)\n",
    "plt.yticks(size = 14)\n",
    "plt.legend(prop={'size':16})\n",
    "plt.savefig(f\"results/{description}_wholesale_year\")\n",
    "filenames.append(f\"results/{description}_wholesale_year\")"
   ]
  },
  {
   "cell_type": "code",
   "execution_count": null,
   "metadata": {
    "ExecuteTime": {
     "end_time": "2021-03-17T04:25:25.349949Z",
     "start_time": "2021-03-17T04:25:25.109551Z"
    }
   },
   "outputs": [],
   "source": [
    "annual['Volume Weighted Price (Historic) - $/MWh'].hist()"
   ]
  },
  {
   "cell_type": "code",
   "execution_count": null,
   "metadata": {
    "ExecuteTime": {
     "end_time": "2021-03-17T04:25:25.361917Z",
     "start_time": "2021-03-17T04:25:25.350947Z"
    }
   },
   "outputs": [],
   "source": [
    "b = 1.4826\n",
    "\n",
    "abs_difference_list = list()\n",
    "for i in annual.index:\n",
    "    diff = abs(annual.loc[i][0] - annual.loc[i][1])\n",
    "    abs_difference_list.append(diff)\n",
    "\n",
    "mad = statistics.median(abs_difference_list)\n",
    "std = mad*b\n",
    "print(f\"Annual Simulated results are {mad.round(decimals=2)} $/MWh (MAD) away from historic data\")\n",
    "print(f\"Annual Simulated results have a standard deviation of {std.round(decimals=2)} $/MWh from historic data\")"
   ]
  },
  {
   "cell_type": "code",
   "execution_count": null,
   "metadata": {},
   "outputs": [],
   "source": [
    "import IPython"
   ]
  },
  {
   "cell_type": "code",
   "execution_count": null,
   "metadata": {
    "ExecuteTime": {
     "end_time": "2021-03-17T04:25:25.682107Z",
     "start_time": "2021-03-17T04:25:25.362914Z"
    }
   },
   "outputs": [],
   "source": [
    "plt.figure(figsize=(18,10))\n",
    "plt.plot(historic_and_simul_wholesale_df['Volume Weighted Price (Historic) - $/MWh'].rolling(12).mean(),label= 'Historic MA and12 month',color='burlywood', linewidth=4 )\n",
    "plt.plot(historic_and_simul_wholesale_df['Primary Wholesale ($/MWh)'].rolling(12).mean(),label= 'Simulated MA 12 month',color='lightblue', linewidth=4 )\n",
    "\n",
    "plt.xlabel('Year', size = 16)\n",
    "plt.ylabel('$/MWh', size = 16)\n",
    "plt.xticks(size = 14)\n",
    "plt.yticks(size = 14)\n",
    "plt.legend(prop={'size':16})\n",
    "plt.savefig(f\"results/{description}_wholesale_month_mean\")\n",
    "filenames.append(f\"results/{description}_wholesale_month_mean\")\n",
    "plt.show()"
   ]
  },
  {
   "cell_type": "markdown",
   "metadata": {},
   "source": [
    "## Tariffs Validation\n",
    "\n",
    "1. load historic and simulated yearly average tariffs\n",
    "2. plot historic and simulated results\n",
    "3. use a descriptive statistic measure to validate results from simulation against historic values\n",
    "\n",
    "Different sources where used to construct a historic dataset of average electricity tariffs.\n",
    "- Historic data found in the [ACCC report](https://www.accc.gov.au/system/files/Victorian%20Electricity%20Distribution%20Networks.pdf) from 2017. This data is from a household in VIC that use 4000 KWh/year, has gas water heating. The report has data for the years 1995, 2001, 2002, and from 2007 to 2017. But data is used from 2001. Since the data is given as total bill per year in /$, the price per KWh is computed as (AnnualBill/4000KWh)*100, to get the value in c/kWh.\n",
    "- [St. Vinnies historic data](https://www.vinnies.org.au/page/Our_Impact/Incomes_Support_Cost_of_Living/Energy/VIC/) on tariffs per retailer and distribution area. This data has been collected since 2010, every quarter of the year. I used the ‘first block’ charges to calculate the average charge of usage in c/KWh. \n",
    "\n",
    "Prices from the reports and data sources are adjusted to 2019 values as simulatied tariffs are presented in real terms for the base year of 2019.\n"
   ]
  },
  {
   "cell_type": "markdown",
   "metadata": {},
   "source": [
    "### Load and merge historic and simulated tariff data"
   ]
  },
  {
   "cell_type": "code",
   "execution_count": null,
   "metadata": {
    "ExecuteTime": {
     "end_time": "2021-03-17T04:25:25.691685Z",
     "start_time": "2021-03-17T04:25:25.684129Z"
    }
   },
   "outputs": [],
   "source": [
    "# historic average tariffs in c/kWh (real 2019) filtered from reports\n",
    "yearly_historic_tariffs = pd.read_csv(r'/home/XXX/Repositories/gr4sp/experiments/simulationData/2001to2019_historicTariffs.csv', index_col='Time (Year)')"
   ]
  },
  {
   "cell_type": "code",
   "execution_count": null,
   "metadata": {
    "ExecuteTime": {
     "end_time": "2021-03-17T04:25:25.703092Z",
     "start_time": "2021-03-17T04:25:25.693104Z"
    }
   },
   "outputs": [],
   "source": [
    "# Historic is only available from April 2005 until June 2020. Simulated data for those dates are used for validation.\n",
    "\n",
    "\"\"\" Filtering Avg Tariff (c/KWh) per household prices from simulation BAU \"\"\"\n",
    "\n",
    "yearly_bau_results_tariffs_df = yearly_bau_results_df['Avg Tariff (c/KWh) per household']\n",
    "yearly_bau_results_tariffs_df.index = yearly_bau_results_df.index"
   ]
  },
  {
   "cell_type": "code",
   "execution_count": null,
   "metadata": {
    "ExecuteTime": {
     "end_time": "2021-03-17T04:25:25.721036Z",
     "start_time": "2021-03-17T04:25:25.704080Z"
    }
   },
   "outputs": [],
   "source": [
    "from functools import reduce\n",
    "\n",
    "historic_and_simul_tariff_list = [yearly_bau_results_tariffs_df, yearly_historic_tariffs]\n",
    "historic_and_simul_tariff_list\n",
    "\n",
    "historic_and_simul_tariff_df = reduce(lambda x, y: pd.merge(x, y, on = 'Time (Year)'), historic_and_simul_tariff_list)\n",
    "historic_and_simul_tariff_df.head(20)"
   ]
  },
  {
   "cell_type": "markdown",
   "metadata": {},
   "source": [
    "### Plot historic and simulated residential tariffs"
   ]
  },
  {
   "cell_type": "code",
   "execution_count": null,
   "metadata": {
    "ExecuteTime": {
     "end_time": "2021-03-17T04:25:26.614268Z",
     "start_time": "2021-03-17T04:25:25.721036Z"
    }
   },
   "outputs": [],
   "source": [
    "plt.figure(figsize=(18,10))\n",
    "data=historic_and_simul_tariff_df\n",
    "yearly_dates = [DT.datetime.strptime(str(int(date)),'%Y') for date in historic_and_simul_tariff_df.index]\n",
    "#plt.plot( 'Volume Weighted Price (Historic) - $/MWh', data=annual, marker='o', markerfacecolor='darkgoldenrod', markersize=8, color='burlywood', linewidth=4)\n",
    "\n",
    "plt.plot( yearly_dates, data['Avg Tariff (c/KWh) per household'], marker='o', markerfacecolor='lightblue', markersize=10,color='lightblue', linewidth=4, label='Avg tariff - Simulated (STLM+CSI+MS)')\n",
    "plt.plot( yearly_dates, data.iloc[:,1], marker='o', markerfacecolor='coral', markersize=10, color='coral', linewidth=4, label='St Vinnies avg tariff - Historic')\n",
    "plt.plot( yearly_dates, data.iloc[:,2],marker='o', markerfacecolor='lightgreen', markersize=10, color='lightgreen', linewidth=4, label='ACCC report tariff annual 4000kWh user - Historic')\n",
    "\n",
    "plt.xlabel('Year', size = 16)\n",
    "plt.ylabel('c/KWh', size = 16)\n",
    "plt.xticks(size = 14)\n",
    "plt.yticks(size = 14)\n",
    "plt.legend(prop={'size':16})\n",
    "plt.savefig(f\"results/{description}_tariff\")\n",
    "filenames.append(f\"results/{description}_tariff\")"
   ]
  },
  {
   "cell_type": "code",
   "execution_count": null,
   "metadata": {
    "ExecuteTime": {
     "end_time": "2021-03-17T04:25:26.620247Z",
     "start_time": "2021-03-17T04:25:26.615261Z"
    }
   },
   "outputs": [],
   "source": [
    "average_historic = yearly_historic_tariffs.mean(axis=1)\n",
    "average_historic_df = pd.DataFrame({'Average historic tariff (c/KWh)':average_historic})\n"
   ]
  },
  {
   "cell_type": "code",
   "execution_count": null,
   "metadata": {
    "ExecuteTime": {
     "end_time": "2021-03-17T04:25:26.634071Z",
     "start_time": "2021-03-17T04:25:26.621244Z"
    }
   },
   "outputs": [],
   "source": [
    "historic_and_simul_tariff_list = [yearly_bau_results_tariffs_df, average_historic_df]\n",
    "historic_and_simul_tariff_list\n",
    "\n",
    "average_historic_and_simul_tariff_df = reduce(lambda x, y: pd.merge(x, y, on = 'Time (Year)'), historic_and_simul_tariff_list)\n",
    "average_historic_and_simul_tariff_df.head(20)"
   ]
  },
  {
   "cell_type": "code",
   "execution_count": null,
   "metadata": {
    "ExecuteTime": {
     "end_time": "2021-03-17T04:25:26.932065Z",
     "start_time": "2021-03-17T04:25:26.635063Z"
    }
   },
   "outputs": [],
   "source": [
    "plt.figure(figsize=(18,10))\n",
    "yearly_dates = [DT.datetime.strptime(str(int(date)),'%Y') for date in historic_and_simul_tariff_df.index]\n",
    "data=average_historic_and_simul_tariff_df\n",
    "\n",
    "plt.plot( yearly_dates, data['Avg Tariff (c/KWh) per household'], marker='o', markerfacecolor='lightblue', markersize=1, color='lightblue', linewidth=4, label='Avg tariff - Simulated (STLM+CSI+MS)')\n",
    "plt.plot( yearly_dates, data.iloc[:,1], marker='o', markerfacecolor='darkgoldenrod', markersize=1, color='burlywood', linewidth=4, label='Avg tariff - Historic')\n",
    "\n",
    "\n",
    "plt.xlabel('Year', size = 16)\n",
    "plt.ylabel('c/KWh', size = 16)\n",
    "plt.xticks(size = 14)\n",
    "plt.yticks(size = 14)\n",
    "plt.legend(prop={'size':16})\n",
    "plt.savefig(f\"results/{description}_tariff_2\")\n",
    "filenames.append(f\"results/{description}_tariff_2\")"
   ]
  },
  {
   "cell_type": "code",
   "execution_count": null,
   "metadata": {
    "ExecuteTime": {
     "end_time": "2021-03-17T04:25:27.143255Z",
     "start_time": "2021-03-17T04:25:26.933062Z"
    }
   },
   "outputs": [],
   "source": [
    "average_historic_and_simul_tariff_df['Average historic tariff (c/KWh)'].hist()"
   ]
  },
  {
   "cell_type": "markdown",
   "metadata": {},
   "source": [
    "### Validation using MAD"
   ]
  },
  {
   "cell_type": "code",
   "execution_count": null,
   "metadata": {
    "ExecuteTime": {
     "end_time": "2021-03-17T04:25:27.155042Z",
     "start_time": "2021-03-17T04:25:27.144215Z"
    },
    "scrolled": true
   },
   "outputs": [],
   "source": [
    "b = 1.4826\n",
    "\n",
    "abs_difference_list = list()\n",
    "for i in average_historic_and_simul_tariff_df.index:\n",
    "    diff = abs(average_historic_and_simul_tariff_df.loc[i][1] - average_historic_and_simul_tariff_df.loc[i][0])\n",
    "    abs_difference_list.append(diff)\n",
    "\n",
    "mad = statistics.median(abs_difference_list)\n",
    "std = mad*b\n",
    "print(f\"Simulated results are {mad.round(decimals=2)} c/KWh (MAD) away from historic data\")\n",
    "print(f\"Simulated results have a standard deviation of {std.round(decimals=2)} c/KWh from historic data\")"
   ]
  },
  {
   "cell_type": "markdown",
   "metadata": {},
   "source": [
    "### Validation with Percentage difference"
   ]
  },
  {
   "cell_type": "code",
   "execution_count": null,
   "metadata": {
    "ExecuteTime": {
     "end_time": "2021-03-17T04:25:27.433218Z",
     "start_time": "2021-03-17T04:25:27.156171Z"
    }
   },
   "outputs": [],
   "source": [
    "plt.figure(figsize=(18,10))\n",
    "#xfmt = mdates.DateFormatter('%Y-%m-%d')\n",
    "#axes.xaxis.set_major_formatter(xfmt)\n",
    "yearly_dates = [DT.datetime.strptime(str(int(date)),'%Y') for date in historic_and_simul_tariff_df.index]\n",
    "\n",
    "plt.axhline(y=0.0, color='r', linestyle='-')\n",
    "plt.plot( yearly_dates, abs_difference_list, marker='o', \n",
    "         markerfacecolor='mintcream', markersize=8, color='lightseagreen', \n",
    "         linewidth=4, label='Percentage difference from Historic')\n",
    "\n",
    "\n",
    "plt.legend()\n",
    "plt.savefig(f\"results/{description}_tariff_pct\")\n",
    "filenames.append(f\"results/{description}_tariff_pct\")"
   ]
  },
  {
   "cell_type": "markdown",
   "metadata": {},
   "source": [
    "### Group in file"
   ]
  },
  {
   "cell_type": "code",
   "execution_count": null,
   "metadata": {},
   "outputs": [],
   "source": [
    "filenames = ' '.join(list(map(lambda a: a + \".png\", filenames)))\n",
    "os.system(f\"montage -mode concatenate -tile 3x3 {filenames} collatedResults/{description}.png\")\n",
    "os.system(f'notify-send \"Completed {description}\"')"
   ]
  },
  {
   "cell_type": "markdown",
   "metadata": {},
   "source": [
    "# Verification and Validation First Phase: Emerging Regime\n",
    "\n",
    "The first phase of the electricity for the verification and validation uses the years 1902 to 1919."
   ]
  },
  {
   "cell_type": "code",
   "execution_count": 44,
   "metadata": {
    "ExecuteTime": {
     "end_time": "2021-03-17T04:25:27.440087Z",
     "start_time": "2021-03-17T04:25:14.272Z"
    }
   },
   "outputs": [
    {
     "data": {
      "text/html": [
       "<div>\n",
       "<style scoped>\n",
       "    .dataframe tbody tr th:only-of-type {\n",
       "        vertical-align: middle;\n",
       "    }\n",
       "\n",
       "    .dataframe tbody tr th {\n",
       "        vertical-align: top;\n",
       "    }\n",
       "\n",
       "    .dataframe thead th {\n",
       "        text-align: right;\n",
       "    }\n",
       "</style>\n",
       "<table border=\"1\" class=\"dataframe\">\n",
       "  <thead>\n",
       "    <tr style=\"text-align: right;\">\n",
       "      <th></th>\n",
       "      <th>No_householdsABS</th>\n",
       "    </tr>\n",
       "    <tr>\n",
       "      <th>Year</th>\n",
       "      <th></th>\n",
       "    </tr>\n",
       "  </thead>\n",
       "  <tbody>\n",
       "    <tr>\n",
       "      <th>2015</th>\n",
       "      <td>2200072.20</td>\n",
       "    </tr>\n",
       "    <tr>\n",
       "      <th>2016</th>\n",
       "      <td>2242283.00</td>\n",
       "    </tr>\n",
       "    <tr>\n",
       "      <th>2017</th>\n",
       "      <td>2336752.75</td>\n",
       "    </tr>\n",
       "    <tr>\n",
       "      <th>2018</th>\n",
       "      <td>2421388.37</td>\n",
       "    </tr>\n",
       "    <tr>\n",
       "      <th>2019</th>\n",
       "      <td>2506024.00</td>\n",
       "    </tr>\n",
       "  </tbody>\n",
       "</table>\n",
       "</div>"
      ],
      "text/plain": [
       "      No_householdsABS\n",
       "Year                  \n",
       "2015        2200072.20\n",
       "2016        2242283.00\n",
       "2017        2336752.75\n",
       "2018        2421388.37\n",
       "2019        2506024.00"
      ]
     },
     "execution_count": 44,
     "metadata": {},
     "output_type": "execute_result"
    }
   ],
   "source": [
    "#Number of housheolds using ABS and other census data. Interpolation was used between years without available data.\n",
    "number_of_households_abs = pd.read_csv(r'/home/XXX/Repositories/gr4sp/experiments/simulationData/numberOfHouseholdsABS.csv', index_col='Year')\n",
    "number_of_households_abs.tail()"
   ]
  },
  {
   "cell_type": "code",
   "execution_count": 45,
   "metadata": {
    "ExecuteTime": {
     "end_time": "2021-03-17T04:25:27.441086Z",
     "start_time": "2021-03-17T04:25:14.278Z"
    }
   },
   "outputs": [
    {
     "ename": "FileNotFoundError",
     "evalue": "[Errno 2] File /home/XXX/Repositories/gr4sp/experiments/simulationData/VICSimDataMonthlySummary_seed_1612246526737.csv does not exist: '/home/XXX/Repositories/gr4sp/experiments/simulationData/VICSimDataMonthlySummary_seed_1612246526737.csv'",
     "output_type": "error",
     "traceback": [
      "\u001b[0;31m---------------------------------------------------------------------------\u001b[0m",
      "\u001b[0;31mFileNotFoundError\u001b[0m                         Traceback (most recent call last)",
      "\u001b[0;32m<ipython-input-45-0b6eafa8209e>\u001b[0m in \u001b[0;36m<module>\u001b[0;34m\u001b[0m\n\u001b[0;32m----> 1\u001b[0;31m \u001b[0mmonthly_bau_results_pp_df\u001b[0m \u001b[0;34m=\u001b[0m \u001b[0mpd\u001b[0m\u001b[0;34m.\u001b[0m\u001b[0mread_csv\u001b[0m\u001b[0;34m(\u001b[0m\u001b[0;34mr'/home/XXX/Repositories/gr4sp/experiments/simulationData/VICSimDataMonthlySummary_seed_1612246526737.csv'\u001b[0m\u001b[0;34m,\u001b[0m \u001b[0mindex_col\u001b[0m\u001b[0;34m=\u001b[0m\u001b[0;34m'Time (Month)'\u001b[0m\u001b[0;34m)\u001b[0m\u001b[0;34m\u001b[0m\u001b[0;34m\u001b[0m\u001b[0m\n\u001b[0m\u001b[1;32m      2\u001b[0m \u001b[0myearly_bau_results_pp_df\u001b[0m \u001b[0;34m=\u001b[0m \u001b[0mpd\u001b[0m\u001b[0;34m.\u001b[0m\u001b[0mread_csv\u001b[0m\u001b[0;34m(\u001b[0m\u001b[0;34mr'/home/XXX/Repositories/gr4sp/experiments/simulationData/VICSimDataYearSummary_seed_1612246526737.csv'\u001b[0m\u001b[0;34m,\u001b[0m \u001b[0mindex_col\u001b[0m\u001b[0;34m=\u001b[0m\u001b[0;34m'Time (Year)'\u001b[0m\u001b[0;34m)\u001b[0m\u001b[0;34m\u001b[0m\u001b[0;34m\u001b[0m\u001b[0m\n\u001b[1;32m      3\u001b[0m \u001b[0myearly_bau_results_pp_df\u001b[0m\u001b[0;34m.\u001b[0m\u001b[0mhead\u001b[0m\u001b[0;34m(\u001b[0m\u001b[0;34m)\u001b[0m\u001b[0;34m\u001b[0m\u001b[0;34m\u001b[0m\u001b[0m\n",
      "\u001b[0;32m~/anaconda3/lib/python3.7/site-packages/pandas/io/parsers.py\u001b[0m in \u001b[0;36mparser_f\u001b[0;34m(filepath_or_buffer, sep, delimiter, header, names, index_col, usecols, squeeze, prefix, mangle_dupe_cols, dtype, engine, converters, true_values, false_values, skipinitialspace, skiprows, skipfooter, nrows, na_values, keep_default_na, na_filter, verbose, skip_blank_lines, parse_dates, infer_datetime_format, keep_date_col, date_parser, dayfirst, cache_dates, iterator, chunksize, compression, thousands, decimal, lineterminator, quotechar, quoting, doublequote, escapechar, comment, encoding, dialect, error_bad_lines, warn_bad_lines, delim_whitespace, low_memory, memory_map, float_precision)\u001b[0m\n\u001b[1;32m    674\u001b[0m         )\n\u001b[1;32m    675\u001b[0m \u001b[0;34m\u001b[0m\u001b[0m\n\u001b[0;32m--> 676\u001b[0;31m         \u001b[0;32mreturn\u001b[0m \u001b[0m_read\u001b[0m\u001b[0;34m(\u001b[0m\u001b[0mfilepath_or_buffer\u001b[0m\u001b[0;34m,\u001b[0m \u001b[0mkwds\u001b[0m\u001b[0;34m)\u001b[0m\u001b[0;34m\u001b[0m\u001b[0;34m\u001b[0m\u001b[0m\n\u001b[0m\u001b[1;32m    677\u001b[0m \u001b[0;34m\u001b[0m\u001b[0m\n\u001b[1;32m    678\u001b[0m     \u001b[0mparser_f\u001b[0m\u001b[0;34m.\u001b[0m\u001b[0m__name__\u001b[0m \u001b[0;34m=\u001b[0m \u001b[0mname\u001b[0m\u001b[0;34m\u001b[0m\u001b[0;34m\u001b[0m\u001b[0m\n",
      "\u001b[0;32m~/anaconda3/lib/python3.7/site-packages/pandas/io/parsers.py\u001b[0m in \u001b[0;36m_read\u001b[0;34m(filepath_or_buffer, kwds)\u001b[0m\n\u001b[1;32m    446\u001b[0m \u001b[0;34m\u001b[0m\u001b[0m\n\u001b[1;32m    447\u001b[0m     \u001b[0;31m# Create the parser.\u001b[0m\u001b[0;34m\u001b[0m\u001b[0;34m\u001b[0m\u001b[0;34m\u001b[0m\u001b[0m\n\u001b[0;32m--> 448\u001b[0;31m     \u001b[0mparser\u001b[0m \u001b[0;34m=\u001b[0m \u001b[0mTextFileReader\u001b[0m\u001b[0;34m(\u001b[0m\u001b[0mfp_or_buf\u001b[0m\u001b[0;34m,\u001b[0m \u001b[0;34m**\u001b[0m\u001b[0mkwds\u001b[0m\u001b[0;34m)\u001b[0m\u001b[0;34m\u001b[0m\u001b[0;34m\u001b[0m\u001b[0m\n\u001b[0m\u001b[1;32m    449\u001b[0m \u001b[0;34m\u001b[0m\u001b[0m\n\u001b[1;32m    450\u001b[0m     \u001b[0;32mif\u001b[0m \u001b[0mchunksize\u001b[0m \u001b[0;32mor\u001b[0m \u001b[0miterator\u001b[0m\u001b[0;34m:\u001b[0m\u001b[0;34m\u001b[0m\u001b[0;34m\u001b[0m\u001b[0m\n",
      "\u001b[0;32m~/anaconda3/lib/python3.7/site-packages/pandas/io/parsers.py\u001b[0m in \u001b[0;36m__init__\u001b[0;34m(self, f, engine, **kwds)\u001b[0m\n\u001b[1;32m    878\u001b[0m             \u001b[0mself\u001b[0m\u001b[0;34m.\u001b[0m\u001b[0moptions\u001b[0m\u001b[0;34m[\u001b[0m\u001b[0;34m\"has_index_names\"\u001b[0m\u001b[0;34m]\u001b[0m \u001b[0;34m=\u001b[0m \u001b[0mkwds\u001b[0m\u001b[0;34m[\u001b[0m\u001b[0;34m\"has_index_names\"\u001b[0m\u001b[0;34m]\u001b[0m\u001b[0;34m\u001b[0m\u001b[0;34m\u001b[0m\u001b[0m\n\u001b[1;32m    879\u001b[0m \u001b[0;34m\u001b[0m\u001b[0m\n\u001b[0;32m--> 880\u001b[0;31m         \u001b[0mself\u001b[0m\u001b[0;34m.\u001b[0m\u001b[0m_make_engine\u001b[0m\u001b[0;34m(\u001b[0m\u001b[0mself\u001b[0m\u001b[0;34m.\u001b[0m\u001b[0mengine\u001b[0m\u001b[0;34m)\u001b[0m\u001b[0;34m\u001b[0m\u001b[0;34m\u001b[0m\u001b[0m\n\u001b[0m\u001b[1;32m    881\u001b[0m \u001b[0;34m\u001b[0m\u001b[0m\n\u001b[1;32m    882\u001b[0m     \u001b[0;32mdef\u001b[0m \u001b[0mclose\u001b[0m\u001b[0;34m(\u001b[0m\u001b[0mself\u001b[0m\u001b[0;34m)\u001b[0m\u001b[0;34m:\u001b[0m\u001b[0;34m\u001b[0m\u001b[0;34m\u001b[0m\u001b[0m\n",
      "\u001b[0;32m~/anaconda3/lib/python3.7/site-packages/pandas/io/parsers.py\u001b[0m in \u001b[0;36m_make_engine\u001b[0;34m(self, engine)\u001b[0m\n\u001b[1;32m   1112\u001b[0m     \u001b[0;32mdef\u001b[0m \u001b[0m_make_engine\u001b[0m\u001b[0;34m(\u001b[0m\u001b[0mself\u001b[0m\u001b[0;34m,\u001b[0m \u001b[0mengine\u001b[0m\u001b[0;34m=\u001b[0m\u001b[0;34m\"c\"\u001b[0m\u001b[0;34m)\u001b[0m\u001b[0;34m:\u001b[0m\u001b[0;34m\u001b[0m\u001b[0;34m\u001b[0m\u001b[0m\n\u001b[1;32m   1113\u001b[0m         \u001b[0;32mif\u001b[0m \u001b[0mengine\u001b[0m \u001b[0;34m==\u001b[0m \u001b[0;34m\"c\"\u001b[0m\u001b[0;34m:\u001b[0m\u001b[0;34m\u001b[0m\u001b[0;34m\u001b[0m\u001b[0m\n\u001b[0;32m-> 1114\u001b[0;31m             \u001b[0mself\u001b[0m\u001b[0;34m.\u001b[0m\u001b[0m_engine\u001b[0m \u001b[0;34m=\u001b[0m \u001b[0mCParserWrapper\u001b[0m\u001b[0;34m(\u001b[0m\u001b[0mself\u001b[0m\u001b[0;34m.\u001b[0m\u001b[0mf\u001b[0m\u001b[0;34m,\u001b[0m \u001b[0;34m**\u001b[0m\u001b[0mself\u001b[0m\u001b[0;34m.\u001b[0m\u001b[0moptions\u001b[0m\u001b[0;34m)\u001b[0m\u001b[0;34m\u001b[0m\u001b[0;34m\u001b[0m\u001b[0m\n\u001b[0m\u001b[1;32m   1115\u001b[0m         \u001b[0;32melse\u001b[0m\u001b[0;34m:\u001b[0m\u001b[0;34m\u001b[0m\u001b[0;34m\u001b[0m\u001b[0m\n\u001b[1;32m   1116\u001b[0m             \u001b[0;32mif\u001b[0m \u001b[0mengine\u001b[0m \u001b[0;34m==\u001b[0m \u001b[0;34m\"python\"\u001b[0m\u001b[0;34m:\u001b[0m\u001b[0;34m\u001b[0m\u001b[0;34m\u001b[0m\u001b[0m\n",
      "\u001b[0;32m~/anaconda3/lib/python3.7/site-packages/pandas/io/parsers.py\u001b[0m in \u001b[0;36m__init__\u001b[0;34m(self, src, **kwds)\u001b[0m\n\u001b[1;32m   1889\u001b[0m         \u001b[0mkwds\u001b[0m\u001b[0;34m[\u001b[0m\u001b[0;34m\"usecols\"\u001b[0m\u001b[0;34m]\u001b[0m \u001b[0;34m=\u001b[0m \u001b[0mself\u001b[0m\u001b[0;34m.\u001b[0m\u001b[0musecols\u001b[0m\u001b[0;34m\u001b[0m\u001b[0;34m\u001b[0m\u001b[0m\n\u001b[1;32m   1890\u001b[0m \u001b[0;34m\u001b[0m\u001b[0m\n\u001b[0;32m-> 1891\u001b[0;31m         \u001b[0mself\u001b[0m\u001b[0;34m.\u001b[0m\u001b[0m_reader\u001b[0m \u001b[0;34m=\u001b[0m \u001b[0mparsers\u001b[0m\u001b[0;34m.\u001b[0m\u001b[0mTextReader\u001b[0m\u001b[0;34m(\u001b[0m\u001b[0msrc\u001b[0m\u001b[0;34m,\u001b[0m \u001b[0;34m**\u001b[0m\u001b[0mkwds\u001b[0m\u001b[0;34m)\u001b[0m\u001b[0;34m\u001b[0m\u001b[0;34m\u001b[0m\u001b[0m\n\u001b[0m\u001b[1;32m   1892\u001b[0m         \u001b[0mself\u001b[0m\u001b[0;34m.\u001b[0m\u001b[0munnamed_cols\u001b[0m \u001b[0;34m=\u001b[0m \u001b[0mself\u001b[0m\u001b[0;34m.\u001b[0m\u001b[0m_reader\u001b[0m\u001b[0;34m.\u001b[0m\u001b[0munnamed_cols\u001b[0m\u001b[0;34m\u001b[0m\u001b[0;34m\u001b[0m\u001b[0m\n\u001b[1;32m   1893\u001b[0m \u001b[0;34m\u001b[0m\u001b[0m\n",
      "\u001b[0;32mpandas/_libs/parsers.pyx\u001b[0m in \u001b[0;36mpandas._libs.parsers.TextReader.__cinit__\u001b[0;34m()\u001b[0m\n",
      "\u001b[0;32mpandas/_libs/parsers.pyx\u001b[0m in \u001b[0;36mpandas._libs.parsers.TextReader._setup_parser_source\u001b[0;34m()\u001b[0m\n",
      "\u001b[0;31mFileNotFoundError\u001b[0m: [Errno 2] File /home/XXX/Repositories/gr4sp/experiments/simulationData/VICSimDataMonthlySummary_seed_1612246526737.csv does not exist: '/home/XXX/Repositories/gr4sp/experiments/simulationData/VICSimDataMonthlySummary_seed_1612246526737.csv'"
     ]
    }
   ],
   "source": [
    "monthly_bau_results_pp_df = pd.read_csv(r'/home/XXX/Repositories/gr4sp/experiments/simulationData/VICSimDataMonthlySummary_seed_1612246526737.csv', index_col='Time (Month)')\n",
    "yearly_bau_results_pp_df = pd.read_csv(r'/home/XXX/Repositories/gr4sp/experiments/simulationData/VICSimDataYearSummary_seed_1612246526737.csv', index_col='Time (Year)')\n",
    "yearly_bau_results_pp_df.head()"
   ]
  },
  {
   "cell_type": "code",
   "execution_count": null,
   "metadata": {
    "ExecuteTime": {
     "end_time": "2021-03-17T04:25:27.442091Z",
     "start_time": "2021-03-17T04:25:14.282Z"
    }
   },
   "outputs": [],
   "source": [
    "plt.figure(figsize=(18,10))\n",
    "yearly_dates = [DT.datetime.strptime(str(int(date)),'%Y') for date in yearly_bau_results_pp_df.index]\n",
    "data=yearly_bau_results_pp_df\n",
    "plt.plot( yearly_dates,data['Consumption (KWh) per household'], marker='o', markerfacecolor='lightblue', markersize=8, color='lightblue', linewidth=4, label='Consumption per household (KWh) - Simulation')\n",
    "\n",
    "plt.xlabel('Year', size=16)\n",
    "plt.ylabel('Consumption (KWh) per household', size=16)\n",
    "plt.xticks(size = 14)\n",
    "plt.yticks(size = 14)\n",
    "plt.legend(prop={'size':16})"
   ]
  },
  {
   "cell_type": "code",
   "execution_count": null,
   "metadata": {
    "ExecuteTime": {
     "end_time": "2021-03-17T04:25:27.443080Z",
     "start_time": "2021-03-17T04:25:14.286Z"
    }
   },
   "outputs": [],
   "source": [
    "numyears=18\n",
    "plt.figure(figsize=(16,8))\n",
    "yearly_dates = [DT.datetime.strptime(str(int(date)),'%Y') for date in yearly_bau_results_pp_df.index]\n",
    "years = [DT.datetime.strptime(str(int(date)),'%Y') for date in number_of_households_abs.index[:numyears]]\n",
    "data=yearly_bau_results_pp_df[:numyears]\n",
    "number_of_households_abs\n",
    "plt.plot( yearly_dates,data['Number of Domestic Consumers (households)'], color='red', linewidth=3, label='Simulation (Mapping)')\n",
    "plt.plot( years, number_of_households_abs[\"No_householdsABS\"][:numyears], markerfacecolor='green',  color='green', linewidth=3, label='Historic (Census data)')\n",
    "\n",
    "plt.xlabel('Year', size=16)\n",
    "plt.ylabel('Number of households', size=16)\n",
    "plt.xticks(size = 14)\n",
    "plt.yticks(size = 14)\n",
    "plt.legend(prop={'size':16})"
   ]
  },
  {
   "cell_type": "code",
   "execution_count": null,
   "metadata": {
    "ExecuteTime": {
     "end_time": "2021-03-17T04:25:27.443080Z",
     "start_time": "2021-03-17T04:25:14.291Z"
    }
   },
   "outputs": [],
   "source": [
    "# total consumption in Victoria: the percentage of residential consumption was minimal at the beggining of the period,\n",
    "# but increased slowly. \n",
    "#Assuming that the only households with electricity consumed 20% of the total electricity, the total consumption in Vic:\n",
    "\n",
    "domesticConsumptionPercentage = 0.3\n",
    "data_consumption_total = ((data['Consumption (KWh) per household'] * data['Number of Domestic Consumers (households)']) / 1000000.0 )/domesticConsumptionPercentage\n",
    "\n"
   ]
  },
  {
   "cell_type": "code",
   "execution_count": null,
   "metadata": {
    "ExecuteTime": {
     "end_time": "2021-03-17T04:25:27.443080Z",
     "start_time": "2021-03-17T04:25:14.295Z"
    },
    "scrolled": true
   },
   "outputs": [],
   "source": [
    "plt.figure(figsize=(18,10))\n",
    "yearly_dates = [DT.datetime.strptime(str(int(date)),'%Y') for date in yearly_bau_results_pp_df.index]\n",
    "data=yearly_bau_results_pp_df\n",
    "plt.plot( yearly_dates,data_consumption_total, marker='o', markerfacecolor='lightblue', markersize=8, color='lightblue', linewidth=4, label='Consumption All Victoria (GWh) - Simulation (STLM)')\n",
    "\n",
    "plt.xlabel('Year', size=16)\n",
    "plt.ylabel('GWh', size = 16)\n",
    "plt.xticks(size = 14)\n",
    "plt.yticks(size = 14)\n",
    "plt.legend(prop={'size':16})"
   ]
  },
  {
   "cell_type": "code",
   "execution_count": null,
   "metadata": {
    "ExecuteTime": {
     "end_time": "2021-03-17T04:25:27.444564Z",
     "start_time": "2021-03-17T04:25:14.299Z"
    }
   },
   "outputs": [],
   "source": [
    "plt.figure(figsize=(18,10))\n",
    "yearly_dates = [DT.datetime.strptime(str(int(date)),'%Y') for date in yearly_bau_results_pp_df.index]\n",
    "data=yearly_bau_results_pp_df\n",
    "plt.plot( yearly_dates, data['Avg Tariff (c/KWh) per household'], marker='o', markerfacecolor='lightblue', markersize=8, color='lightblue', linewidth=4, label='Avg Tariff (c/KWh) per household - Simulation (STLM)')\n",
    "\n",
    "\n",
    "plt.xlabel('Year', size=16)\n",
    "plt.ylabel('c/KWh', size=16)\n",
    "plt.xticks(size = 14)\n",
    "plt.yticks(size = 14)\n",
    "plt.legend(prop={'size':16})"
   ]
  },
  {
   "cell_type": "code",
   "execution_count": null,
   "metadata": {
    "ExecuteTime": {
     "end_time": "2021-03-17T04:25:27.445557Z",
     "start_time": "2021-03-17T04:25:14.304Z"
    }
   },
   "outputs": [],
   "source": [
    "plt.figure(figsize=(18,10))\n",
    "yearly_dates = [DT.datetime.strptime(str(int(date)),'%Y') for date in yearly_bau_results_pp_df.index]\n",
    "data=yearly_bau_results_pp_df\n",
    "plt.plot( yearly_dates, data['GHG Emissions (tCO2-e) per household'], marker='o', markerfacecolor='lightblue', markersize=8, color='lightblue', linewidth=4, label='Emissions per household (tCO2e) - Simulation (STLM+CSI)')\n",
    "\n",
    "plt.xlabel('Year', size=16)\n",
    "plt.ylabel('tCO2e per household', size=16)\n",
    "plt.xticks(size = 14)\n",
    "plt.yticks(size = 14)\n",
    "plt.legend(prop={'size':16})"
   ]
  },
  {
   "cell_type": "code",
   "execution_count": null,
   "metadata": {
    "ExecuteTime": {
     "end_time": "2021-03-17T04:25:27.445557Z",
     "start_time": "2021-03-17T04:25:14.308Z"
    }
   },
   "outputs": [],
   "source": [
    "# total GHGE in Victoria\n",
    "\n",
    "data_GHG_residential = (data['GHG Emissions (tCO2-e) per household'] * data['Number of Domestic Consumers (households)']) / 1000000.0\n",
    "data_GHG_total = data_GHG_residential / domesticConsumptionPercentage\n"
   ]
  },
  {
   "cell_type": "code",
   "execution_count": null,
   "metadata": {
    "ExecuteTime": {
     "end_time": "2021-03-17T04:25:27.446554Z",
     "start_time": "2021-03-17T04:25:14.312Z"
    }
   },
   "outputs": [],
   "source": [
    "plt.figure(figsize=(18,10))\n",
    "yearly_dates = [DT.datetime.strptime(str(int(date)),'%Y') for date in yearly_bau_results_pp_df.index]\n",
    "data=yearly_bau_results_pp_df\n",
    "plt.plot( yearly_dates, data_GHG_total, marker='o', markerfacecolor='lightblue', markersize=8, color='lightblue', linewidth=4, label='Total emissions Victoria - Simulation (STLM+CSI)')\n",
    "\n",
    "plt.xlabel('Year',size=16)\n",
    "plt.ylabel('MtCO2e', size=16)\n",
    "plt.xticks(size = 14)\n",
    "plt.yticks(size = 14)\n",
    "plt.legend(prop={'size':16})"
   ]
  },
  {
   "cell_type": "code",
   "execution_count": null,
   "metadata": {
    "ExecuteTime": {
     "end_time": "2021-03-17T04:25:27.448547Z",
     "start_time": "2021-03-17T04:25:14.316Z"
    }
   },
   "outputs": [],
   "source": [
    "## Historic emissions per capita in Australia. (source: https://ourworldindata.org/co2/country/australia?country=~AUS)\n",
    "## Emissions reported in this link correspond to fossil fuel used for energy and cement production. Land use emissions are excluded.\n",
    "historic_emissions_aus = pd.read_csv(r'/home/XXX/Repositories/gr4sp/experiments/simulationData/co-emissions-per-capita-australia.csv', index_col='Year')\n",
    "historic_emissions_aus.head(10)"
   ]
  },
  {
   "cell_type": "code",
   "execution_count": null,
   "metadata": {
    "ExecuteTime": {
     "end_time": "2021-03-17T04:25:27.449547Z",
     "start_time": "2021-03-17T04:25:14.319Z"
    }
   },
   "outputs": [],
   "source": [
    "## Population in Australia and victoria historic (ABS source)\n",
    "## on average, the population of VIctoria has been 27% of the total population in Australia\n",
    "\n",
    "aus_vic_historic_population = pd.read_csv(r'/home/XXX/Repositories/gr4sp/experiments/simulationData/population-aus-vic.csv', index_col='Time(year)')\n",
    "aus_vic_historic_population.head()"
   ]
  },
  {
   "cell_type": "code",
   "execution_count": null,
   "metadata": {
    "ExecuteTime": {
     "end_time": "2021-03-17T04:25:27.449547Z",
     "start_time": "2021-03-17T04:25:14.323Z"
    },
    "scrolled": true
   },
   "outputs": [],
   "source": [
    "hist_co2_df = historic_emissions_aus.iloc[51:-14]\n",
    "concat_aus_emissions_vicpop =  pd.concat([aus_vic_historic_population['Population Victoria'], hist_co2_df['Per capita CO2 emissions']], axis=1)\n",
    "concat_aus_emissions_vicpop.tail()"
   ]
  },
  {
   "cell_type": "code",
   "execution_count": null,
   "metadata": {
    "ExecuteTime": {
     "end_time": "2021-03-17T04:25:27.450544Z",
     "start_time": "2021-03-17T04:25:14.327Z"
    }
   },
   "outputs": [],
   "source": [
    "hist_vic = (concat_aus_emissions_vicpop['Per capita CO2 emissions'] * concat_aus_emissions_vicpop['Population Victoria']) / 1000000.0\n",
    "hist_vic.head()"
   ]
  },
  {
   "cell_type": "code",
   "execution_count": null,
   "metadata": {
    "ExecuteTime": {
     "end_time": "2021-03-17T04:25:27.451541Z",
     "start_time": "2021-03-17T04:25:14.331Z"
    }
   },
   "outputs": [],
   "source": [
    "# total GHGE in Victoria\n",
    "\n",
    "data_GHG_residential = (data['GHG Emissions (tCO2-e) per household'] * data['Number of Domestic Consumers (households)']) / 1000000.0\n",
    "data_GHG_total = data_GHG_residential / domesticConsumptionPercentage\n",
    "numyears=18\n",
    "plt.figure(figsize=(18,10))\n",
    "yearly_dates = [DT.datetime.strptime(str(int(date)),'%Y') for date in yearly_bau_results_pp_df.index]\n",
    "hist_vic_dates_iregime=[DT.datetime.strptime(str(int(date)),'%Y') for date in hist_vic.index[:numyears]]\n",
    "\n",
    "data=yearly_bau_results_pp_df\n",
    "\n",
    "plt.plot( yearly_dates, data_GHG_total, marker='o', markerfacecolor='lightblue', color='lightblue', linewidth=4, label='Total emissions Victoria - Simulation')\n",
    "plt.plot( hist_vic_dates_iregime, hist_vic[:numyears],marker='o', markerfacecolor='darkgoldenrod', color='burlywood', linewidth=4, label='Total emissions Victoria - Historic')\n",
    "\n",
    "plt.xlabel('Year',size=16)\n",
    "plt.ylabel('MtCO2e', size=16)\n",
    "plt.xticks(size = 14)\n",
    "plt.yticks(size = 14)\n",
    "plt.legend(prop={'size':16})"
   ]
  },
  {
   "cell_type": "code",
   "execution_count": null,
   "metadata": {
    "ExecuteTime": {
     "end_time": "2021-03-17T04:25:27.452539Z",
     "start_time": "2021-03-17T04:25:14.334Z"
    }
   },
   "outputs": [],
   "source": [
    "# Metropolitan tariffs VS tariffs outside melbourne\n"
   ]
  },
  {
   "cell_type": "markdown",
   "metadata": {},
   "source": [
    "# Verification and Validation Second Phase: Public regime\n",
    "\n",
    "The second phase of the electricity system in Victoria started in 1920, when the State Electricity Commision (SECV) is created. SECV is a public corporation that had the monopoly of all the activities related to the generation and supply of electricity. After a process of corporatisation and privatisation, its responsibilities for the whole sector ceased at the end of 1994. There is limited data in some parts of this period of analysis. Filling the gaps with some interpolations and informed assumptions, data on tariffs, generation information (fuel, technology type, nameplate capacities, etc), demand, and population was gathered. With this data, tariffs adjusted for 2019 CPI can be visualised from 1920 until 1994. As well as GHGE are quantified in the model from 1926 to 1994. \n",
    "The following cells show results the results."
   ]
  },
  {
   "cell_type": "code",
   "execution_count": null,
   "metadata": {
    "ExecuteTime": {
     "end_time": "2021-03-17T04:25:27.453233Z",
     "start_time": "2021-03-17T04:25:14.339Z"
    }
   },
   "outputs": [],
   "source": [
    "monthly_bau_results_public_df = pd.read_csv(r'/home/XXX/Repositories/gr4sp/experiments/simulationData/VICSimDataMonthlySummary_seed_1606309206720.csv', index_col='Time (Month)')\n",
    "yearly_bau_results_public_df = pd.read_csv(r'/home/XXX/Repositories/gr4sp/experiments/simulationData/VICSimDataYearSummary_seed_1606309206720.csv', index_col='Time (Year)')\n",
    "yearly_bau_results_public_df.head()"
   ]
  },
  {
   "cell_type": "code",
   "execution_count": null,
   "metadata": {
    "ExecuteTime": {
     "end_time": "2021-03-17T04:25:27.454217Z",
     "start_time": "2021-03-17T04:25:14.343Z"
    },
    "scrolled": true
   },
   "outputs": [],
   "source": [
    "startYear_idx=18\n",
    "endYear_idx = 93\n",
    "plt.figure(figsize=(18,10))\n",
    "yearly_dates = [DT.datetime.strptime(str(int(date)),'%Y') for date in yearly_bau_results_public_df.index]\n",
    "years = [DT.datetime.strptime(str(int(date)),'%Y') for date in number_of_households_abs.index[startYear_idx:endYear_idx]]\n",
    "data=yearly_bau_results_public_df[:]\n",
    "number_of_households_abs\n",
    "plt.plot( yearly_dates,data['Number of Domestic Consumers (households)'], marker='o', markerfacecolor='lightblue', markersize=8, color='lightblue', linewidth=4, label='Number of Domestic Consumers (households) - Simulation')\n",
    "plt.plot( years, number_of_households_abs[\"No_householdsABS\"][startYear_idx:endYear_idx], marker='o', markerfacecolor='darkgoldenrod', markersize=8, color='burlywood', linewidth=4, label='Number of households census data - Historic')\n",
    "\n",
    "plt.xlabel('Year', size = 16)\n",
    "plt.ylabel('Number of Domestic Consumers (households)', size = 16)\n",
    "plt.xticks(size = 14)\n",
    "plt.yticks(size = 14)\n",
    "plt.legend(prop={'size':16})"
   ]
  },
  {
   "cell_type": "code",
   "execution_count": null,
   "metadata": {
    "ExecuteTime": {
     "end_time": "2021-03-17T04:25:27.455214Z",
     "start_time": "2021-03-17T04:25:14.346Z"
    },
    "scrolled": true
   },
   "outputs": [],
   "source": [
    "plt.figure(figsize=(18,10))\n",
    "yearly_dates = [DT.datetime.strptime(str(int(date)),'%Y') for date in yearly_bau_results_public_df.index]\n",
    "data=yearly_bau_results_public_df\n",
    "plt.plot( yearly_dates, data['Avg Tariff (c/KWh) per household'], marker='o', markerfacecolor='lightblue', markersize=8, color='lightblue', linewidth=4, label='Avg Tariff (c/KWh) per household - Simulation (STLM)')\n",
    "\n",
    "\n",
    "plt.xlabel('Year', size=16)\n",
    "plt.ylabel('c/KWh', size=16)\n",
    "plt.xticks(size = 14)\n",
    "plt.yticks(size = 14)\n",
    "plt.legend(prop={'size':16})"
   ]
  },
  {
   "cell_type": "code",
   "execution_count": null,
   "metadata": {
    "ExecuteTime": {
     "end_time": "2021-03-17T04:25:27.456212Z",
     "start_time": "2021-03-17T04:25:14.350Z"
    }
   },
   "outputs": [],
   "source": [
    "# total consumption in Victoria\n",
    "domesticConsumptionPercentage = 0.3\n",
    "data_consumption_total = (data['Consumption (KWh) per household'] * data['Number of Domestic Consumers (households)']) / 1000000.0 /domesticConsumptionPercentage\n"
   ]
  },
  {
   "cell_type": "code",
   "execution_count": null,
   "metadata": {
    "ExecuteTime": {
     "end_time": "2021-03-17T04:25:27.457209Z",
     "start_time": "2021-03-17T04:25:14.354Z"
    }
   },
   "outputs": [],
   "source": [
    "plt.figure(figsize=(18,10))\n",
    "yearly_dates = [DT.datetime.strptime(str(int(date)),'%Y') for date in yearly_bau_results_public_df.index]\n",
    "data=yearly_bau_results_public_df\n",
    "plt.plot( yearly_dates,data_consumption_total, marker='o', markerfacecolor='lightblue', markersize=8, color='lightblue', linewidth=4, label='Consumption All Victoria (GWh) - Simulation (STLM)')\n",
    "\n",
    "plt.xlabel('Year',size=16)\n",
    "plt.ylabel('GWh', size=16)\n",
    "plt.xticks(size = 14)\n",
    "plt.yticks(size = 14)\n",
    "plt.legend(prop={'size':16})\n"
   ]
  },
  {
   "cell_type": "code",
   "execution_count": null,
   "metadata": {
    "ExecuteTime": {
     "end_time": "2021-03-17T04:25:27.458206Z",
     "start_time": "2021-03-17T04:25:14.359Z"
    }
   },
   "outputs": [],
   "source": [
    "plt.figure(figsize=(18,10))\n",
    "yearly_dates = [DT.datetime.strptime(str(int(date)),'%Y') for date in yearly_bau_results_public_df.index]\n",
    "data=yearly_bau_results_public_df\n",
    "plt.plot( yearly_dates, data['Consumption (KWh) per household'], marker='o', markerfacecolor='lightgreen', markersize=6, color='green', linewidth=4, label='Consumption per household (KWh) - Simulation (STLM)')\n",
    "\n",
    "plt.xlabel('Year', size=16)\n",
    "plt.ylabel('KWh per household', size=16)\n",
    "plt.xticks(size = 14)\n",
    "plt.yticks(size = 14)\n",
    "plt.legend(prop={'size':16})"
   ]
  },
  {
   "cell_type": "code",
   "execution_count": null,
   "metadata": {
    "ExecuteTime": {
     "end_time": "2021-03-17T04:25:27.459204Z",
     "start_time": "2021-03-17T04:25:14.362Z"
    }
   },
   "outputs": [],
   "source": [
    "\n",
    "plt.figure(figsize=(18,10))\n",
    "yearly_dates = [DT.datetime.strptime(str(int(date)),'%Y') for date in yearly_bau_results_public_df.index]\n",
    "\n",
    "data=yearly_bau_results_public_df\n",
    "plt.plot( yearly_dates, data['GHG Emissions (tCO2-e) per household'], marker='o', markerfacecolor='lightblue', markersize=8, color='lightblue', linewidth=4, label='GHGE per household (tCO2-e) - Simulation (STLM+CSI)')\n",
    "\n",
    "\n",
    "plt.xlabel('Year', size=16)\n",
    "plt.ylabel('tCO2e per household', size=16)\n",
    "plt.xticks(size = 14)\n",
    "plt.yticks(size = 14)\n",
    "plt.legend(prop={'size':16})"
   ]
  },
  {
   "cell_type": "code",
   "execution_count": null,
   "metadata": {
    "ExecuteTime": {
     "end_time": "2021-03-17T04:25:27.460201Z",
     "start_time": "2021-03-17T04:25:14.366Z"
    }
   },
   "outputs": [],
   "source": [
    "# total GHGE in Victoria\n",
    "data_GHG_residential = (data['GHG Emissions (tCO2-e) per household'] * data['Number of Domestic Consumers (households)']) / 1000000.0\n",
    "data_GHG_total = data_GHG_residential / domesticConsumptionPercentage\n",
    "\n",
    "numyears=18\n",
    "plt.figure(figsize=(18,10))\n",
    "yearly_dates = [DT.datetime.strptime(str(int(date)),'%Y') for date in yearly_bau_results_public_df.index]\n",
    "hist_vic_dates_iiregime=[DT.datetime.strptime(str(int(date)),'%Y') for date in hist_vic.index[numyears:-10]]\n",
    "\n",
    "data=yearly_bau_results_public_df\n",
    "\n",
    "plt.plot( yearly_dates, data_GHG_total, color='lightblue', linewidth=4, label='Total GHGE Victoria (MtCO2e) - Simulated (STLM+CSI)')\n",
    "plt.plot( hist_vic_dates_iiregime, hist_vic[numyears:-10], color='burlywood', linewidth=4, label='Total emissions Victoria - Historic')\n",
    "\n",
    "plt.xlabel('Year', size=16)\n",
    "plt.ylabel('MtCO2e', size=16)\n",
    "plt.xticks(size = 14)\n",
    "plt.yticks(size = 14)\n",
    "plt.legend(prop={'size':16})\n",
    "\n"
   ]
  },
  {
   "cell_type": "markdown",
   "metadata": {},
   "source": [
    "# Verification First two Regimes"
   ]
  },
  {
   "cell_type": "code",
   "execution_count": null,
   "metadata": {
    "ExecuteTime": {
     "end_time": "2021-03-17T04:25:27.460201Z",
     "start_time": "2021-03-17T04:25:14.370Z"
    }
   },
   "outputs": [],
   "source": [
    "#Number of housheolds using ABS and other census data. Interpolation was used between years without available data.\n",
    "number_of_households_abs = pd.read_csv(r'/home/XXX/Repositories/gr4sp/experiments/simulationData/numberOfHouseholdsABS.csv', index_col='Year')\n",
    "number_of_households_abs.head()\n"
   ]
  },
  {
   "cell_type": "code",
   "execution_count": null,
   "metadata": {
    "ExecuteTime": {
     "end_time": "2021-03-17T04:25:27.461198Z",
     "start_time": "2021-03-17T04:25:14.375Z"
    },
    "scrolled": true
   },
   "outputs": [],
   "source": [
    "monthly_bau_results_pp_df = pd.read_csv(r'/home/XXX/Repositories/gr4sp/experiments/simulationData/VICSimDataMonthlySummary_seed_1615891480146.csv', index_col='Time (Month)')\n",
    "yearly_bau_results_pp_df = pd.read_csv(r'/home/XXX/Repositories/gr4sp/experiments/simulationData/VICSimDataYearSummary_seed_1615891480146.csv', index_col='Time (Year)')\n",
    "yearly_bau_results_pp_df.head()"
   ]
  },
  {
   "cell_type": "markdown",
   "metadata": {},
   "source": [
    "## Consumption in Victoria"
   ]
  },
  {
   "cell_type": "code",
   "execution_count": null,
   "metadata": {
    "ExecuteTime": {
     "end_time": "2021-03-17T04:25:27.462196Z",
     "start_time": "2021-03-17T04:25:14.379Z"
    }
   },
   "outputs": [],
   "source": [
    "# total consumption in Victoria: the percentage of residential consumption was minimal at the beggining of the period,\n",
    "# but increased slowly. \n",
    "#Assuming that the only households with electricity consumed 20% of the total electricity, the total consumption in Vic:\n",
    "\n",
    "domesticConsumptionPercentage = 0.2\n",
    "data_consumption_total = ((data['Consumption (KWh) per household'] * data['Number of Domestic Consumers (households)']) / 1000000.0 )/domesticConsumptionPercentage\n",
    "\n"
   ]
  },
  {
   "cell_type": "code",
   "execution_count": null,
   "metadata": {
    "ExecuteTime": {
     "end_time": "2021-03-17T04:25:27.463193Z",
     "start_time": "2021-03-17T04:25:14.383Z"
    }
   },
   "outputs": [],
   "source": [
    "plt.figure(figsize=(18,10))\n",
    "\n",
    "yearly_dates = [DT.datetime.strptime(str(int(date)),'%Y') for date in yearly_bau_results_pp_df.index]\n",
    "data=yearly_bau_results_pp_df\n",
    "\n",
    "plt.plot( yearly_dates, data_consumption_total, markersize=6, color='red', linewidth=3, label='Consumption All Victoria (GWh) - Simulation (mapping)')\n",
    "\n",
    "plt.xlabel('Year', size=16)\n",
    "plt.ylabel('GWh', size = 16)\n",
    "\n",
    "plt.xticks(size = 14)\n",
    "plt.yticks(size = 14)\n",
    "\n",
    "plt.axvline('1911', 0,1, linewidth=180, color='gray',alpha=0.1)\n",
    "plt.axvline('1995', 0,1, linewidth=1490, color='gray',alpha=0.3)\n",
    "\n",
    "plt.legend(prop={'size':16})"
   ]
  },
  {
   "cell_type": "code",
   "execution_count": null,
   "metadata": {
    "ExecuteTime": {
     "end_time": "2021-03-17T04:25:27.465186Z",
     "start_time": "2021-03-17T04:25:14.387Z"
    }
   },
   "outputs": [],
   "source": [
    "plt.figure(figsize=(18,10))\n",
    "yearly_dates = [DT.datetime.strptime(str(int(date)),'%Y') for date in yearly_bau_results_pp_df.index]\n",
    "data=yearly_bau_results_pp_df\n",
    "plt.plot( yearly_dates, data['Consumption (KWh) per household'],  markersize=6, color='red', linewidth=4, label='Consumption per household (KWh) - Simulation (Mapping)')\n",
    "\n",
    "plt.xlabel('Year', size=16)\n",
    "plt.ylabel('KWh per household', size=16)\n",
    "plt.xticks(size = 14)\n",
    "plt.yticks(size = 14)\n",
    "\n",
    "plt.legend(prop={'size':16})\n",
    "\n",
    "plt.axvline('1911', 0,1, linewidth=180, color='gray',alpha=0.1)\n",
    "plt.axvline('1995', 0,1, linewidth=1490, color='gray',alpha=0.3)"
   ]
  },
  {
   "cell_type": "markdown",
   "metadata": {},
   "source": [
    "## GHGE"
   ]
  },
  {
   "cell_type": "markdown",
   "metadata": {},
   "source": [
    "### Simulated GHGE"
   ]
  },
  {
   "cell_type": "code",
   "execution_count": null,
   "metadata": {
    "ExecuteTime": {
     "end_time": "2021-03-17T04:25:27.466185Z",
     "start_time": "2021-03-17T04:25:14.392Z"
    }
   },
   "outputs": [],
   "source": [
    "# total GHGE in Victoria\n",
    "#TODO: change domestic consumption percentage in second regime, as this sector's consumption increase. \n",
    "# Assumption on domestic consumption 20% in first regime and 30% in second\n",
    "domesticConsumptionPercentage = 0.2\n",
    "\n",
    "data_GHG_residential = (data['GHG Emissions (tCO2-e) per household'] * data['Number of Domestic Consumers (households)']) / 1000000.0\n",
    "data_GHG_total = data_GHG_residential / domesticConsumptionPercentage\n",
    "#Select the number of years from the historical data to compare with the simulation years\n",
    "cutFirtsyears=0\n",
    "cutLastyears=-10\n",
    "\n",
    "plt.figure(figsize=(18,10))\n",
    "yearly_dates = [DT.datetime.strptime(str(int(date)),'%Y') for date in yearly_bau_results_pp_df.index]\n",
    "hist_vic_dates_twoRegimes=[DT.datetime.strptime(str(int(date)),'%Y') for date in hist_vic.index[cutFirtsyears:cutLastyears]]\n",
    "\n",
    "plt.plot( yearly_dates, data_GHG_total, color='red', linewidth=4, label='Total GHGE Victoria (MtCO2e) - Simulated')\n",
    "#plt.plot( hist_vic_dates_twoRegimes, hist_vic[cutFirtsyears:cutLastyears].values, color='green', linewidth=4, label='Total emissions Victoria - Historic')\n",
    "\n",
    "plt.xlabel('Year', size=16)\n",
    "plt.ylabel('MtCO2e', size=16)\n",
    "plt.xticks(size = 14)\n",
    "plt.yticks(size = 14)\n",
    "\n",
    "plt.axvline('1911', 0,1, linewidth=180, color='gray',alpha=0.1)\n",
    "plt.axvline('1995', 0,1, linewidth=1490, color='gray',alpha=0.3)\n",
    "plt.legend(prop={'size':16})\n"
   ]
  },
  {
   "cell_type": "markdown",
   "metadata": {},
   "source": [
    "### Comparison of historical sources"
   ]
  },
  {
   "cell_type": "code",
   "execution_count": null,
   "metadata": {
    "ExecuteTime": {
     "end_time": "2021-03-17T04:25:27.466185Z",
     "start_time": "2021-03-17T04:25:14.397Z"
    }
   },
   "outputs": [],
   "source": [
    "#A CSV is built based on the information available in these sources (https://www.climatechange.vic.gov.au/information-and-resources/greenhouse-gas-emissions-in-victoria)\n",
    "historic_emissions_VicGov = pd.read_csv(r'/home/XXX/Repositories/gr4sp/experiments/simulationData/19902018_historic_emissions_Vic.csv', index_col='Time (Year)')\n",
    "## Historic emissions per capita in Australia. (source: https://ourworldindata.org/co2/country/australia?country=~AUS)\n",
    "## Emissions reported in this link correspond to fossil fuel burned for energy and cement production. Land use emissions are excluded.\n",
    "historic_emissions_aus = pd.read_csv(r'/home/XXX/Repositories/gr4sp/experiments/simulationData/co-emissions-per-capita-australia.csv', index_col='Year')\n",
    "historic_emissions_aus.head(2)"
   ]
  },
  {
   "cell_type": "code",
   "execution_count": null,
   "metadata": {
    "ExecuteTime": {
     "end_time": "2021-03-17T04:25:27.468177Z",
     "start_time": "2021-03-17T04:25:14.400Z"
    }
   },
   "outputs": [],
   "source": [
    "## Population in Australia and victoria historic (https://www.abs.gov.au/statistics/people/population/historical-population/latest-release#data-download)\n",
    "## on average, the population of VIctoria has been 27% of the total population in Australia\n",
    "aus_vic_historic_population = pd.read_csv(r'/home/XXX/Repositories/gr4sp/experiments/simulationData/population-aus-vic.csv', index_col='Time(year)')\n",
    "aus_vic_historic_population.tail()"
   ]
  },
  {
   "cell_type": "code",
   "execution_count": null,
   "metadata": {
    "ExecuteTime": {
     "end_time": "2021-03-17T04:25:27.469178Z",
     "start_time": "2021-03-17T04:25:14.405Z"
    }
   },
   "outputs": [],
   "source": [
    "hist_co2_df = historic_emissions_aus.iloc[50:-1]\n",
    "concat_aus_emissions_vicpop =  pd.concat([aus_vic_historic_population['Population Victoria'], hist_co2_df['Per capita CO2 emissions']], axis=1)\n",
    "concat_aus_emissions_vicpop.tail()\n",
    "hist_vic_owd = (concat_aus_emissions_vicpop['Per capita CO2 emissions'] * concat_aus_emissions_vicpop['Population Victoria']) / 1000000.0\n",
    "hist_vic_owd.head()\n"
   ]
  },
  {
   "cell_type": "code",
   "execution_count": null,
   "metadata": {
    "ExecuteTime": {
     "end_time": "2021-03-17T04:25:27.470175Z",
     "start_time": "2021-03-17T04:25:14.409Z"
    }
   },
   "outputs": [],
   "source": [
    "# Comparison of historical sources\n",
    "#Select the number of years from the historical data to compare with the simulation years\n",
    "cutFirtsyears=89\n",
    "cutLastyears=0\n",
    "\n",
    "plt.figure(figsize=(18,10))\n",
    "yearly_dates_VicGov = [DT.datetime.strptime(str(int(date)),'%Y') for date in historic_emissions_VicGov.index]\n",
    "hist_vic_dates_owd=[DT.datetime.strptime(str(int(date)),'%Y') for date in hist_vic_owd.index[cutFirtsyears:]]\n",
    "\n",
    "plt.plot( yearly_dates_VicGov, historic_emissions_VicGov, color='red', linewidth=4, label='Total GHGE Victoria Energy (MtCO2e) - Historic Vic Gov.')\n",
    "plt.plot( hist_vic_dates_owd, hist_vic_owd[cutFirtsyears:].values, color='green', linewidth=4, label='Total Carbon Emissions Victoria (MtCO2) - Historic OWD')\n",
    "\n",
    "plt.xlabel('Year', size=16)\n",
    "plt.ylabel('MtCO2e', size=16)\n",
    "plt.xticks(size = 14)\n",
    "plt.yticks(size = 14)\n",
    "plt.legend(prop={'size':16})\n"
   ]
  },
  {
   "cell_type": "markdown",
   "metadata": {},
   "source": [
    "## Tariffs"
   ]
  },
  {
   "cell_type": "code",
   "execution_count": null,
   "metadata": {
    "ExecuteTime": {
     "end_time": "2021-03-17T04:25:27.472170Z",
     "start_time": "2021-03-17T04:25:14.413Z"
    }
   },
   "outputs": [],
   "source": [
    "# Load simulation selecting min and max tariffs in the settings\n",
    "\n",
    "# min tariffs\n",
    "monthly_bau_results_minTariffs_df = pd.read_csv(r'/home/XXX/Repositories/gr4sp/experiments/simulationData/VICSimDataMonthlySummary_seed_bauMinTariff.csv', index_col='Time (Month)')\n",
    "yearly_bau_results_minTariffs_df = pd.read_csv(r'/home/XXX/Repositories/gr4sp/experiments/simulationData/VICSimDataYearSummary_seed_bauMinTariff.csv', index_col='Time (Year)')\n",
    "\n",
    "# max tariffs\n",
    "monthly_bau_results_maxTariffs_df = pd.read_csv(r'/home/XXX/Repositories/gr4sp/experiments/simulationData/VICSimDataMonthlySummary_seed_bauMaxTariff.csv', index_col='Time (Month)')\n",
    "yearly_bau_results_maxTariffs_df = pd.read_csv(r'/home/XXX/Repositories/gr4sp/experiments/simulationData/VICSimDataYearSummary_seed_bauMaxTarif.csv', index_col='Time (Year)')\n",
    "\n"
   ]
  },
  {
   "cell_type": "code",
   "execution_count": null,
   "metadata": {
    "ExecuteTime": {
     "end_time": "2021-03-17T04:25:27.473167Z",
     "start_time": "2021-03-17T04:25:14.417Z"
    }
   },
   "outputs": [],
   "source": [
    "plt.figure(figsize=(18,10))\n",
    "yearly_dates = [DT.datetime.strptime(str(int(date)),'%Y') for date in yearly_bau_results_pp_df.index]\n",
    "\n",
    "data=yearly_bau_results_pp_df\n",
    "dataMin = yearly_bau_results_minTariffs_df\n",
    "dataMax = yearly_bau_results_maxTariffs_df\n",
    "\n",
    "plt.plot( yearly_dates, data['Avg Tariff (c/KWh) per household'], markersize=8, color='red', linewidth=4, label='Avg Tariff (c/KWh) per household - Simulation (Mapping)')\n",
    "#plt.plot( yearly_dates, dataMin['Avg Tariff (c/KWh) per household'], markersize=8, color='green', linewidth=4, label='Min Tariff (c/KWh) per household - Simulation (Mapping)')\n",
    "#plt.plot( yearly_dates, dataMax['Avg Tariff (c/KWh) per household'], markersize=8, color='green', linewidth=4, label='Max Tariff (c/KWh) per household - Simulation (Mapping)')\n",
    "\n",
    "\n",
    "plt.xlabel('Year', size=16)\n",
    "plt.ylabel('c/KWh', size=16)\n",
    "\n",
    "plt.xticks(size = 14)\n",
    "plt.yticks(size = 14)\n",
    "\n",
    "plt.axvline('1911', 0,1, linewidth=180, color='gray',alpha=0.1)\n",
    "plt.axvline('1927', 0,1, linewidth=4, color='darkblue',alpha=0.5)\n",
    "plt.text('1920', 400, f'Two-part \\ntariff', color='blue', fontsize = 16)\n",
    "plt.text('1934', 400, f'Impact \\nGreat Depresion', color='green', fontsize = 16)\n",
    "\n",
    "plt.axvline('1930.7', 0,1, linewidth=50, color='green',alpha=0.3)\n",
    "plt.axvline('1995', 0,1, linewidth=1490, color='gray',alpha=0.3)\n",
    "\n",
    "plt.legend(prop={'size':16})"
   ]
  },
  {
   "cell_type": "code",
   "execution_count": null,
   "metadata": {
    "ExecuteTime": {
     "end_time": "2021-03-17T04:25:27.475162Z",
     "start_time": "2021-03-17T04:25:14.422Z"
    }
   },
   "outputs": [],
   "source": [
    "tariffs_Database = pd.read_csv(r'/home/XXX/Repositories/gr4sp/experiments/simulationData/gr4spdb_public_tariffshistoric.csv', index_col='date')\n",
    "\n",
    "tariffs_Database.sort_values(by=['date'], inplace=True)\n",
    "tariffs_Database.head()"
   ]
  },
  {
   "cell_type": "code",
   "execution_count": null,
   "metadata": {
    "ExecuteTime": {
     "end_time": "2021-03-17T04:25:27.476160Z",
     "start_time": "2021-03-17T04:25:14.427Z"
    }
   },
   "outputs": [],
   "source": [
    "import plotly.express as px\n",
    "yearly_dates_tariffs = pd.to_datetime(tariffs_Database.index,format=\"%Y-%d-%m\")\n",
    "\n",
    "x = yearly_dates_tariffs\n",
    "y = tariffs_Database['average_dckwh'].values\n",
    "\n",
    "\n",
    "fig = px.scatter(x=x, y=y)\n",
    "fig.show()"
   ]
  },
  {
   "cell_type": "code",
   "execution_count": null,
   "metadata": {
    "ExecuteTime": {
     "end_time": "2021-03-17T04:25:27.477156Z",
     "start_time": "2021-03-17T04:25:14.430Z"
    }
   },
   "outputs": [],
   "source": [
    "cpiHistoric = pd.read_excel(r'/home/XXX/Repositories/gr4sp/experiments/simulationData/g01hist.xls',index_col='G1 CONSUMER PRICE INFLATION')\n",
    "cpiHistoric_filtered=cpiHistoric.iloc[10:,:-19]\n",
    "#yearly_dates_cpi= pd.to_datetime(cpiHistoric_filtered.index,format=\"%Y-%d-%m\")\n",
    "\n"
   ]
  },
  {
   "cell_type": "code",
   "execution_count": null,
   "metadata": {},
   "outputs": [],
   "source": []
  }
 ],
 "metadata": {
  "kernelspec": {
   "display_name": "Python 3",
   "language": "python",
   "name": "python3"
  },
  "language_info": {
   "codemirror_mode": {
    "name": "ipython",
    "version": 3
   },
   "file_extension": ".py",
   "mimetype": "text/x-python",
   "name": "python",
   "nbconvert_exporter": "python",
   "pygments_lexer": "ipython3",
   "version": "3.7.7"
  },
  "pycharm": {
   "stem_cell": {
    "cell_type": "raw",
    "metadata": {
     "collapsed": false
    },
    "source": []
   }
  },
  "toc": {
   "base_numbering": 1,
   "nav_menu": {},
   "number_sections": true,
   "sideBar": true,
   "skip_h1_title": false,
   "title_cell": "Table of Contents",
   "title_sidebar": "Contents",
   "toc_cell": false,
   "toc_position": {
    "height": "calc(100% - 180px)",
    "left": "10px",
    "top": "150px",
    "width": "285px"
   },
   "toc_section_display": true,
   "toc_window_display": true
  },
  "varInspector": {
   "cols": {
    "lenName": 16,
    "lenType": 16,
    "lenVar": 40
   },
   "kernels_config": {
    "python": {
     "delete_cmd_postfix": "",
     "delete_cmd_prefix": "del ",
     "library": "var_list.py",
     "varRefreshCmd": "print(var_dic_list())"
    },
    "r": {
     "delete_cmd_postfix": ") ",
     "delete_cmd_prefix": "rm(",
     "library": "var_list.r",
     "varRefreshCmd": "cat(var_dic_list()) "
    }
   },
   "types_to_exclude": [
    "module",
    "function",
    "builtin_function_or_method",
    "instance",
    "_Feature"
   ],
   "window_display": false
  }
 },
 "nbformat": 4,
 "nbformat_minor": 4
}
