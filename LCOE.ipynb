{
 "cells": [
  {
   "cell_type": "code",
   "execution_count": 1,
   "id": "2b61b6f5-1dfa-4b11-8c05-1c9eb6debade",
   "metadata": {},
   "outputs": [],
   "source": [
    "import pandas as pd\n",
    "import numpy as np\n",
    "import matplotlib.pyplot as plt\n",
    "import seaborn as sns\n",
    "# sns.set_style(\"whitegrid\")\n",
    "# plt.rcParams['text.usetex'] = True\n",
    "# import matplotlib\n",
    "# matplotlib.rcParams['mathtext.fontset'] = 'stix'\n",
    "# matplotlib.rcParams['font.family'] = 'STIXGeneral'\n",
    "\n"
   ]
  },
  {
   "cell_type": "code",
   "execution_count": 2,
   "id": "fcea29f8-72a0-4c3f-8940-b99b9e983366",
   "metadata": {},
   "outputs": [],
   "source": [
    "tex_fonts = {\n",
    "    # Use LaTeX to write all text\n",
    "    \"text.usetex\": True,\n",
    "    \"font.family\": \"serif\",\n",
    "    # Use 10pt font in plots, to match 10pt font in document\n",
    "    \"axes.labelsize\": 10,\n",
    "    \"font.size\": 10,\n",
    "    # Make the legend/label fonts a little smaller\n",
    "    \"legend.fontsize\": 8,\n",
    "    \"xtick.labelsize\": 8,\n",
    "    \"ytick.labelsize\": 8\n",
    "}\n",
    "\n",
    "plt.rcParams.update(tex_fonts)\n",
    "# plt.style.use('seaborn')\n",
    "# With LaTex fonts\n",
    "# plt.style.use('tex')\n",
    "\n",
    "def set_size(width, fraction=1, subplots=(1, 1)):\n",
    "    \"\"\"Set figure dimensions to avoid scaling in LaTeX.\n",
    "\n",
    "    Parameters\n",
    "    ----------\n",
    "    width: float or string\n",
    "            Document width in points, or string of predined document type\n",
    "    fraction: float, optional\n",
    "            Fraction of the width which you wish the figure to occupy\n",
    "    subplots: array-like, optional\n",
    "            The number of rows and columns of subplots.\n",
    "    Returns\n",
    "    -------\n",
    "    fig_dim: tuple\n",
    "            Dimensions of figure in inches\n",
    "    \"\"\"\n",
    "    if width == 'thesis':\n",
    "        width_pt = 469.75502\n",
    "    elif width == 'beamer':\n",
    "        width_pt = 307.28987\n",
    "    else:\n",
    "        width_pt = width\n",
    "\n",
    "    # Width of figure (in pts)\n",
    "    fig_width_pt = width_pt * fraction\n",
    "    # Convert from pt to inches\n",
    "    inches_per_pt = 1 / 72.27\n",
    "\n",
    "    # Golden ratio to set aesthetic figure height\n",
    "    # https://disq.us/p/2940ij3\n",
    "    golden_ratio = (5**.5 - 1) / 2\n",
    "\n",
    "    # Figure width in inches\n",
    "    fig_width_in = fig_width_pt * inches_per_pt\n",
    "    # Figure height in inches\n",
    "    fig_height_in = fig_width_in * golden_ratio * (subplots[0] / subplots[1])\n",
    "\n",
    "    return (fig_width_in, fig_height_in)\n",
    "\n",
    "def hcf(h_rev, nameplate, base, max_cf, bids):\n",
    "    \n",
    "    return (h_rev) / (nameplate * 0.5 * ( base / max_cf) * bids)\n",
    "\n",
    "def lcoe(base, h_cf):\n",
    "    return base / h_cf"
   ]
  },
  {
   "cell_type": "code",
   "execution_count": 6,
   "id": "8c61e8c8-5a0c-4e92-9301-55fa692cc62e",
   "metadata": {
    "tags": []
   },
   "outputs": [
    {
     "name": "stdout",
     "output_type": "stream",
     "text": [
      "22.22222222222222 0.9 0\n",
      "33.333333333333336 0.6 1\n",
      "26.666666666666668 0.75 2\n",
      "27.02702702702702 0.7400000000000002 3\n",
      "27.121128825361918 0.7374324324324325 4\n",
      "27.159151100082212 0.7364000416029004 5\n",
      "27.178237880796356 0.7358828812861202 6\n",
      "27.189166258112945 0.7355871014997462 7\n",
      "27.196004256733556 0.735402149933409 8\n",
      "27.200566171979073 0.7352788127110087 9\n"
     ]
    },
    {
     "data": {
      "image/png": "[encoded data removed]",
      "text/plain": [
       "<Figure size 229.32x141.728 with 1 Axes>"
      ]
     },
     "metadata": {
      "needs_background": "light"
     },
     "output_type": "display_data"
    }
   ],
   "source": [
    "nameplate = 100\n",
    "base = 20\n",
    "max_cf = 0.9\n",
    "\n",
    "\n",
    "mw = 60\n",
    "\n",
    "x = [base/max_cf]\n",
    "\n",
    "h_cf = max_cf #hcf(mw * (base / max_cf) *0.5, nameplate, base, max_cf, 1)\n",
    "\n",
    "past_rev =mw * (base / max_cf) *0.5\n",
    "\n",
    "print(x[0], h_cf, 0)\n",
    "\n",
    "failed = False\n",
    "\n",
    "for i in range(9):\n",
    "    h_cf = hcf(past_rev, nameplate, base, max_cf, i+1)\n",
    "    \n",
    "    if failed and i +1 != 4:\n",
    "        past_rev += (mw * lcoe(base, h_cf) * 0.5)\n",
    "    \n",
    "    elif not failed:\n",
    "        past_rev += (mw * lcoe(base, h_cf) * 0.5)\n",
    "    x.append( lcoe(base,h_cf) )\n",
    "\n",
    "fig, ax = plt.subplots(1, 1, figsize=set_size('thesis', fraction=0.49))\n",
    "\n",
    "ax.plot(range(1, len(x)+1), x)\n",
    "ax.grid()\n",
    "ax.set_xlabel(\"Bidding Round\")\n",
    "ax.set_ylabel(\"LCOE (\\textit{\\$/MWh})\")\n",
    "\n",
    "ax.set_xticks(range(1, 11))\n",
    "ax.set_yticks([22.5, 25, 27.5, 30, 32.5])\n",
    "ax.set_ylim(top=34.5)\n",
    "ax.grid()\n",
    "plt.grid()\n",
    "if failed:\n",
    "    name = \"LCOE Failed Rounds.pdf\"\n",
    "else:\n",
    "    name = \"LCOE Rounds.pdf\"\n",
    "\n",
    "plt.savefig(name, facecolor='white', transparent=False,  bbox_inches='tight', dpi=600)"
   ]
  },
  {
   "cell_type": "code",
   "execution_count": null,
   "id": "418baeaa-0279-431e-a98a-a4ec6fea72cc",
   "metadata": {},
   "outputs": [],
   "source": []
  }
 ],
 "metadata": {
  "kernelspec": {
   "display_name": "Python 3",
   "language": "python",
   "name": "python3"
  },
  "language_info": {
   "codemirror_mode": {
    "name": "ipython",
    "version": 3
   },
   "file_extension": ".py",
   "mimetype": "text/x-python",
   "name": "python",
   "nbconvert_exporter": "python",
   "pygments_lexer": "ipython3",
   "version": "3.8.8"
  }
 },
 "nbformat": 4,
 "nbformat_minor": 5
}
